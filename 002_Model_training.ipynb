{
 "cells": [
  {
   "cell_type": "code",
   "execution_count": 1,
   "id": "5ecdc4e7",
   "metadata": {},
   "outputs": [],
   "source": [
    "%reset -f\n",
    "%reload_ext autoreload\n",
    "%autoreload 2\n",
    "# %matplotlib inline\n",
    "%config Completer.use_jedi = False"
   ]
  },
  {
   "cell_type": "code",
   "execution_count": 2,
   "id": "91c3800e",
   "metadata": {},
   "outputs": [
    {
     "name": "stdout",
     "output_type": "stream",
     "text": [
      "Available workers: 16\n"
     ]
    }
   ],
   "source": [
    "from datasets import InsectImgDataset\n",
    "from utils import *\n",
    "import pandas as pd\n",
    "from pathlib import Path\n",
    "from tqdm import tqdm\n",
    "import matplotlib.pyplot as plt\n",
    "import albumentations as A\n",
    "\n",
    "from torchvision import datasets, transforms\n",
    "import torch.optim as optim\n",
    "import torch\n",
    "from torch.utils.data import DataLoader, Dataset\n",
    "import torch.nn as nn\n",
    "\n",
    "from category_encoders import OrdinalEncoder\n",
    "from sklearn.model_selection import train_test_split\n",
    "from sklearn.preprocessing import LabelEncoder\n",
    "from sklearn.metrics import confusion_matrix, accuracy_score, balanced_accuracy_score\n",
    "from sklearn.utils import class_weight\n",
    "\n",
    "setting = 'photobox'\n",
    "if setting == 'photobox':\n",
    "    ext = '.png'\n",
    "elif setting == 'fuji':\n",
    "    ext = '.jpg'"
   ]
  },
  {
   "cell_type": "code",
   "execution_count": 3,
   "id": "ad5bdbe3",
   "metadata": {},
   "outputs": [
    {
     "name": "stderr",
     "output_type": "stream",
     "text": [
      "Extracting info from filenames..: 100%|████████████████████████████████████████████████████| 27330/27330 [00:03<00:00, 8201.66it/s]\n"
     ]
    }
   ],
   "source": [
    "dfs = InsectImgDataset(ext=ext, setting=setting, directory=DATA_DIR)\n",
    "dfs.extract_df_info()\n",
    "df = dfs.df"
   ]
  },
  {
   "cell_type": "markdown",
   "id": "71459b84",
   "metadata": {},
   "source": [
    "# Creating train,val,test sets"
   ]
  },
  {
   "cell_type": "markdown",
   "id": "c854cb3e",
   "metadata": {},
   "source": [
    "## Removing outliers"
   ]
  },
  {
   "cell_type": "code",
   "execution_count": 4,
   "id": "d9db1aaf",
   "metadata": {},
   "outputs": [
    {
     "data": {
      "text/html": [
       "<div>\n",
       "<style scoped>\n",
       "    .dataframe tbody tr th:only-of-type {\n",
       "        vertical-align: middle;\n",
       "    }\n",
       "\n",
       "    .dataframe tbody tr th {\n",
       "        vertical-align: top;\n",
       "    }\n",
       "\n",
       "    .dataframe thead th {\n",
       "        text-align: right;\n",
       "    }\n",
       "</style>\n",
       "<table border=\"1\" class=\"dataframe\">\n",
       "  <thead>\n",
       "    <tr style=\"text-align: right;\">\n",
       "      <th></th>\n",
       "      <th>filename</th>\n",
       "      <th>label</th>\n",
       "      <th>imgname</th>\n",
       "      <th>platename</th>\n",
       "      <th>year</th>\n",
       "      <th>location</th>\n",
       "      <th>date</th>\n",
       "      <th>xtra</th>\n",
       "      <th>plate_idx</th>\n",
       "      <th>blur</th>\n",
       "      <th>...</th>\n",
       "      <th>mean_cnt_area</th>\n",
       "      <th>mean_cnt_perimeter</th>\n",
       "      <th>std_cnt_area</th>\n",
       "      <th>std_cnt_perimeter</th>\n",
       "      <th>R</th>\n",
       "      <th>G</th>\n",
       "      <th>B</th>\n",
       "      <th>knn_outlier</th>\n",
       "      <th>knn_outlier_score</th>\n",
       "      <th>txt_label</th>\n",
       "    </tr>\n",
       "  </thead>\n",
       "  <tbody>\n",
       "    <tr>\n",
       "      <th>0</th>\n",
       "      <td>/home/kalfasyan/data/images/sticky_plates/phot...</td>\n",
       "      <td>3</td>\n",
       "      <td>2020_UNDISTORTED_herent_w30_3-30_4056x3040.png...</td>\n",
       "      <td>UNDISTORTED_herent_w30_3-30_4056x3040.png</td>\n",
       "      <td>2020</td>\n",
       "      <td>herent</td>\n",
       "      <td>w30</td>\n",
       "      <td>3-30</td>\n",
       "      <td>12149</td>\n",
       "      <td>40.965774</td>\n",
       "      <td>...</td>\n",
       "      <td>63.750000</td>\n",
       "      <td>28.549411</td>\n",
       "      <td>90.591459</td>\n",
       "      <td>33.946445</td>\n",
       "      <td>198.294216</td>\n",
       "      <td>185.672539</td>\n",
       "      <td>185.721457</td>\n",
       "      <td>0</td>\n",
       "      <td>0.133439</td>\n",
       "      <td>t</td>\n",
       "    </tr>\n",
       "    <tr>\n",
       "      <th>1</th>\n",
       "      <td>/home/kalfasyan/data/images/sticky_plates/phot...</td>\n",
       "      <td>3</td>\n",
       "      <td>2020_UNDISTORTED_herent_w33_1-60_4056x3040.jpg...</td>\n",
       "      <td>UNDISTORTED_herent_w33_1-60_4056x3040.jpg</td>\n",
       "      <td>2020</td>\n",
       "      <td>herent</td>\n",
       "      <td>w33</td>\n",
       "      <td>1-60</td>\n",
       "      <td>20008</td>\n",
       "      <td>81.875010</td>\n",
       "      <td>...</td>\n",
       "      <td>62.928571</td>\n",
       "      <td>44.364471</td>\n",
       "      <td>70.205020</td>\n",
       "      <td>51.203421</td>\n",
       "      <td>215.880444</td>\n",
       "      <td>204.308267</td>\n",
       "      <td>205.085111</td>\n",
       "      <td>0</td>\n",
       "      <td>0.239303</td>\n",
       "      <td>t</td>\n",
       "    </tr>\n",
       "    <tr>\n",
       "      <th>3</th>\n",
       "      <td>/home/kalfasyan/data/images/sticky_plates/phot...</td>\n",
       "      <td>3</td>\n",
       "      <td>2020_herent_w31_1-90_4056x3040.jpg_t_26135</td>\n",
       "      <td>herent_w31_1-90_4056x3040.jpg</td>\n",
       "      <td>2020</td>\n",
       "      <td>herent</td>\n",
       "      <td>w31</td>\n",
       "      <td>1-90</td>\n",
       "      <td>26135</td>\n",
       "      <td>84.741064</td>\n",
       "      <td>...</td>\n",
       "      <td>74.653846</td>\n",
       "      <td>28.266383</td>\n",
       "      <td>138.095199</td>\n",
       "      <td>33.174415</td>\n",
       "      <td>204.264984</td>\n",
       "      <td>192.322118</td>\n",
       "      <td>188.691717</td>\n",
       "      <td>0</td>\n",
       "      <td>0.348769</td>\n",
       "      <td>t</td>\n",
       "    </tr>\n",
       "    <tr>\n",
       "      <th>4</th>\n",
       "      <td>/home/kalfasyan/data/images/sticky_plates/phot...</td>\n",
       "      <td>3</td>\n",
       "      <td>2020_herent_w31_3-30_4056x3040.jpg_t_8818</td>\n",
       "      <td>herent_w31_3-30_4056x3040.jpg</td>\n",
       "      <td>2020</td>\n",
       "      <td>herent</td>\n",
       "      <td>w31</td>\n",
       "      <td>3-30</td>\n",
       "      <td>8818</td>\n",
       "      <td>36.242744</td>\n",
       "      <td>...</td>\n",
       "      <td>110.583333</td>\n",
       "      <td>51.748737</td>\n",
       "      <td>123.093940</td>\n",
       "      <td>40.941169</td>\n",
       "      <td>196.144978</td>\n",
       "      <td>192.982444</td>\n",
       "      <td>198.214133</td>\n",
       "      <td>0</td>\n",
       "      <td>0.105268</td>\n",
       "      <td>t</td>\n",
       "    </tr>\n",
       "    <tr>\n",
       "      <th>6</th>\n",
       "      <td>/home/kalfasyan/data/images/sticky_plates/phot...</td>\n",
       "      <td>3</td>\n",
       "      <td>2020_UNDISTORTED_herent_w32_3-60_4056x3040.jpg...</td>\n",
       "      <td>UNDISTORTED_herent_w32_3-60_4056x3040.jpg</td>\n",
       "      <td>2020</td>\n",
       "      <td>herent</td>\n",
       "      <td>w32</td>\n",
       "      <td>3-60</td>\n",
       "      <td>14824</td>\n",
       "      <td>18.117225</td>\n",
       "      <td>...</td>\n",
       "      <td>53.700000</td>\n",
       "      <td>34.922034</td>\n",
       "      <td>37.452103</td>\n",
       "      <td>12.384586</td>\n",
       "      <td>221.163400</td>\n",
       "      <td>210.200179</td>\n",
       "      <td>210.320358</td>\n",
       "      <td>0</td>\n",
       "      <td>0.162444</td>\n",
       "      <td>t</td>\n",
       "    </tr>\n",
       "  </tbody>\n",
       "</table>\n",
       "<p>5 rows × 21 columns</p>\n",
       "</div>"
      ],
      "text/plain": [
       "                                            filename  label  \\\n",
       "0  /home/kalfasyan/data/images/sticky_plates/phot...      3   \n",
       "1  /home/kalfasyan/data/images/sticky_plates/phot...      3   \n",
       "3  /home/kalfasyan/data/images/sticky_plates/phot...      3   \n",
       "4  /home/kalfasyan/data/images/sticky_plates/phot...      3   \n",
       "6  /home/kalfasyan/data/images/sticky_plates/phot...      3   \n",
       "\n",
       "                                             imgname  \\\n",
       "0  2020_UNDISTORTED_herent_w30_3-30_4056x3040.png...   \n",
       "1  2020_UNDISTORTED_herent_w33_1-60_4056x3040.jpg...   \n",
       "3         2020_herent_w31_1-90_4056x3040.jpg_t_26135   \n",
       "4          2020_herent_w31_3-30_4056x3040.jpg_t_8818   \n",
       "6  2020_UNDISTORTED_herent_w32_3-60_4056x3040.jpg...   \n",
       "\n",
       "                                   platename  year location date  xtra  \\\n",
       "0  UNDISTORTED_herent_w30_3-30_4056x3040.png  2020   herent  w30  3-30   \n",
       "1  UNDISTORTED_herent_w33_1-60_4056x3040.jpg  2020   herent  w33  1-60   \n",
       "3              herent_w31_1-90_4056x3040.jpg  2020   herent  w31  1-90   \n",
       "4              herent_w31_3-30_4056x3040.jpg  2020   herent  w31  3-30   \n",
       "6  UNDISTORTED_herent_w32_3-60_4056x3040.jpg  2020   herent  w32  3-60   \n",
       "\n",
       "  plate_idx       blur  ...  mean_cnt_area  mean_cnt_perimeter  std_cnt_area  \\\n",
       "0     12149  40.965774  ...      63.750000           28.549411     90.591459   \n",
       "1     20008  81.875010  ...      62.928571           44.364471     70.205020   \n",
       "3     26135  84.741064  ...      74.653846           28.266383    138.095199   \n",
       "4      8818  36.242744  ...     110.583333           51.748737    123.093940   \n",
       "6     14824  18.117225  ...      53.700000           34.922034     37.452103   \n",
       "\n",
       "   std_cnt_perimeter           R           G           B  knn_outlier  \\\n",
       "0          33.946445  198.294216  185.672539  185.721457            0   \n",
       "1          51.203421  215.880444  204.308267  205.085111            0   \n",
       "3          33.174415  204.264984  192.322118  188.691717            0   \n",
       "4          40.941169  196.144978  192.982444  198.214133            0   \n",
       "6          12.384586  221.163400  210.200179  210.320358            0   \n",
       "\n",
       "   knn_outlier_score  txt_label  \n",
       "0           0.133439          t  \n",
       "1           0.239303          t  \n",
       "3           0.348769          t  \n",
       "4           0.105268          t  \n",
       "6           0.162444          t  \n",
       "\n",
       "[5 rows x 21 columns]"
      ]
     },
     "execution_count": 4,
     "metadata": {},
     "output_type": "execute_result"
    }
   ],
   "source": [
    "df_pre = pd.read_parquet(f\"{SAVE_DIR}/df_preparation_{setting}.parquet\")\n",
    "df = pd.merge(df,df_pre, on=['filename','label','platename','imgname','date','year','plate_idx','location','xtra'])\n",
    "df = df[df.knn_outlier==0]\n",
    "df = df[df.nb_contours>0]\n",
    "\n",
    "oe = OrdinalEncoder(cols=['label'],mapping=[{'col':'label', 'mapping':{'bl':0,'wswl':1,'sp':2,'t':3,'sw':4,'k':5,'m':6,'c':7,'v':8,'wmv':9,'wrl':10}}])\n",
    "df['txt_label'] = df['label']\n",
    "df['label'] = oe.fit_transform(df.label)\n",
    "df.head()"
   ]
  },
  {
   "cell_type": "code",
   "execution_count": 5,
   "id": "f746cd74",
   "metadata": {},
   "outputs": [
    {
     "data": {
      "image/png": "[encoded data removed]",
      "text/plain": [
       "<Figure size 1440x360 with 3 Axes>"
      ]
     },
     "metadata": {
      "needs_background": "light"
     },
     "output_type": "display_data"
    }
   ],
   "source": [
    "test_plates = train_test_split(df.platename.unique(), random_state=2022, test_size=0.2, shuffle=True)[1].tolist()\n",
    "testseries = pd.Series(test_plates)\n",
    "inds = testseries.apply(lambda x: 'wortel' in x)\n",
    "inds = testseries[inds].sample(11).index.values\n",
    "wortel_plates = testseries[inds].tolist()\n",
    "test_plates = testseries[testseries.apply(lambda x: x.split('_')[1] != 'wortel')].tolist() + wortel_plates\n",
    "\n",
    "df_trainval = df[~df.platename.isin(test_plates)]\n",
    "df_test = df[df.platename.isin(test_plates)]\n",
    "\n",
    "topclasses = df['label'].value_counts().head(11).index.tolist()\n",
    "\n",
    "df = df[df['label'].isin(topclasses)]\n",
    "df_trainval = df_trainval[df_trainval['label'].isin(topclasses)]\n",
    "df_test = df_test[df_test['label'].isin(topclasses)]\n",
    "\n",
    "class_weights = class_weight.compute_class_weight('balanced', \n",
    "                                                  classes=np.unique(df['label'].tolist()), \n",
    "                                                  y=df['label'].tolist())\n",
    "\n",
    "class_weights = {np.unique(df['label'])[i]:class_weights[i] for i in range(len(class_weights))}\n",
    "df['weights'] = df['label'].map(class_weights)\n",
    "\n",
    "df_train, df_val = train_test_split(df_trainval, test_size=0.18, random_state=42, shuffle=True)\n",
    "\n",
    "\n",
    "plt.figure(figsize=(20,5))\n",
    "plt.subplot(1,3,1);df_train.txt_label.value_counts().plot(kind='barh');plt.title(f'train, {df_train.shape[0]}')\n",
    "plt.subplot(1,3,2);df_val.txt_label.value_counts().plot(kind='barh');plt.title(f'val, {df_val.shape[0]}')\n",
    "plt.subplot(1,3,3);df_test.txt_label.value_counts().plot(kind='barh');plt.title(f'test, {df_test.shape[0]}');"
   ]
  },
  {
   "cell_type": "code",
   "execution_count": 6,
   "id": "f4fdd28e",
   "metadata": {},
   "outputs": [],
   "source": [
    "assert len(set(df_train.filename.tolist()).intersection(df_test.filename.tolist())) == 0\n",
    "assert len(set(df_train.filename.tolist()).intersection(df_val.filename.tolist())) == 0"
   ]
  },
  {
   "cell_type": "code",
   "execution_count": 7,
   "id": "af1bb016-ae27-456f-9cf1-294532cc7152",
   "metadata": {},
   "outputs": [],
   "source": [
    "df_train.to_parquet(f\"{SAVE_DIR}/df_train_{setting}.parquet\")\n",
    "df_val.to_parquet(f\"{SAVE_DIR}/df_val_{setting}.parquet\")\n",
    "df_test.to_parquet(f\"{SAVE_DIR}/df_test_{setting}.parquet\")"
   ]
  },
  {
   "cell_type": "code",
   "execution_count": 8,
   "id": "b3c7b1e5-a740-4530-ae5f-24299737f2b7",
   "metadata": {},
   "outputs": [
    {
     "data": {
      "text/plain": [
       "8     3094\n",
       "7     2970\n",
       "9     2664\n",
       "3     1464\n",
       "4     1432\n",
       "0     1301\n",
       "6      964\n",
       "10     687\n",
       "5      646\n",
       "2      391\n",
       "1      361\n",
       "Name: label, dtype: int64"
      ]
     },
     "execution_count": 8,
     "metadata": {},
     "output_type": "execute_result"
    }
   ],
   "source": [
    "df_train.label.value_counts()"
   ]
  },
  {
   "cell_type": "markdown",
   "id": "0f3166c6",
   "metadata": {
    "tags": []
   },
   "source": [
    "# Creating Pytorch Datasets and Dataloaders"
   ]
  },
  {
   "cell_type": "code",
   "execution_count": 9,
   "id": "b61c23ad",
   "metadata": {},
   "outputs": [],
   "source": [
    "transforms_list_train = [\n",
    "#     A.SmallestMaxSize(max_size=150),\n",
    "#     A.Resize(height=150,width=150,p=1),\n",
    "    A.Normalize(mean=[0.485, 0.456, 0.406],\n",
    "                                 std=[0.229, 0.224, 0.225], p=1, always_apply=True),\n",
    "    A.ShiftScaleRotate(shift_limit=0.01,rotate_limit=45, scale_limit=0, p=.5),\n",
    "    A.Rotate(limit=90, p=0.5),\n",
    "    A.HorizontalFlip(p=0.5),\n",
    "    A.VerticalFlip(p=0.5),\n",
    "    # A.RandomGamma(p=0.5),\n",
    "     A.RandomBrightnessContrast(p=0.2),\n",
    "     A.GaussianBlur(blur_limit=(3,3), p=0.1)\n",
    "]\n",
    "\n",
    "transforms_list_test = [\n",
    "    A.Normalize(mean=[0.485, 0.456, 0.406],\n",
    "                std=[0.229, 0.224, 0.225], \n",
    "                p=1, \n",
    "                always_apply=True)\n",
    "]\n",
    "\n",
    "train_dataset = InsectImgDataset(df=df_train.reset_index(drop=True), transform=A.Compose(transforms_list_train))\n",
    "valid_dataset = InsectImgDataset(df=df_val.reset_index(drop=True), transform=A.Compose(transforms_list_test))\n",
    "test_dataset = InsectImgDataset(df=df_test.reset_index(drop=True), transform=A.Compose(transforms_list_test))\n",
    "\n",
    "batch_size = 32\n",
    "batch_size_val = 32\n",
    "\n",
    "train_dataloader = DataLoader(train_dataset, batch_size=batch_size, shuffle=True, num_workers=4, pin_memory=True, worker_init_fn=worker_init_fn)\n",
    "valid_dataloader = DataLoader(valid_dataset, batch_size=batch_size_val, shuffle=False, num_workers=4, pin_memory=True, worker_init_fn=worker_init_fn)\n",
    "test_dataloader = DataLoader(test_dataset, batch_size=batch_size_val, shuffle=False, num_workers=4, pin_memory=True, worker_init_fn=worker_init_fn)\n",
    "\n",
    "# plt.imshow(train_dataset[0][0]); plt.title(f\"Example train image, class:{train_dataset[0][1]}\");"
   ]
  },
  {
   "cell_type": "markdown",
   "id": "890f75ae",
   "metadata": {},
   "source": [
    "# Defining the model and training parameters"
   ]
  },
  {
   "cell_type": "code",
   "execution_count": 10,
   "id": "234389bd",
   "metadata": {},
   "outputs": [],
   "source": [
    "torch.backends.cudnn.benchmark = True"
   ]
  },
  {
   "cell_type": "code",
   "execution_count": 11,
   "id": "d5993df8",
   "metadata": {},
   "outputs": [
    {
     "name": "stdout",
     "output_type": "stream",
     "text": [
      "Train on gpu: True\n"
     ]
    }
   ],
   "source": [
    "modelname = \"efficientnetb0\"\n",
    "model = model_selector(modelname, pretrained=True)\n",
    "if modelname.startswith(\"dense\"):\n",
    "    num_ftrs = model.classifier.in_features\n",
    "    model.classifier = nn.Linear(num_ftrs,len(topclasses))\n",
    "if modelname.startswith(\"resn\"):\n",
    "    num_ftrs = model.fc.in_features\n",
    "    model.fc = nn.Linear(num_ftrs,len(topclasses))\n",
    "if modelname.startswith(\"efficient\"):\n",
    "    num_ftrs = model.classifier[1].in_features\n",
    "    model.classifier[1] = nn.Linear(num_ftrs,len(topclasses))\n",
    "    \n",
    "# Choosing whether to train on a gpu\n",
    "train_on_gpu = torch.cuda.is_available()\n",
    "print(f'Train on gpu: {train_on_gpu}')# Number of gpus\n",
    "model = model.to('cuda', dtype=torch.float)\n",
    "\n",
    "num_epochs = 40\n",
    "\n",
    "class_sample_count = np.unique(df_train.label, return_counts=True)[1]\n",
    "weight = 1. / class_sample_count  \n",
    "criterion = nn.CrossEntropyLoss(weight=torch.Tensor(weight).cuda(), label_smoothing=.1)"
   ]
  },
  {
   "cell_type": "code",
   "execution_count": 12,
   "id": "276ad0e6",
   "metadata": {},
   "outputs": [],
   "source": [
    "optimizer = optim.Adam(model.parameters(), lr=.001)\n",
    "scheduler = torch.optim.lr_scheduler.CyclicLR(optimizer, base_lr=0.0001, max_lr=0.01, cycle_momentum=False, mode=\"triangular2\")"
   ]
  },
  {
   "cell_type": "code",
   "execution_count": 13,
   "id": "62e6d957",
   "metadata": {},
   "outputs": [],
   "source": [
    "#optimizer = optim.Adam(model.parameters(), lr=0.001, eps=1e-3, amsgrad=True)\n",
    "#scheduler = torch.optim.lr_scheduler.CyclicLR(optimizer, base_lr=0.0001, max_lr=0.01, cycle_momentum=False, mode=\"triangular2\")"
   ]
  },
  {
   "cell_type": "markdown",
   "id": "65cc53eb",
   "metadata": {},
   "source": [
    "# Training"
   ]
  },
  {
   "cell_type": "code",
   "execution_count": 14,
   "id": "7ace6f25",
   "metadata": {
    "scrolled": true,
    "tags": []
   },
   "outputs": [
    {
     "name": "stderr",
     "output_type": "stream",
     "text": [
      "Training..\t: 100%|███████████████████████████████████████████████████████████████████████████████| 500/500 [00:39<00:00, 12.69it/s]\n",
      "Validating..\t: 100%|█████████████████████████████████████████████████████████████████████████████| 110/110 [00:04<00:00, 25.75it/s]\n"
     ]
    },
    {
     "name": "stdout",
     "output_type": "stream",
     "text": [
      "Epoch 0: train_acc: 44.6% loss: 1.5987304,  val_loss: 1.7960746 val_acc: 60.7%\n",
      "Validation accuracy improved from 0.00 to 60.74. Saving model..\n"
     ]
    },
    {
     "name": "stderr",
     "output_type": "stream",
     "text": [
      "Training..\t: 100%|███████████████████████████████████████████████████████████████████████████████| 500/500 [00:34<00:00, 14.53it/s]\n",
      "Validating..\t: 100%|█████████████████████████████████████████████████████████████████████████████| 110/110 [00:02<00:00, 46.79it/s]\n"
     ]
    },
    {
     "name": "stdout",
     "output_type": "stream",
     "text": [
      "Epoch 1: train_acc: 62.5% loss: 2.4300802,  val_loss: 1.7415586 val_acc: 69.6%\n",
      "Validation accuracy improved from 60.74 to 69.60. Saving model..\n"
     ]
    },
    {
     "name": "stderr",
     "output_type": "stream",
     "text": [
      "Training..\t: 100%|███████████████████████████████████████████████████████████████████████████████| 500/500 [00:34<00:00, 14.33it/s]\n",
      "Validating..\t: 100%|█████████████████████████████████████████████████████████████████████████████| 110/110 [00:02<00:00, 45.42it/s]\n"
     ]
    },
    {
     "name": "stdout",
     "output_type": "stream",
     "text": [
      "Epoch 2: train_acc: 67.9% loss: 2.0478888,  val_loss: 1.7394370 val_acc: 72.3%\n",
      "Validation accuracy improved from 69.60 to 72.31. Saving model..\n"
     ]
    },
    {
     "name": "stderr",
     "output_type": "stream",
     "text": [
      "Training..\t: 100%|███████████████████████████████████████████████████████████████████████████████| 500/500 [00:34<00:00, 14.43it/s]\n",
      "Validating..\t: 100%|█████████████████████████████████████████████████████████████████████████████| 110/110 [00:02<00:00, 47.02it/s]\n"
     ]
    },
    {
     "name": "stdout",
     "output_type": "stream",
     "text": [
      "Epoch 3: train_acc: 70.8% loss: 1.5420173,  val_loss: 1.8478408 val_acc: 73.4%\n",
      "Validation accuracy improved from 72.31 to 73.40. Saving model..\n"
     ]
    },
    {
     "name": "stderr",
     "output_type": "stream",
     "text": [
      "Training..\t: 100%|███████████████████████████████████████████████████████████████████████████████| 500/500 [00:35<00:00, 14.04it/s]\n",
      "Validating..\t: 100%|█████████████████████████████████████████████████████████████████████████████| 110/110 [00:02<00:00, 46.70it/s]\n"
     ]
    },
    {
     "name": "stdout",
     "output_type": "stream",
     "text": [
      "Epoch 4: train_acc: 73.0% loss: 1.1970494,  val_loss: 1.7310166 val_acc: 76.3%\n",
      "Validation accuracy improved from 73.40 to 76.28. Saving model..\n"
     ]
    },
    {
     "name": "stderr",
     "output_type": "stream",
     "text": [
      "Training..\t: 100%|███████████████████████████████████████████████████████████████████████████████| 500/500 [00:34<00:00, 14.37it/s]\n",
      "Validating..\t: 100%|█████████████████████████████████████████████████████████████████████████████| 110/110 [00:02<00:00, 47.58it/s]\n"
     ]
    },
    {
     "name": "stdout",
     "output_type": "stream",
     "text": [
      "Epoch 5: train_acc: 74.9% loss: 1.4717472,  val_loss: 1.7798026 val_acc: 76.6%\n",
      "Validation accuracy improved from 76.28 to 76.65. Saving model..\n"
     ]
    },
    {
     "name": "stderr",
     "output_type": "stream",
     "text": [
      "Training..\t: 100%|███████████████████████████████████████████████████████████████████████████████| 500/500 [00:34<00:00, 14.34it/s]\n",
      "Validating..\t: 100%|█████████████████████████████████████████████████████████████████████████████| 110/110 [00:02<00:00, 43.81it/s]\n"
     ]
    },
    {
     "name": "stdout",
     "output_type": "stream",
     "text": [
      "Epoch 6: train_acc: 75.8% loss: 1.6685261,  val_loss: 1.5747371 val_acc: 79.1%\n",
      "Validation accuracy improved from 76.65 to 79.07. Saving model..\n"
     ]
    },
    {
     "name": "stderr",
     "output_type": "stream",
     "text": [
      "Training..\t: 100%|███████████████████████████████████████████████████████████████████████████████| 500/500 [00:34<00:00, 14.33it/s]\n",
      "Validating..\t: 100%|█████████████████████████████████████████████████████████████████████████████| 110/110 [00:02<00:00, 46.89it/s]\n"
     ]
    },
    {
     "name": "stdout",
     "output_type": "stream",
     "text": [
      "Epoch 7: train_acc: 77.4% loss: 0.8486761,  val_loss: 1.6403515 val_acc: 77.7%\n"
     ]
    },
    {
     "name": "stderr",
     "output_type": "stream",
     "text": [
      "Training..\t: 100%|███████████████████████████████████████████████████████████████████████████████| 500/500 [00:34<00:00, 14.37it/s]\n",
      "Validating..\t: 100%|█████████████████████████████████████████████████████████████████████████████| 110/110 [00:02<00:00, 47.16it/s]\n"
     ]
    },
    {
     "name": "stdout",
     "output_type": "stream",
     "text": [
      "Epoch 8: train_acc: 78.3% loss: 2.0502427,  val_loss: 1.8314445 val_acc: 78.8%\n"
     ]
    },
    {
     "name": "stderr",
     "output_type": "stream",
     "text": [
      "Training..\t: 100%|███████████████████████████████████████████████████████████████████████████████| 500/500 [00:34<00:00, 14.38it/s]\n",
      "Validating..\t: 100%|█████████████████████████████████████████████████████████████████████████████| 110/110 [00:02<00:00, 45.99it/s]\n"
     ]
    },
    {
     "name": "stdout",
     "output_type": "stream",
     "text": [
      "Epoch 9: train_acc: 79.1% loss: 1.8154900,  val_loss: 1.6371510 val_acc: 78.5%\n"
     ]
    },
    {
     "name": "stderr",
     "output_type": "stream",
     "text": [
      "Training..\t: 100%|███████████████████████████████████████████████████████████████████████████████| 500/500 [00:35<00:00, 14.26it/s]\n",
      "Validating..\t: 100%|█████████████████████████████████████████████████████████████████████████████| 110/110 [00:02<00:00, 47.50it/s]\n"
     ]
    },
    {
     "name": "stdout",
     "output_type": "stream",
     "text": [
      "Epoch 10: train_acc: 79.8% loss: 0.6257426,  val_loss: 1.5978417 val_acc: 78.4%\n"
     ]
    },
    {
     "name": "stderr",
     "output_type": "stream",
     "text": [
      "Training..\t: 100%|███████████████████████████████████████████████████████████████████████████████| 500/500 [00:34<00:00, 14.32it/s]\n",
      "Validating..\t: 100%|█████████████████████████████████████████████████████████████████████████████| 110/110 [00:02<00:00, 44.67it/s]\n"
     ]
    },
    {
     "name": "stdout",
     "output_type": "stream",
     "text": [
      "Epoch 11: train_acc: 80.2% loss: 0.7212206,  val_loss: 1.5869992 val_acc: 79.9%\n",
      "Validation accuracy improved from 79.07 to 79.93. Saving model..\n"
     ]
    },
    {
     "name": "stderr",
     "output_type": "stream",
     "text": [
      "Training..\t: 100%|███████████████████████████████████████████████████████████████████████████████| 500/500 [00:35<00:00, 14.27it/s]\n",
      "Validating..\t: 100%|█████████████████████████████████████████████████████████████████████████████| 110/110 [00:02<00:00, 47.54it/s]\n"
     ]
    },
    {
     "name": "stdout",
     "output_type": "stream",
     "text": [
      "Epoch 12: train_acc: 81.1% loss: 1.1238304,  val_loss: 1.5390215 val_acc: 80.0%\n",
      "Validation accuracy improved from 79.93 to 80.01. Saving model..\n"
     ]
    },
    {
     "name": "stderr",
     "output_type": "stream",
     "text": [
      "Training..\t: 100%|███████████████████████████████████████████████████████████████████████████████| 500/500 [00:35<00:00, 13.92it/s]\n",
      "Validating..\t: 100%|█████████████████████████████████████████████████████████████████████████████| 110/110 [00:02<00:00, 45.75it/s]\n"
     ]
    },
    {
     "name": "stdout",
     "output_type": "stream",
     "text": [
      "Epoch 13: train_acc: 81.3% loss: 0.9869562,  val_loss: 1.7605717 val_acc: 80.2%\n",
      "Validation accuracy improved from 80.01 to 80.21. Saving model..\n"
     ]
    },
    {
     "name": "stderr",
     "output_type": "stream",
     "text": [
      "Training..\t: 100%|███████████████████████████████████████████████████████████████████████████████| 500/500 [00:35<00:00, 14.06it/s]\n",
      "Validating..\t: 100%|█████████████████████████████████████████████████████████████████████████████| 110/110 [00:02<00:00, 46.21it/s]\n"
     ]
    },
    {
     "name": "stdout",
     "output_type": "stream",
     "text": [
      "Epoch 14: train_acc: 82.2% loss: 1.3569539,  val_loss: 1.6422658 val_acc: 80.0%\n"
     ]
    },
    {
     "name": "stderr",
     "output_type": "stream",
     "text": [
      "Training..\t: 100%|███████████████████████████████████████████████████████████████████████████████| 500/500 [00:34<00:00, 14.29it/s]\n",
      "Validating..\t: 100%|█████████████████████████████████████████████████████████████████████████████| 110/110 [00:02<00:00, 44.66it/s]\n"
     ]
    },
    {
     "name": "stdout",
     "output_type": "stream",
     "text": [
      "Epoch 15: train_acc: 82.9% loss: 1.2284416,  val_loss: 1.6159463 val_acc: 80.1%\n"
     ]
    },
    {
     "name": "stderr",
     "output_type": "stream",
     "text": [
      "Training..\t: 100%|███████████████████████████████████████████████████████████████████████████████| 500/500 [00:35<00:00, 14.28it/s]\n",
      "Validating..\t: 100%|█████████████████████████████████████████████████████████████████████████████| 110/110 [00:03<00:00, 35.56it/s]\n"
     ]
    },
    {
     "name": "stdout",
     "output_type": "stream",
     "text": [
      "Epoch 16: train_acc: 83.4% loss: 1.1480656,  val_loss: 1.6344864 val_acc: 81.1%\n",
      "Validation accuracy improved from 80.21 to 81.07. Saving model..\n"
     ]
    },
    {
     "name": "stderr",
     "output_type": "stream",
     "text": [
      "Training..\t: 100%|███████████████████████████████████████████████████████████████████████████████| 500/500 [00:34<00:00, 14.29it/s]\n",
      "Validating..\t: 100%|█████████████████████████████████████████████████████████████████████████████| 110/110 [00:02<00:00, 45.69it/s]\n"
     ]
    },
    {
     "name": "stdout",
     "output_type": "stream",
     "text": [
      "Epoch 17: train_acc: 83.5% loss: 1.2191607,  val_loss: 1.6519247 val_acc: 82.2%\n",
      "Validation accuracy improved from 81.07 to 82.21. Saving model..\n"
     ]
    },
    {
     "name": "stderr",
     "output_type": "stream",
     "text": [
      "Training..\t: 100%|███████████████████████████████████████████████████████████████████████████████| 500/500 [00:35<00:00, 14.23it/s]\n",
      "Validating..\t: 100%|█████████████████████████████████████████████████████████████████████████████| 110/110 [00:02<00:00, 46.31it/s]\n"
     ]
    },
    {
     "name": "stdout",
     "output_type": "stream",
     "text": [
      "Epoch 18: train_acc: 84.2% loss: 1.2508576,  val_loss: 1.7873235 val_acc: 81.4%\n"
     ]
    },
    {
     "name": "stderr",
     "output_type": "stream",
     "text": [
      "Training..\t: 100%|███████████████████████████████████████████████████████████████████████████████| 500/500 [00:35<00:00, 14.24it/s]\n",
      "Validating..\t: 100%|█████████████████████████████████████████████████████████████████████████████| 110/110 [00:02<00:00, 46.27it/s]\n"
     ]
    },
    {
     "name": "stdout",
     "output_type": "stream",
     "text": [
      "Epoch 19: train_acc: 84.4% loss: 1.5735034,  val_loss: 1.6160398 val_acc: 80.6%\n"
     ]
    },
    {
     "name": "stderr",
     "output_type": "stream",
     "text": [
      "Training..\t: 100%|███████████████████████████████████████████████████████████████████████████████| 500/500 [00:35<00:00, 14.06it/s]\n",
      "Validating..\t: 100%|█████████████████████████████████████████████████████████████████████████████| 110/110 [00:02<00:00, 47.38it/s]\n"
     ]
    },
    {
     "name": "stdout",
     "output_type": "stream",
     "text": [
      "Epoch 20: train_acc: 85.0% loss: 2.1872125,  val_loss: 1.5882933 val_acc: 81.6%\n"
     ]
    },
    {
     "name": "stderr",
     "output_type": "stream",
     "text": [
      "Training..\t: 100%|███████████████████████████████████████████████████████████████████████████████| 500/500 [00:34<00:00, 14.35it/s]\n",
      "Validating..\t: 100%|█████████████████████████████████████████████████████████████████████████████| 110/110 [00:02<00:00, 45.63it/s]\n"
     ]
    },
    {
     "name": "stdout",
     "output_type": "stream",
     "text": [
      "Epoch 21: train_acc: 85.0% loss: 1.6706562,  val_loss: 1.5988157 val_acc: 79.9%\n"
     ]
    },
    {
     "name": "stderr",
     "output_type": "stream",
     "text": [
      "Training..\t: 100%|███████████████████████████████████████████████████████████████████████████████| 500/500 [00:35<00:00, 14.20it/s]\n",
      "Validating..\t: 100%|█████████████████████████████████████████████████████████████████████████████| 110/110 [00:02<00:00, 46.78it/s]\n"
     ]
    },
    {
     "name": "stdout",
     "output_type": "stream",
     "text": [
      "Epoch 22: train_acc: 85.6% loss: 1.1448071,  val_loss: 1.5951240 val_acc: 80.8%\n"
     ]
    },
    {
     "name": "stderr",
     "output_type": "stream",
     "text": [
      "Training..\t: 100%|███████████████████████████████████████████████████████████████████████████████| 500/500 [00:35<00:00, 14.15it/s]\n",
      "Validating..\t: 100%|█████████████████████████████████████████████████████████████████████████████| 110/110 [00:02<00:00, 46.96it/s]\n"
     ]
    },
    {
     "name": "stdout",
     "output_type": "stream",
     "text": [
      "Epoch 23: train_acc: 85.9% loss: 1.3059347,  val_loss: 1.7014111 val_acc: 82.2%\n"
     ]
    },
    {
     "name": "stderr",
     "output_type": "stream",
     "text": [
      "Training..\t: 100%|███████████████████████████████████████████████████████████████████████████████| 500/500 [00:35<00:00, 14.16it/s]\n",
      "Validating..\t: 100%|█████████████████████████████████████████████████████████████████████████████| 110/110 [00:02<00:00, 47.32it/s]\n"
     ]
    },
    {
     "name": "stdout",
     "output_type": "stream",
     "text": [
      "Epoch 24: train_acc: 86.2% loss: 0.6581786,  val_loss: 1.5937726 val_acc: 82.0%\n"
     ]
    },
    {
     "name": "stderr",
     "output_type": "stream",
     "text": [
      "Training..\t: 100%|███████████████████████████████████████████████████████████████████████████████| 500/500 [00:34<00:00, 14.33it/s]\n",
      "Validating..\t: 100%|█████████████████████████████████████████████████████████████████████████████| 110/110 [00:02<00:00, 47.00it/s]\n"
     ]
    },
    {
     "name": "stdout",
     "output_type": "stream",
     "text": [
      "Epoch 25: train_acc: 86.7% loss: 1.0943530,  val_loss: 1.6011424 val_acc: 82.1%\n"
     ]
    },
    {
     "name": "stderr",
     "output_type": "stream",
     "text": [
      "Training..\t: 100%|███████████████████████████████████████████████████████████████████████████████| 500/500 [00:34<00:00, 14.48it/s]\n",
      "Validating..\t: 100%|█████████████████████████████████████████████████████████████████████████████| 110/110 [00:02<00:00, 48.95it/s]\n"
     ]
    },
    {
     "name": "stdout",
     "output_type": "stream",
     "text": [
      "Epoch 26: train_acc: 86.9% loss: 1.4952457,  val_loss: 1.5275414 val_acc: 82.3%\n",
      "Validation accuracy improved from 82.21 to 82.26. Saving model..\n"
     ]
    },
    {
     "name": "stderr",
     "output_type": "stream",
     "text": [
      "Training..\t: 100%|███████████████████████████████████████████████████████████████████████████████| 500/500 [00:34<00:00, 14.45it/s]\n",
      "Validating..\t: 100%|█████████████████████████████████████████████████████████████████████████████| 110/110 [00:02<00:00, 49.10it/s]\n"
     ]
    },
    {
     "name": "stdout",
     "output_type": "stream",
     "text": [
      "Epoch 27: train_acc: 86.7% loss: 1.1293602,  val_loss: 1.7383096 val_acc: 80.4%\n"
     ]
    },
    {
     "name": "stderr",
     "output_type": "stream",
     "text": [
      "Training..\t: 100%|███████████████████████████████████████████████████████████████████████████████| 500/500 [00:34<00:00, 14.44it/s]\n",
      "Validating..\t: 100%|█████████████████████████████████████████████████████████████████████████████| 110/110 [00:02<00:00, 49.18it/s]\n"
     ]
    },
    {
     "name": "stdout",
     "output_type": "stream",
     "text": [
      "Epoch 28: train_acc: 87.0% loss: 1.0642834,  val_loss: 1.8566375 val_acc: 81.0%\n"
     ]
    },
    {
     "name": "stderr",
     "output_type": "stream",
     "text": [
      "Training..\t: 100%|███████████████████████████████████████████████████████████████████████████████| 500/500 [00:34<00:00, 14.45it/s]\n",
      "Validating..\t: 100%|█████████████████████████████████████████████████████████████████████████████| 110/110 [00:02<00:00, 48.81it/s]\n"
     ]
    },
    {
     "name": "stdout",
     "output_type": "stream",
     "text": [
      "Epoch 29: train_acc: 87.6% loss: 1.0749388,  val_loss: 1.6689123 val_acc: 82.8%\n",
      "Validation accuracy improved from 82.26 to 82.83. Saving model..\n"
     ]
    },
    {
     "name": "stderr",
     "output_type": "stream",
     "text": [
      "Training..\t: 100%|███████████████████████████████████████████████████████████████████████████████| 500/500 [00:34<00:00, 14.48it/s]\n",
      "Validating..\t: 100%|█████████████████████████████████████████████████████████████████████████████| 110/110 [00:02<00:00, 49.00it/s]\n"
     ]
    },
    {
     "name": "stdout",
     "output_type": "stream",
     "text": [
      "Epoch 30: train_acc: 88.0% loss: 0.8703687,  val_loss: 1.6293269 val_acc: 83.2%\n",
      "Validation accuracy improved from 82.83 to 83.18. Saving model..\n"
     ]
    },
    {
     "name": "stderr",
     "output_type": "stream",
     "text": [
      "Training..\t: 100%|███████████████████████████████████████████████████████████████████████████████| 500/500 [00:34<00:00, 14.30it/s]\n",
      "Validating..\t: 100%|█████████████████████████████████████████████████████████████████████████████| 110/110 [00:02<00:00, 49.46it/s]\n"
     ]
    },
    {
     "name": "stdout",
     "output_type": "stream",
     "text": [
      "Epoch 31: train_acc: 88.1% loss: 1.7206788,  val_loss: 1.5951488 val_acc: 81.5%\n"
     ]
    },
    {
     "name": "stderr",
     "output_type": "stream",
     "text": [
      "Training..\t: 100%|███████████████████████████████████████████████████████████████████████████████| 500/500 [00:34<00:00, 14.32it/s]\n",
      "Validating..\t: 100%|█████████████████████████████████████████████████████████████████████████████| 110/110 [00:02<00:00, 48.98it/s]\n"
     ]
    },
    {
     "name": "stdout",
     "output_type": "stream",
     "text": [
      "Epoch 32: train_acc: 88.3% loss: 1.4396476,  val_loss: 1.5570233 val_acc: 81.3%\n"
     ]
    },
    {
     "name": "stderr",
     "output_type": "stream",
     "text": [
      "Training..\t: 100%|███████████████████████████████████████████████████████████████████████████████| 500/500 [00:34<00:00, 14.45it/s]\n",
      "Validating..\t: 100%|█████████████████████████████████████████████████████████████████████████████| 110/110 [00:02<00:00, 48.50it/s]\n"
     ]
    },
    {
     "name": "stdout",
     "output_type": "stream",
     "text": [
      "Epoch 33: train_acc: 88.9% loss: 1.3509061,  val_loss: 1.6187726 val_acc: 82.0%\n"
     ]
    },
    {
     "name": "stderr",
     "output_type": "stream",
     "text": [
      "Training..\t: 100%|███████████████████████████████████████████████████████████████████████████████| 500/500 [00:34<00:00, 14.47it/s]\n",
      "Validating..\t: 100%|█████████████████████████████████████████████████████████████████████████████| 110/110 [00:02<00:00, 49.00it/s]\n"
     ]
    },
    {
     "name": "stdout",
     "output_type": "stream",
     "text": [
      "Epoch 34: train_acc: 88.6% loss: 0.7606958,  val_loss: 1.5866489 val_acc: 82.4%\n"
     ]
    },
    {
     "name": "stderr",
     "output_type": "stream",
     "text": [
      "Training..\t: 100%|███████████████████████████████████████████████████████████████████████████████| 500/500 [00:34<00:00, 14.48it/s]\n",
      "Validating..\t: 100%|█████████████████████████████████████████████████████████████████████████████| 110/110 [00:02<00:00, 49.40it/s]\n"
     ]
    },
    {
     "name": "stdout",
     "output_type": "stream",
     "text": [
      "Epoch 35: train_acc: 88.8% loss: 1.3891494,  val_loss: 1.6114767 val_acc: 82.1%\n"
     ]
    },
    {
     "name": "stderr",
     "output_type": "stream",
     "text": [
      "Training..\t: 100%|███████████████████████████████████████████████████████████████████████████████| 500/500 [00:34<00:00, 14.36it/s]\n",
      "Validating..\t: 100%|█████████████████████████████████████████████████████████████████████████████| 110/110 [00:02<00:00, 45.44it/s]\n"
     ]
    },
    {
     "name": "stdout",
     "output_type": "stream",
     "text": [
      "Epoch 36: train_acc: 88.9% loss: 1.1712269,  val_loss: 1.7735167 val_acc: 82.1%\n"
     ]
    },
    {
     "name": "stderr",
     "output_type": "stream",
     "text": [
      "Training..\t: 100%|███████████████████████████████████████████████████████████████████████████████| 500/500 [00:34<00:00, 14.45it/s]\n",
      "Validating..\t: 100%|█████████████████████████████████████████████████████████████████████████████| 110/110 [00:02<00:00, 48.83it/s]\n"
     ]
    },
    {
     "name": "stdout",
     "output_type": "stream",
     "text": [
      "Epoch 37: train_acc: 89.1% loss: 0.9804740,  val_loss: 1.7224071 val_acc: 81.8%\n"
     ]
    },
    {
     "name": "stderr",
     "output_type": "stream",
     "text": [
      "Training..\t: 100%|███████████████████████████████████████████████████████████████████████████████| 500/500 [00:34<00:00, 14.50it/s]\n",
      "Validating..\t: 100%|█████████████████████████████████████████████████████████████████████████████| 110/110 [00:02<00:00, 48.69it/s]\n"
     ]
    },
    {
     "name": "stdout",
     "output_type": "stream",
     "text": [
      "Epoch 38: train_acc: 89.5% loss: 1.0135603,  val_loss: 1.8191481 val_acc: 82.1%\n"
     ]
    },
    {
     "name": "stderr",
     "output_type": "stream",
     "text": [
      "Training..\t: 100%|███████████████████████████████████████████████████████████████████████████████| 500/500 [00:34<00:00, 14.40it/s]\n",
      "Validating..\t: 100%|█████████████████████████████████████████████████████████████████████████████| 110/110 [00:02<00:00, 49.18it/s]\n"
     ]
    },
    {
     "name": "stdout",
     "output_type": "stream",
     "text": [
      "Epoch 39: train_acc: 89.3% loss: 0.8867342,  val_loss: 1.7378709 val_acc: 82.3%\n"
     ]
    }
   ],
   "source": [
    "results = {\"loss\":[], \"val_loss\":[], \"train_accuracy\":[], \"valid_accuracy\":[]}\n",
    "best_valacc = 0\n",
    "# Model training\n",
    "for epoch in range(num_epochs):\n",
    "    # Going through the training set\n",
    "    correct_train = 0\n",
    "    model.train()\n",
    "    for x_batch,y_batch,imgname,platename,filename,plate_idx,location,date,year,xtra,width,height in tqdm(train_dataloader, desc='Training..\\t'):        \n",
    "        y_batch = torch.as_tensor(y_batch)\n",
    "        x_batch,y_batch = x_batch.float().cuda(), y_batch.cuda()\n",
    "        for param in model.parameters():\n",
    "            param.grad = None\n",
    "        pred = model(x_batch)\n",
    "\n",
    "        y_batch = y_batch.type(torch.LongTensor).cuda()\n",
    "        correct_train += (pred.argmax(axis=1) == y_batch).float().sum().item()\n",
    "        loss = criterion(pred, y_batch)\n",
    "        loss.backward()\n",
    "        optimizer.step()\n",
    "    train_accuracy = correct_train / len(train_dataset) * 100.\n",
    "    \n",
    "    # Going through the validation set\n",
    "    correct_valid = 0\n",
    "    model.eval()\n",
    "    for x_batch,y_batch,imgname,platename,filename,plate_idx,location,date,year,xtra,width,height in tqdm(valid_dataloader, desc='Validating..\\t'):\n",
    "        y_batch = torch.as_tensor(y_batch)\n",
    "        x_batch,y_batch = x_batch.float().cuda(), y_batch.cuda()\n",
    "        pred = model(x_batch)\n",
    "\n",
    "        y_batch = y_batch.type(torch.LongTensor).cuda()\n",
    "        correct_valid += (pred.argmax(axis=1) == y_batch).float().sum().item()\n",
    "        val_loss = criterion(pred, y_batch)\n",
    "    valid_accuracy = correct_valid / len(valid_dataset) * 100.\n",
    "\n",
    "    scheduler.step()\n",
    "\n",
    "\n",
    "    # Printing results\n",
    "    print(f\"Epoch {epoch}: train_acc: {train_accuracy:.1f}% loss: {loss:.7f},  val_loss: {val_loss:.7f} val_acc: {valid_accuracy:.1f}%\")\n",
    "        \n",
    "    is_best = valid_accuracy > best_valacc\n",
    "    if is_best:\n",
    "        print(f\"Validation accuracy improved from {best_valacc:.2f} to {valid_accuracy:.2f}. Saving model..\")\n",
    "    best_valacc = max(valid_accuracy, best_valacc)\n",
    "    save_checkpoint({\n",
    "        'epoch': epoch,\n",
    "        'state_dict': model.state_dict(),\n",
    "        'best_valacc': best_valacc,\n",
    "        'loss': results['loss'].append(loss.detach().cpu()),\n",
    "        'val_loss': results['val_loss'].append(val_loss.detach().cpu()),\n",
    "        'train_accuracy': results['train_accuracy'].append(train_accuracy),\n",
    "        'valid_accuracy': results['valid_accuracy'].append(valid_accuracy),\n",
    "        'optimizer' : optimizer.state_dict(),\n",
    "    }, is_best, f\"{modelname}_{setting}\")\n"
   ]
  },
  {
   "cell_type": "code",
   "execution_count": null,
   "id": "2135fa64",
   "metadata": {},
   "outputs": [],
   "source": []
  },
  {
   "cell_type": "code",
   "execution_count": null,
   "id": "d5185a8b",
   "metadata": {},
   "outputs": [],
   "source": []
  }
 ],
 "metadata": {
  "kernelspec": {
   "display_name": "Python 3.9.7 64-bit ('bugai': conda)",
   "language": "python",
   "name": "python397jvsc74a57bd02d839c87abe923a8f6c83e3c07da6b84166f74541505ea2206c85c393cfdbb04"
  },
  "language_info": {
   "codemirror_mode": {
    "name": "ipython",
    "version": 3
   },
   "file_extension": ".py",
   "mimetype": "text/x-python",
   "name": "python",
   "nbconvert_exporter": "python",
   "pygments_lexer": "ipython3",
   "version": "3.9.7"
  }
 },
 "nbformat": 4,
 "nbformat_minor": 5
}
