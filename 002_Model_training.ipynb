{
 "cells": [
  {
   "cell_type": "code",
   "execution_count": 1,
   "id": "5ecdc4e7",
   "metadata": {},
   "outputs": [],
   "source": [
    "%reset -f\n",
    "%reload_ext autoreload\n",
    "%autoreload 2\n",
    "# %matplotlib inline\n",
    "%config Completer.use_jedi = False"
   ]
  },
  {
   "cell_type": "code",
   "execution_count": 2,
   "id": "91c3800e",
   "metadata": {},
   "outputs": [
    {
     "name": "stdout",
     "output_type": "stream",
     "text": [
      "Available workers: 16\n"
     ]
    }
   ],
   "source": [
    "from datasets import InsectImgDataset\n",
    "from utils import *\n",
    "import pandas as pd\n",
    "from pathlib import Path\n",
    "from tqdm import tqdm\n",
    "import matplotlib.pyplot as plt\n",
    "\n",
    "from torchvision import datasets\n",
    "import torchvision.transforms as T\n",
    "import torch.optim as optim\n",
    "import torch\n",
    "from torch.utils.data import DataLoader, Dataset\n",
    "import torch.nn as nn\n",
    "\n",
    "from category_encoders import OrdinalEncoder\n",
    "from sklearn.model_selection import train_test_split\n",
    "from sklearn.preprocessing import LabelEncoder\n",
    "from sklearn.metrics import confusion_matrix, accuracy_score, balanced_accuracy_score\n",
    "from sklearn.utils import class_weight\n",
    "\n",
    "setting = 'photobox'\n",
    "if setting == 'photobox':\n",
    "    ext = '.png'\n",
    "elif setting == 'fuji':\n",
    "    ext = '.jpg'\n",
    "    \n",
    "modelname = \"densenet121\""
   ]
  },
  {
   "cell_type": "markdown",
   "id": "71459b84",
   "metadata": {},
   "source": [
    "# Creating train,val,test sets"
   ]
  },
  {
   "cell_type": "markdown",
   "id": "c854cb3e",
   "metadata": {},
   "source": [
    "## Removing outliers"
   ]
  },
  {
   "cell_type": "code",
   "execution_count": 3,
   "id": "d9db1aaf",
   "metadata": {},
   "outputs": [
    {
     "data": {
      "text/plain": [
       "9     5820\n",
       "8     5642\n",
       "7     4575\n",
       "4     3025\n",
       "0     2406\n",
       "3     2390\n",
       "10    1874\n",
       "6     1552\n",
       "5     1087\n",
       "2     1026\n",
       "1      711\n",
       "11     517\n",
       "Name: label, dtype: int64"
      ]
     },
     "execution_count": 3,
     "metadata": {},
     "output_type": "execute_result"
    }
   ],
   "source": [
    "df = pd.read_parquet(f\"{SAVE_DIR}/df_preparation_{setting}.parquet\")\n",
    "# df = pd.merge(df,df_pre, on=['filename','platename','imgname','date','year','plate_idx','location','xtra'])\n",
    "# df = df[df.knn_outlier==0]\n",
    "# df = df[df.nb_contours>0]\n",
    "# print(df.label.unique())\n",
    "\n",
    "oe = OrdinalEncoder(cols=['label'],mapping=[{'col':'label', 'mapping':{'bl':0,'wswl':1,'sp':2,'t':3,'sw':4,'k':5,'m':6,'c':7,'v':8,'wmv':9,'wrl':10,'other':11}}])\n",
    "df['txt_label'] = df['label']\n",
    "df['label'] = oe.fit_transform(df.label)\n",
    "df.label.value_counts()"
   ]
  },
  {
   "cell_type": "code",
   "execution_count": 4,
   "id": "f746cd74",
   "metadata": {},
   "outputs": [
    {
     "data": {
      "image/png": "[encoded data removed]",
      "text/plain": [
       "<Figure size 1440x360 with 3 Axes>"
      ]
     },
     "metadata": {
      "needs_background": "light"
     },
     "output_type": "display_data"
    }
   ],
   "source": [
    "test_plates = train_test_split(df.platename.unique(), random_state=2022, test_size=0.2, shuffle=True)[1].tolist()\n",
    "testseries = pd.Series(test_plates)\n",
    "inds = testseries.apply(lambda x: 'wortel' in x)\n",
    "inds = testseries[inds].sample(11).index.values\n",
    "wortel_plates = testseries[inds].tolist()\n",
    "test_plates = testseries[testseries.apply(lambda x: x.split('_')[1] != 'wortel')].tolist() + wortel_plates\n",
    "\n",
    "df_trainval = df[~df.platename.isin(test_plates)]\n",
    "df_test = df[df.platename.isin(test_plates)]\n",
    "\n",
    "topclasses = df['label'].value_counts().head(12).index.tolist()\n",
    "\n",
    "df = df[df['label'].isin(topclasses)]\n",
    "df_trainval = df_trainval[df_trainval['label'].isin(topclasses)]\n",
    "df_test = df_test[df_test['label'].isin(topclasses)]\n",
    "\n",
    "class_weights = class_weight.compute_class_weight('balanced', \n",
    "                                                  classes=np.unique(df['label'].tolist()), \n",
    "                                                  y=df['label'].tolist())\n",
    "\n",
    "class_weights = {np.unique(df['label'])[i]:class_weights[i] for i in range(len(class_weights))}\n",
    "df['weights'] = df['label'].map(class_weights)\n",
    "\n",
    "df_train, df_val = train_test_split(df_trainval, test_size=0.18, random_state=42, shuffle=True)\n",
    "\n",
    "\n",
    "plt.figure(figsize=(20,5))\n",
    "plt.subplot(1,3,1);df_train.txt_label.value_counts().plot(kind='barh');plt.title(f'train, {df_train.shape[0]}')\n",
    "plt.subplot(1,3,2);df_val.txt_label.value_counts().plot(kind='barh');plt.title(f'val, {df_val.shape[0]}')\n",
    "plt.subplot(1,3,3);df_test.txt_label.value_counts().plot(kind='barh');plt.title(f'test, {df_test.shape[0]}');"
   ]
  },
  {
   "cell_type": "code",
   "execution_count": 5,
   "id": "f4fdd28e",
   "metadata": {},
   "outputs": [],
   "source": [
    "assert len(set(df_train.filename.tolist()).intersection(df_test.filename.tolist())) == 0\n",
    "assert len(set(df_train.filename.tolist()).intersection(df_val.filename.tolist())) == 0"
   ]
  },
  {
   "cell_type": "code",
   "execution_count": 6,
   "id": "af1bb016-ae27-456f-9cf1-294532cc7152",
   "metadata": {},
   "outputs": [],
   "source": [
    "df_train.to_parquet(f\"{SAVE_DIR}/df_train_{setting}.parquet\")\n",
    "df_val.to_parquet(f\"{SAVE_DIR}/df_val_{setting}.parquet\")\n",
    "df_test.to_parquet(f\"{SAVE_DIR}/df_test_{setting}.parquet\")"
   ]
  },
  {
   "cell_type": "code",
   "execution_count": 7,
   "id": "b3c7b1e5-a740-4530-ae5f-24299737f2b7",
   "metadata": {},
   "outputs": [
    {
     "data": {
      "text/plain": [
       "9     4006\n",
       "8     3779\n",
       "7     3098\n",
       "4     2055\n",
       "3     1717\n",
       "0     1563\n",
       "10    1523\n",
       "6     1100\n",
       "5      752\n",
       "2      706\n",
       "1      438\n",
       "11     331\n",
       "Name: label, dtype: int64"
      ]
     },
     "execution_count": 7,
     "metadata": {},
     "output_type": "execute_result"
    }
   ],
   "source": [
    "df_train.label.value_counts()"
   ]
  },
  {
   "cell_type": "markdown",
   "id": "0f3166c6",
   "metadata": {
    "tags": []
   },
   "source": [
    "# Creating Pytorch Datasets and Dataloaders"
   ]
  },
  {
   "cell_type": "code",
   "execution_count": 8,
   "id": "b61c23ad",
   "metadata": {},
   "outputs": [],
   "source": [
    "transforms_list_train = [\n",
    "#     A.SmallestMaxSize(max_size=150),\n",
    "    T.ToPILImage(),\n",
    "    T.Resize(size=(150,150)),\n",
    "    T.RandomVerticalFlip(p=0.5),\n",
    "    T.RandomHorizontalFlip(p=0.5),\n",
    "    T.RandomAutocontrast(p=0.5),\n",
    "    T.RandomAdjustSharpness(sharpness_factor=1.5, p=0.5),\n",
    "    T.RandomRotation(degrees=(-15,15)),\n",
    "    T.RandomPosterize(bits=7, p=0.1),\n",
    "    # T.RandomEqualize(p=0.5),\n",
    "    T.ToTensor(),\n",
    "]\n",
    "\n",
    "transforms_list_test = [\n",
    "    T.ToPILImage(),\n",
    "    T.Resize(size=(150,150)),    \n",
    "    T.ToTensor(),\n",
    "]\n",
    "\n",
    "train_dataset = InsectImgDataset(df=df_train.reset_index(drop=True), transform=T.Compose(transforms_list_train))\n",
    "valid_dataset = InsectImgDataset(df=df_val.reset_index(drop=True), transform=T.Compose(transforms_list_test))\n",
    "test_dataset = InsectImgDataset(df=df_test.reset_index(drop=True), transform=T.Compose(transforms_list_test))\n",
    "\n",
    "batch_size = 32\n",
    "batch_size_val = 32\n",
    "\n",
    "train_dataloader = DataLoader(train_dataset, batch_size=batch_size, shuffle=True, num_workers=4, pin_memory=True, worker_init_fn=worker_init_fn)\n",
    "valid_dataloader = DataLoader(valid_dataset, batch_size=batch_size_val, shuffle=False, num_workers=4, pin_memory=True, worker_init_fn=worker_init_fn)\n",
    "test_dataloader = DataLoader(test_dataset, batch_size=batch_size_val, shuffle=False, num_workers=4, pin_memory=True, worker_init_fn=worker_init_fn)\n",
    "\n",
    "# plt.imshow(train_dataset[0][0]); plt.title(f\"Example train image, class:{train_dataset[0][1]}\");"
   ]
  },
  {
   "cell_type": "code",
   "execution_count": 9,
   "id": "180a5c16-eedc-48fa-96d1-50a78cbd807c",
   "metadata": {},
   "outputs": [],
   "source": [
    "tensor_image = train_dataset[150][0]\n",
    "# print(tensor_image)\n",
    "# plt.imshow(  tensor_image.permute(1, 2, 0)  )\n",
    "# print(tensor_image.permute(1, 2, 0).shape)"
   ]
  },
  {
   "cell_type": "markdown",
   "id": "890f75ae",
   "metadata": {},
   "source": [
    "#### Defining the model and training parameters"
   ]
  },
  {
   "cell_type": "code",
   "execution_count": 10,
   "id": "234389bd",
   "metadata": {},
   "outputs": [],
   "source": [
    "torch.backends.cudnn.benchmark = True"
   ]
  },
  {
   "cell_type": "code",
   "execution_count": 11,
   "id": "33de9ef2-5532-4e88-80fd-9e1730958f47",
   "metadata": {
    "scrolled": true,
    "tags": []
   },
   "outputs": [],
   "source": [
    "model = model_selector(modelname, pretrained=True)\n",
    "\n",
    "if modelname.startswith(\"dense\"):\n",
    "    num_ftrs = model.classifier.in_features\n",
    "    model.classifier = nn.Sequential(\n",
    "                            nn.Linear(num_ftrs,512),\n",
    "                            nn.ReLU(),\n",
    "                            nn.Dropout(0.3),\n",
    "                            nn.Linear(512, len(topclasses)))\n",
    "if modelname.startswith(\"resn\"):\n",
    "    num_ftrs = model.fc.in_features\n",
    "    model.fc = nn.Linear(num_ftrs,len(topclasses))\n",
    "if modelname.startswith(\"efficient\"):\n",
    "    num_ftrs = model.classifier[1].in_features\n",
    "    model.classifier[1] = nn.Linear(num_ftrs,len(topclasses))\n",
    "if modelname.startswith(\"vgg\"):\n",
    "    num_ftrs = model.classifier[-1].in_features\n",
    "    model.classifier[-1] = nn.Linear(num_ftrs, len(topclasses))\n",
    "if modelname.startswith(\"mobile\"):\n",
    "    num_ftrs = model.classifier[-1].in_features\n",
    "    model.classifier[-1] = nn.Linear(num_ftrs, len(topclasses))"
   ]
  },
  {
   "cell_type": "code",
   "execution_count": 12,
   "id": "c75127b5-49c6-42cc-b5e8-98d23f40c485",
   "metadata": {
    "scrolled": true,
    "tags": []
   },
   "outputs": [
    {
     "name": "stdout",
     "output_type": "stream",
     "text": [
      "Train on gpu: True\n"
     ]
    }
   ],
   "source": [
    "# Choosing whether to train on a gpu\n",
    "train_on_gpu = torch.cuda.is_available()\n",
    "print(f'Train on gpu: {train_on_gpu}')# Number of gpus\n",
    "model = model.to('cuda', dtype=torch.float)\n",
    "\n",
    "num_epochs = 150\n",
    "\n",
    "class_sample_count = np.unique(df_train.label, return_counts=True)[1]\n",
    "weight = 1. / class_sample_count  \n",
    "criterion = nn.CrossEntropyLoss(label_smoothing=.15, weight=torch.Tensor(weight).cuda())"
   ]
  },
  {
   "cell_type": "code",
   "execution_count": 13,
   "id": "276ad0e6",
   "metadata": {},
   "outputs": [],
   "source": [
    "optimizer = optim.AdamW(model.parameters(), lr=.003, weight_decay=0.01)#optim.Adam(model.parameters(), lr=.001)\n",
    "scheduler = torch.optim.lr_scheduler.CyclicLR(optimizer, base_lr=0.0003, max_lr=0.03, cycle_momentum=False, mode=\"triangular2\")"
   ]
  },
  {
   "cell_type": "code",
   "execution_count": 14,
   "id": "62e6d957",
   "metadata": {},
   "outputs": [],
   "source": [
    "#optimizer = optim.Adam(model.parameters(), lr=0.001, eps=1e-3, amsgrad=True)\n",
    "#scheduler = torch.optim.lr_scheduler.CyclicLR(optimizer, base_lr=0.0001, max_lr=0.01, cycle_momentum=False, mode=\"triangular2\")"
   ]
  },
  {
   "cell_type": "markdown",
   "id": "65cc53eb",
   "metadata": {},
   "source": [
    "# Training"
   ]
  },
  {
   "cell_type": "code",
   "execution_count": 15,
   "id": "7ace6f25",
   "metadata": {
    "tags": []
   },
   "outputs": [
    {
     "name": "stderr",
     "output_type": "stream",
     "text": [
      "Training..\t: 100%|███████████████████████████████████████████████████████████████████████████████| 659/659 [01:31<00:00,  7.16it/s]\n",
      "Validating..\t: 100%|█████████████████████████████████████████████████████████████████████████████| 145/145 [00:06<00:00, 23.58it/s]\n"
     ]
    },
    {
     "name": "stdout",
     "output_type": "stream",
     "text": [
      "Epoch 0: train_acc: 57.9% loss: 1.4414058,  val_loss: 1.8829389 val_acc: 62.6%\n",
      "Validation accuracy improved from 0.00 to 62.55. Saving model..\n"
     ]
    },
    {
     "name": "stderr",
     "output_type": "stream",
     "text": [
      "Training..\t: 100%|███████████████████████████████████████████████████████████████████████████████| 659/659 [01:27<00:00,  7.53it/s]\n",
      "Validating..\t: 100%|█████████████████████████████████████████████████████████████████████████████| 145/145 [00:05<00:00, 27.97it/s]\n"
     ]
    },
    {
     "name": "stdout",
     "output_type": "stream",
     "text": [
      "Epoch 1: train_acc: 68.7% loss: 2.1219785,  val_loss: 1.8272021 val_acc: 74.5%\n",
      "Validation accuracy improved from 62.55 to 74.46. Saving model..\n"
     ]
    },
    {
     "name": "stderr",
     "output_type": "stream",
     "text": [
      "Training..\t: 100%|███████████████████████████████████████████████████████████████████████████████| 659/659 [01:27<00:00,  7.54it/s]\n",
      "Validating..\t: 100%|█████████████████████████████████████████████████████████████████████████████| 145/145 [00:05<00:00, 27.68it/s]\n"
     ]
    },
    {
     "name": "stdout",
     "output_type": "stream",
     "text": [
      "Epoch 2: train_acc: 72.0% loss: 1.9330249,  val_loss: 1.5995378 val_acc: 73.7%\n"
     ]
    },
    {
     "name": "stderr",
     "output_type": "stream",
     "text": [
      "Training..\t: 100%|███████████████████████████████████████████████████████████████████████████████| 659/659 [01:27<00:00,  7.51it/s]\n",
      "Validating..\t: 100%|█████████████████████████████████████████████████████████████████████████████| 145/145 [00:05<00:00, 27.83it/s]\n"
     ]
    },
    {
     "name": "stdout",
     "output_type": "stream",
     "text": [
      "Epoch 3: train_acc: 73.5% loss: 1.9242177,  val_loss: 1.8062263 val_acc: 76.0%\n",
      "Validation accuracy improved from 74.46 to 76.00. Saving model..\n"
     ]
    },
    {
     "name": "stderr",
     "output_type": "stream",
     "text": [
      "Training..\t: 100%|███████████████████████████████████████████████████████████████████████████████| 659/659 [01:27<00:00,  7.51it/s]\n",
      "Validating..\t: 100%|█████████████████████████████████████████████████████████████████████████████| 145/145 [00:05<00:00, 27.75it/s]\n"
     ]
    },
    {
     "name": "stdout",
     "output_type": "stream",
     "text": [
      "Epoch 4: train_acc: 75.6% loss: 1.5783423,  val_loss: 1.5831172 val_acc: 76.0%\n"
     ]
    },
    {
     "name": "stderr",
     "output_type": "stream",
     "text": [
      "Training..\t: 100%|███████████████████████████████████████████████████████████████████████████████| 659/659 [01:28<00:00,  7.45it/s]\n",
      "Validating..\t: 100%|█████████████████████████████████████████████████████████████████████████████| 145/145 [00:05<00:00, 27.32it/s]\n"
     ]
    },
    {
     "name": "stdout",
     "output_type": "stream",
     "text": [
      "Epoch 5: train_acc: 76.1% loss: 1.7822771,  val_loss: 1.4385154 val_acc: 75.5%\n"
     ]
    },
    {
     "name": "stderr",
     "output_type": "stream",
     "text": [
      "Training..\t: 100%|███████████████████████████████████████████████████████████████████████████████| 659/659 [01:28<00:00,  7.40it/s]\n",
      "Validating..\t: 100%|█████████████████████████████████████████████████████████████████████████████| 145/145 [00:05<00:00, 28.20it/s]\n"
     ]
    },
    {
     "name": "stdout",
     "output_type": "stream",
     "text": [
      "Epoch 6: train_acc: 76.6% loss: 2.1318533,  val_loss: 1.6753689 val_acc: 76.8%\n",
      "Validation accuracy improved from 76.00 to 76.78. Saving model..\n"
     ]
    },
    {
     "name": "stderr",
     "output_type": "stream",
     "text": [
      "Training..\t: 100%|███████████████████████████████████████████████████████████████████████████████| 659/659 [01:26<00:00,  7.60it/s]\n",
      "Validating..\t: 100%|█████████████████████████████████████████████████████████████████████████████| 145/145 [00:05<00:00, 28.25it/s]\n"
     ]
    },
    {
     "name": "stdout",
     "output_type": "stream",
     "text": [
      "Epoch 7: train_acc: 77.3% loss: 1.1119876,  val_loss: 1.4604208 val_acc: 76.9%\n",
      "Validation accuracy improved from 76.78 to 76.86. Saving model..\n"
     ]
    },
    {
     "name": "stderr",
     "output_type": "stream",
     "text": [
      "Training..\t: 100%|███████████████████████████████████████████████████████████████████████████████| 659/659 [01:26<00:00,  7.63it/s]\n",
      "Validating..\t: 100%|█████████████████████████████████████████████████████████████████████████████| 145/145 [00:05<00:00, 28.27it/s]\n"
     ]
    },
    {
     "name": "stdout",
     "output_type": "stream",
     "text": [
      "Epoch 8: train_acc: 78.6% loss: 1.6010499,  val_loss: 1.4522821 val_acc: 76.4%\n"
     ]
    },
    {
     "name": "stderr",
     "output_type": "stream",
     "text": [
      "Training..\t: 100%|███████████████████████████████████████████████████████████████████████████████| 659/659 [01:26<00:00,  7.62it/s]\n",
      "Validating..\t: 100%|█████████████████████████████████████████████████████████████████████████████| 145/145 [00:05<00:00, 28.29it/s]\n"
     ]
    },
    {
     "name": "stdout",
     "output_type": "stream",
     "text": [
      "Epoch 9: train_acc: 78.2% loss: 1.6153607,  val_loss: 1.6517184 val_acc: 78.0%\n",
      "Validation accuracy improved from 76.86 to 78.03. Saving model..\n"
     ]
    },
    {
     "name": "stderr",
     "output_type": "stream",
     "text": [
      "Training..\t: 100%|███████████████████████████████████████████████████████████████████████████████| 659/659 [01:26<00:00,  7.58it/s]\n",
      "Validating..\t: 100%|█████████████████████████████████████████████████████████████████████████████| 145/145 [00:05<00:00, 28.30it/s]\n"
     ]
    },
    {
     "name": "stdout",
     "output_type": "stream",
     "text": [
      "Epoch 10: train_acc: 78.7% loss: 1.5187566,  val_loss: 1.4677268 val_acc: 77.1%\n"
     ]
    },
    {
     "name": "stderr",
     "output_type": "stream",
     "text": [
      "Training..\t: 100%|███████████████████████████████████████████████████████████████████████████████| 659/659 [01:27<00:00,  7.57it/s]\n",
      "Validating..\t: 100%|█████████████████████████████████████████████████████████████████████████████| 145/145 [00:05<00:00, 28.19it/s]\n"
     ]
    },
    {
     "name": "stdout",
     "output_type": "stream",
     "text": [
      "Epoch 11: train_acc: 79.1% loss: 1.2072083,  val_loss: 1.9454147 val_acc: 78.9%\n",
      "Validation accuracy improved from 78.03 to 78.90. Saving model..\n"
     ]
    },
    {
     "name": "stderr",
     "output_type": "stream",
     "text": [
      "Training..\t: 100%|███████████████████████████████████████████████████████████████████████████████| 659/659 [01:26<00:00,  7.64it/s]\n",
      "Validating..\t: 100%|█████████████████████████████████████████████████████████████████████████████| 145/145 [00:05<00:00, 28.16it/s]\n"
     ]
    },
    {
     "name": "stdout",
     "output_type": "stream",
     "text": [
      "Epoch 12: train_acc: 79.8% loss: 1.7639971,  val_loss: 1.5374786 val_acc: 77.6%\n"
     ]
    },
    {
     "name": "stderr",
     "output_type": "stream",
     "text": [
      "Training..\t: 100%|███████████████████████████████████████████████████████████████████████████████| 659/659 [01:26<00:00,  7.64it/s]\n",
      "Validating..\t: 100%|█████████████████████████████████████████████████████████████████████████████| 145/145 [00:05<00:00, 28.28it/s]\n"
     ]
    },
    {
     "name": "stdout",
     "output_type": "stream",
     "text": [
      "Epoch 13: train_acc: 79.8% loss: 1.3583288,  val_loss: 1.6257026 val_acc: 78.0%\n"
     ]
    },
    {
     "name": "stderr",
     "output_type": "stream",
     "text": [
      "Training..\t: 100%|███████████████████████████████████████████████████████████████████████████████| 659/659 [01:26<00:00,  7.63it/s]\n",
      "Validating..\t: 100%|█████████████████████████████████████████████████████████████████████████████| 145/145 [00:05<00:00, 28.40it/s]\n"
     ]
    },
    {
     "name": "stdout",
     "output_type": "stream",
     "text": [
      "Epoch 14: train_acc: 80.5% loss: 1.4966416,  val_loss: 1.6042135 val_acc: 78.4%\n"
     ]
    },
    {
     "name": "stderr",
     "output_type": "stream",
     "text": [
      "Training..\t: 100%|███████████████████████████████████████████████████████████████████████████████| 659/659 [01:26<00:00,  7.64it/s]\n",
      "Validating..\t: 100%|█████████████████████████████████████████████████████████████████████████████| 145/145 [00:05<00:00, 28.28it/s]\n"
     ]
    },
    {
     "name": "stdout",
     "output_type": "stream",
     "text": [
      "Epoch 15: train_acc: 80.6% loss: 1.4042907,  val_loss: 2.0255747 val_acc: 80.3%\n",
      "Validation accuracy improved from 78.90 to 80.26. Saving model..\n"
     ]
    },
    {
     "name": "stderr",
     "output_type": "stream",
     "text": [
      "Training..\t: 100%|███████████████████████████████████████████████████████████████████████████████| 659/659 [01:26<00:00,  7.63it/s]\n",
      "Validating..\t: 100%|█████████████████████████████████████████████████████████████████████████████| 145/145 [00:05<00:00, 28.26it/s]\n"
     ]
    },
    {
     "name": "stdout",
     "output_type": "stream",
     "text": [
      "Epoch 16: train_acc: 80.7% loss: 2.1757026,  val_loss: 1.5790794 val_acc: 78.9%\n"
     ]
    },
    {
     "name": "stderr",
     "output_type": "stream",
     "text": [
      "Training..\t: 100%|███████████████████████████████████████████████████████████████████████████████| 659/659 [01:26<00:00,  7.62it/s]\n",
      "Validating..\t: 100%|█████████████████████████████████████████████████████████████████████████████| 145/145 [00:05<00:00, 28.27it/s]\n"
     ]
    },
    {
     "name": "stdout",
     "output_type": "stream",
     "text": [
      "Epoch 17: train_acc: 81.0% loss: 1.2670298,  val_loss: 1.4733562 val_acc: 76.6%\n"
     ]
    },
    {
     "name": "stderr",
     "output_type": "stream",
     "text": [
      "Training..\t: 100%|███████████████████████████████████████████████████████████████████████████████| 659/659 [01:26<00:00,  7.65it/s]\n",
      "Validating..\t: 100%|█████████████████████████████████████████████████████████████████████████████| 145/145 [00:05<00:00, 28.25it/s]\n"
     ]
    },
    {
     "name": "stdout",
     "output_type": "stream",
     "text": [
      "Epoch 18: train_acc: 81.1% loss: 1.3990785,  val_loss: 1.4763439 val_acc: 76.8%\n"
     ]
    },
    {
     "name": "stderr",
     "output_type": "stream",
     "text": [
      "Training..\t: 100%|███████████████████████████████████████████████████████████████████████████████| 659/659 [01:26<00:00,  7.65it/s]\n",
      "Validating..\t: 100%|█████████████████████████████████████████████████████████████████████████████| 145/145 [00:05<00:00, 28.29it/s]\n"
     ]
    },
    {
     "name": "stdout",
     "output_type": "stream",
     "text": [
      "Epoch 19: train_acc: 81.7% loss: 1.4765370,  val_loss: 1.8476491 val_acc: 70.6%\n"
     ]
    },
    {
     "name": "stderr",
     "output_type": "stream",
     "text": [
      "Training..\t: 100%|███████████████████████████████████████████████████████████████████████████████| 659/659 [01:26<00:00,  7.65it/s]\n",
      "Validating..\t: 100%|█████████████████████████████████████████████████████████████████████████████| 145/145 [00:05<00:00, 28.38it/s]\n"
     ]
    },
    {
     "name": "stdout",
     "output_type": "stream",
     "text": [
      "Epoch 20: train_acc: 81.4% loss: 2.5194116,  val_loss: 1.7883475 val_acc: 78.5%\n"
     ]
    },
    {
     "name": "stderr",
     "output_type": "stream",
     "text": [
      "Training..\t: 100%|███████████████████████████████████████████████████████████████████████████████| 659/659 [01:26<00:00,  7.63it/s]\n",
      "Validating..\t: 100%|█████████████████████████████████████████████████████████████████████████████| 145/145 [00:05<00:00, 28.31it/s]\n"
     ]
    },
    {
     "name": "stdout",
     "output_type": "stream",
     "text": [
      "Epoch 21: train_acc: 81.9% loss: 2.4283724,  val_loss: 1.5811946 val_acc: 79.6%\n"
     ]
    },
    {
     "name": "stderr",
     "output_type": "stream",
     "text": [
      "Training..\t: 100%|███████████████████████████████████████████████████████████████████████████████| 659/659 [01:27<00:00,  7.57it/s]\n",
      "Validating..\t: 100%|█████████████████████████████████████████████████████████████████████████████| 145/145 [00:05<00:00, 28.31it/s]\n"
     ]
    },
    {
     "name": "stdout",
     "output_type": "stream",
     "text": [
      "Epoch 22: train_acc: 81.8% loss: 1.1142837,  val_loss: 1.6495348 val_acc: 79.3%\n"
     ]
    },
    {
     "name": "stderr",
     "output_type": "stream",
     "text": [
      "Training..\t: 100%|███████████████████████████████████████████████████████████████████████████████| 659/659 [01:26<00:00,  7.64it/s]\n",
      "Validating..\t: 100%|█████████████████████████████████████████████████████████████████████████████| 145/145 [00:05<00:00, 28.33it/s]\n"
     ]
    },
    {
     "name": "stdout",
     "output_type": "stream",
     "text": [
      "Epoch 23: train_acc: 82.7% loss: 1.4260190,  val_loss: 1.5307461 val_acc: 79.9%\n"
     ]
    },
    {
     "name": "stderr",
     "output_type": "stream",
     "text": [
      "Training..\t: 100%|███████████████████████████████████████████████████████████████████████████████| 659/659 [01:26<00:00,  7.66it/s]\n",
      "Validating..\t: 100%|█████████████████████████████████████████████████████████████████████████████| 145/145 [00:05<00:00, 28.36it/s]\n"
     ]
    },
    {
     "name": "stdout",
     "output_type": "stream",
     "text": [
      "Epoch 24: train_acc: 82.8% loss: 1.4797459,  val_loss: 1.8247013 val_acc: 75.1%\n"
     ]
    },
    {
     "name": "stderr",
     "output_type": "stream",
     "text": [
      "Training..\t: 100%|███████████████████████████████████████████████████████████████████████████████| 659/659 [01:26<00:00,  7.63it/s]\n",
      "Validating..\t: 100%|█████████████████████████████████████████████████████████████████████████████| 145/145 [00:05<00:00, 28.40it/s]\n"
     ]
    },
    {
     "name": "stdout",
     "output_type": "stream",
     "text": [
      "Epoch 25: train_acc: 82.2% loss: 1.4869465,  val_loss: 1.6689357 val_acc: 79.9%\n"
     ]
    },
    {
     "name": "stderr",
     "output_type": "stream",
     "text": [
      "Training..\t: 100%|███████████████████████████████████████████████████████████████████████████████| 659/659 [01:26<00:00,  7.64it/s]\n",
      "Validating..\t: 100%|█████████████████████████████████████████████████████████████████████████████| 145/145 [00:05<00:00, 28.37it/s]\n"
     ]
    },
    {
     "name": "stdout",
     "output_type": "stream",
     "text": [
      "Epoch 26: train_acc: 82.7% loss: 1.4584554,  val_loss: 1.9941440 val_acc: 78.2%\n"
     ]
    },
    {
     "name": "stderr",
     "output_type": "stream",
     "text": [
      "Training..\t: 100%|███████████████████████████████████████████████████████████████████████████████| 659/659 [01:28<00:00,  7.48it/s]\n",
      "Validating..\t: 100%|█████████████████████████████████████████████████████████████████████████████| 145/145 [00:05<00:00, 24.97it/s]\n"
     ]
    },
    {
     "name": "stdout",
     "output_type": "stream",
     "text": [
      "Epoch 27: train_acc: 83.3% loss: 1.0861288,  val_loss: 1.7506567 val_acc: 79.7%\n"
     ]
    },
    {
     "name": "stderr",
     "output_type": "stream",
     "text": [
      "Training..\t: 100%|███████████████████████████████████████████████████████████████████████████████| 659/659 [01:26<00:00,  7.63it/s]\n",
      "Validating..\t: 100%|█████████████████████████████████████████████████████████████████████████████| 145/145 [00:05<00:00, 28.28it/s]\n"
     ]
    },
    {
     "name": "stdout",
     "output_type": "stream",
     "text": [
      "Epoch 28: train_acc: 82.6% loss: 1.4109800,  val_loss: 1.8919122 val_acc: 80.8%\n",
      "Validation accuracy improved from 80.26 to 80.82. Saving model..\n"
     ]
    },
    {
     "name": "stderr",
     "output_type": "stream",
     "text": [
      "Training..\t: 100%|███████████████████████████████████████████████████████████████████████████████| 659/659 [01:26<00:00,  7.64it/s]\n",
      "Validating..\t: 100%|█████████████████████████████████████████████████████████████████████████████| 145/145 [00:05<00:00, 28.38it/s]\n"
     ]
    },
    {
     "name": "stdout",
     "output_type": "stream",
     "text": [
      "Epoch 29: train_acc: 83.2% loss: 1.6564348,  val_loss: 1.5298328 val_acc: 73.6%\n"
     ]
    },
    {
     "name": "stderr",
     "output_type": "stream",
     "text": [
      "Training..\t: 100%|███████████████████████████████████████████████████████████████████████████████| 659/659 [01:26<00:00,  7.64it/s]\n",
      "Validating..\t: 100%|█████████████████████████████████████████████████████████████████████████████| 145/145 [00:05<00:00, 28.44it/s]\n"
     ]
    },
    {
     "name": "stdout",
     "output_type": "stream",
     "text": [
      "Epoch 30: train_acc: 82.9% loss: 1.2838626,  val_loss: 1.8097034 val_acc: 80.6%\n"
     ]
    },
    {
     "name": "stderr",
     "output_type": "stream",
     "text": [
      "Training..\t: 100%|███████████████████████████████████████████████████████████████████████████████| 659/659 [01:26<00:00,  7.65it/s]\n",
      "Validating..\t: 100%|█████████████████████████████████████████████████████████████████████████████| 145/145 [00:05<00:00, 28.21it/s]\n"
     ]
    },
    {
     "name": "stdout",
     "output_type": "stream",
     "text": [
      "Epoch 31: train_acc: 82.9% loss: 1.3843780,  val_loss: 1.6904640 val_acc: 79.1%\n"
     ]
    },
    {
     "name": "stderr",
     "output_type": "stream",
     "text": [
      "Training..\t: 100%|███████████████████████████████████████████████████████████████████████████████| 659/659 [01:26<00:00,  7.63it/s]\n",
      "Validating..\t: 100%|█████████████████████████████████████████████████████████████████████████████| 145/145 [00:05<00:00, 28.19it/s]\n"
     ]
    },
    {
     "name": "stdout",
     "output_type": "stream",
     "text": [
      "Epoch 32: train_acc: 83.9% loss: 1.2054603,  val_loss: 1.4559178 val_acc: 79.7%\n"
     ]
    },
    {
     "name": "stderr",
     "output_type": "stream",
     "text": [
      "Training..\t: 100%|███████████████████████████████████████████████████████████████████████████████| 659/659 [01:26<00:00,  7.61it/s]\n",
      "Validating..\t: 100%|█████████████████████████████████████████████████████████████████████████████| 145/145 [00:05<00:00, 28.25it/s]\n"
     ]
    },
    {
     "name": "stdout",
     "output_type": "stream",
     "text": [
      "Epoch 33: train_acc: 83.5% loss: 1.4899580,  val_loss: 2.2373915 val_acc: 79.8%\n"
     ]
    },
    {
     "name": "stderr",
     "output_type": "stream",
     "text": [
      "Training..\t: 100%|███████████████████████████████████████████████████████████████████████████████| 659/659 [01:26<00:00,  7.65it/s]\n",
      "Validating..\t: 100%|█████████████████████████████████████████████████████████████████████████████| 145/145 [00:05<00:00, 27.98it/s]\n"
     ]
    },
    {
     "name": "stdout",
     "output_type": "stream",
     "text": [
      "Epoch 34: train_acc: 83.9% loss: 1.4565740,  val_loss: 1.9951038 val_acc: 77.1%\n"
     ]
    },
    {
     "name": "stderr",
     "output_type": "stream",
     "text": [
      "Training..\t: 100%|███████████████████████████████████████████████████████████████████████████████| 659/659 [01:26<00:00,  7.66it/s]\n",
      "Validating..\t: 100%|█████████████████████████████████████████████████████████████████████████████| 145/145 [00:05<00:00, 28.33it/s]\n"
     ]
    },
    {
     "name": "stdout",
     "output_type": "stream",
     "text": [
      "Epoch 35: train_acc: 83.8% loss: 1.4447041,  val_loss: 1.5538875 val_acc: 74.0%\n"
     ]
    },
    {
     "name": "stderr",
     "output_type": "stream",
     "text": [
      "Training..\t: 100%|███████████████████████████████████████████████████████████████████████████████| 659/659 [01:26<00:00,  7.66it/s]\n",
      "Validating..\t: 100%|█████████████████████████████████████████████████████████████████████████████| 145/145 [00:05<00:00, 28.39it/s]\n"
     ]
    },
    {
     "name": "stdout",
     "output_type": "stream",
     "text": [
      "Epoch 36: train_acc: 84.4% loss: 0.9839176,  val_loss: 1.4875169 val_acc: 81.0%\n",
      "Validation accuracy improved from 80.82 to 80.97. Saving model..\n"
     ]
    },
    {
     "name": "stderr",
     "output_type": "stream",
     "text": [
      "Training..\t: 100%|███████████████████████████████████████████████████████████████████████████████| 659/659 [01:26<00:00,  7.65it/s]\n",
      "Validating..\t: 100%|█████████████████████████████████████████████████████████████████████████████| 145/145 [00:05<00:00, 28.33it/s]\n"
     ]
    },
    {
     "name": "stdout",
     "output_type": "stream",
     "text": [
      "Epoch 37: train_acc: 84.2% loss: 1.2495277,  val_loss: 1.6588800 val_acc: 80.0%\n"
     ]
    },
    {
     "name": "stderr",
     "output_type": "stream",
     "text": [
      "Training..\t: 100%|███████████████████████████████████████████████████████████████████████████████| 659/659 [01:25<00:00,  7.66it/s]\n",
      "Validating..\t: 100%|█████████████████████████████████████████████████████████████████████████████| 145/145 [00:05<00:00, 28.40it/s]\n"
     ]
    },
    {
     "name": "stdout",
     "output_type": "stream",
     "text": [
      "Epoch 38: train_acc: 84.5% loss: 1.9925866,  val_loss: 1.3885211 val_acc: 78.1%\n"
     ]
    },
    {
     "name": "stderr",
     "output_type": "stream",
     "text": [
      "Training..\t: 100%|███████████████████████████████████████████████████████████████████████████████| 659/659 [01:25<00:00,  7.66it/s]\n",
      "Validating..\t: 100%|█████████████████████████████████████████████████████████████████████████████| 145/145 [00:05<00:00, 28.33it/s]\n"
     ]
    },
    {
     "name": "stdout",
     "output_type": "stream",
     "text": [
      "Epoch 39: train_acc: 84.7% loss: 1.1988268,  val_loss: 1.5091028 val_acc: 79.2%\n"
     ]
    },
    {
     "name": "stderr",
     "output_type": "stream",
     "text": [
      "Training..\t: 100%|███████████████████████████████████████████████████████████████████████████████| 659/659 [01:26<00:00,  7.65it/s]\n",
      "Validating..\t: 100%|█████████████████████████████████████████████████████████████████████████████| 145/145 [00:05<00:00, 28.38it/s]\n"
     ]
    },
    {
     "name": "stdout",
     "output_type": "stream",
     "text": [
      "Epoch 40: train_acc: 84.8% loss: 2.2618895,  val_loss: 1.8042939 val_acc: 80.2%\n"
     ]
    },
    {
     "name": "stderr",
     "output_type": "stream",
     "text": [
      "Training..\t: 100%|███████████████████████████████████████████████████████████████████████████████| 659/659 [01:26<00:00,  7.59it/s]\n",
      "Validating..\t: 100%|█████████████████████████████████████████████████████████████████████████████| 145/145 [00:05<00:00, 28.42it/s]\n"
     ]
    },
    {
     "name": "stdout",
     "output_type": "stream",
     "text": [
      "Epoch 41: train_acc: 84.9% loss: 1.1627524,  val_loss: 1.6154987 val_acc: 64.0%\n"
     ]
    },
    {
     "name": "stderr",
     "output_type": "stream",
     "text": [
      "Training..\t: 100%|███████████████████████████████████████████████████████████████████████████████| 659/659 [01:28<00:00,  7.47it/s]\n",
      "Validating..\t: 100%|█████████████████████████████████████████████████████████████████████████████| 145/145 [00:05<00:00, 27.96it/s]\n"
     ]
    },
    {
     "name": "stdout",
     "output_type": "stream",
     "text": [
      "Epoch 42: train_acc: 84.8% loss: 1.5196428,  val_loss: 1.9173023 val_acc: 80.7%\n"
     ]
    },
    {
     "name": "stderr",
     "output_type": "stream",
     "text": [
      "Training..\t: 100%|███████████████████████████████████████████████████████████████████████████████| 659/659 [01:27<00:00,  7.51it/s]\n",
      "Validating..\t: 100%|█████████████████████████████████████████████████████████████████████████████| 145/145 [00:05<00:00, 28.40it/s]\n"
     ]
    },
    {
     "name": "stdout",
     "output_type": "stream",
     "text": [
      "Epoch 43: train_acc: 85.0% loss: 1.4763618,  val_loss: 1.6615462 val_acc: 80.7%\n"
     ]
    },
    {
     "name": "stderr",
     "output_type": "stream",
     "text": [
      "Training..\t: 100%|███████████████████████████████████████████████████████████████████████████████| 659/659 [01:26<00:00,  7.59it/s]\n",
      "Validating..\t: 100%|█████████████████████████████████████████████████████████████████████████████| 145/145 [00:05<00:00, 28.23it/s]\n"
     ]
    },
    {
     "name": "stdout",
     "output_type": "stream",
     "text": [
      "Epoch 44: train_acc: 85.2% loss: 1.5772433,  val_loss: 1.7523820 val_acc: 81.3%\n",
      "Validation accuracy improved from 80.97 to 81.25. Saving model..\n"
     ]
    },
    {
     "name": "stderr",
     "output_type": "stream",
     "text": [
      "Training..\t: 100%|███████████████████████████████████████████████████████████████████████████████| 659/659 [01:26<00:00,  7.65it/s]\n",
      "Validating..\t: 100%|█████████████████████████████████████████████████████████████████████████████| 145/145 [00:05<00:00, 28.33it/s]\n"
     ]
    },
    {
     "name": "stdout",
     "output_type": "stream",
     "text": [
      "Epoch 45: train_acc: 85.6% loss: 1.2430232,  val_loss: 2.0066600 val_acc: 79.2%\n"
     ]
    },
    {
     "name": "stderr",
     "output_type": "stream",
     "text": [
      "Training..\t: 100%|███████████████████████████████████████████████████████████████████████████████| 659/659 [01:26<00:00,  7.66it/s]\n",
      "Validating..\t: 100%|█████████████████████████████████████████████████████████████████████████████| 145/145 [00:05<00:00, 28.36it/s]\n"
     ]
    },
    {
     "name": "stdout",
     "output_type": "stream",
     "text": [
      "Epoch 46: train_acc: 85.6% loss: 1.1963919,  val_loss: 1.8558965 val_acc: 78.9%\n"
     ]
    },
    {
     "name": "stderr",
     "output_type": "stream",
     "text": [
      "Training..\t: 100%|███████████████████████████████████████████████████████████████████████████████| 659/659 [01:26<00:00,  7.65it/s]\n",
      "Validating..\t: 100%|█████████████████████████████████████████████████████████████████████████████| 145/145 [00:05<00:00, 28.37it/s]\n"
     ]
    },
    {
     "name": "stdout",
     "output_type": "stream",
     "text": [
      "Epoch 47: train_acc: 85.7% loss: 1.2088919,  val_loss: 1.6579177 val_acc: 69.7%\n"
     ]
    },
    {
     "name": "stderr",
     "output_type": "stream",
     "text": [
      "Training..\t: 100%|███████████████████████████████████████████████████████████████████████████████| 659/659 [01:26<00:00,  7.65it/s]\n",
      "Validating..\t: 100%|█████████████████████████████████████████████████████████████████████████████| 145/145 [00:05<00:00, 28.29it/s]\n"
     ]
    },
    {
     "name": "stdout",
     "output_type": "stream",
     "text": [
      "Epoch 48: train_acc: 85.8% loss: 1.3436819,  val_loss: 2.0050659 val_acc: 81.6%\n",
      "Validation accuracy improved from 81.25 to 81.56. Saving model..\n"
     ]
    },
    {
     "name": "stderr",
     "output_type": "stream",
     "text": [
      "Training..\t: 100%|███████████████████████████████████████████████████████████████████████████████| 659/659 [01:26<00:00,  7.65it/s]\n",
      "Validating..\t: 100%|█████████████████████████████████████████████████████████████████████████████| 145/145 [00:05<00:00, 28.36it/s]\n"
     ]
    },
    {
     "name": "stdout",
     "output_type": "stream",
     "text": [
      "Epoch 49: train_acc: 85.1% loss: 1.0625937,  val_loss: 1.9110609 val_acc: 80.9%\n"
     ]
    },
    {
     "name": "stderr",
     "output_type": "stream",
     "text": [
      "Training..\t: 100%|███████████████████████████████████████████████████████████████████████████████| 659/659 [01:25<00:00,  7.67it/s]\n",
      "Validating..\t: 100%|█████████████████████████████████████████████████████████████████████████████| 145/145 [00:05<00:00, 28.45it/s]\n"
     ]
    },
    {
     "name": "stdout",
     "output_type": "stream",
     "text": [
      "Epoch 50: train_acc: 85.8% loss: 1.1909369,  val_loss: 2.1338027 val_acc: 81.8%\n",
      "Validation accuracy improved from 81.56 to 81.79. Saving model..\n"
     ]
    },
    {
     "name": "stderr",
     "output_type": "stream",
     "text": [
      "Training..\t: 100%|███████████████████████████████████████████████████████████████████████████████| 659/659 [01:26<00:00,  7.65it/s]\n",
      "Validating..\t: 100%|█████████████████████████████████████████████████████████████████████████████| 145/145 [00:05<00:00, 28.31it/s]\n"
     ]
    },
    {
     "name": "stdout",
     "output_type": "stream",
     "text": [
      "Epoch 51: train_acc: 85.8% loss: 1.1728172,  val_loss: 1.4185019 val_acc: 73.5%\n"
     ]
    },
    {
     "name": "stderr",
     "output_type": "stream",
     "text": [
      "Training..\t: 100%|███████████████████████████████████████████████████████████████████████████████| 659/659 [01:26<00:00,  7.66it/s]\n",
      "Validating..\t: 100%|█████████████████████████████████████████████████████████████████████████████| 145/145 [00:05<00:00, 28.38it/s]\n"
     ]
    },
    {
     "name": "stdout",
     "output_type": "stream",
     "text": [
      "Epoch 52: train_acc: 85.6% loss: 1.5668921,  val_loss: 1.9194555 val_acc: 79.0%\n"
     ]
    },
    {
     "name": "stderr",
     "output_type": "stream",
     "text": [
      "Training..\t: 100%|███████████████████████████████████████████████████████████████████████████████| 659/659 [01:25<00:00,  7.67it/s]\n",
      "Validating..\t: 100%|█████████████████████████████████████████████████████████████████████████████| 145/145 [00:05<00:00, 28.42it/s]\n"
     ]
    },
    {
     "name": "stdout",
     "output_type": "stream",
     "text": [
      "Epoch 53: train_acc: 86.3% loss: 1.1863803,  val_loss: 1.8051351 val_acc: 81.4%\n"
     ]
    },
    {
     "name": "stderr",
     "output_type": "stream",
     "text": [
      "Training..\t: 100%|███████████████████████████████████████████████████████████████████████████████| 659/659 [01:26<00:00,  7.66it/s]\n",
      "Validating..\t: 100%|█████████████████████████████████████████████████████████████████████████████| 145/145 [00:05<00:00, 28.39it/s]\n"
     ]
    },
    {
     "name": "stdout",
     "output_type": "stream",
     "text": [
      "Epoch 54: train_acc: 86.0% loss: 1.5647171,  val_loss: 1.7943523 val_acc: 77.7%\n"
     ]
    },
    {
     "name": "stderr",
     "output_type": "stream",
     "text": [
      "Training..\t: 100%|███████████████████████████████████████████████████████████████████████████████| 659/659 [01:26<00:00,  7.61it/s]\n",
      "Validating..\t: 100%|█████████████████████████████████████████████████████████████████████████████| 145/145 [00:05<00:00, 28.36it/s]\n"
     ]
    },
    {
     "name": "stdout",
     "output_type": "stream",
     "text": [
      "Epoch 55: train_acc: 86.0% loss: 1.8007708,  val_loss: 1.8345493 val_acc: 81.3%\n"
     ]
    },
    {
     "name": "stderr",
     "output_type": "stream",
     "text": [
      "Training..\t: 100%|███████████████████████████████████████████████████████████████████████████████| 659/659 [01:25<00:00,  7.66it/s]\n",
      "Validating..\t: 100%|█████████████████████████████████████████████████████████████████████████████| 145/145 [00:05<00:00, 28.29it/s]\n"
     ]
    },
    {
     "name": "stdout",
     "output_type": "stream",
     "text": [
      "Epoch 56: train_acc: 87.0% loss: 1.1077709,  val_loss: 2.0929642 val_acc: 66.0%\n"
     ]
    },
    {
     "name": "stderr",
     "output_type": "stream",
     "text": [
      "Training..\t: 100%|███████████████████████████████████████████████████████████████████████████████| 659/659 [01:26<00:00,  7.66it/s]\n",
      "Validating..\t: 100%|█████████████████████████████████████████████████████████████████████████████| 145/145 [00:05<00:00, 28.36it/s]\n"
     ]
    },
    {
     "name": "stdout",
     "output_type": "stream",
     "text": [
      "Epoch 57: train_acc: 86.5% loss: 1.0915433,  val_loss: 1.8824129 val_acc: 78.2%\n"
     ]
    },
    {
     "name": "stderr",
     "output_type": "stream",
     "text": [
      "Training..\t: 100%|███████████████████████████████████████████████████████████████████████████████| 659/659 [01:26<00:00,  7.64it/s]\n",
      "Validating..\t: 100%|█████████████████████████████████████████████████████████████████████████████| 145/145 [00:05<00:00, 28.46it/s]\n"
     ]
    },
    {
     "name": "stdout",
     "output_type": "stream",
     "text": [
      "Epoch 58: train_acc: 85.7% loss: 1.2856646,  val_loss: 1.9408860 val_acc: 78.2%\n"
     ]
    },
    {
     "name": "stderr",
     "output_type": "stream",
     "text": [
      "Training..\t: 100%|███████████████████████████████████████████████████████████████████████████████| 659/659 [01:26<00:00,  7.65it/s]\n",
      "Validating..\t: 100%|█████████████████████████████████████████████████████████████████████████████| 145/145 [00:05<00:00, 28.38it/s]\n"
     ]
    },
    {
     "name": "stdout",
     "output_type": "stream",
     "text": [
      "Epoch 59: train_acc: 86.2% loss: 1.4230917,  val_loss: 1.9017203 val_acc: 79.3%\n"
     ]
    },
    {
     "name": "stderr",
     "output_type": "stream",
     "text": [
      "Training..\t: 100%|███████████████████████████████████████████████████████████████████████████████| 659/659 [01:25<00:00,  7.66it/s]\n",
      "Validating..\t: 100%|█████████████████████████████████████████████████████████████████████████████| 145/145 [00:05<00:00, 28.33it/s]\n"
     ]
    },
    {
     "name": "stdout",
     "output_type": "stream",
     "text": [
      "Epoch 60: train_acc: 86.7% loss: 1.3151613,  val_loss: 1.5595706 val_acc: 77.8%\n"
     ]
    },
    {
     "name": "stderr",
     "output_type": "stream",
     "text": [
      "Training..\t: 100%|███████████████████████████████████████████████████████████████████████████████| 659/659 [01:26<00:00,  7.65it/s]\n",
      "Validating..\t: 100%|█████████████████████████████████████████████████████████████████████████████| 145/145 [00:05<00:00, 28.44it/s]\n"
     ]
    },
    {
     "name": "stdout",
     "output_type": "stream",
     "text": [
      "Epoch 61: train_acc: 86.6% loss: 1.8867843,  val_loss: 1.8412273 val_acc: 80.5%\n"
     ]
    },
    {
     "name": "stderr",
     "output_type": "stream",
     "text": [
      "Training..\t: 100%|███████████████████████████████████████████████████████████████████████████████| 659/659 [01:26<00:00,  7.64it/s]\n",
      "Validating..\t: 100%|█████████████████████████████████████████████████████████████████████████████| 145/145 [00:05<00:00, 28.38it/s]\n"
     ]
    },
    {
     "name": "stdout",
     "output_type": "stream",
     "text": [
      "Epoch 62: train_acc: 86.4% loss: 1.2133740,  val_loss: 1.9617956 val_acc: 80.3%\n"
     ]
    },
    {
     "name": "stderr",
     "output_type": "stream",
     "text": [
      "Training..\t: 100%|███████████████████████████████████████████████████████████████████████████████| 659/659 [01:25<00:00,  7.67it/s]\n",
      "Validating..\t: 100%|█████████████████████████████████████████████████████████████████████████████| 145/145 [00:05<00:00, 28.34it/s]\n"
     ]
    },
    {
     "name": "stdout",
     "output_type": "stream",
     "text": [
      "Epoch 63: train_acc: 86.7% loss: 1.5823326,  val_loss: 2.1112325 val_acc: 78.8%\n"
     ]
    },
    {
     "name": "stderr",
     "output_type": "stream",
     "text": [
      "Training..\t: 100%|███████████████████████████████████████████████████████████████████████████████| 659/659 [01:25<00:00,  7.68it/s]\n",
      "Validating..\t: 100%|█████████████████████████████████████████████████████████████████████████████| 145/145 [00:05<00:00, 28.42it/s]\n"
     ]
    },
    {
     "name": "stdout",
     "output_type": "stream",
     "text": [
      "Epoch 64: train_acc: 86.3% loss: 1.1491307,  val_loss: 1.5655448 val_acc: 78.2%\n"
     ]
    },
    {
     "name": "stderr",
     "output_type": "stream",
     "text": [
      "Training..\t: 100%|███████████████████████████████████████████████████████████████████████████████| 659/659 [01:26<00:00,  7.65it/s]\n",
      "Validating..\t: 100%|█████████████████████████████████████████████████████████████████████████████| 145/145 [00:05<00:00, 28.30it/s]\n"
     ]
    },
    {
     "name": "stdout",
     "output_type": "stream",
     "text": [
      "Epoch 65: train_acc: 87.2% loss: 1.3557814,  val_loss: 1.9208143 val_acc: 82.2%\n",
      "Validation accuracy improved from 81.79 to 82.21. Saving model..\n"
     ]
    },
    {
     "name": "stderr",
     "output_type": "stream",
     "text": [
      "Training..\t: 100%|███████████████████████████████████████████████████████████████████████████████| 659/659 [01:26<00:00,  7.61it/s]\n",
      "Validating..\t: 100%|█████████████████████████████████████████████████████████████████████████████| 145/145 [00:05<00:00, 28.39it/s]\n"
     ]
    },
    {
     "name": "stdout",
     "output_type": "stream",
     "text": [
      "Epoch 66: train_acc: 86.1% loss: 1.5236295,  val_loss: 1.3808966 val_acc: 79.7%\n"
     ]
    },
    {
     "name": "stderr",
     "output_type": "stream",
     "text": [
      "Training..\t: 100%|███████████████████████████████████████████████████████████████████████████████| 659/659 [01:25<00:00,  7.67it/s]\n",
      "Validating..\t: 100%|█████████████████████████████████████████████████████████████████████████████| 145/145 [00:05<00:00, 28.32it/s]\n"
     ]
    },
    {
     "name": "stdout",
     "output_type": "stream",
     "text": [
      "Epoch 67: train_acc: 87.2% loss: 1.5188875,  val_loss: 1.8491079 val_acc: 78.4%\n"
     ]
    },
    {
     "name": "stderr",
     "output_type": "stream",
     "text": [
      "Training..\t: 100%|███████████████████████████████████████████████████████████████████████████████| 659/659 [01:26<00:00,  7.66it/s]\n",
      "Validating..\t: 100%|█████████████████████████████████████████████████████████████████████████████| 145/145 [00:05<00:00, 28.39it/s]\n"
     ]
    },
    {
     "name": "stdout",
     "output_type": "stream",
     "text": [
      "Epoch 68: train_acc: 87.1% loss: 1.3956691,  val_loss: 1.5495284 val_acc: 80.6%\n"
     ]
    },
    {
     "name": "stderr",
     "output_type": "stream",
     "text": [
      "Training..\t: 100%|███████████████████████████████████████████████████████████████████████████████| 659/659 [01:25<00:00,  7.67it/s]\n",
      "Validating..\t: 100%|█████████████████████████████████████████████████████████████████████████████| 145/145 [00:05<00:00, 28.42it/s]\n"
     ]
    },
    {
     "name": "stdout",
     "output_type": "stream",
     "text": [
      "Epoch 69: train_acc: 87.5% loss: 1.3931355,  val_loss: 1.8807721 val_acc: 80.3%\n"
     ]
    },
    {
     "name": "stderr",
     "output_type": "stream",
     "text": [
      "Training..\t: 100%|███████████████████████████████████████████████████████████████████████████████| 659/659 [01:25<00:00,  7.67it/s]\n",
      "Validating..\t: 100%|█████████████████████████████████████████████████████████████████████████████| 145/145 [00:05<00:00, 28.33it/s]\n"
     ]
    },
    {
     "name": "stdout",
     "output_type": "stream",
     "text": [
      "Epoch 70: train_acc: 87.5% loss: 1.3003913,  val_loss: 1.7166506 val_acc: 79.5%\n"
     ]
    },
    {
     "name": "stderr",
     "output_type": "stream",
     "text": [
      "Training..\t: 100%|███████████████████████████████████████████████████████████████████████████████| 659/659 [01:26<00:00,  7.66it/s]\n",
      "Validating..\t: 100%|█████████████████████████████████████████████████████████████████████████████| 145/145 [00:05<00:00, 28.38it/s]\n"
     ]
    },
    {
     "name": "stdout",
     "output_type": "stream",
     "text": [
      "Epoch 71: train_acc: 87.5% loss: 1.8015499,  val_loss: 1.4634992 val_acc: 76.2%\n"
     ]
    },
    {
     "name": "stderr",
     "output_type": "stream",
     "text": [
      "Training..\t: 100%|███████████████████████████████████████████████████████████████████████████████| 659/659 [01:27<00:00,  7.51it/s]\n",
      "Validating..\t: 100%|█████████████████████████████████████████████████████████████████████████████| 145/145 [00:05<00:00, 28.30it/s]\n"
     ]
    },
    {
     "name": "stdout",
     "output_type": "stream",
     "text": [
      "Epoch 72: train_acc: 86.9% loss: 1.7788811,  val_loss: 2.0060599 val_acc: 81.4%\n"
     ]
    },
    {
     "name": "stderr",
     "output_type": "stream",
     "text": [
      "Training..\t: 100%|███████████████████████████████████████████████████████████████████████████████| 659/659 [01:25<00:00,  7.68it/s]\n",
      "Validating..\t: 100%|█████████████████████████████████████████████████████████████████████████████| 145/145 [00:05<00:00, 28.51it/s]\n"
     ]
    },
    {
     "name": "stdout",
     "output_type": "stream",
     "text": [
      "Epoch 73: train_acc: 87.3% loss: 0.9465722,  val_loss: 2.0999951 val_acc: 71.7%\n"
     ]
    },
    {
     "name": "stderr",
     "output_type": "stream",
     "text": [
      "Training..\t: 100%|███████████████████████████████████████████████████████████████████████████████| 659/659 [01:25<00:00,  7.69it/s]\n",
      "Validating..\t: 100%|█████████████████████████████████████████████████████████████████████████████| 145/145 [00:05<00:00, 28.58it/s]\n"
     ]
    },
    {
     "name": "stdout",
     "output_type": "stream",
     "text": [
      "Epoch 74: train_acc: 87.3% loss: 1.6098807,  val_loss: 1.7431190 val_acc: 79.5%\n"
     ]
    },
    {
     "name": "stderr",
     "output_type": "stream",
     "text": [
      "Training..\t: 100%|███████████████████████████████████████████████████████████████████████████████| 659/659 [01:25<00:00,  7.71it/s]\n",
      "Validating..\t: 100%|█████████████████████████████████████████████████████████████████████████████| 145/145 [00:05<00:00, 28.42it/s]\n"
     ]
    },
    {
     "name": "stdout",
     "output_type": "stream",
     "text": [
      "Epoch 75: train_acc: 87.6% loss: 1.0343156,  val_loss: 1.4579428 val_acc: 75.6%\n"
     ]
    },
    {
     "name": "stderr",
     "output_type": "stream",
     "text": [
      "Training..\t: 100%|███████████████████████████████████████████████████████████████████████████████| 659/659 [01:25<00:00,  7.72it/s]\n",
      "Validating..\t: 100%|█████████████████████████████████████████████████████████████████████████████| 145/145 [00:05<00:00, 28.39it/s]\n"
     ]
    },
    {
     "name": "stdout",
     "output_type": "stream",
     "text": [
      "Epoch 76: train_acc: 87.3% loss: 2.3238640,  val_loss: 1.7691863 val_acc: 79.3%\n"
     ]
    },
    {
     "name": "stderr",
     "output_type": "stream",
     "text": [
      "Training..\t: 100%|███████████████████████████████████████████████████████████████████████████████| 659/659 [01:26<00:00,  7.65it/s]\n",
      "Validating..\t: 100%|█████████████████████████████████████████████████████████████████████████████| 145/145 [00:05<00:00, 28.44it/s]\n"
     ]
    },
    {
     "name": "stdout",
     "output_type": "stream",
     "text": [
      "Epoch 77: train_acc: 87.6% loss: 1.2578659,  val_loss: 1.8409356 val_acc: 81.6%\n"
     ]
    },
    {
     "name": "stderr",
     "output_type": "stream",
     "text": [
      "Training..\t: 100%|███████████████████████████████████████████████████████████████████████████████| 659/659 [01:25<00:00,  7.71it/s]\n",
      "Validating..\t: 100%|█████████████████████████████████████████████████████████████████████████████| 145/145 [00:05<00:00, 28.41it/s]\n"
     ]
    },
    {
     "name": "stdout",
     "output_type": "stream",
     "text": [
      "Epoch 78: train_acc: 87.8% loss: 1.1425047,  val_loss: 1.7801685 val_acc: 80.7%\n"
     ]
    },
    {
     "name": "stderr",
     "output_type": "stream",
     "text": [
      "Training..\t: 100%|███████████████████████████████████████████████████████████████████████████████| 659/659 [01:25<00:00,  7.72it/s]\n",
      "Validating..\t: 100%|█████████████████████████████████████████████████████████████████████████████| 145/145 [00:05<00:00, 28.34it/s]\n"
     ]
    },
    {
     "name": "stdout",
     "output_type": "stream",
     "text": [
      "Epoch 79: train_acc: 87.6% loss: 1.7052238,  val_loss: 1.9159729 val_acc: 81.3%\n"
     ]
    },
    {
     "name": "stderr",
     "output_type": "stream",
     "text": [
      "Training..\t: 100%|███████████████████████████████████████████████████████████████████████████████| 659/659 [01:25<00:00,  7.72it/s]\n",
      "Validating..\t: 100%|█████████████████████████████████████████████████████████████████████████████| 145/145 [00:05<00:00, 28.52it/s]\n"
     ]
    },
    {
     "name": "stdout",
     "output_type": "stream",
     "text": [
      "Epoch 80: train_acc: 88.2% loss: 1.1991754,  val_loss: 1.9295503 val_acc: 76.6%\n"
     ]
    },
    {
     "name": "stderr",
     "output_type": "stream",
     "text": [
      "Training..\t: 100%|███████████████████████████████████████████████████████████████████████████████| 659/659 [01:25<00:00,  7.71it/s]\n",
      "Validating..\t: 100%|█████████████████████████████████████████████████████████████████████████████| 145/145 [00:05<00:00, 28.40it/s]\n"
     ]
    },
    {
     "name": "stdout",
     "output_type": "stream",
     "text": [
      "Epoch 81: train_acc: 88.0% loss: 1.9861901,  val_loss: 1.4600419 val_acc: 79.6%\n"
     ]
    },
    {
     "name": "stderr",
     "output_type": "stream",
     "text": [
      "Training..\t: 100%|███████████████████████████████████████████████████████████████████████████████| 659/659 [01:25<00:00,  7.72it/s]\n",
      "Validating..\t: 100%|█████████████████████████████████████████████████████████████████████████████| 145/145 [00:05<00:00, 28.56it/s]\n"
     ]
    },
    {
     "name": "stdout",
     "output_type": "stream",
     "text": [
      "Epoch 82: train_acc: 87.3% loss: 1.2883328,  val_loss: 2.0682085 val_acc: 80.9%\n"
     ]
    },
    {
     "name": "stderr",
     "output_type": "stream",
     "text": [
      "Training..\t: 100%|███████████████████████████████████████████████████████████████████████████████| 659/659 [01:25<00:00,  7.70it/s]\n",
      "Validating..\t: 100%|█████████████████████████████████████████████████████████████████████████████| 145/145 [00:05<00:00, 28.47it/s]\n"
     ]
    },
    {
     "name": "stdout",
     "output_type": "stream",
     "text": [
      "Epoch 83: train_acc: 88.1% loss: 1.2656093,  val_loss: 1.3616604 val_acc: 82.7%\n",
      "Validation accuracy improved from 82.21 to 82.75. Saving model..\n"
     ]
    },
    {
     "name": "stderr",
     "output_type": "stream",
     "text": [
      "Training..\t: 100%|███████████████████████████████████████████████████████████████████████████████| 659/659 [01:25<00:00,  7.69it/s]\n",
      "Validating..\t: 100%|█████████████████████████████████████████████████████████████████████████████| 145/145 [00:05<00:00, 28.55it/s]\n"
     ]
    },
    {
     "name": "stdout",
     "output_type": "stream",
     "text": [
      "Epoch 84: train_acc: 88.3% loss: 1.1982324,  val_loss: 1.9083970 val_acc: 80.1%\n"
     ]
    },
    {
     "name": "stderr",
     "output_type": "stream",
     "text": [
      "Training..\t: 100%|███████████████████████████████████████████████████████████████████████████████| 659/659 [01:25<00:00,  7.72it/s]\n",
      "Validating..\t: 100%|█████████████████████████████████████████████████████████████████████████████| 145/145 [00:05<00:00, 28.51it/s]\n"
     ]
    },
    {
     "name": "stdout",
     "output_type": "stream",
     "text": [
      "Epoch 85: train_acc: 87.8% loss: 1.5524195,  val_loss: 1.7965676 val_acc: 74.0%\n"
     ]
    },
    {
     "name": "stderr",
     "output_type": "stream",
     "text": [
      "Training..\t: 100%|███████████████████████████████████████████████████████████████████████████████| 659/659 [01:25<00:00,  7.71it/s]\n",
      "Validating..\t: 100%|█████████████████████████████████████████████████████████████████████████████| 145/145 [00:05<00:00, 28.52it/s]\n"
     ]
    },
    {
     "name": "stdout",
     "output_type": "stream",
     "text": [
      "Epoch 86: train_acc: 88.2% loss: 1.2270857,  val_loss: 1.6266863 val_acc: 80.0%\n"
     ]
    },
    {
     "name": "stderr",
     "output_type": "stream",
     "text": [
      "Training..\t: 100%|███████████████████████████████████████████████████████████████████████████████| 659/659 [01:25<00:00,  7.70it/s]\n",
      "Validating..\t: 100%|█████████████████████████████████████████████████████████████████████████████| 145/145 [00:05<00:00, 28.46it/s]\n"
     ]
    },
    {
     "name": "stdout",
     "output_type": "stream",
     "text": [
      "Epoch 87: train_acc: 88.4% loss: 0.9570750,  val_loss: 1.6647809 val_acc: 78.7%\n"
     ]
    },
    {
     "name": "stderr",
     "output_type": "stream",
     "text": [
      "Training..\t: 100%|███████████████████████████████████████████████████████████████████████████████| 659/659 [01:25<00:00,  7.70it/s]\n",
      "Validating..\t: 100%|█████████████████████████████████████████████████████████████████████████████| 145/145 [00:05<00:00, 28.42it/s]\n"
     ]
    },
    {
     "name": "stdout",
     "output_type": "stream",
     "text": [
      "Epoch 88: train_acc: 87.8% loss: 1.7066293,  val_loss: 1.7289671 val_acc: 79.5%\n"
     ]
    },
    {
     "name": "stderr",
     "output_type": "stream",
     "text": [
      "Training..\t: 100%|███████████████████████████████████████████████████████████████████████████████| 659/659 [01:25<00:00,  7.67it/s]\n",
      "Validating..\t: 100%|█████████████████████████████████████████████████████████████████████████████| 145/145 [00:05<00:00, 28.10it/s]\n"
     ]
    },
    {
     "name": "stdout",
     "output_type": "stream",
     "text": [
      "Epoch 89: train_acc: 88.6% loss: 1.2941647,  val_loss: 1.7807703 val_acc: 82.7%\n"
     ]
    },
    {
     "name": "stderr",
     "output_type": "stream",
     "text": [
      "Training..\t: 100%|███████████████████████████████████████████████████████████████████████████████| 659/659 [01:25<00:00,  7.72it/s]\n",
      "Validating..\t: 100%|█████████████████████████████████████████████████████████████████████████████| 145/145 [00:05<00:00, 28.30it/s]\n"
     ]
    },
    {
     "name": "stdout",
     "output_type": "stream",
     "text": [
      "Epoch 90: train_acc: 88.4% loss: 1.4618783,  val_loss: 1.8035251 val_acc: 80.4%\n"
     ]
    },
    {
     "name": "stderr",
     "output_type": "stream",
     "text": [
      "Training..\t: 100%|███████████████████████████████████████████████████████████████████████████████| 659/659 [01:25<00:00,  7.72it/s]\n",
      "Validating..\t: 100%|█████████████████████████████████████████████████████████████████████████████| 145/145 [00:05<00:00, 28.42it/s]\n"
     ]
    },
    {
     "name": "stdout",
     "output_type": "stream",
     "text": [
      "Epoch 91: train_acc: 88.7% loss: 1.4665188,  val_loss: 1.7628099 val_acc: 80.2%\n"
     ]
    },
    {
     "name": "stderr",
     "output_type": "stream",
     "text": [
      "Training..\t: 100%|███████████████████████████████████████████████████████████████████████████████| 659/659 [01:25<00:00,  7.71it/s]\n",
      "Validating..\t: 100%|█████████████████████████████████████████████████████████████████████████████| 145/145 [00:05<00:00, 28.42it/s]\n"
     ]
    },
    {
     "name": "stdout",
     "output_type": "stream",
     "text": [
      "Epoch 92: train_acc: 88.4% loss: 1.1365041,  val_loss: 2.2012925 val_acc: 78.4%\n"
     ]
    },
    {
     "name": "stderr",
     "output_type": "stream",
     "text": [
      "Training..\t: 100%|███████████████████████████████████████████████████████████████████████████████| 659/659 [01:25<00:00,  7.68it/s]\n",
      "Validating..\t: 100%|█████████████████████████████████████████████████████████████████████████████| 145/145 [00:05<00:00, 28.45it/s]\n"
     ]
    },
    {
     "name": "stdout",
     "output_type": "stream",
     "text": [
      "Epoch 93: train_acc: 88.3% loss: 1.0359110,  val_loss: 1.7013428 val_acc: 81.6%\n"
     ]
    },
    {
     "name": "stderr",
     "output_type": "stream",
     "text": [
      "Training..\t: 100%|███████████████████████████████████████████████████████████████████████████████| 659/659 [01:25<00:00,  7.72it/s]\n",
      "Validating..\t: 100%|█████████████████████████████████████████████████████████████████████████████| 145/145 [00:05<00:00, 28.42it/s]\n"
     ]
    },
    {
     "name": "stdout",
     "output_type": "stream",
     "text": [
      "Epoch 94: train_acc: 88.4% loss: 1.9136137,  val_loss: 2.0023952 val_acc: 80.1%\n"
     ]
    },
    {
     "name": "stderr",
     "output_type": "stream",
     "text": [
      "Training..\t: 100%|███████████████████████████████████████████████████████████████████████████████| 659/659 [01:25<00:00,  7.71it/s]\n",
      "Validating..\t: 100%|█████████████████████████████████████████████████████████████████████████████| 145/145 [00:05<00:00, 28.51it/s]\n"
     ]
    },
    {
     "name": "stdout",
     "output_type": "stream",
     "text": [
      "Epoch 95: train_acc: 88.8% loss: 1.1164832,  val_loss: 1.9137119 val_acc: 78.0%\n"
     ]
    },
    {
     "name": "stderr",
     "output_type": "stream",
     "text": [
      "Training..\t: 100%|███████████████████████████████████████████████████████████████████████████████| 659/659 [01:25<00:00,  7.70it/s]\n",
      "Validating..\t: 100%|█████████████████████████████████████████████████████████████████████████████| 145/145 [00:05<00:00, 28.46it/s]\n"
     ]
    },
    {
     "name": "stdout",
     "output_type": "stream",
     "text": [
      "Epoch 96: train_acc: 88.9% loss: 1.5451027,  val_loss: 1.5494909 val_acc: 80.6%\n"
     ]
    },
    {
     "name": "stderr",
     "output_type": "stream",
     "text": [
      "Training..\t: 100%|███████████████████████████████████████████████████████████████████████████████| 659/659 [01:25<00:00,  7.71it/s]\n",
      "Validating..\t: 100%|█████████████████████████████████████████████████████████████████████████████| 145/145 [00:05<00:00, 28.44it/s]\n"
     ]
    },
    {
     "name": "stdout",
     "output_type": "stream",
     "text": [
      "Epoch 97: train_acc: 88.8% loss: 1.6876515,  val_loss: 1.7367141 val_acc: 80.0%\n"
     ]
    },
    {
     "name": "stderr",
     "output_type": "stream",
     "text": [
      "Training..\t: 100%|███████████████████████████████████████████████████████████████████████████████| 659/659 [01:25<00:00,  7.72it/s]\n",
      "Validating..\t: 100%|█████████████████████████████████████████████████████████████████████████████| 145/145 [00:05<00:00, 28.47it/s]\n"
     ]
    },
    {
     "name": "stdout",
     "output_type": "stream",
     "text": [
      "Epoch 98: train_acc: 88.4% loss: 1.0457720,  val_loss: 1.7907867 val_acc: 77.5%\n"
     ]
    },
    {
     "name": "stderr",
     "output_type": "stream",
     "text": [
      "Training..\t: 100%|███████████████████████████████████████████████████████████████████████████████| 659/659 [01:25<00:00,  7.71it/s]\n",
      "Validating..\t: 100%|█████████████████████████████████████████████████████████████████████████████| 145/145 [00:05<00:00, 28.52it/s]\n"
     ]
    },
    {
     "name": "stdout",
     "output_type": "stream",
     "text": [
      "Epoch 99: train_acc: 89.5% loss: 1.5691588,  val_loss: 1.9913008 val_acc: 78.5%\n"
     ]
    },
    {
     "name": "stderr",
     "output_type": "stream",
     "text": [
      "Training..\t: 100%|███████████████████████████████████████████████████████████████████████████████| 659/659 [01:25<00:00,  7.70it/s]\n",
      "Validating..\t: 100%|█████████████████████████████████████████████████████████████████████████████| 145/145 [00:05<00:00, 28.33it/s]\n"
     ]
    },
    {
     "name": "stdout",
     "output_type": "stream",
     "text": [
      "Epoch 100: train_acc: 88.4% loss: 0.9573735,  val_loss: 1.4319279 val_acc: 76.2%\n"
     ]
    },
    {
     "name": "stderr",
     "output_type": "stream",
     "text": [
      "Training..\t: 100%|███████████████████████████████████████████████████████████████████████████████| 659/659 [01:26<00:00,  7.66it/s]\n",
      "Validating..\t: 100%|█████████████████████████████████████████████████████████████████████████████| 145/145 [00:05<00:00, 28.40it/s]\n"
     ]
    },
    {
     "name": "stdout",
     "output_type": "stream",
     "text": [
      "Epoch 101: train_acc: 87.8% loss: 1.0309832,  val_loss: 2.0221093 val_acc: 79.5%\n"
     ]
    },
    {
     "name": "stderr",
     "output_type": "stream",
     "text": [
      "Training..\t: 100%|███████████████████████████████████████████████████████████████████████████████| 659/659 [01:25<00:00,  7.71it/s]\n",
      "Validating..\t: 100%|█████████████████████████████████████████████████████████████████████████████| 145/145 [00:05<00:00, 28.53it/s]\n"
     ]
    },
    {
     "name": "stdout",
     "output_type": "stream",
     "text": [
      "Epoch 102: train_acc: 88.5% loss: 1.6219518,  val_loss: 2.0614991 val_acc: 81.3%\n"
     ]
    },
    {
     "name": "stderr",
     "output_type": "stream",
     "text": [
      "Training..\t: 100%|███████████████████████████████████████████████████████████████████████████████| 659/659 [01:25<00:00,  7.72it/s]\n",
      "Validating..\t: 100%|█████████████████████████████████████████████████████████████████████████████| 145/145 [00:05<00:00, 28.53it/s]\n"
     ]
    },
    {
     "name": "stdout",
     "output_type": "stream",
     "text": [
      "Epoch 103: train_acc: 89.3% loss: 1.1549248,  val_loss: 1.5848780 val_acc: 81.2%\n"
     ]
    },
    {
     "name": "stderr",
     "output_type": "stream",
     "text": [
      "Training..\t: 100%|███████████████████████████████████████████████████████████████████████████████| 659/659 [01:25<00:00,  7.71it/s]\n",
      "Validating..\t: 100%|█████████████████████████████████████████████████████████████████████████████| 145/145 [00:05<00:00, 28.50it/s]\n"
     ]
    },
    {
     "name": "stdout",
     "output_type": "stream",
     "text": [
      "Epoch 104: train_acc: 88.9% loss: 2.0029378,  val_loss: 1.5165529 val_acc: 81.2%\n"
     ]
    },
    {
     "name": "stderr",
     "output_type": "stream",
     "text": [
      "Training..\t: 100%|███████████████████████████████████████████████████████████████████████████████| 659/659 [01:25<00:00,  7.72it/s]\n",
      "Validating..\t: 100%|█████████████████████████████████████████████████████████████████████████████| 145/145 [00:05<00:00, 28.39it/s]\n"
     ]
    },
    {
     "name": "stdout",
     "output_type": "stream",
     "text": [
      "Epoch 105: train_acc: 89.0% loss: 1.5299132,  val_loss: 1.6717389 val_acc: 81.2%\n"
     ]
    },
    {
     "name": "stderr",
     "output_type": "stream",
     "text": [
      "Training..\t: 100%|███████████████████████████████████████████████████████████████████████████████| 659/659 [01:25<00:00,  7.71it/s]\n",
      "Validating..\t: 100%|█████████████████████████████████████████████████████████████████████████████| 145/145 [00:05<00:00, 28.50it/s]\n"
     ]
    },
    {
     "name": "stdout",
     "output_type": "stream",
     "text": [
      "Epoch 106: train_acc: 89.0% loss: 1.7421174,  val_loss: 1.8172729 val_acc: 80.8%\n"
     ]
    },
    {
     "name": "stderr",
     "output_type": "stream",
     "text": [
      "Training..\t: 100%|███████████████████████████████████████████████████████████████████████████████| 659/659 [01:25<00:00,  7.71it/s]\n",
      "Validating..\t: 100%|█████████████████████████████████████████████████████████████████████████████| 145/145 [00:05<00:00, 28.50it/s]\n"
     ]
    },
    {
     "name": "stdout",
     "output_type": "stream",
     "text": [
      "Epoch 107: train_acc: 88.8% loss: 1.6836498,  val_loss: 1.8952225 val_acc: 79.5%\n"
     ]
    },
    {
     "name": "stderr",
     "output_type": "stream",
     "text": [
      "Training..\t: 100%|███████████████████████████████████████████████████████████████████████████████| 659/659 [01:25<00:00,  7.70it/s]\n",
      "Validating..\t: 100%|█████████████████████████████████████████████████████████████████████████████| 145/145 [00:05<00:00, 28.49it/s]\n"
     ]
    },
    {
     "name": "stdout",
     "output_type": "stream",
     "text": [
      "Epoch 108: train_acc: 88.5% loss: 1.3234243,  val_loss: 1.3654824 val_acc: 78.9%\n"
     ]
    },
    {
     "name": "stderr",
     "output_type": "stream",
     "text": [
      "Training..\t: 100%|███████████████████████████████████████████████████████████████████████████████| 659/659 [01:25<00:00,  7.72it/s]\n",
      "Validating..\t: 100%|█████████████████████████████████████████████████████████████████████████████| 145/145 [00:05<00:00, 28.48it/s]\n"
     ]
    },
    {
     "name": "stdout",
     "output_type": "stream",
     "text": [
      "Epoch 109: train_acc: 89.0% loss: 1.3290958,  val_loss: 1.4135857 val_acc: 78.6%\n"
     ]
    },
    {
     "name": "stderr",
     "output_type": "stream",
     "text": [
      "Training..\t: 100%|███████████████████████████████████████████████████████████████████████████████| 659/659 [01:25<00:00,  7.73it/s]\n",
      "Validating..\t: 100%|█████████████████████████████████████████████████████████████████████████████| 145/145 [00:05<00:00, 28.28it/s]\n"
     ]
    },
    {
     "name": "stdout",
     "output_type": "stream",
     "text": [
      "Epoch 110: train_acc: 88.8% loss: 1.4933710,  val_loss: 1.9624989 val_acc: 77.3%\n"
     ]
    },
    {
     "name": "stderr",
     "output_type": "stream",
     "text": [
      "Training..\t: 100%|███████████████████████████████████████████████████████████████████████████████| 659/659 [01:25<00:00,  7.72it/s]\n",
      "Validating..\t: 100%|█████████████████████████████████████████████████████████████████████████████| 145/145 [00:05<00:00, 28.37it/s]\n"
     ]
    },
    {
     "name": "stdout",
     "output_type": "stream",
     "text": [
      "Epoch 111: train_acc: 89.7% loss: 1.7214226,  val_loss: 1.7631266 val_acc: 79.6%\n"
     ]
    },
    {
     "name": "stderr",
     "output_type": "stream",
     "text": [
      "Training..\t: 100%|███████████████████████████████████████████████████████████████████████████████| 659/659 [01:25<00:00,  7.68it/s]\n",
      "Validating..\t: 100%|█████████████████████████████████████████████████████████████████████████████| 145/145 [00:05<00:00, 28.29it/s]\n"
     ]
    },
    {
     "name": "stdout",
     "output_type": "stream",
     "text": [
      "Epoch 112: train_acc: 89.3% loss: 1.6597850,  val_loss: 1.4886992 val_acc: 79.7%\n"
     ]
    },
    {
     "name": "stderr",
     "output_type": "stream",
     "text": [
      "Training..\t: 100%|███████████████████████████████████████████████████████████████████████████████| 659/659 [01:25<00:00,  7.69it/s]\n",
      "Validating..\t: 100%|█████████████████████████████████████████████████████████████████████████████| 145/145 [00:05<00:00, 28.42it/s]\n"
     ]
    },
    {
     "name": "stdout",
     "output_type": "stream",
     "text": [
      "Epoch 113: train_acc: 88.7% loss: 1.0884259,  val_loss: 1.4297194 val_acc: 80.6%\n"
     ]
    },
    {
     "name": "stderr",
     "output_type": "stream",
     "text": [
      "Training..\t: 100%|███████████████████████████████████████████████████████████████████████████████| 659/659 [01:25<00:00,  7.72it/s]\n",
      "Validating..\t: 100%|█████████████████████████████████████████████████████████████████████████████| 145/145 [00:05<00:00, 28.48it/s]\n"
     ]
    },
    {
     "name": "stdout",
     "output_type": "stream",
     "text": [
      "Epoch 114: train_acc: 89.8% loss: 0.9553796,  val_loss: 1.4924440 val_acc: 77.9%\n"
     ]
    },
    {
     "name": "stderr",
     "output_type": "stream",
     "text": [
      "Training..\t: 100%|███████████████████████████████████████████████████████████████████████████████| 659/659 [01:25<00:00,  7.72it/s]\n",
      "Validating..\t: 100%|█████████████████████████████████████████████████████████████████████████████| 145/145 [00:05<00:00, 28.44it/s]\n"
     ]
    },
    {
     "name": "stdout",
     "output_type": "stream",
     "text": [
      "Epoch 115: train_acc: 89.1% loss: 1.0493596,  val_loss: 2.0821154 val_acc: 80.8%\n"
     ]
    },
    {
     "name": "stderr",
     "output_type": "stream",
     "text": [
      "Training..\t: 100%|███████████████████████████████████████████████████████████████████████████████| 659/659 [01:25<00:00,  7.73it/s]\n",
      "Validating..\t: 100%|█████████████████████████████████████████████████████████████████████████████| 145/145 [00:05<00:00, 28.52it/s]\n"
     ]
    },
    {
     "name": "stdout",
     "output_type": "stream",
     "text": [
      "Epoch 116: train_acc: 89.5% loss: 1.0423222,  val_loss: 2.1047244 val_acc: 81.0%\n"
     ]
    },
    {
     "name": "stderr",
     "output_type": "stream",
     "text": [
      "Training..\t: 100%|███████████████████████████████████████████████████████████████████████████████| 659/659 [01:25<00:00,  7.72it/s]\n",
      "Validating..\t: 100%|█████████████████████████████████████████████████████████████████████████████| 145/145 [00:05<00:00, 28.58it/s]\n"
     ]
    },
    {
     "name": "stdout",
     "output_type": "stream",
     "text": [
      "Epoch 117: train_acc: 88.6% loss: 1.5767548,  val_loss: 1.5279917 val_acc: 81.5%\n"
     ]
    },
    {
     "name": "stderr",
     "output_type": "stream",
     "text": [
      "Training..\t: 100%|███████████████████████████████████████████████████████████████████████████████| 659/659 [01:25<00:00,  7.72it/s]\n",
      "Validating..\t: 100%|█████████████████████████████████████████████████████████████████████████████| 145/145 [00:05<00:00, 28.50it/s]\n"
     ]
    },
    {
     "name": "stdout",
     "output_type": "stream",
     "text": [
      "Epoch 118: train_acc: 89.2% loss: 1.5231073,  val_loss: 1.5263972 val_acc: 81.9%\n"
     ]
    },
    {
     "name": "stderr",
     "output_type": "stream",
     "text": [
      "Training..\t: 100%|███████████████████████████████████████████████████████████████████████████████| 659/659 [01:25<00:00,  7.68it/s]\n",
      "Validating..\t: 100%|█████████████████████████████████████████████████████████████████████████████| 145/145 [00:05<00:00, 28.59it/s]\n"
     ]
    },
    {
     "name": "stdout",
     "output_type": "stream",
     "text": [
      "Epoch 119: train_acc: 90.2% loss: 1.8549480,  val_loss: 2.1544311 val_acc: 78.0%\n"
     ]
    },
    {
     "name": "stderr",
     "output_type": "stream",
     "text": [
      "Training..\t: 100%|███████████████████████████████████████████████████████████████████████████████| 659/659 [01:25<00:00,  7.73it/s]\n",
      "Validating..\t: 100%|█████████████████████████████████████████████████████████████████████████████| 145/145 [00:05<00:00, 28.57it/s]\n"
     ]
    },
    {
     "name": "stdout",
     "output_type": "stream",
     "text": [
      "Epoch 120: train_acc: 89.0% loss: 1.9178457,  val_loss: 1.4331660 val_acc: 81.2%\n"
     ]
    },
    {
     "name": "stderr",
     "output_type": "stream",
     "text": [
      "Training..\t: 100%|███████████████████████████████████████████████████████████████████████████████| 659/659 [01:25<00:00,  7.70it/s]\n",
      "Validating..\t: 100%|█████████████████████████████████████████████████████████████████████████████| 145/145 [00:05<00:00, 28.44it/s]\n"
     ]
    },
    {
     "name": "stdout",
     "output_type": "stream",
     "text": [
      "Epoch 121: train_acc: 89.2% loss: 1.1854739,  val_loss: 2.2011373 val_acc: 82.4%\n"
     ]
    },
    {
     "name": "stderr",
     "output_type": "stream",
     "text": [
      "Training..\t: 100%|███████████████████████████████████████████████████████████████████████████████| 659/659 [01:25<00:00,  7.73it/s]\n",
      "Validating..\t: 100%|█████████████████████████████████████████████████████████████████████████████| 145/145 [00:05<00:00, 28.45it/s]\n"
     ]
    },
    {
     "name": "stdout",
     "output_type": "stream",
     "text": [
      "Epoch 122: train_acc: 89.1% loss: 1.1918497,  val_loss: 1.9903674 val_acc: 80.5%\n"
     ]
    },
    {
     "name": "stderr",
     "output_type": "stream",
     "text": [
      "Training..\t: 100%|███████████████████████████████████████████████████████████████████████████████| 659/659 [01:26<00:00,  7.66it/s]\n",
      "Validating..\t: 100%|█████████████████████████████████████████████████████████████████████████████| 145/145 [00:05<00:00, 28.33it/s]\n"
     ]
    },
    {
     "name": "stdout",
     "output_type": "stream",
     "text": [
      "Epoch 123: train_acc: 89.2% loss: 1.4030664,  val_loss: 1.9654884 val_acc: 80.8%\n"
     ]
    },
    {
     "name": "stderr",
     "output_type": "stream",
     "text": [
      "Training..\t: 100%|███████████████████████████████████████████████████████████████████████████████| 659/659 [01:25<00:00,  7.71it/s]\n",
      "Validating..\t: 100%|█████████████████████████████████████████████████████████████████████████████| 145/145 [00:05<00:00, 28.35it/s]\n"
     ]
    },
    {
     "name": "stdout",
     "output_type": "stream",
     "text": [
      "Epoch 124: train_acc: 89.8% loss: 1.4097698,  val_loss: 1.6985383 val_acc: 78.7%\n"
     ]
    },
    {
     "name": "stderr",
     "output_type": "stream",
     "text": [
      "Training..\t: 100%|███████████████████████████████████████████████████████████████████████████████| 659/659 [01:25<00:00,  7.71it/s]\n",
      "Validating..\t: 100%|█████████████████████████████████████████████████████████████████████████████| 145/145 [00:05<00:00, 28.49it/s]\n"
     ]
    },
    {
     "name": "stdout",
     "output_type": "stream",
     "text": [
      "Epoch 125: train_acc: 88.4% loss: 1.4391286,  val_loss: 1.4908049 val_acc: 80.9%\n"
     ]
    },
    {
     "name": "stderr",
     "output_type": "stream",
     "text": [
      "Training..\t: 100%|███████████████████████████████████████████████████████████████████████████████| 659/659 [01:25<00:00,  7.72it/s]\n",
      "Validating..\t: 100%|█████████████████████████████████████████████████████████████████████████████| 145/145 [00:05<00:00, 28.32it/s]\n"
     ]
    },
    {
     "name": "stdout",
     "output_type": "stream",
     "text": [
      "Epoch 126: train_acc: 89.4% loss: 1.5523400,  val_loss: 1.8233483 val_acc: 79.0%\n"
     ]
    },
    {
     "name": "stderr",
     "output_type": "stream",
     "text": [
      "Training..\t: 100%|███████████████████████████████████████████████████████████████████████████████| 659/659 [01:25<00:00,  7.72it/s]\n",
      "Validating..\t: 100%|█████████████████████████████████████████████████████████████████████████████| 145/145 [00:05<00:00, 28.48it/s]\n"
     ]
    },
    {
     "name": "stdout",
     "output_type": "stream",
     "text": [
      "Epoch 127: train_acc: 89.9% loss: 1.4319013,  val_loss: 1.6881380 val_acc: 80.5%\n"
     ]
    },
    {
     "name": "stderr",
     "output_type": "stream",
     "text": [
      "Training..\t: 100%|███████████████████████████████████████████████████████████████████████████████| 659/659 [01:25<00:00,  7.72it/s]\n",
      "Validating..\t: 100%|█████████████████████████████████████████████████████████████████████████████| 145/145 [00:05<00:00, 28.58it/s]\n"
     ]
    },
    {
     "name": "stdout",
     "output_type": "stream",
     "text": [
      "Epoch 128: train_acc: 88.8% loss: 1.3277879,  val_loss: 1.9089425 val_acc: 80.9%\n"
     ]
    },
    {
     "name": "stderr",
     "output_type": "stream",
     "text": [
      "Training..\t: 100%|███████████████████████████████████████████████████████████████████████████████| 659/659 [01:25<00:00,  7.70it/s]\n",
      "Validating..\t: 100%|█████████████████████████████████████████████████████████████████████████████| 145/145 [00:05<00:00, 28.43it/s]\n"
     ]
    },
    {
     "name": "stdout",
     "output_type": "stream",
     "text": [
      "Epoch 129: train_acc: 89.8% loss: 1.0323914,  val_loss: 1.5193152 val_acc: 78.6%\n"
     ]
    },
    {
     "name": "stderr",
     "output_type": "stream",
     "text": [
      "Training..\t: 100%|███████████████████████████████████████████████████████████████████████████████| 659/659 [01:25<00:00,  7.72it/s]\n",
      "Validating..\t: 100%|█████████████████████████████████████████████████████████████████████████████| 145/145 [00:05<00:00, 28.18it/s]\n"
     ]
    },
    {
     "name": "stdout",
     "output_type": "stream",
     "text": [
      "Epoch 130: train_acc: 89.7% loss: 1.2662765,  val_loss: 1.4419508 val_acc: 80.4%\n"
     ]
    },
    {
     "name": "stderr",
     "output_type": "stream",
     "text": [
      "Training..\t: 100%|███████████████████████████████████████████████████████████████████████████████| 659/659 [01:25<00:00,  7.73it/s]\n",
      "Validating..\t: 100%|█████████████████████████████████████████████████████████████████████████████| 145/145 [00:05<00:00, 28.59it/s]\n"
     ]
    },
    {
     "name": "stdout",
     "output_type": "stream",
     "text": [
      "Epoch 131: train_acc: 89.7% loss: 1.8652325,  val_loss: 2.1420026 val_acc: 78.4%\n"
     ]
    },
    {
     "name": "stderr",
     "output_type": "stream",
     "text": [
      "Training..\t: 100%|███████████████████████████████████████████████████████████████████████████████| 659/659 [01:25<00:00,  7.72it/s]\n",
      "Validating..\t: 100%|█████████████████████████████████████████████████████████████████████████████| 145/145 [00:05<00:00, 28.46it/s]\n"
     ]
    },
    {
     "name": "stdout",
     "output_type": "stream",
     "text": [
      "Epoch 132: train_acc: 89.6% loss: 1.2488906,  val_loss: 1.8932481 val_acc: 81.2%\n"
     ]
    },
    {
     "name": "stderr",
     "output_type": "stream",
     "text": [
      "Training..\t: 100%|███████████████████████████████████████████████████████████████████████████████| 659/659 [01:25<00:00,  7.71it/s]\n",
      "Validating..\t: 100%|█████████████████████████████████████████████████████████████████████████████| 145/145 [00:05<00:00, 28.41it/s]\n"
     ]
    },
    {
     "name": "stdout",
     "output_type": "stream",
     "text": [
      "Epoch 133: train_acc: 89.5% loss: 1.1718514,  val_loss: 1.4186414 val_acc: 79.2%\n"
     ]
    },
    {
     "name": "stderr",
     "output_type": "stream",
     "text": [
      "Training..\t: 100%|███████████████████████████████████████████████████████████████████████████████| 659/659 [01:25<00:00,  7.67it/s]\n",
      "Validating..\t: 100%|█████████████████████████████████████████████████████████████████████████████| 145/145 [00:05<00:00, 28.39it/s]\n"
     ]
    },
    {
     "name": "stdout",
     "output_type": "stream",
     "text": [
      "Epoch 134: train_acc: 88.9% loss: 1.0678759,  val_loss: 2.2039413 val_acc: 78.0%\n"
     ]
    },
    {
     "name": "stderr",
     "output_type": "stream",
     "text": [
      "Training..\t: 100%|███████████████████████████████████████████████████████████████████████████████| 659/659 [01:25<00:00,  7.72it/s]\n",
      "Validating..\t: 100%|█████████████████████████████████████████████████████████████████████████████| 145/145 [00:05<00:00, 28.45it/s]\n"
     ]
    },
    {
     "name": "stdout",
     "output_type": "stream",
     "text": [
      "Epoch 135: train_acc: 89.4% loss: 1.3005658,  val_loss: 1.7744396 val_acc: 81.3%\n"
     ]
    },
    {
     "name": "stderr",
     "output_type": "stream",
     "text": [
      "Training..\t: 100%|███████████████████████████████████████████████████████████████████████████████| 659/659 [01:25<00:00,  7.73it/s]\n",
      "Validating..\t: 100%|█████████████████████████████████████████████████████████████████████████████| 145/145 [00:05<00:00, 28.51it/s]\n"
     ]
    },
    {
     "name": "stdout",
     "output_type": "stream",
     "text": [
      "Epoch 136: train_acc: 90.0% loss: 1.5672730,  val_loss: 2.0800002 val_acc: 80.8%\n"
     ]
    },
    {
     "name": "stderr",
     "output_type": "stream",
     "text": [
      "Training..\t: 100%|███████████████████████████████████████████████████████████████████████████████| 659/659 [01:25<00:00,  7.71it/s]\n",
      "Validating..\t: 100%|█████████████████████████████████████████████████████████████████████████████| 145/145 [00:05<00:00, 28.38it/s]\n"
     ]
    },
    {
     "name": "stdout",
     "output_type": "stream",
     "text": [
      "Epoch 137: train_acc: 89.3% loss: 1.7090677,  val_loss: 1.4309461 val_acc: 79.9%\n"
     ]
    },
    {
     "name": "stderr",
     "output_type": "stream",
     "text": [
      "Training..\t: 100%|███████████████████████████████████████████████████████████████████████████████| 659/659 [01:25<00:00,  7.72it/s]\n",
      "Validating..\t: 100%|█████████████████████████████████████████████████████████████████████████████| 145/145 [00:05<00:00, 28.51it/s]\n"
     ]
    },
    {
     "name": "stdout",
     "output_type": "stream",
     "text": [
      "Epoch 138: train_acc: 89.6% loss: 0.9217592,  val_loss: 1.5260515 val_acc: 76.6%\n"
     ]
    },
    {
     "name": "stderr",
     "output_type": "stream",
     "text": [
      "Training..\t: 100%|███████████████████████████████████████████████████████████████████████████████| 659/659 [01:25<00:00,  7.74it/s]\n",
      "Validating..\t: 100%|█████████████████████████████████████████████████████████████████████████████| 145/145 [00:05<00:00, 28.44it/s]\n"
     ]
    },
    {
     "name": "stdout",
     "output_type": "stream",
     "text": [
      "Epoch 139: train_acc: 89.2% loss: 1.3778713,  val_loss: 1.8535171 val_acc: 80.6%\n"
     ]
    },
    {
     "name": "stderr",
     "output_type": "stream",
     "text": [
      "Training..\t: 100%|███████████████████████████████████████████████████████████████████████████████| 659/659 [01:25<00:00,  7.73it/s]\n",
      "Validating..\t: 100%|█████████████████████████████████████████████████████████████████████████████| 145/145 [00:05<00:00, 28.44it/s]\n"
     ]
    },
    {
     "name": "stdout",
     "output_type": "stream",
     "text": [
      "Epoch 140: train_acc: 90.2% loss: 1.6372998,  val_loss: 2.1264262 val_acc: 77.1%\n"
     ]
    },
    {
     "name": "stderr",
     "output_type": "stream",
     "text": [
      "Training..\t: 100%|███████████████████████████████████████████████████████████████████████████████| 659/659 [01:25<00:00,  7.72it/s]\n",
      "Validating..\t: 100%|█████████████████████████████████████████████████████████████████████████████| 145/145 [00:05<00:00, 28.35it/s]\n"
     ]
    },
    {
     "name": "stdout",
     "output_type": "stream",
     "text": [
      "Epoch 141: train_acc: 90.2% loss: 1.8901346,  val_loss: 2.1098652 val_acc: 80.8%\n"
     ]
    },
    {
     "name": "stderr",
     "output_type": "stream",
     "text": [
      "Training..\t: 100%|███████████████████████████████████████████████████████████████████████████████| 659/659 [01:25<00:00,  7.73it/s]\n",
      "Validating..\t: 100%|█████████████████████████████████████████████████████████████████████████████| 145/145 [00:05<00:00, 28.56it/s]\n"
     ]
    },
    {
     "name": "stdout",
     "output_type": "stream",
     "text": [
      "Epoch 142: train_acc: 89.3% loss: 1.7279700,  val_loss: 2.0530260 val_acc: 80.5%\n"
     ]
    },
    {
     "name": "stderr",
     "output_type": "stream",
     "text": [
      "Training..\t: 100%|███████████████████████████████████████████████████████████████████████████████| 659/659 [01:25<00:00,  7.73it/s]\n",
      "Validating..\t: 100%|█████████████████████████████████████████████████████████████████████████████| 145/145 [00:05<00:00, 28.52it/s]\n"
     ]
    },
    {
     "name": "stdout",
     "output_type": "stream",
     "text": [
      "Epoch 143: train_acc: 88.7% loss: 1.2538755,  val_loss: 2.1663482 val_acc: 81.7%\n"
     ]
    },
    {
     "name": "stderr",
     "output_type": "stream",
     "text": [
      "Training..\t: 100%|███████████████████████████████████████████████████████████████████████████████| 659/659 [01:25<00:00,  7.72it/s]\n",
      "Validating..\t: 100%|█████████████████████████████████████████████████████████████████████████████| 145/145 [00:05<00:00, 28.47it/s]\n"
     ]
    },
    {
     "name": "stdout",
     "output_type": "stream",
     "text": [
      "Epoch 144: train_acc: 89.2% loss: 1.8292563,  val_loss: 2.1100438 val_acc: 80.8%\n"
     ]
    },
    {
     "name": "stderr",
     "output_type": "stream",
     "text": [
      "Training..\t: 100%|███████████████████████████████████████████████████████████████████████████████| 659/659 [01:25<00:00,  7.69it/s]\n",
      "Validating..\t: 100%|█████████████████████████████████████████████████████████████████████████████| 145/145 [00:05<00:00, 28.18it/s]\n"
     ]
    },
    {
     "name": "stdout",
     "output_type": "stream",
     "text": [
      "Epoch 145: train_acc: 89.4% loss: 1.7822973,  val_loss: 1.8905149 val_acc: 79.8%\n"
     ]
    },
    {
     "name": "stderr",
     "output_type": "stream",
     "text": [
      "Training..\t: 100%|███████████████████████████████████████████████████████████████████████████████| 659/659 [01:25<00:00,  7.69it/s]\n",
      "Validating..\t: 100%|█████████████████████████████████████████████████████████████████████████████| 145/145 [00:05<00:00, 28.45it/s]\n"
     ]
    },
    {
     "name": "stdout",
     "output_type": "stream",
     "text": [
      "Epoch 146: train_acc: 90.1% loss: 1.0201823,  val_loss: 1.9706634 val_acc: 79.3%\n"
     ]
    },
    {
     "name": "stderr",
     "output_type": "stream",
     "text": [
      "Training..\t: 100%|███████████████████████████████████████████████████████████████████████████████| 659/659 [01:25<00:00,  7.74it/s]\n",
      "Validating..\t: 100%|█████████████████████████████████████████████████████████████████████████████| 145/145 [00:05<00:00, 28.51it/s]\n"
     ]
    },
    {
     "name": "stdout",
     "output_type": "stream",
     "text": [
      "Epoch 147: train_acc: 89.3% loss: 2.3663256,  val_loss: 1.8899052 val_acc: 78.5%\n"
     ]
    },
    {
     "name": "stderr",
     "output_type": "stream",
     "text": [
      "Training..\t: 100%|███████████████████████████████████████████████████████████████████████████████| 659/659 [01:25<00:00,  7.71it/s]\n",
      "Validating..\t: 100%|█████████████████████████████████████████████████████████████████████████████| 145/145 [00:05<00:00, 28.51it/s]\n"
     ]
    },
    {
     "name": "stdout",
     "output_type": "stream",
     "text": [
      "Epoch 148: train_acc: 89.4% loss: 1.3541157,  val_loss: 1.7993855 val_acc: 76.0%\n"
     ]
    },
    {
     "name": "stderr",
     "output_type": "stream",
     "text": [
      "Training..\t: 100%|███████████████████████████████████████████████████████████████████████████████| 659/659 [01:25<00:00,  7.74it/s]\n",
      "Validating..\t: 100%|█████████████████████████████████████████████████████████████████████████████| 145/145 [00:05<00:00, 28.55it/s]\n"
     ]
    },
    {
     "name": "stdout",
     "output_type": "stream",
     "text": [
      "Epoch 149: train_acc: 89.6% loss: 1.9507551,  val_loss: 2.0556173 val_acc: 80.9%\n"
     ]
    }
   ],
   "source": [
    "results = {\"loss\":[], \"val_loss\":[], \"train_accuracy\":[], \"valid_accuracy\":[]}\n",
    "best_valacc = 0\n",
    "# Model training\n",
    "for epoch in range(num_epochs):\n",
    "    # Going through the training set\n",
    "    correct_train = 0\n",
    "    model.train()\n",
    "    for x_batch,y_batch,imgname,platename,filename,plate_idx,location,date,year,xtra,width,height in tqdm(train_dataloader, desc='Training..\\t'):        \n",
    "        y_batch = torch.as_tensor(y_batch)\n",
    "        x_batch,y_batch = x_batch.float().cuda(), y_batch.cuda()\n",
    "        for param in model.parameters():\n",
    "            param.grad = None\n",
    "        pred = model(x_batch)\n",
    "\n",
    "        y_batch = y_batch.type(torch.LongTensor).cuda()\n",
    "        correct_train += (pred.argmax(axis=1) == y_batch).float().sum().item()\n",
    "        loss = criterion(pred, y_batch)\n",
    "        loss.backward()\n",
    "        optimizer.step()\n",
    "    train_accuracy = correct_train / len(train_dataset) * 100.\n",
    "    torch.cuda.empty_cache()\n",
    "\n",
    "    \n",
    "    # Going through the validation set\n",
    "    correct_valid = 0\n",
    "    model.eval()\n",
    "    with torch.no_grad():\n",
    "        for x_batch,y_batch,imgname,platename,filename,plate_idx,location,date,year,xtra,width,height in tqdm(valid_dataloader, desc='Validating..\\t'):\n",
    "            y_batch = torch.as_tensor(y_batch)\n",
    "            x_batch,y_batch = x_batch.float().cuda(), y_batch.cuda()\n",
    "            pred = model(x_batch)\n",
    "\n",
    "            y_batch = y_batch.type(torch.LongTensor).cuda()\n",
    "            correct_valid += (pred.argmax(axis=1) == y_batch).float().sum().item()\n",
    "            val_loss = criterion(pred, y_batch)\n",
    "    valid_accuracy = correct_valid / len(valid_dataset) * 100.\n",
    "\n",
    "    scheduler.step()\n",
    "\n",
    "\n",
    "    # Printing results\n",
    "    print(f\"Epoch {epoch}: train_acc: {train_accuracy:.1f}% loss: {loss:.7f},  val_loss: {val_loss:.7f} val_acc: {valid_accuracy:.1f}%\")\n",
    "        \n",
    "    is_best = valid_accuracy > best_valacc\n",
    "    if is_best:\n",
    "        print(f\"Validation accuracy improved from {best_valacc:.2f} to {valid_accuracy:.2f}. Saving model..\")\n",
    "    best_valacc = max(valid_accuracy, best_valacc)\n",
    "    save_checkpoint({\n",
    "        'epoch': epoch,\n",
    "        'state_dict': model.state_dict(),\n",
    "        'best_valacc': best_valacc,\n",
    "        'loss': results['loss'].append(loss.detach().cpu()),\n",
    "        'val_loss': results['val_loss'].append(val_loss.detach().cpu()),\n",
    "        'train_accuracy': results['train_accuracy'].append(train_accuracy),\n",
    "        'valid_accuracy': results['valid_accuracy'].append(valid_accuracy),\n",
    "        'optimizer' : optimizer.state_dict(),\n",
    "    }, is_best, f\"{modelname}_{setting}\")\n"
   ]
  },
  {
   "cell_type": "code",
   "execution_count": 16,
   "id": "2135fa64",
   "metadata": {},
   "outputs": [
    {
     "data": {
      "text/plain": [
       "torch.Size([3, 150, 150])"
      ]
     },
     "execution_count": 16,
     "metadata": {},
     "output_type": "execute_result"
    }
   ],
   "source": [
    "x_batch[0].shape"
   ]
  },
  {
   "cell_type": "code",
   "execution_count": 17,
   "id": "d5185a8b",
   "metadata": {},
   "outputs": [
    {
     "data": {
      "text/plain": [
       "<datasets.InsectImgDataset at 0x7efc38150040>"
      ]
     },
     "execution_count": 17,
     "metadata": {},
     "output_type": "execute_result"
    }
   ],
   "source": [
    "train_dataset"
   ]
  },
  {
   "cell_type": "code",
   "execution_count": null,
   "id": "e3f936e2-299a-41aa-bd59-8f382a57bb66",
   "metadata": {},
   "outputs": [],
   "source": []
  }
 ],
 "metadata": {
  "kernelspec": {
   "display_name": "Python 3.9.7 64-bit ('bugai': conda)",
   "language": "python",
   "name": "python397jvsc74a57bd02d839c87abe923a8f6c83e3c07da6b84166f74541505ea2206c85c393cfdbb04"
  },
  "language_info": {
   "codemirror_mode": {
    "name": "ipython",
    "version": 3
   },
   "file_extension": ".py",
   "mimetype": "text/x-python",
   "name": "python",
   "nbconvert_exporter": "python",
   "pygments_lexer": "ipython3",
   "version": "3.9.7"
  }
 },
 "nbformat": 4,
 "nbformat_minor": 5
}
