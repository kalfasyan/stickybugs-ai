{
 "cells": [
  {
   "cell_type": "code",
   "execution_count": 1,
   "id": "5ecdc4e7",
   "metadata": {},
   "outputs": [],
   "source": [
    "%reset -f\n",
    "%reload_ext autoreload\n",
    "%autoreload 2\n",
    "# %matplotlib inline\n",
    "%config Completer.use_jedi = False"
   ]
  },
  {
   "cell_type": "code",
   "execution_count": 2,
   "id": "91c3800e",
   "metadata": {},
   "outputs": [
    {
     "name": "stdout",
     "output_type": "stream",
     "text": [
      "Available workers: 16\n"
     ]
    }
   ],
   "source": [
    "from datasets import InsectImgDataset\n",
    "from utils import *\n",
    "import pandas as pd\n",
    "from pathlib import Path\n",
    "from tqdm import tqdm\n",
    "import matplotlib.pyplot as plt\n",
    "import albumentations as A\n",
    "\n",
    "from torchvision import datasets, transforms\n",
    "import torch.optim as optim\n",
    "import torch\n",
    "from torch.utils.data import DataLoader, Dataset\n",
    "import torch.nn as nn\n",
    "\n",
    "from category_encoders import OrdinalEncoder\n",
    "from sklearn.model_selection import train_test_split\n",
    "from sklearn.preprocessing import LabelEncoder\n",
    "from sklearn.metrics import confusion_matrix, accuracy_score, balanced_accuracy_score\n",
    "from sklearn.utils import class_weight\n",
    "\n",
    "setting = 'photobox'\n",
    "if setting == 'photobox':\n",
    "    ext = '.png'\n",
    "elif setting == 'fuji':\n",
    "    ext = '.jpg'"
   ]
  },
  {
   "cell_type": "code",
   "execution_count": 3,
   "id": "ad5bdbe3",
   "metadata": {},
   "outputs": [
    {
     "name": "stderr",
     "output_type": "stream",
     "text": [
      "Extracting info from filenames..: 100%|████████████████████████████████████████████████████████████████| 28363/28363 [00:03<00:00, 8258.51it/s]\n"
     ]
    }
   ],
   "source": [
    "dfs = InsectImgDataset(ext=ext, setting=setting, directory=DATA_DIR)\n",
    "dfs.extract_df_info()\n",
    "df = dfs.df"
   ]
  },
  {
   "cell_type": "markdown",
   "id": "71459b84",
   "metadata": {},
   "source": [
    "# Creating train,val,test sets"
   ]
  },
  {
   "cell_type": "markdown",
   "id": "c854cb3e",
   "metadata": {},
   "source": [
    "## Removing outliers"
   ]
  },
  {
   "cell_type": "code",
   "execution_count": 4,
   "id": "d9db1aaf",
   "metadata": {},
   "outputs": [
    {
     "data": {
      "text/html": [
       "<div>\n",
       "<style scoped>\n",
       "    .dataframe tbody tr th:only-of-type {\n",
       "        vertical-align: middle;\n",
       "    }\n",
       "\n",
       "    .dataframe tbody tr th {\n",
       "        vertical-align: top;\n",
       "    }\n",
       "\n",
       "    .dataframe thead th {\n",
       "        text-align: right;\n",
       "    }\n",
       "</style>\n",
       "<table border=\"1\" class=\"dataframe\">\n",
       "  <thead>\n",
       "    <tr style=\"text-align: right;\">\n",
       "      <th></th>\n",
       "      <th>filename</th>\n",
       "      <th>label</th>\n",
       "      <th>imgname</th>\n",
       "      <th>platename</th>\n",
       "      <th>year</th>\n",
       "      <th>location</th>\n",
       "      <th>date</th>\n",
       "      <th>xtra</th>\n",
       "      <th>plate_idx</th>\n",
       "      <th>blur</th>\n",
       "      <th>...</th>\n",
       "      <th>mean_cnt_area</th>\n",
       "      <th>mean_cnt_perimeter</th>\n",
       "      <th>std_cnt_area</th>\n",
       "      <th>std_cnt_perimeter</th>\n",
       "      <th>R</th>\n",
       "      <th>G</th>\n",
       "      <th>B</th>\n",
       "      <th>knn_outlier</th>\n",
       "      <th>knn_outlier_score</th>\n",
       "      <th>txt_label</th>\n",
       "    </tr>\n",
       "  </thead>\n",
       "  <tbody>\n",
       "    <tr>\n",
       "      <th>1</th>\n",
       "      <td>/home/kalfasyan/data/images/sticky_plates/phot...</td>\n",
       "      <td>3</td>\n",
       "      <td>2020_UNDISTORTED_herent_w29_1-60_4056x3040_202...</td>\n",
       "      <td>UNDISTORTED_herent_w29_1-60_4056x3040_20200703...</td>\n",
       "      <td>2020</td>\n",
       "      <td>herent</td>\n",
       "      <td>w29</td>\n",
       "      <td>1-60</td>\n",
       "      <td>22562</td>\n",
       "      <td>21.920475</td>\n",
       "      <td>...</td>\n",
       "      <td>80.125000</td>\n",
       "      <td>37.152543</td>\n",
       "      <td>83.915415</td>\n",
       "      <td>24.253126</td>\n",
       "      <td>173.674356</td>\n",
       "      <td>170.453289</td>\n",
       "      <td>181.461556</td>\n",
       "      <td>0</td>\n",
       "      <td>0.170996</td>\n",
       "      <td>t</td>\n",
       "    </tr>\n",
       "    <tr>\n",
       "      <th>2</th>\n",
       "      <td>/home/kalfasyan/data/images/sticky_plates/phot...</td>\n",
       "      <td>3</td>\n",
       "      <td>2020_UNDISTORTED_herent_w28_centroid_4056x3040...</td>\n",
       "      <td>UNDISTORTED_herent_w28_centroid_4056x3040_2020...</td>\n",
       "      <td>2020</td>\n",
       "      <td>herent</td>\n",
       "      <td>w28</td>\n",
       "      <td>centroid</td>\n",
       "      <td>9049</td>\n",
       "      <td>39.941421</td>\n",
       "      <td>...</td>\n",
       "      <td>35.750000</td>\n",
       "      <td>19.071068</td>\n",
       "      <td>61.344825</td>\n",
       "      <td>29.140202</td>\n",
       "      <td>215.781600</td>\n",
       "      <td>212.475822</td>\n",
       "      <td>218.527556</td>\n",
       "      <td>0</td>\n",
       "      <td>0.102956</td>\n",
       "      <td>t</td>\n",
       "    </tr>\n",
       "    <tr>\n",
       "      <th>3</th>\n",
       "      <td>/home/kalfasyan/data/images/sticky_plates/phot...</td>\n",
       "      <td>3</td>\n",
       "      <td>2020_UNDISTORTED_herent_w32_3-90_4056x3040.jpg...</td>\n",
       "      <td>UNDISTORTED_herent_w32_3-90_4056x3040.jpg</td>\n",
       "      <td>2020</td>\n",
       "      <td>herent</td>\n",
       "      <td>w32</td>\n",
       "      <td>3-90</td>\n",
       "      <td>10389</td>\n",
       "      <td>28.368266</td>\n",
       "      <td>...</td>\n",
       "      <td>123.833333</td>\n",
       "      <td>50.317773</td>\n",
       "      <td>99.761660</td>\n",
       "      <td>29.255158</td>\n",
       "      <td>176.596311</td>\n",
       "      <td>171.187067</td>\n",
       "      <td>179.368178</td>\n",
       "      <td>0</td>\n",
       "      <td>0.158922</td>\n",
       "      <td>t</td>\n",
       "    </tr>\n",
       "    <tr>\n",
       "      <th>4</th>\n",
       "      <td>/home/kalfasyan/data/images/sticky_plates/phot...</td>\n",
       "      <td>3</td>\n",
       "      <td>2020_UNDISTORTED_herent_w30_1-30_4056x3040.png...</td>\n",
       "      <td>UNDISTORTED_herent_w30_1-30_4056x3040.png</td>\n",
       "      <td>2020</td>\n",
       "      <td>herent</td>\n",
       "      <td>w30</td>\n",
       "      <td>1-30</td>\n",
       "      <td>13879</td>\n",
       "      <td>29.128894</td>\n",
       "      <td>...</td>\n",
       "      <td>57.166667</td>\n",
       "      <td>41.051443</td>\n",
       "      <td>27.496464</td>\n",
       "      <td>7.785941</td>\n",
       "      <td>215.098089</td>\n",
       "      <td>205.949200</td>\n",
       "      <td>206.191911</td>\n",
       "      <td>0</td>\n",
       "      <td>0.097325</td>\n",
       "      <td>t</td>\n",
       "    </tr>\n",
       "    <tr>\n",
       "      <th>5</th>\n",
       "      <td>/home/kalfasyan/data/images/sticky_plates/phot...</td>\n",
       "      <td>3</td>\n",
       "      <td>2020_UNDISTORTED_herent_w29_1-60_4056x3040_202...</td>\n",
       "      <td>UNDISTORTED_herent_w29_1-60_4056x3040_20200703...</td>\n",
       "      <td>2020</td>\n",
       "      <td>herent</td>\n",
       "      <td>w29</td>\n",
       "      <td>1-60</td>\n",
       "      <td>22360</td>\n",
       "      <td>23.096837</td>\n",
       "      <td>...</td>\n",
       "      <td>255.000000</td>\n",
       "      <td>112.911687</td>\n",
       "      <td>0.000000</td>\n",
       "      <td>0.000000</td>\n",
       "      <td>177.825778</td>\n",
       "      <td>174.698133</td>\n",
       "      <td>182.777689</td>\n",
       "      <td>0</td>\n",
       "      <td>0.172671</td>\n",
       "      <td>t</td>\n",
       "    </tr>\n",
       "  </tbody>\n",
       "</table>\n",
       "<p>5 rows × 21 columns</p>\n",
       "</div>"
      ],
      "text/plain": [
       "                                            filename  label  \\\n",
       "1  /home/kalfasyan/data/images/sticky_plates/phot...      3   \n",
       "2  /home/kalfasyan/data/images/sticky_plates/phot...      3   \n",
       "3  /home/kalfasyan/data/images/sticky_plates/phot...      3   \n",
       "4  /home/kalfasyan/data/images/sticky_plates/phot...      3   \n",
       "5  /home/kalfasyan/data/images/sticky_plates/phot...      3   \n",
       "\n",
       "                                             imgname  \\\n",
       "1  2020_UNDISTORTED_herent_w29_1-60_4056x3040_202...   \n",
       "2  2020_UNDISTORTED_herent_w28_centroid_4056x3040...   \n",
       "3  2020_UNDISTORTED_herent_w32_3-90_4056x3040.jpg...   \n",
       "4  2020_UNDISTORTED_herent_w30_1-30_4056x3040.png...   \n",
       "5  2020_UNDISTORTED_herent_w29_1-60_4056x3040_202...   \n",
       "\n",
       "                                           platename  year location date  \\\n",
       "1  UNDISTORTED_herent_w29_1-60_4056x3040_20200703...  2020   herent  w29   \n",
       "2  UNDISTORTED_herent_w28_centroid_4056x3040_2020...  2020   herent  w28   \n",
       "3          UNDISTORTED_herent_w32_3-90_4056x3040.jpg  2020   herent  w32   \n",
       "4          UNDISTORTED_herent_w30_1-30_4056x3040.png  2020   herent  w30   \n",
       "5  UNDISTORTED_herent_w29_1-60_4056x3040_20200703...  2020   herent  w29   \n",
       "\n",
       "       xtra plate_idx       blur  ...  mean_cnt_area  mean_cnt_perimeter  \\\n",
       "1      1-60     22562  21.920475  ...      80.125000           37.152543   \n",
       "2  centroid      9049  39.941421  ...      35.750000           19.071068   \n",
       "3      3-90     10389  28.368266  ...     123.833333           50.317773   \n",
       "4      1-30     13879  29.128894  ...      57.166667           41.051443   \n",
       "5      1-60     22360  23.096837  ...     255.000000          112.911687   \n",
       "\n",
       "   std_cnt_area  std_cnt_perimeter           R           G           B  \\\n",
       "1     83.915415          24.253126  173.674356  170.453289  181.461556   \n",
       "2     61.344825          29.140202  215.781600  212.475822  218.527556   \n",
       "3     99.761660          29.255158  176.596311  171.187067  179.368178   \n",
       "4     27.496464           7.785941  215.098089  205.949200  206.191911   \n",
       "5      0.000000           0.000000  177.825778  174.698133  182.777689   \n",
       "\n",
       "   knn_outlier  knn_outlier_score  txt_label  \n",
       "1            0           0.170996          t  \n",
       "2            0           0.102956          t  \n",
       "3            0           0.158922          t  \n",
       "4            0           0.097325          t  \n",
       "5            0           0.172671          t  \n",
       "\n",
       "[5 rows x 21 columns]"
      ]
     },
     "execution_count": 4,
     "metadata": {},
     "output_type": "execute_result"
    }
   ],
   "source": [
    "df_pre = pd.read_parquet(f\"{SAVE_DIR}/df_preparation_{setting}.parquet\")\n",
    "df = pd.merge(df,df_pre, on=['filename','label','platename','imgname','date','year','plate_idx','location','xtra'])\n",
    "df = df[df.knn_outlier==0]\n",
    "df = df[df.nb_contours>0]\n",
    "\n",
    "oe = OrdinalEncoder(cols=['label'],mapping=[{'col':'label', 'mapping':{'bl':0,'wswl':1,'sp':2,'t':3,'sw':4,'k':5,'m':6,'c':7,'v':8,'wmv':9,'wrl':10}}])\n",
    "df['txt_label'] = df['label']\n",
    "df['label'] = oe.fit_transform(df.label)\n",
    "df.head()"
   ]
  },
  {
   "cell_type": "code",
   "execution_count": 5,
   "id": "f746cd74",
   "metadata": {},
   "outputs": [
    {
     "data": {
      "image/png": "[encoded data removed]",
      "text/plain": [
       "<Figure size 1440x360 with 3 Axes>"
      ]
     },
     "metadata": {
      "needs_background": "light"
     },
     "output_type": "display_data"
    }
   ],
   "source": [
    "test_plates = train_test_split(df.platename.unique(), random_state=2022, test_size=0.2, shuffle=True)[1].tolist()\n",
    "testseries = pd.Series(test_plates)\n",
    "inds = testseries.apply(lambda x: 'wortel' in x)\n",
    "inds = testseries[inds].sample(11).index.values\n",
    "wortel_plates = testseries[inds].tolist()\n",
    "test_plates = testseries[testseries.apply(lambda x: x.split('_')[1] != 'wortel')].tolist() + wortel_plates\n",
    "\n",
    "df_trainval = df[~df.platename.isin(test_plates)]\n",
    "df_test = df[df.platename.isin(test_plates)]\n",
    "\n",
    "topclasses = df['label'].value_counts().head(11).index.tolist()\n",
    "\n",
    "df = df[df['label'].isin(topclasses)]\n",
    "df_trainval = df_trainval[df_trainval['label'].isin(topclasses)]\n",
    "df_test = df_test[df_test['label'].isin(topclasses)]\n",
    "\n",
    "class_weights = class_weight.compute_class_weight('balanced', \n",
    "                                                  classes=np.unique(df['label'].tolist()), \n",
    "                                                  y=df['label'].tolist())\n",
    "\n",
    "class_weights = {np.unique(df['label'])[i]:class_weights[i] for i in range(len(class_weights))}\n",
    "df['weights'] = df['label'].map(class_weights)\n",
    "\n",
    "df_train, df_val = train_test_split(df_trainval, test_size=0.18, random_state=42, shuffle=True)\n",
    "\n",
    "\n",
    "plt.figure(figsize=(20,5))\n",
    "plt.subplot(1,3,1);df_train.txt_label.value_counts().plot(kind='barh');plt.title(f'train, {df_train.shape[0]}')\n",
    "plt.subplot(1,3,2);df_val.txt_label.value_counts().plot(kind='barh');plt.title(f'val, {df_val.shape[0]}')\n",
    "plt.subplot(1,3,3);df_test.txt_label.value_counts().plot(kind='barh');plt.title(f'test, {df_test.shape[0]}');"
   ]
  },
  {
   "cell_type": "code",
   "execution_count": 6,
   "id": "f4fdd28e",
   "metadata": {},
   "outputs": [],
   "source": [
    "assert len(set(df_train.filename.tolist()).intersection(df_test.filename.tolist())) == 0\n",
    "assert len(set(df_train.filename.tolist()).intersection(df_val.filename.tolist())) == 0"
   ]
  },
  {
   "cell_type": "code",
   "execution_count": 7,
   "id": "af1bb016-ae27-456f-9cf1-294532cc7152",
   "metadata": {},
   "outputs": [],
   "source": [
    "df_train.to_parquet(f\"{SAVE_DIR}/df_train_{setting}.parquet\")\n",
    "df_val.to_parquet(f\"{SAVE_DIR}/df_val_{setting}.parquet\")\n",
    "df_test.to_parquet(f\"{SAVE_DIR}/df_test_{setting}.parquet\")"
   ]
  },
  {
   "cell_type": "code",
   "execution_count": 8,
   "id": "b3c7b1e5-a740-4530-ae5f-24299737f2b7",
   "metadata": {},
   "outputs": [
    {
     "data": {
      "text/plain": [
       "9     3224\n",
       "8     2809\n",
       "7     2737\n",
       "3     1420\n",
       "4     1419\n",
       "0     1332\n",
       "6      865\n",
       "10     615\n",
       "5      568\n",
       "2      481\n",
       "1      424\n",
       "Name: label, dtype: int64"
      ]
     },
     "execution_count": 8,
     "metadata": {},
     "output_type": "execute_result"
    }
   ],
   "source": [
    "df_train.label.value_counts()"
   ]
  },
  {
   "cell_type": "markdown",
   "id": "0f3166c6",
   "metadata": {
    "tags": []
   },
   "source": [
    "# Creating Pytorch Datasets and Dataloaders"
   ]
  },
  {
   "cell_type": "code",
   "execution_count": 9,
   "id": "b61c23ad",
   "metadata": {},
   "outputs": [],
   "source": [
    "transforms_list_train = [\n",
    "#     A.SmallestMaxSize(max_size=150),\n",
    "#     A.Resize(height=150,width=150,p=1),\n",
    "    A.Normalize(mean=[0.485, 0.456, 0.406],\n",
    "                                 std=[0.229, 0.224, 0.225], p=1, always_apply=True),\n",
    "    A.ShiftScaleRotate(shift_limit=0.01,rotate_limit=45, scale_limit=0, p=.5),\n",
    "    A.Rotate(limit=90, p=0.5),\n",
    "    A.HorizontalFlip(p=0.5),\n",
    "    A.VerticalFlip(p=0.5),\n",
    "    # A.RandomGamma(p=0.5),\n",
    "     A.RandomBrightnessContrast(p=0.2),\n",
    "     A.GaussianBlur(blur_limit=(3,3), p=0.1)\n",
    "]\n",
    "\n",
    "transforms_list_test = [\n",
    "    A.Normalize(mean=[0.485, 0.456, 0.406],\n",
    "                std=[0.229, 0.224, 0.225], \n",
    "                p=1, \n",
    "                always_apply=True)\n",
    "]\n",
    "\n",
    "train_dataset = InsectImgDataset(df=df_train.reset_index(drop=True), transform=A.Compose(transforms_list_train))\n",
    "valid_dataset = InsectImgDataset(df=df_val.reset_index(drop=True), transform=A.Compose(transforms_list_test))\n",
    "test_dataset = InsectImgDataset(df=df_test.reset_index(drop=True), transform=A.Compose(transforms_list_test))\n",
    "\n",
    "batch_size = 32\n",
    "batch_size_val = 32\n",
    "\n",
    "train_dataloader = DataLoader(train_dataset, batch_size=batch_size, shuffle=True, num_workers=4, pin_memory=True, worker_init_fn=worker_init_fn)\n",
    "valid_dataloader = DataLoader(valid_dataset, batch_size=batch_size_val, shuffle=False, num_workers=4, pin_memory=True, worker_init_fn=worker_init_fn)\n",
    "test_dataloader = DataLoader(test_dataset, batch_size=batch_size_val, shuffle=False, num_workers=4, pin_memory=True, worker_init_fn=worker_init_fn)\n",
    "\n",
    "# plt.imshow(train_dataset[0][0]); plt.title(f\"Example train image, class:{train_dataset[0][1]}\");"
   ]
  },
  {
   "cell_type": "markdown",
   "id": "890f75ae",
   "metadata": {},
   "source": [
    "# Defining the model and training parameters"
   ]
  },
  {
   "cell_type": "code",
   "execution_count": 10,
   "id": "234389bd",
   "metadata": {},
   "outputs": [],
   "source": [
    "torch.backends.cudnn.benchmark = True"
   ]
  },
  {
   "cell_type": "code",
   "execution_count": 11,
   "id": "d5993df8",
   "metadata": {},
   "outputs": [
    {
     "name": "stdout",
     "output_type": "stream",
     "text": [
      "Train on gpu: True\n"
     ]
    }
   ],
   "source": [
    "modelname = \"vgg16\"\n",
    "model = model_selector(modelname, pretrained=True)\n",
    "\n",
    "if modelname.startswith(\"dense\"):\n",
    "    num_ftrs = model.classifier.in_features\n",
    "    model.classifier = nn.Linear(num_ftrs,len(topclasses))\n",
    "if modelname.startswith(\"resn\"):\n",
    "    num_ftrs = model.fc.in_features\n",
    "    model.fc = nn.Linear(num_ftrs,len(topclasses))\n",
    "if modelname.startswith(\"efficient\"):\n",
    "    num_ftrs = model.classifier[1].in_features\n",
    "    model.classifier[1] = nn.Linear(num_ftrs,len(topclasses))\n",
    "if modelname.startswith(\"vgg\"):\n",
    "    num_ftrs = model.classifier[-1].in_features\n",
    "    model.classifier[-1] = nn.Linear(num_ftrs, len(topclasses))\n",
    "    \n",
    "# Choosing whether to train on a gpu\n",
    "train_on_gpu = torch.cuda.is_available()\n",
    "print(f'Train on gpu: {train_on_gpu}')# Number of gpus\n",
    "model = model.to('cuda', dtype=torch.float)\n",
    "\n",
    "num_epochs = 40\n",
    "\n",
    "class_sample_count = np.unique(df_train.label, return_counts=True)[1]\n",
    "weight = 1. / class_sample_count  \n",
    "criterion = nn.CrossEntropyLoss(weight=torch.Tensor(weight).cuda(), label_smoothing=.15)"
   ]
  },
  {
   "cell_type": "code",
   "execution_count": 12,
   "id": "276ad0e6",
   "metadata": {},
   "outputs": [],
   "source": [
    "optimizer = optim.Adam(model.parameters(), lr=.001)\n",
    "scheduler = torch.optim.lr_scheduler.CyclicLR(optimizer, base_lr=0.0001, max_lr=0.01, cycle_momentum=False, mode=\"triangular2\")"
   ]
  },
  {
   "cell_type": "code",
   "execution_count": 13,
   "id": "62e6d957",
   "metadata": {},
   "outputs": [],
   "source": [
    "#optimizer = optim.Adam(model.parameters(), lr=0.001, eps=1e-3, amsgrad=True)\n",
    "#scheduler = torch.optim.lr_scheduler.CyclicLR(optimizer, base_lr=0.0001, max_lr=0.01, cycle_momentum=False, mode=\"triangular2\")"
   ]
  },
  {
   "cell_type": "markdown",
   "id": "65cc53eb",
   "metadata": {},
   "source": [
    "# Training"
   ]
  },
  {
   "cell_type": "code",
   "execution_count": 14,
   "id": "7ace6f25",
   "metadata": {
    "scrolled": true,
    "tags": []
   },
   "outputs": [
    {
     "name": "stderr",
     "output_type": "stream",
     "text": [
      "Training..\t: 100%|███████████████████████████████████████████████████████████████████████████████████████████| 497/497 [01:35<00:00,  5.20it/s]\n",
      "Validating..\t: 100%|█████████████████████████████████████████████████████████████████████████████████████████| 110/110 [00:06<00:00, 17.02it/s]\n"
     ]
    },
    {
     "name": "stdout",
     "output_type": "stream",
     "text": [
      "Epoch 0: train_acc: 53.0% loss: 1.6951410,  val_loss: 1.7918783 val_acc: 62.2%\n",
      "Validation accuracy improved from 0.00 to 62.20. Saving model..\n"
     ]
    },
    {
     "name": "stderr",
     "output_type": "stream",
     "text": [
      "Training..\t: 100%|███████████████████████████████████████████████████████████████████████████████████████████| 497/497 [01:30<00:00,  5.47it/s]\n",
      "Validating..\t: 100%|█████████████████████████████████████████████████████████████████████████████████████████| 110/110 [00:06<00:00, 18.05it/s]\n"
     ]
    },
    {
     "name": "stdout",
     "output_type": "stream",
     "text": [
      "Epoch 1: train_acc: 66.9% loss: 1.5212777,  val_loss: 1.7984490 val_acc: 72.5%\n",
      "Validation accuracy improved from 62.20 to 72.54. Saving model..\n"
     ]
    },
    {
     "name": "stderr",
     "output_type": "stream",
     "text": [
      "Training..\t: 100%|███████████████████████████████████████████████████████████████████████████████████████████| 497/497 [01:30<00:00,  5.47it/s]\n",
      "Validating..\t: 100%|█████████████████████████████████████████████████████████████████████████████████████████| 110/110 [00:06<00:00, 18.06it/s]\n"
     ]
    },
    {
     "name": "stdout",
     "output_type": "stream",
     "text": [
      "Epoch 2: train_acc: 71.8% loss: 1.4138234,  val_loss: 1.7861607 val_acc: 74.9%\n",
      "Validation accuracy improved from 72.54 to 74.86. Saving model..\n"
     ]
    },
    {
     "name": "stderr",
     "output_type": "stream",
     "text": [
      "Training..\t: 100%|███████████████████████████████████████████████████████████████████████████████████████████| 497/497 [01:30<00:00,  5.49it/s]\n",
      "Validating..\t: 100%|█████████████████████████████████████████████████████████████████████████████████████████| 110/110 [00:06<00:00, 18.13it/s]\n"
     ]
    },
    {
     "name": "stdout",
     "output_type": "stream",
     "text": [
      "Epoch 3: train_acc: 74.0% loss: 2.0766296,  val_loss: 1.7781012 val_acc: 75.4%\n",
      "Validation accuracy improved from 74.86 to 75.41. Saving model..\n"
     ]
    },
    {
     "name": "stderr",
     "output_type": "stream",
     "text": [
      "Training..\t: 100%|███████████████████████████████████████████████████████████████████████████████████████████| 497/497 [01:30<00:00,  5.49it/s]\n",
      "Validating..\t: 100%|█████████████████████████████████████████████████████████████████████████████████████████| 110/110 [00:06<00:00, 18.17it/s]\n"
     ]
    },
    {
     "name": "stdout",
     "output_type": "stream",
     "text": [
      "Epoch 4: train_acc: 75.3% loss: 1.6734489,  val_loss: 1.8083059 val_acc: 79.2%\n",
      "Validation accuracy improved from 75.41 to 79.22. Saving model..\n"
     ]
    },
    {
     "name": "stderr",
     "output_type": "stream",
     "text": [
      "Training..\t: 100%|███████████████████████████████████████████████████████████████████████████████████████████| 497/497 [01:30<00:00,  5.50it/s]\n",
      "Validating..\t: 100%|█████████████████████████████████████████████████████████████████████████████████████████| 110/110 [00:06<00:00, 18.10it/s]\n"
     ]
    },
    {
     "name": "stdout",
     "output_type": "stream",
     "text": [
      "Epoch 5: train_acc: 76.5% loss: 1.3946528,  val_loss: 1.7741864 val_acc: 78.9%\n"
     ]
    },
    {
     "name": "stderr",
     "output_type": "stream",
     "text": [
      "Training..\t: 100%|███████████████████████████████████████████████████████████████████████████████████████████| 497/497 [01:30<00:00,  5.49it/s]\n",
      "Validating..\t: 100%|█████████████████████████████████████████████████████████████████████████████████████████| 110/110 [00:06<00:00, 18.14it/s]\n"
     ]
    },
    {
     "name": "stdout",
     "output_type": "stream",
     "text": [
      "Epoch 6: train_acc: 77.9% loss: 1.3956807,  val_loss: 1.8266046 val_acc: 79.9%\n",
      "Validation accuracy improved from 79.22 to 79.88. Saving model..\n"
     ]
    },
    {
     "name": "stderr",
     "output_type": "stream",
     "text": [
      "Training..\t: 100%|███████████████████████████████████████████████████████████████████████████████████████████| 497/497 [01:30<00:00,  5.50it/s]\n",
      "Validating..\t: 100%|█████████████████████████████████████████████████████████████████████████████████████████| 110/110 [00:06<00:00, 18.14it/s]\n"
     ]
    },
    {
     "name": "stdout",
     "output_type": "stream",
     "text": [
      "Epoch 7: train_acc: 78.0% loss: 1.7458123,  val_loss: 1.7846394 val_acc: 79.8%\n"
     ]
    },
    {
     "name": "stderr",
     "output_type": "stream",
     "text": [
      "Training..\t: 100%|███████████████████████████████████████████████████████████████████████████████████████████| 497/497 [01:30<00:00,  5.49it/s]\n",
      "Validating..\t: 100%|█████████████████████████████████████████████████████████████████████████████████████████| 110/110 [00:06<00:00, 18.13it/s]\n"
     ]
    },
    {
     "name": "stdout",
     "output_type": "stream",
     "text": [
      "Epoch 8: train_acc: 79.2% loss: 1.6698484,  val_loss: 1.7923423 val_acc: 82.7%\n",
      "Validation accuracy improved from 79.88 to 82.75. Saving model..\n"
     ]
    },
    {
     "name": "stderr",
     "output_type": "stream",
     "text": [
      "Training..\t: 100%|███████████████████████████████████████████████████████████████████████████████████████████| 497/497 [01:30<00:00,  5.49it/s]\n",
      "Validating..\t: 100%|█████████████████████████████████████████████████████████████████████████████████████████| 110/110 [00:06<00:00, 18.19it/s]\n"
     ]
    },
    {
     "name": "stdout",
     "output_type": "stream",
     "text": [
      "Epoch 9: train_acc: 78.8% loss: 1.1654391,  val_loss: 1.8333564 val_acc: 79.0%\n"
     ]
    },
    {
     "name": "stderr",
     "output_type": "stream",
     "text": [
      "Training..\t: 100%|███████████████████████████████████████████████████████████████████████████████████████████| 497/497 [01:30<00:00,  5.48it/s]\n",
      "Validating..\t: 100%|█████████████████████████████████████████████████████████████████████████████████████████| 110/110 [00:06<00:00, 18.11it/s]\n"
     ]
    },
    {
     "name": "stdout",
     "output_type": "stream",
     "text": [
      "Epoch 10: train_acc: 79.4% loss: 1.5413914,  val_loss: 1.9139589 val_acc: 80.7%\n"
     ]
    },
    {
     "name": "stderr",
     "output_type": "stream",
     "text": [
      "Training..\t: 100%|███████████████████████████████████████████████████████████████████████████████████████████| 497/497 [01:30<00:00,  5.48it/s]\n",
      "Validating..\t: 100%|█████████████████████████████████████████████████████████████████████████████████████████| 110/110 [00:06<00:00, 18.10it/s]\n"
     ]
    },
    {
     "name": "stdout",
     "output_type": "stream",
     "text": [
      "Epoch 11: train_acc: 80.2% loss: 1.1750562,  val_loss: 1.7867459 val_acc: 79.8%\n"
     ]
    },
    {
     "name": "stderr",
     "output_type": "stream",
     "text": [
      "Training..\t: 100%|███████████████████████████████████████████████████████████████████████████████████████████| 497/497 [01:30<00:00,  5.49it/s]\n",
      "Validating..\t: 100%|█████████████████████████████████████████████████████████████████████████████████████████| 110/110 [00:06<00:00, 18.11it/s]\n"
     ]
    },
    {
     "name": "stdout",
     "output_type": "stream",
     "text": [
      "Epoch 12: train_acc: 80.6% loss: 1.4166496,  val_loss: 1.8192956 val_acc: 79.5%\n"
     ]
    },
    {
     "name": "stderr",
     "output_type": "stream",
     "text": [
      "Training..\t: 100%|███████████████████████████████████████████████████████████████████████████████████████████| 497/497 [01:30<00:00,  5.48it/s]\n",
      "Validating..\t: 100%|█████████████████████████████████████████████████████████████████████████████████████████| 110/110 [00:06<00:00, 18.17it/s]\n"
     ]
    },
    {
     "name": "stdout",
     "output_type": "stream",
     "text": [
      "Epoch 13: train_acc: 79.9% loss: 1.0657959,  val_loss: 1.8190266 val_acc: 80.2%\n"
     ]
    },
    {
     "name": "stderr",
     "output_type": "stream",
     "text": [
      "Training..\t: 100%|███████████████████████████████████████████████████████████████████████████████████████████| 497/497 [01:30<00:00,  5.48it/s]\n",
      "Validating..\t: 100%|█████████████████████████████████████████████████████████████████████████████████████████| 110/110 [00:06<00:00, 18.10it/s]\n"
     ]
    },
    {
     "name": "stdout",
     "output_type": "stream",
     "text": [
      "Epoch 14: train_acc: 81.0% loss: 1.1823733,  val_loss: 1.8919733 val_acc: 78.2%\n"
     ]
    },
    {
     "name": "stderr",
     "output_type": "stream",
     "text": [
      "Training..\t: 100%|███████████████████████████████████████████████████████████████████████████████████████████| 497/497 [01:30<00:00,  5.50it/s]\n",
      "Validating..\t: 100%|█████████████████████████████████████████████████████████████████████████████████████████| 110/110 [00:06<00:00, 18.13it/s]\n"
     ]
    },
    {
     "name": "stdout",
     "output_type": "stream",
     "text": [
      "Epoch 15: train_acc: 81.2% loss: 1.5285974,  val_loss: 1.7926469 val_acc: 81.7%\n"
     ]
    },
    {
     "name": "stderr",
     "output_type": "stream",
     "text": [
      "Training..\t: 100%|███████████████████████████████████████████████████████████████████████████████████████████| 497/497 [01:30<00:00,  5.49it/s]\n",
      "Validating..\t: 100%|█████████████████████████████████████████████████████████████████████████████████████████| 110/110 [00:06<00:00, 18.18it/s]\n"
     ]
    },
    {
     "name": "stdout",
     "output_type": "stream",
     "text": [
      "Epoch 16: train_acc: 81.2% loss: 1.4198648,  val_loss: 1.7940395 val_acc: 79.5%\n"
     ]
    },
    {
     "name": "stderr",
     "output_type": "stream",
     "text": [
      "Training..\t: 100%|███████████████████████████████████████████████████████████████████████████████████████████| 497/497 [01:30<00:00,  5.49it/s]\n",
      "Validating..\t: 100%|█████████████████████████████████████████████████████████████████████████████████████████| 110/110 [00:06<00:00, 18.12it/s]\n"
     ]
    },
    {
     "name": "stdout",
     "output_type": "stream",
     "text": [
      "Epoch 17: train_acc: 81.4% loss: 1.4112964,  val_loss: 1.8394175 val_acc: 80.2%\n"
     ]
    },
    {
     "name": "stderr",
     "output_type": "stream",
     "text": [
      "Training..\t: 100%|███████████████████████████████████████████████████████████████████████████████████████████| 497/497 [01:30<00:00,  5.49it/s]\n",
      "Validating..\t: 100%|█████████████████████████████████████████████████████████████████████████████████████████| 110/110 [00:06<00:00, 18.17it/s]\n"
     ]
    },
    {
     "name": "stdout",
     "output_type": "stream",
     "text": [
      "Epoch 18: train_acc: 81.5% loss: 1.0643024,  val_loss: 1.8105196 val_acc: 78.6%\n"
     ]
    },
    {
     "name": "stderr",
     "output_type": "stream",
     "text": [
      "Training..\t: 100%|███████████████████████████████████████████████████████████████████████████████████████████| 497/497 [01:30<00:00,  5.48it/s]\n",
      "Validating..\t: 100%|█████████████████████████████████████████████████████████████████████████████████████████| 110/110 [00:06<00:00, 18.14it/s]\n"
     ]
    },
    {
     "name": "stdout",
     "output_type": "stream",
     "text": [
      "Epoch 19: train_acc: 81.3% loss: 1.2370611,  val_loss: 1.7787501 val_acc: 82.5%\n"
     ]
    },
    {
     "name": "stderr",
     "output_type": "stream",
     "text": [
      "Training..\t: 100%|███████████████████████████████████████████████████████████████████████████████████████████| 497/497 [01:30<00:00,  5.50it/s]\n",
      "Validating..\t: 100%|█████████████████████████████████████████████████████████████████████████████████████████| 110/110 [00:06<00:00, 18.10it/s]\n"
     ]
    },
    {
     "name": "stdout",
     "output_type": "stream",
     "text": [
      "Epoch 20: train_acc: 81.9% loss: 1.5798790,  val_loss: 1.8244429 val_acc: 82.6%\n"
     ]
    },
    {
     "name": "stderr",
     "output_type": "stream",
     "text": [
      "Training..\t: 100%|███████████████████████████████████████████████████████████████████████████████████████████| 497/497 [01:30<00:00,  5.50it/s]\n",
      "Validating..\t: 100%|█████████████████████████████████████████████████████████████████████████████████████████| 110/110 [00:06<00:00, 18.17it/s]\n"
     ]
    },
    {
     "name": "stdout",
     "output_type": "stream",
     "text": [
      "Epoch 21: train_acc: 81.4% loss: 1.2523153,  val_loss: 1.8050020 val_acc: 80.8%\n"
     ]
    },
    {
     "name": "stderr",
     "output_type": "stream",
     "text": [
      "Training..\t: 100%|███████████████████████████████████████████████████████████████████████████████████████████| 497/497 [01:30<00:00,  5.51it/s]\n",
      "Validating..\t: 100%|█████████████████████████████████████████████████████████████████████████████████████████| 110/110 [00:06<00:00, 18.24it/s]\n"
     ]
    },
    {
     "name": "stdout",
     "output_type": "stream",
     "text": [
      "Epoch 22: train_acc: 81.4% loss: 1.3453151,  val_loss: 1.8191867 val_acc: 81.1%\n"
     ]
    },
    {
     "name": "stderr",
     "output_type": "stream",
     "text": [
      "Training..\t: 100%|███████████████████████████████████████████████████████████████████████████████████████████| 497/497 [01:30<00:00,  5.51it/s]\n",
      "Validating..\t: 100%|█████████████████████████████████████████████████████████████████████████████████████████| 110/110 [00:06<00:00, 18.16it/s]\n"
     ]
    },
    {
     "name": "stdout",
     "output_type": "stream",
     "text": [
      "Epoch 23: train_acc: 81.7% loss: 1.3837342,  val_loss: 1.8206258 val_acc: 81.0%\n"
     ]
    },
    {
     "name": "stderr",
     "output_type": "stream",
     "text": [
      "Training..\t: 100%|███████████████████████████████████████████████████████████████████████████████████████████| 497/497 [01:30<00:00,  5.51it/s]\n",
      "Validating..\t: 100%|█████████████████████████████████████████████████████████████████████████████████████████| 110/110 [00:06<00:00, 18.18it/s]\n"
     ]
    },
    {
     "name": "stdout",
     "output_type": "stream",
     "text": [
      "Epoch 24: train_acc: 81.4% loss: 1.4087236,  val_loss: 1.8296880 val_acc: 80.4%\n"
     ]
    },
    {
     "name": "stderr",
     "output_type": "stream",
     "text": [
      "Training..\t: 100%|███████████████████████████████████████████████████████████████████████████████████████████| 497/497 [01:30<00:00,  5.51it/s]\n",
      "Validating..\t: 100%|█████████████████████████████████████████████████████████████████████████████████████████| 110/110 [00:06<00:00, 18.20it/s]\n"
     ]
    },
    {
     "name": "stdout",
     "output_type": "stream",
     "text": [
      "Epoch 25: train_acc: 81.7% loss: 1.4882126,  val_loss: 1.8100647 val_acc: 80.8%\n"
     ]
    },
    {
     "name": "stderr",
     "output_type": "stream",
     "text": [
      "Training..\t: 100%|███████████████████████████████████████████████████████████████████████████████████████████| 497/497 [01:30<00:00,  5.51it/s]\n",
      "Validating..\t: 100%|█████████████████████████████████████████████████████████████████████████████████████████| 110/110 [00:06<00:00, 18.23it/s]\n"
     ]
    },
    {
     "name": "stdout",
     "output_type": "stream",
     "text": [
      "Epoch 26: train_acc: 82.0% loss: 1.7930224,  val_loss: 1.8807263 val_acc: 81.2%\n"
     ]
    },
    {
     "name": "stderr",
     "output_type": "stream",
     "text": [
      "Training..\t: 100%|███████████████████████████████████████████████████████████████████████████████████████████| 497/497 [01:30<00:00,  5.51it/s]\n",
      "Validating..\t: 100%|█████████████████████████████████████████████████████████████████████████████████████████| 110/110 [00:06<00:00, 18.27it/s]\n"
     ]
    },
    {
     "name": "stdout",
     "output_type": "stream",
     "text": [
      "Epoch 27: train_acc: 82.2% loss: 1.1419771,  val_loss: 1.8136911 val_acc: 81.3%\n"
     ]
    },
    {
     "name": "stderr",
     "output_type": "stream",
     "text": [
      "Training..\t: 100%|███████████████████████████████████████████████████████████████████████████████████████████| 497/497 [01:30<00:00,  5.51it/s]\n",
      "Validating..\t: 100%|█████████████████████████████████████████████████████████████████████████████████████████| 110/110 [00:06<00:00, 18.27it/s]\n"
     ]
    },
    {
     "name": "stdout",
     "output_type": "stream",
     "text": [
      "Epoch 28: train_acc: 81.4% loss: 1.2747662,  val_loss: 1.7933418 val_acc: 81.2%\n"
     ]
    },
    {
     "name": "stderr",
     "output_type": "stream",
     "text": [
      "Training..\t: 100%|███████████████████████████████████████████████████████████████████████████████████████████| 497/497 [01:30<00:00,  5.51it/s]\n",
      "Validating..\t: 100%|█████████████████████████████████████████████████████████████████████████████████████████| 110/110 [00:06<00:00, 18.30it/s]\n"
     ]
    },
    {
     "name": "stdout",
     "output_type": "stream",
     "text": [
      "Epoch 29: train_acc: 81.6% loss: 2.0324564,  val_loss: 1.7844455 val_acc: 82.8%\n",
      "Validation accuracy improved from 82.75 to 82.77. Saving model..\n"
     ]
    },
    {
     "name": "stderr",
     "output_type": "stream",
     "text": [
      "Training..\t: 100%|███████████████████████████████████████████████████████████████████████████████████████████| 497/497 [01:29<00:00,  5.53it/s]\n",
      "Validating..\t: 100%|█████████████████████████████████████████████████████████████████████████████████████████| 110/110 [00:06<00:00, 18.28it/s]\n"
     ]
    },
    {
     "name": "stdout",
     "output_type": "stream",
     "text": [
      "Epoch 30: train_acc: 82.4% loss: 1.6448462,  val_loss: 1.7968004 val_acc: 82.2%\n"
     ]
    },
    {
     "name": "stderr",
     "output_type": "stream",
     "text": [
      "Training..\t: 100%|███████████████████████████████████████████████████████████████████████████████████████████| 497/497 [01:30<00:00,  5.51it/s]\n",
      "Validating..\t: 100%|█████████████████████████████████████████████████████████████████████████████████████████| 110/110 [00:06<00:00, 18.26it/s]\n"
     ]
    },
    {
     "name": "stdout",
     "output_type": "stream",
     "text": [
      "Epoch 31: train_acc: 81.9% loss: 1.1284943,  val_loss: 1.7863324 val_acc: 81.1%\n"
     ]
    },
    {
     "name": "stderr",
     "output_type": "stream",
     "text": [
      "Training..\t: 100%|███████████████████████████████████████████████████████████████████████████████████████████| 497/497 [01:30<00:00,  5.51it/s]\n",
      "Validating..\t: 100%|█████████████████████████████████████████████████████████████████████████████████████████| 110/110 [00:06<00:00, 18.27it/s]\n"
     ]
    },
    {
     "name": "stdout",
     "output_type": "stream",
     "text": [
      "Epoch 32: train_acc: 81.7% loss: 1.3562353,  val_loss: 1.8096521 val_acc: 80.4%\n"
     ]
    },
    {
     "name": "stderr",
     "output_type": "stream",
     "text": [
      "Training..\t: 100%|███████████████████████████████████████████████████████████████████████████████████████████| 497/497 [01:30<00:00,  5.50it/s]\n",
      "Validating..\t: 100%|█████████████████████████████████████████████████████████████████████████████████████████| 110/110 [00:06<00:00, 18.29it/s]\n"
     ]
    },
    {
     "name": "stdout",
     "output_type": "stream",
     "text": [
      "Epoch 33: train_acc: 81.5% loss: 1.3466966,  val_loss: 1.7944558 val_acc: 78.7%\n"
     ]
    },
    {
     "name": "stderr",
     "output_type": "stream",
     "text": [
      "Training..\t: 100%|███████████████████████████████████████████████████████████████████████████████████████████| 497/497 [01:30<00:00,  5.51it/s]\n",
      "Validating..\t: 100%|█████████████████████████████████████████████████████████████████████████████████████████| 110/110 [00:06<00:00, 18.25it/s]\n"
     ]
    },
    {
     "name": "stdout",
     "output_type": "stream",
     "text": [
      "Epoch 34: train_acc: 81.7% loss: 1.5883231,  val_loss: 1.7956554 val_acc: 80.5%\n"
     ]
    },
    {
     "name": "stderr",
     "output_type": "stream",
     "text": [
      "Training..\t: 100%|███████████████████████████████████████████████████████████████████████████████████████████| 497/497 [01:30<00:00,  5.51it/s]\n",
      "Validating..\t: 100%|█████████████████████████████████████████████████████████████████████████████████████████| 110/110 [00:06<00:00, 18.19it/s]\n"
     ]
    },
    {
     "name": "stdout",
     "output_type": "stream",
     "text": [
      "Epoch 35: train_acc: 81.7% loss: 2.0637264,  val_loss: 1.7999192 val_acc: 79.7%\n"
     ]
    },
    {
     "name": "stderr",
     "output_type": "stream",
     "text": [
      "Training..\t: 100%|███████████████████████████████████████████████████████████████████████████████████████████| 497/497 [01:30<00:00,  5.51it/s]\n",
      "Validating..\t: 100%|█████████████████████████████████████████████████████████████████████████████████████████| 110/110 [00:06<00:00, 18.22it/s]\n"
     ]
    },
    {
     "name": "stdout",
     "output_type": "stream",
     "text": [
      "Epoch 36: train_acc: 81.5% loss: 1.6256707,  val_loss: 1.7844218 val_acc: 80.3%\n"
     ]
    },
    {
     "name": "stderr",
     "output_type": "stream",
     "text": [
      "Training..\t: 100%|███████████████████████████████████████████████████████████████████████████████████████████| 497/497 [01:30<00:00,  5.51it/s]\n",
      "Validating..\t: 100%|█████████████████████████████████████████████████████████████████████████████████████████| 110/110 [00:06<00:00, 18.29it/s]\n"
     ]
    },
    {
     "name": "stdout",
     "output_type": "stream",
     "text": [
      "Epoch 37: train_acc: 82.0% loss: 1.7283530,  val_loss: 1.7919157 val_acc: 82.5%\n"
     ]
    },
    {
     "name": "stderr",
     "output_type": "stream",
     "text": [
      "Training..\t: 100%|███████████████████████████████████████████████████████████████████████████████████████████| 497/497 [01:30<00:00,  5.51it/s]\n",
      "Validating..\t: 100%|█████████████████████████████████████████████████████████████████████████████████████████| 110/110 [00:06<00:00, 18.27it/s]\n"
     ]
    },
    {
     "name": "stdout",
     "output_type": "stream",
     "text": [
      "Epoch 38: train_acc: 81.8% loss: 1.1734545,  val_loss: 1.7740119 val_acc: 80.6%\n"
     ]
    },
    {
     "name": "stderr",
     "output_type": "stream",
     "text": [
      "Training..\t: 100%|███████████████████████████████████████████████████████████████████████████████████████████| 497/497 [01:30<00:00,  5.51it/s]\n",
      "Validating..\t: 100%|█████████████████████████████████████████████████████████████████████████████████████████| 110/110 [00:06<00:00, 18.17it/s]\n"
     ]
    },
    {
     "name": "stdout",
     "output_type": "stream",
     "text": [
      "Epoch 39: train_acc: 82.6% loss: 0.9942104,  val_loss: 1.7797904 val_acc: 82.3%\n"
     ]
    }
   ],
   "source": [
    "results = {\"loss\":[], \"val_loss\":[], \"train_accuracy\":[], \"valid_accuracy\":[]}\n",
    "best_valacc = 0\n",
    "# Model training\n",
    "for epoch in range(num_epochs):\n",
    "    # Going through the training set\n",
    "    correct_train = 0\n",
    "    model.train()\n",
    "    for x_batch,y_batch,imgname,platename,filename,plate_idx,location,date,year,xtra,width,height in tqdm(train_dataloader, desc='Training..\\t'):        \n",
    "        y_batch = torch.as_tensor(y_batch)\n",
    "        x_batch,y_batch = x_batch.float().cuda(), y_batch.cuda()\n",
    "        for param in model.parameters():\n",
    "            param.grad = None\n",
    "        pred = model(x_batch)\n",
    "\n",
    "        y_batch = y_batch.type(torch.LongTensor).cuda()\n",
    "        correct_train += (pred.argmax(axis=1) == y_batch).float().sum().item()\n",
    "        loss = criterion(pred, y_batch)\n",
    "        loss.backward()\n",
    "        optimizer.step()\n",
    "    train_accuracy = correct_train / len(train_dataset) * 100.\n",
    "    torch.cuda.empty_cache()\n",
    "\n",
    "    \n",
    "    # Going through the validation set\n",
    "    correct_valid = 0\n",
    "    model.eval()\n",
    "    with torch.no_grad():\n",
    "        for x_batch,y_batch,imgname,platename,filename,plate_idx,location,date,year,xtra,width,height in tqdm(valid_dataloader, desc='Validating..\\t'):\n",
    "            y_batch = torch.as_tensor(y_batch)\n",
    "            x_batch,y_batch = x_batch.float().cuda(), y_batch.cuda()\n",
    "            pred = model(x_batch)\n",
    "\n",
    "            y_batch = y_batch.type(torch.LongTensor).cuda()\n",
    "            correct_valid += (pred.argmax(axis=1) == y_batch).float().sum().item()\n",
    "            val_loss = criterion(pred, y_batch)\n",
    "    valid_accuracy = correct_valid / len(valid_dataset) * 100.\n",
    "\n",
    "    scheduler.step()\n",
    "\n",
    "\n",
    "    # Printing results\n",
    "    print(f\"Epoch {epoch}: train_acc: {train_accuracy:.1f}% loss: {loss:.7f},  val_loss: {val_loss:.7f} val_acc: {valid_accuracy:.1f}%\")\n",
    "        \n",
    "    is_best = valid_accuracy > best_valacc\n",
    "    if is_best:\n",
    "        print(f\"Validation accuracy improved from {best_valacc:.2f} to {valid_accuracy:.2f}. Saving model..\")\n",
    "    best_valacc = max(valid_accuracy, best_valacc)\n",
    "    save_checkpoint({\n",
    "        'epoch': epoch,\n",
    "        'state_dict': model.state_dict(),\n",
    "        'best_valacc': best_valacc,\n",
    "        'loss': results['loss'].append(loss.detach().cpu()),\n",
    "        'val_loss': results['val_loss'].append(val_loss.detach().cpu()),\n",
    "        'train_accuracy': results['train_accuracy'].append(train_accuracy),\n",
    "        'valid_accuracy': results['valid_accuracy'].append(valid_accuracy),\n",
    "        'optimizer' : optimizer.state_dict(),\n",
    "    }, is_best, f\"{modelname}_{setting}\")\n"
   ]
  },
  {
   "cell_type": "code",
   "execution_count": null,
   "id": "2135fa64",
   "metadata": {},
   "outputs": [],
   "source": []
  },
  {
   "cell_type": "code",
   "execution_count": null,
   "id": "d5185a8b",
   "metadata": {},
   "outputs": [],
   "source": []
  }
 ],
 "metadata": {
  "kernelspec": {
   "display_name": "Python 3.9.7 64-bit ('bugai': conda)",
   "language": "python",
   "name": "python397jvsc74a57bd02d839c87abe923a8f6c83e3c07da6b84166f74541505ea2206c85c393cfdbb04"
  },
  "language_info": {
   "codemirror_mode": {
    "name": "ipython",
    "version": 3
   },
   "file_extension": ".py",
   "mimetype": "text/x-python",
   "name": "python",
   "nbconvert_exporter": "python",
   "pygments_lexer": "ipython3",
   "version": "3.9.7"
  }
 },
 "nbformat": 4,
 "nbformat_minor": 5
}
