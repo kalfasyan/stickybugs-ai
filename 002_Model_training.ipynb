{
 "cells": [
  {
   "cell_type": "code",
   "execution_count": 1,
   "id": "5ecdc4e7",
   "metadata": {},
   "outputs": [],
   "source": [
    "%reset -f\n",
    "%reload_ext autoreload\n",
    "%autoreload 2\n",
    "# %matplotlib inline\n",
    "%config Completer.use_jedi = False"
   ]
  },
  {
   "cell_type": "code",
   "execution_count": 2,
   "id": "91c3800e",
   "metadata": {},
   "outputs": [
    {
     "name": "stdout",
     "output_type": "stream",
     "text": [
      "Available workers: 8\n"
     ]
    }
   ],
   "source": [
    "from datasets import InsectImgDataset\n",
    "from utils import *\n",
    "import pandas as pd\n",
    "from pathlib import Path\n",
    "from tqdm import tqdm\n",
    "import matplotlib.pyplot as plt\n",
    "import albumentations as A\n",
    "\n",
    "from torchvision import datasets, transforms\n",
    "import torch.optim as optim\n",
    "import torch\n",
    "from torch.utils.data import DataLoader, Dataset\n",
    "import torch.nn as nn\n",
    "\n",
    "from category_encoders import OrdinalEncoder\n",
    "from sklearn.model_selection import train_test_split\n",
    "from sklearn.preprocessing import LabelEncoder\n",
    "from sklearn.metrics import confusion_matrix, accuracy_score, balanced_accuracy_score\n",
    "from sklearn.utils import class_weight\n",
    "\n",
    "setting = 'photobox'\n",
    "if setting == 'photobox':\n",
    "    ext = '.png'\n",
    "elif setting == 'fuji':\n",
    "    ext = '.jpg'"
   ]
  },
  {
   "cell_type": "code",
   "execution_count": 3,
   "id": "ad5bdbe3",
   "metadata": {},
   "outputs": [
    {
     "name": "stderr",
     "output_type": "stream",
     "text": [
      "Extracting info from filenames..: 100%|█| 26938/26938 [00:03<00:00, 8106.75it/s]\n"
     ]
    }
   ],
   "source": [
    "dfs = InsectImgDataset(ext=ext, setting=setting, directory=DATA_DIR)\n",
    "dfs.extract_df_info()\n",
    "df = dfs.df"
   ]
  },
  {
   "cell_type": "markdown",
   "id": "71459b84",
   "metadata": {},
   "source": [
    "# Creating train,val,test sets"
   ]
  },
  {
   "cell_type": "markdown",
   "id": "c854cb3e",
   "metadata": {},
   "source": [
    "## Removing outliers"
   ]
  },
  {
   "cell_type": "code",
   "execution_count": 4,
   "id": "d9db1aaf",
   "metadata": {},
   "outputs": [
    {
     "data": {
      "text/html": [
       "<div>\n",
       "<style scoped>\n",
       "    .dataframe tbody tr th:only-of-type {\n",
       "        vertical-align: middle;\n",
       "    }\n",
       "\n",
       "    .dataframe tbody tr th {\n",
       "        vertical-align: top;\n",
       "    }\n",
       "\n",
       "    .dataframe thead th {\n",
       "        text-align: right;\n",
       "    }\n",
       "</style>\n",
       "<table border=\"1\" class=\"dataframe\">\n",
       "  <thead>\n",
       "    <tr style=\"text-align: right;\">\n",
       "      <th></th>\n",
       "      <th>filename</th>\n",
       "      <th>label</th>\n",
       "      <th>imgname</th>\n",
       "      <th>platename</th>\n",
       "      <th>year</th>\n",
       "      <th>location</th>\n",
       "      <th>date</th>\n",
       "      <th>xtra</th>\n",
       "      <th>plate_idx</th>\n",
       "      <th>blur</th>\n",
       "      <th>...</th>\n",
       "      <th>mean_cnt_area</th>\n",
       "      <th>mean_cnt_perimeter</th>\n",
       "      <th>std_cnt_area</th>\n",
       "      <th>std_cnt_perimeter</th>\n",
       "      <th>R</th>\n",
       "      <th>G</th>\n",
       "      <th>B</th>\n",
       "      <th>knn_outlier</th>\n",
       "      <th>knn_outlier_score</th>\n",
       "      <th>txt_label</th>\n",
       "    </tr>\n",
       "  </thead>\n",
       "  <tbody>\n",
       "    <tr>\n",
       "      <th>0</th>\n",
       "      <td>/media/HGST_4TB/Datasets/photobox_vs_fuji/phot...</td>\n",
       "      <td>0</td>\n",
       "      <td>2020_herent_w27_1-30_4056x3040_23062020145640....</td>\n",
       "      <td>herent_w27_1-30_4056x3040_23062020145640.jpg</td>\n",
       "      <td>2020</td>\n",
       "      <td>herent</td>\n",
       "      <td>w27</td>\n",
       "      <td>1-30</td>\n",
       "      <td>24489</td>\n",
       "      <td>25.307896</td>\n",
       "      <td>...</td>\n",
       "      <td>60.870968</td>\n",
       "      <td>16.198733</td>\n",
       "      <td>835.417788</td>\n",
       "      <td>101.347855</td>\n",
       "      <td>133.678222</td>\n",
       "      <td>142.086978</td>\n",
       "      <td>129.338667</td>\n",
       "      <td>0</td>\n",
       "      <td>0.553638</td>\n",
       "      <td>bl</td>\n",
       "    </tr>\n",
       "    <tr>\n",
       "      <th>1</th>\n",
       "      <td>/media/HGST_4TB/Datasets/photobox_vs_fuji/phot...</td>\n",
       "      <td>0</td>\n",
       "      <td>2020_herent_w27_1-30_4056x3040_23062020145640....</td>\n",
       "      <td>herent_w27_1-30_4056x3040_23062020145640.jpg</td>\n",
       "      <td>2020</td>\n",
       "      <td>herent</td>\n",
       "      <td>w27</td>\n",
       "      <td>1-30</td>\n",
       "      <td>24493</td>\n",
       "      <td>21.129386</td>\n",
       "      <td>...</td>\n",
       "      <td>54.502994</td>\n",
       "      <td>16.757472</td>\n",
       "      <td>555.751472</td>\n",
       "      <td>80.321145</td>\n",
       "      <td>136.486622</td>\n",
       "      <td>148.774933</td>\n",
       "      <td>143.012622</td>\n",
       "      <td>0</td>\n",
       "      <td>0.348086</td>\n",
       "      <td>bl</td>\n",
       "    </tr>\n",
       "    <tr>\n",
       "      <th>2</th>\n",
       "      <td>/media/HGST_4TB/Datasets/photobox_vs_fuji/phot...</td>\n",
       "      <td>0</td>\n",
       "      <td>2020_herent_w27_1-30_4056x3040_23062020145640....</td>\n",
       "      <td>herent_w27_1-30_4056x3040_23062020145640.jpg</td>\n",
       "      <td>2020</td>\n",
       "      <td>herent</td>\n",
       "      <td>w27</td>\n",
       "      <td>1-30</td>\n",
       "      <td>24530</td>\n",
       "      <td>25.211150</td>\n",
       "      <td>...</td>\n",
       "      <td>31.208333</td>\n",
       "      <td>16.667472</td>\n",
       "      <td>155.566533</td>\n",
       "      <td>49.494496</td>\n",
       "      <td>146.883956</td>\n",
       "      <td>154.641333</td>\n",
       "      <td>143.112933</td>\n",
       "      <td>0</td>\n",
       "      <td>0.153271</td>\n",
       "      <td>bl</td>\n",
       "    </tr>\n",
       "    <tr>\n",
       "      <th>3</th>\n",
       "      <td>/media/HGST_4TB/Datasets/photobox_vs_fuji/phot...</td>\n",
       "      <td>0</td>\n",
       "      <td>2020_herent_w27_1-30_4056x3040_23062020145640....</td>\n",
       "      <td>herent_w27_1-30_4056x3040_23062020145640.jpg</td>\n",
       "      <td>2020</td>\n",
       "      <td>herent</td>\n",
       "      <td>w27</td>\n",
       "      <td>1-30</td>\n",
       "      <td>24532</td>\n",
       "      <td>34.813996</td>\n",
       "      <td>...</td>\n",
       "      <td>46.980226</td>\n",
       "      <td>14.289273</td>\n",
       "      <td>555.609924</td>\n",
       "      <td>87.069623</td>\n",
       "      <td>137.986843</td>\n",
       "      <td>144.721766</td>\n",
       "      <td>132.789095</td>\n",
       "      <td>0</td>\n",
       "      <td>0.398942</td>\n",
       "      <td>bl</td>\n",
       "    </tr>\n",
       "    <tr>\n",
       "      <th>4</th>\n",
       "      <td>/media/HGST_4TB/Datasets/photobox_vs_fuji/phot...</td>\n",
       "      <td>0</td>\n",
       "      <td>2020_herent_w27_1-30_4056x3040_23062020145640....</td>\n",
       "      <td>herent_w27_1-30_4056x3040_23062020145640.jpg</td>\n",
       "      <td>2020</td>\n",
       "      <td>herent</td>\n",
       "      <td>w27</td>\n",
       "      <td>1-30</td>\n",
       "      <td>24533</td>\n",
       "      <td>26.020966</td>\n",
       "      <td>...</td>\n",
       "      <td>40.770492</td>\n",
       "      <td>14.595134</td>\n",
       "      <td>497.758073</td>\n",
       "      <td>75.285206</td>\n",
       "      <td>136.351511</td>\n",
       "      <td>146.648489</td>\n",
       "      <td>137.386533</td>\n",
       "      <td>0</td>\n",
       "      <td>0.469810</td>\n",
       "      <td>bl</td>\n",
       "    </tr>\n",
       "  </tbody>\n",
       "</table>\n",
       "<p>5 rows × 21 columns</p>\n",
       "</div>"
      ],
      "text/plain": [
       "                                            filename  label  \\\n",
       "0  /media/HGST_4TB/Datasets/photobox_vs_fuji/phot...      0   \n",
       "1  /media/HGST_4TB/Datasets/photobox_vs_fuji/phot...      0   \n",
       "2  /media/HGST_4TB/Datasets/photobox_vs_fuji/phot...      0   \n",
       "3  /media/HGST_4TB/Datasets/photobox_vs_fuji/phot...      0   \n",
       "4  /media/HGST_4TB/Datasets/photobox_vs_fuji/phot...      0   \n",
       "\n",
       "                                             imgname  \\\n",
       "0  2020_herent_w27_1-30_4056x3040_23062020145640....   \n",
       "1  2020_herent_w27_1-30_4056x3040_23062020145640....   \n",
       "2  2020_herent_w27_1-30_4056x3040_23062020145640....   \n",
       "3  2020_herent_w27_1-30_4056x3040_23062020145640....   \n",
       "4  2020_herent_w27_1-30_4056x3040_23062020145640....   \n",
       "\n",
       "                                      platename  year location date  xtra  \\\n",
       "0  herent_w27_1-30_4056x3040_23062020145640.jpg  2020   herent  w27  1-30   \n",
       "1  herent_w27_1-30_4056x3040_23062020145640.jpg  2020   herent  w27  1-30   \n",
       "2  herent_w27_1-30_4056x3040_23062020145640.jpg  2020   herent  w27  1-30   \n",
       "3  herent_w27_1-30_4056x3040_23062020145640.jpg  2020   herent  w27  1-30   \n",
       "4  herent_w27_1-30_4056x3040_23062020145640.jpg  2020   herent  w27  1-30   \n",
       "\n",
       "  plate_idx       blur  ...  mean_cnt_area  mean_cnt_perimeter  std_cnt_area  \\\n",
       "0     24489  25.307896  ...      60.870968           16.198733    835.417788   \n",
       "1     24493  21.129386  ...      54.502994           16.757472    555.751472   \n",
       "2     24530  25.211150  ...      31.208333           16.667472    155.566533   \n",
       "3     24532  34.813996  ...      46.980226           14.289273    555.609924   \n",
       "4     24533  26.020966  ...      40.770492           14.595134    497.758073   \n",
       "\n",
       "   std_cnt_perimeter           R           G           B  knn_outlier  \\\n",
       "0         101.347855  133.678222  142.086978  129.338667            0   \n",
       "1          80.321145  136.486622  148.774933  143.012622            0   \n",
       "2          49.494496  146.883956  154.641333  143.112933            0   \n",
       "3          87.069623  137.986843  144.721766  132.789095            0   \n",
       "4          75.285206  136.351511  146.648489  137.386533            0   \n",
       "\n",
       "   knn_outlier_score  txt_label  \n",
       "0           0.553638         bl  \n",
       "1           0.348086         bl  \n",
       "2           0.153271         bl  \n",
       "3           0.398942         bl  \n",
       "4           0.469810         bl  \n",
       "\n",
       "[5 rows x 21 columns]"
      ]
     },
     "execution_count": 4,
     "metadata": {},
     "output_type": "execute_result"
    }
   ],
   "source": [
    "df_pre = pd.read_parquet(f\"{SAVE_DIR}/df_preparation_{setting}.parquet\")\n",
    "df = pd.merge(df,df_pre, on=['filename','label','platename','imgname','date','year','plate_idx','location','xtra'])\n",
    "df = df[df.knn_outlier==0]\n",
    "df = df[df.nb_contours>0]\n",
    "\n",
    "oe = OrdinalEncoder(cols=['label'],mapping=[{'col':'label', 'mapping':{'bl':0,'wswl':1,'sp':2,'t':3,'sw':4,'k':5,'m':6,'c':7,'v':8,'wmv':9,'wrl':10}}])\n",
    "df['txt_label'] = df['label']\n",
    "df['label'] = oe.fit_transform(df.label)\n",
    "df.head()"
   ]
  },
  {
   "cell_type": "code",
   "execution_count": 5,
   "id": "f746cd74",
   "metadata": {},
   "outputs": [
    {
     "data": {
      "image/png": "[encoded data removed]",
      "text/plain": [
       "<Figure size 1440x360 with 3 Axes>"
      ]
     },
     "metadata": {
      "needs_background": "light"
     },
     "output_type": "display_data"
    }
   ],
   "source": [
    "test_plates = train_test_split(df.platename.unique(), random_state=2022, test_size=0.2, shuffle=True)[1].tolist()\n",
    "testseries = pd.Series(test_plates)\n",
    "inds = testseries.apply(lambda x: 'wortel' in x)\n",
    "inds = testseries[inds].sample(11).index.values\n",
    "wortel_plates = testseries[inds].tolist()\n",
    "test_plates = testseries[testseries.apply(lambda x: x.split('_')[1] != 'wortel')].tolist() + wortel_plates\n",
    "\n",
    "df_trainval = df[~df.platename.isin(test_plates)]\n",
    "df_test = df[df.platename.isin(test_plates)]\n",
    "\n",
    "topclasses = df['label'].value_counts().head(11).index.tolist()\n",
    "\n",
    "df = df[df['label'].isin(topclasses)]\n",
    "df_trainval = df_trainval[df_trainval['label'].isin(topclasses)]\n",
    "df_test = df_test[df_test['label'].isin(topclasses)]\n",
    "\n",
    "class_weights = class_weight.compute_class_weight('balanced', \n",
    "                                                  classes=np.unique(df['label'].tolist()), \n",
    "                                                  y=df['label'].tolist())\n",
    "\n",
    "class_weights = {np.unique(df['label'])[i]:class_weights[i] for i in range(len(class_weights))}\n",
    "df['weights'] = df['label'].map(class_weights)\n",
    "\n",
    "df_train, df_val = train_test_split(df_trainval, test_size=0.18, random_state=42, shuffle=True)\n",
    "\n",
    "\n",
    "plt.figure(figsize=(20,5))\n",
    "plt.subplot(1,3,1);df_train.txt_label.value_counts().plot(kind='barh');plt.title(f'train, {df_train.shape[0]}')\n",
    "plt.subplot(1,3,2);df_val.txt_label.value_counts().plot(kind='barh');plt.title(f'val, {df_val.shape[0]}')\n",
    "plt.subplot(1,3,3);df_test.txt_label.value_counts().plot(kind='barh');plt.title(f'test, {df_test.shape[0]}');"
   ]
  },
  {
   "cell_type": "code",
   "execution_count": 6,
   "id": "f4fdd28e",
   "metadata": {},
   "outputs": [],
   "source": [
    "assert len(set(df_train.filename.tolist()).intersection(df_test.filename.tolist())) == 0\n",
    "assert len(set(df_train.filename.tolist()).intersection(df_val.filename.tolist())) == 0"
   ]
  },
  {
   "cell_type": "code",
   "execution_count": 7,
   "id": "af1bb016-ae27-456f-9cf1-294532cc7152",
   "metadata": {},
   "outputs": [],
   "source": [
    "df_train.to_parquet(f\"{SAVE_DIR}/df_train_{setting}.parquet\")\n",
    "df_val.to_parquet(f\"{SAVE_DIR}/df_val_{setting}.parquet\")\n",
    "df_test.to_parquet(f\"{SAVE_DIR}/df_test_{setting}.parquet\")"
   ]
  },
  {
   "cell_type": "code",
   "execution_count": 8,
   "id": "b3c7b1e5-a740-4530-ae5f-24299737f2b7",
   "metadata": {},
   "outputs": [
    {
     "data": {
      "text/plain": [
       "8     2899\n",
       "7     2737\n",
       "9     2544\n",
       "3     1502\n",
       "0     1372\n",
       "4     1260\n",
       "6      926\n",
       "10     669\n",
       "5      634\n",
       "2      311\n",
       "1      306\n",
       "Name: label, dtype: int64"
      ]
     },
     "execution_count": 8,
     "metadata": {},
     "output_type": "execute_result"
    }
   ],
   "source": [
    "df_train.label.value_counts()"
   ]
  },
  {
   "cell_type": "markdown",
   "id": "0f3166c6",
   "metadata": {
    "tags": []
   },
   "source": [
    "# Creating Pytorch Datasets and Dataloaders"
   ]
  },
  {
   "cell_type": "code",
   "execution_count": 9,
   "id": "b61c23ad",
   "metadata": {},
   "outputs": [],
   "source": [
    "transforms_list_train = [\n",
    "#     A.SmallestMaxSize(max_size=150),\n",
    "#     A.Resize(height=150,width=150,p=1),\n",
    "    A.Normalize(mean=[0.485, 0.456, 0.406],\n",
    "                                 std=[0.229, 0.224, 0.225], p=1, always_apply=True),\n",
    "    A.ShiftScaleRotate(shift_limit=0.01,rotate_limit=45, scale_limit=0, p=.5),\n",
    "    A.Rotate(limit=90, p=0.5),\n",
    "    A.HorizontalFlip(p=0.5),\n",
    "    A.VerticalFlip(p=0.5),\n",
    "    # A.RandomGamma(p=0.5),\n",
    "     A.RandomBrightnessContrast(p=0.2),\n",
    "     A.GaussianBlur(blur_limit=(3,3), p=0.1)\n",
    "]\n",
    "\n",
    "transforms_list_test = [\n",
    "    A.Normalize(mean=[0.485, 0.456, 0.406],\n",
    "                std=[0.229, 0.224, 0.225], \n",
    "                p=1, \n",
    "                always_apply=True)\n",
    "]\n",
    "\n",
    "train_dataset = InsectImgDataset(df=df_train.reset_index(drop=True), transform=A.Compose(transforms_list_train))\n",
    "valid_dataset = InsectImgDataset(df=df_val.reset_index(drop=True), transform=A.Compose(transforms_list_test))\n",
    "test_dataset = InsectImgDataset(df=df_test.reset_index(drop=True), transform=A.Compose(transforms_list_test))\n",
    "\n",
    "batch_size = 32\n",
    "batch_size_val = 32\n",
    "\n",
    "train_dataloader = DataLoader(train_dataset, batch_size=batch_size, shuffle=True, num_workers=4, pin_memory=True, worker_init_fn=worker_init_fn)\n",
    "valid_dataloader = DataLoader(valid_dataset, batch_size=batch_size_val, shuffle=False, num_workers=4, pin_memory=True, worker_init_fn=worker_init_fn)\n",
    "test_dataloader = DataLoader(test_dataset, batch_size=batch_size_val, shuffle=False, num_workers=4, pin_memory=True, worker_init_fn=worker_init_fn)\n",
    "\n",
    "# plt.imshow(train_dataset[0][0]); plt.title(f\"Example train image, class:{train_dataset[0][1]}\");"
   ]
  },
  {
   "cell_type": "markdown",
   "id": "890f75ae",
   "metadata": {},
   "source": [
    "# Defining the model and training parameters"
   ]
  },
  {
   "cell_type": "code",
   "execution_count": 10,
   "id": "234389bd",
   "metadata": {},
   "outputs": [],
   "source": [
    "torch.backends.cudnn.benchmark = True"
   ]
  },
  {
   "cell_type": "code",
   "execution_count": 11,
   "id": "d5993df8",
   "metadata": {},
   "outputs": [
    {
     "name": "stdout",
     "output_type": "stream",
     "text": [
      "Train on gpu: True\n"
     ]
    }
   ],
   "source": [
    "modelname = \"vgg16\"\n",
    "model = model_selector(modelname, pretrained=True)\n",
    "\n",
    "if modelname.startswith(\"dense\"):\n",
    "    num_ftrs = model.classifier.in_features\n",
    "    model.classifier = nn.Linear(num_ftrs,len(topclasses))\n",
    "if modelname.startswith(\"resn\"):\n",
    "    num_ftrs = model.fc.in_features\n",
    "    model.fc = nn.Linear(num_ftrs,len(topclasses))\n",
    "if modelname.startswith(\"efficient\"):\n",
    "    num_ftrs = model.classifier[1].in_features\n",
    "    model.classifier[1] = nn.Linear(num_ftrs,len(topclasses))\n",
    "if modelname.startswith(\"vgg\"):\n",
    "    num_ftrs = model.classifier[-1].in_features\n",
    "    model.classifier[-1] = nn.Linear(num_ftrs, len(topclasses))\n",
    "    \n",
    "# Choosing whether to train on a gpu\n",
    "train_on_gpu = torch.cuda.is_available()\n",
    "print(f'Train on gpu: {train_on_gpu}')# Number of gpus\n",
    "model = model.to('cuda', dtype=torch.float)\n",
    "\n",
    "num_epochs = 40\n",
    "\n",
    "class_sample_count = np.unique(df_train.label, return_counts=True)[1]\n",
    "weight = 1. / class_sample_count  \n",
    "criterion = nn.CrossEntropyLoss(weight=torch.Tensor(weight).cuda(), label_smoothing=.1)"
   ]
  },
  {
   "cell_type": "code",
   "execution_count": 12,
   "id": "276ad0e6",
   "metadata": {},
   "outputs": [],
   "source": [
    "optimizer = optim.Adam(model.parameters(), lr=.001)\n",
    "scheduler = torch.optim.lr_scheduler.CyclicLR(optimizer, base_lr=0.0001, max_lr=0.01, cycle_momentum=False, mode=\"triangular2\")"
   ]
  },
  {
   "cell_type": "code",
   "execution_count": 13,
   "id": "62e6d957",
   "metadata": {},
   "outputs": [],
   "source": [
    "#optimizer = optim.Adam(model.parameters(), lr=0.001, eps=1e-3, amsgrad=True)\n",
    "#scheduler = torch.optim.lr_scheduler.CyclicLR(optimizer, base_lr=0.0001, max_lr=0.01, cycle_momentum=False, mode=\"triangular2\")"
   ]
  },
  {
   "cell_type": "markdown",
   "id": "65cc53eb",
   "metadata": {},
   "source": [
    "# Training"
   ]
  },
  {
   "cell_type": "code",
   "execution_count": null,
   "id": "7ace6f25",
   "metadata": {
    "scrolled": true,
    "tags": []
   },
   "outputs": [
    {
     "name": "stderr",
     "output_type": "stream",
     "text": [
      "Training..\t: 100%|████████████████████████████| 474/474 [01:49<00:00,  4.33it/s]\n",
      "Validating..\t: 100%|██████████████████████████| 105/105 [00:07<00:00, 14.77it/s]\n"
     ]
    },
    {
     "name": "stdout",
     "output_type": "stream",
     "text": [
      "Epoch 0: train_acc: 48.3% loss: 1.5359921,  val_loss: 2.0412858 val_acc: 57.9%\n",
      "Validation accuracy improved from 0.00 to 57.86. Saving model..\n"
     ]
    },
    {
     "name": "stderr",
     "output_type": "stream",
     "text": [
      "Training..\t:  24%|██████▋                     | 113/474 [00:25<01:20,  4.50it/s]"
     ]
    }
   ],
   "source": [
    "results = {\"loss\":[], \"val_loss\":[], \"train_accuracy\":[], \"valid_accuracy\":[]}\n",
    "best_valacc = 0\n",
    "# Model training\n",
    "for epoch in range(num_epochs):\n",
    "    # Going through the training set\n",
    "    correct_train = 0\n",
    "    model.train()\n",
    "    for x_batch,y_batch,imgname,platename,filename,plate_idx,location,date,year,xtra,width,height in tqdm(train_dataloader, desc='Training..\\t'):        \n",
    "        y_batch = torch.as_tensor(y_batch)\n",
    "        x_batch,y_batch = x_batch.float().cuda(), y_batch.cuda()\n",
    "        for param in model.parameters():\n",
    "            param.grad = None\n",
    "        pred = model(x_batch)\n",
    "\n",
    "        y_batch = y_batch.type(torch.LongTensor).cuda()\n",
    "        correct_train += (pred.argmax(axis=1) == y_batch).float().sum().item()\n",
    "        loss = criterion(pred, y_batch)\n",
    "        loss.backward()\n",
    "        optimizer.step()\n",
    "    train_accuracy = correct_train / len(train_dataset) * 100.\n",
    "    torch.cuda.empty_cache()\n",
    "\n",
    "    \n",
    "    # Going through the validation set\n",
    "    correct_valid = 0\n",
    "    model.eval()\n",
    "    with torch.no_grad():\n",
    "        for x_batch,y_batch,imgname,platename,filename,plate_idx,location,date,year,xtra,width,height in tqdm(valid_dataloader, desc='Validating..\\t'):\n",
    "            y_batch = torch.as_tensor(y_batch)\n",
    "            x_batch,y_batch = x_batch.float().cuda(), y_batch.cuda()\n",
    "            pred = model(x_batch)\n",
    "\n",
    "            y_batch = y_batch.type(torch.LongTensor).cuda()\n",
    "            correct_valid += (pred.argmax(axis=1) == y_batch).float().sum().item()\n",
    "            val_loss = criterion(pred, y_batch)\n",
    "    valid_accuracy = correct_valid / len(valid_dataset) * 100.\n",
    "\n",
    "    scheduler.step()\n",
    "\n",
    "\n",
    "    # Printing results\n",
    "    print(f\"Epoch {epoch}: train_acc: {train_accuracy:.1f}% loss: {loss:.7f},  val_loss: {val_loss:.7f} val_acc: {valid_accuracy:.1f}%\")\n",
    "        \n",
    "    is_best = valid_accuracy > best_valacc\n",
    "    if is_best:\n",
    "        print(f\"Validation accuracy improved from {best_valacc:.2f} to {valid_accuracy:.2f}. Saving model..\")\n",
    "    best_valacc = max(valid_accuracy, best_valacc)\n",
    "    save_checkpoint({\n",
    "        'epoch': epoch,\n",
    "        'state_dict': model.state_dict(),\n",
    "        'best_valacc': best_valacc,\n",
    "        'loss': results['loss'].append(loss.detach().cpu()),\n",
    "        'val_loss': results['val_loss'].append(val_loss.detach().cpu()),\n",
    "        'train_accuracy': results['train_accuracy'].append(train_accuracy),\n",
    "        'valid_accuracy': results['valid_accuracy'].append(valid_accuracy),\n",
    "        'optimizer' : optimizer.state_dict(),\n",
    "    }, is_best, f\"{modelname}_{setting}\")\n"
   ]
  },
  {
   "cell_type": "code",
   "execution_count": null,
   "id": "2135fa64",
   "metadata": {},
   "outputs": [],
   "source": []
  },
  {
   "cell_type": "code",
   "execution_count": null,
   "id": "d5185a8b",
   "metadata": {},
   "outputs": [],
   "source": []
  }
 ],
 "metadata": {
  "kernelspec": {
   "display_name": "Python 3.9.7 64-bit ('bugai': conda)",
   "language": "python",
   "name": "python397jvsc74a57bd02d839c87abe923a8f6c83e3c07da6b84166f74541505ea2206c85c393cfdbb04"
  },
  "language_info": {
   "codemirror_mode": {
    "name": "ipython",
    "version": 3
   },
   "file_extension": ".py",
   "mimetype": "text/x-python",
   "name": "python",
   "nbconvert_exporter": "python",
   "pygments_lexer": "ipython3",
   "version": "3.9.7"
  }
 },
 "nbformat": 4,
 "nbformat_minor": 5
}
