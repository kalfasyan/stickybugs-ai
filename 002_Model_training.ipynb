{
 "cells": [
  {
   "cell_type": "code",
   "execution_count": 1,
   "id": "5ecdc4e7",
   "metadata": {},
   "outputs": [],
   "source": [
    "%reset -f\n",
    "%reload_ext autoreload\n",
    "%autoreload 2\n",
    "# %matplotlib inline\n",
    "%config Completer.use_jedi = False"
   ]
  },
  {
   "cell_type": "code",
   "execution_count": 2,
   "id": "91c3800e",
   "metadata": {},
   "outputs": [
    {
     "name": "stdout",
     "output_type": "stream",
     "text": [
      "Available workers: 16\n"
     ]
    }
   ],
   "source": [
    "from datasets import InsectImgDataset\n",
    "from utils import *\n",
    "import pandas as pd\n",
    "from pathlib import Path\n",
    "from tqdm import tqdm\n",
    "import matplotlib.pyplot as plt\n",
    "\n",
    "from torchvision import datasets\n",
    "import torchvision.transforms as T\n",
    "import torch.optim as optim\n",
    "import torch\n",
    "from torch.utils.data import DataLoader, Dataset\n",
    "import torch.nn as nn\n",
    "\n",
    "from category_encoders import OrdinalEncoder\n",
    "from sklearn.model_selection import train_test_split\n",
    "from sklearn.preprocessing import LabelEncoder\n",
    "from sklearn.metrics import confusion_matrix, accuracy_score, balanced_accuracy_score\n",
    "from sklearn.utils import class_weight\n",
    "\n",
    "setting = 'photobox'\n",
    "if setting == 'photobox':\n",
    "    ext = '.png'\n",
    "elif setting == 'fuji':\n",
    "    ext = '.jpg'"
   ]
  },
  {
   "cell_type": "markdown",
   "id": "71459b84",
   "metadata": {},
   "source": [
    "# Creating train,val,test sets"
   ]
  },
  {
   "cell_type": "markdown",
   "id": "c854cb3e",
   "metadata": {},
   "source": [
    "## Removing outliers"
   ]
  },
  {
   "cell_type": "code",
   "execution_count": 3,
   "id": "d9db1aaf",
   "metadata": {},
   "outputs": [
    {
     "data": {
      "text/plain": [
       "9     5820\n",
       "8     5479\n",
       "7     4575\n",
       "4     3025\n",
       "0     2406\n",
       "3     2390\n",
       "10    1874\n",
       "6     1552\n",
       "5     1087\n",
       "2     1026\n",
       "1      711\n",
       "11     680\n",
       "Name: label, dtype: int64"
      ]
     },
     "execution_count": 3,
     "metadata": {},
     "output_type": "execute_result"
    }
   ],
   "source": [
    "df = pd.read_parquet(f\"{SAVE_DIR}/df_preparation_{setting}.parquet\")\n",
    "# df = pd.merge(df,df_pre, on=['filename','platename','imgname','date','year','plate_idx','location','xtra'])\n",
    "# df = df[df.knn_outlier==0]\n",
    "# df = df[df.nb_contours>0]\n",
    "# print(df.label.unique())\n",
    "\n",
    "oe = OrdinalEncoder(cols=['label'],mapping=[{'col':'label', 'mapping':{'bl':0,'wswl':1,'sp':2,'t':3,'sw':4,'k':5,'m':6,'c':7,'v':8,'wmv':9,'wrl':10,'other':11}}])\n",
    "df['txt_label'] = df['label']\n",
    "df['label'] = oe.fit_transform(df.label)\n",
    "df.label.value_counts()"
   ]
  },
  {
   "cell_type": "code",
   "execution_count": 4,
   "id": "f746cd74",
   "metadata": {},
   "outputs": [
    {
     "data": {
      "image/png": "[encoded data removed]",
      "text/plain": [
       "<Figure size 1440x360 with 3 Axes>"
      ]
     },
     "metadata": {
      "needs_background": "light"
     },
     "output_type": "display_data"
    }
   ],
   "source": [
    "test_plates = train_test_split(df.platename.unique(), random_state=2022, test_size=0.2, shuffle=True)[1].tolist()\n",
    "testseries = pd.Series(test_plates)\n",
    "inds = testseries.apply(lambda x: 'wortel' in x)\n",
    "inds = testseries[inds].sample(11).index.values\n",
    "wortel_plates = testseries[inds].tolist()\n",
    "test_plates = testseries[testseries.apply(lambda x: x.split('_')[1] != 'wortel')].tolist() + wortel_plates\n",
    "\n",
    "df_trainval = df[~df.platename.isin(test_plates)]\n",
    "df_test = df[df.platename.isin(test_plates)]\n",
    "\n",
    "topclasses = df['label'].value_counts().head(12).index.tolist()\n",
    "\n",
    "df = df[df['label'].isin(topclasses)]\n",
    "df_trainval = df_trainval[df_trainval['label'].isin(topclasses)]\n",
    "df_test = df_test[df_test['label'].isin(topclasses)]\n",
    "\n",
    "class_weights = class_weight.compute_class_weight('balanced', \n",
    "                                                  classes=np.unique(df['label'].tolist()), \n",
    "                                                  y=df['label'].tolist())\n",
    "\n",
    "class_weights = {np.unique(df['label'])[i]:class_weights[i] for i in range(len(class_weights))}\n",
    "df['weights'] = df['label'].map(class_weights)\n",
    "\n",
    "df_train, df_val = train_test_split(df_trainval, test_size=0.18, random_state=42, shuffle=True)\n",
    "\n",
    "\n",
    "plt.figure(figsize=(20,5))\n",
    "plt.subplot(1,3,1);df_train.txt_label.value_counts().plot(kind='barh');plt.title(f'train, {df_train.shape[0]}')\n",
    "plt.subplot(1,3,2);df_val.txt_label.value_counts().plot(kind='barh');plt.title(f'val, {df_val.shape[0]}')\n",
    "plt.subplot(1,3,3);df_test.txt_label.value_counts().plot(kind='barh');plt.title(f'test, {df_test.shape[0]}');"
   ]
  },
  {
   "cell_type": "code",
   "execution_count": 5,
   "id": "f4fdd28e",
   "metadata": {},
   "outputs": [],
   "source": [
    "assert len(set(df_train.filename.tolist()).intersection(df_test.filename.tolist())) == 0\n",
    "assert len(set(df_train.filename.tolist()).intersection(df_val.filename.tolist())) == 0"
   ]
  },
  {
   "cell_type": "code",
   "execution_count": 6,
   "id": "af1bb016-ae27-456f-9cf1-294532cc7152",
   "metadata": {},
   "outputs": [],
   "source": [
    "df_train.to_parquet(f\"{SAVE_DIR}/df_train_{setting}.parquet\")\n",
    "df_val.to_parquet(f\"{SAVE_DIR}/df_val_{setting}.parquet\")\n",
    "df_test.to_parquet(f\"{SAVE_DIR}/df_test_{setting}.parquet\")"
   ]
  },
  {
   "cell_type": "code",
   "execution_count": 7,
   "id": "b3c7b1e5-a740-4530-ae5f-24299737f2b7",
   "metadata": {},
   "outputs": [
    {
     "data": {
      "text/plain": [
       "9     3921\n",
       "8     3637\n",
       "7     3092\n",
       "4     2043\n",
       "3     1731\n",
       "0     1563\n",
       "10    1483\n",
       "6     1106\n",
       "5      744\n",
       "2      689\n",
       "1      463\n",
       "11     456\n",
       "Name: label, dtype: int64"
      ]
     },
     "execution_count": 7,
     "metadata": {},
     "output_type": "execute_result"
    }
   ],
   "source": [
    "df_train.label.value_counts()"
   ]
  },
  {
   "cell_type": "markdown",
   "id": "0f3166c6",
   "metadata": {
    "tags": []
   },
   "source": [
    "# Creating Pytorch Datasets and Dataloaders"
   ]
  },
  {
   "cell_type": "code",
   "execution_count": 8,
   "id": "b61c23ad",
   "metadata": {},
   "outputs": [],
   "source": [
    "transforms_list_train = [\n",
    "#     A.SmallestMaxSize(max_size=150),\n",
    "    T.ToPILImage(),\n",
    "    T.Resize(size=(150,150)),\n",
    "    T.RandomVerticalFlip(p=0.5),\n",
    "    T.RandomHorizontalFlip(p=0.5),\n",
    "    T.RandomAutocontrast(p=0.5),\n",
    "    T.RandomAdjustSharpness(sharpness_factor=1.5, p=0.5),\n",
    "    T.RandomRotation(degrees=(-15,15)),\n",
    "    T.RandomPosterize(bits=7, p=0.1),\n",
    "    # T.RandomEqualize(p=0.5),\n",
    "    T.ToTensor(),\n",
    "]\n",
    "\n",
    "transforms_list_test = [\n",
    "    T.ToPILImage(),\n",
    "    T.Resize(size=(150,150)),    \n",
    "    T.ToTensor(),\n",
    "]\n",
    "\n",
    "train_dataset = InsectImgDataset(df=df_train.reset_index(drop=True), transform=T.Compose(transforms_list_train))\n",
    "valid_dataset = InsectImgDataset(df=df_val.reset_index(drop=True), transform=T.Compose(transforms_list_test))\n",
    "test_dataset = InsectImgDataset(df=df_test.reset_index(drop=True), transform=T.Compose(transforms_list_test))\n",
    "\n",
    "batch_size = 32\n",
    "batch_size_val = 32\n",
    "\n",
    "train_dataloader = DataLoader(train_dataset, batch_size=batch_size, shuffle=True, num_workers=4, pin_memory=True, worker_init_fn=worker_init_fn)\n",
    "valid_dataloader = DataLoader(valid_dataset, batch_size=batch_size_val, shuffle=False, num_workers=4, pin_memory=True, worker_init_fn=worker_init_fn)\n",
    "test_dataloader = DataLoader(test_dataset, batch_size=batch_size_val, shuffle=False, num_workers=4, pin_memory=True, worker_init_fn=worker_init_fn)\n",
    "\n",
    "# plt.imshow(train_dataset[0][0]); plt.title(f\"Example train image, class:{train_dataset[0][1]}\");"
   ]
  },
  {
   "cell_type": "code",
   "execution_count": 9,
   "id": "180a5c16-eedc-48fa-96d1-50a78cbd807c",
   "metadata": {},
   "outputs": [],
   "source": [
    "tensor_image = train_dataset[150][0]\n",
    "# print(tensor_image)\n",
    "# plt.imshow(  tensor_image.permute(1, 2, 0)  )\n",
    "# print(tensor_image.permute(1, 2, 0).shape)"
   ]
  },
  {
   "cell_type": "markdown",
   "id": "890f75ae",
   "metadata": {},
   "source": [
    "#### Defining the model and training parameters"
   ]
  },
  {
   "cell_type": "code",
   "execution_count": 10,
   "id": "234389bd",
   "metadata": {},
   "outputs": [],
   "source": [
    "torch.backends.cudnn.benchmark = True"
   ]
  },
  {
   "cell_type": "code",
   "execution_count": 11,
   "id": "33de9ef2-5532-4e88-80fd-9e1730958f47",
   "metadata": {
    "scrolled": true,
    "tags": []
   },
   "outputs": [],
   "source": [
    "modelname = \"densenet121\"\n",
    "model = model_selector(modelname, pretrained=True)\n",
    "\n",
    "if modelname.startswith(\"dense\"):\n",
    "    num_ftrs = model.classifier.in_features\n",
    "    model.classifier = nn.Sequential(\n",
    "                            nn.Linear(num_ftrs,512),\n",
    "                            nn.ReLU(),\n",
    "                            nn.Dropout(0.5),\n",
    "                            nn.Linear(512, len(topclasses)))\n",
    "if modelname.startswith(\"resn\"):\n",
    "    num_ftrs = model.fc.in_features\n",
    "    model.fc = nn.Linear(num_ftrs,len(topclasses))\n",
    "if modelname.startswith(\"efficient\"):\n",
    "    num_ftrs = model.classifier[1].in_features\n",
    "    model.classifier[1] = nn.Linear(num_ftrs,len(topclasses))\n",
    "if modelname.startswith(\"vgg\"):\n",
    "    num_ftrs = model.classifier[-1].in_features\n",
    "    model.classifier[-1] = nn.Linear(num_ftrs, len(topclasses))\n",
    "if modelname.startswith(\"mobile\"):\n",
    "    num_ftrs = model.classifier[-1].in_features\n",
    "    model.classifier[-1] = nn.Linear(num_ftrs, len(topclasses))"
   ]
  },
  {
   "cell_type": "code",
   "execution_count": 12,
   "id": "c75127b5-49c6-42cc-b5e8-98d23f40c485",
   "metadata": {
    "scrolled": true,
    "tags": []
   },
   "outputs": [
    {
     "name": "stdout",
     "output_type": "stream",
     "text": [
      "Train on gpu: True\n"
     ]
    }
   ],
   "source": [
    "# Choosing whether to train on a gpu\n",
    "train_on_gpu = torch.cuda.is_available()\n",
    "print(f'Train on gpu: {train_on_gpu}')# Number of gpus\n",
    "model = model.to('cuda', dtype=torch.float)\n",
    "\n",
    "num_epochs = 150\n",
    "\n",
    "class_sample_count = np.unique(df_train.label, return_counts=True)[1]\n",
    "weight = 1. / class_sample_count  \n",
    "criterion = nn.CrossEntropyLoss(label_smoothing=.25, weight=torch.Tensor(weight).cuda())"
   ]
  },
  {
   "cell_type": "code",
   "execution_count": 13,
   "id": "276ad0e6",
   "metadata": {},
   "outputs": [],
   "source": [
    "optimizer = optim.AdamW(model.parameters(), lr=.003, weight_decay=0.01)#optim.Adam(model.parameters(), lr=.001)\n",
    "scheduler = torch.optim.lr_scheduler.CyclicLR(optimizer, base_lr=0.0003, max_lr=0.03, cycle_momentum=False, mode=\"triangular2\")"
   ]
  },
  {
   "cell_type": "code",
   "execution_count": 14,
   "id": "62e6d957",
   "metadata": {},
   "outputs": [],
   "source": [
    "#optimizer = optim.Adam(model.parameters(), lr=0.001, eps=1e-3, amsgrad=True)\n",
    "#scheduler = torch.optim.lr_scheduler.CyclicLR(optimizer, base_lr=0.0001, max_lr=0.01, cycle_momentum=False, mode=\"triangular2\")"
   ]
  },
  {
   "cell_type": "markdown",
   "id": "65cc53eb",
   "metadata": {},
   "source": [
    "# Training"
   ]
  },
  {
   "cell_type": "code",
   "execution_count": 15,
   "id": "7ace6f25",
   "metadata": {
    "tags": []
   },
   "outputs": [
    {
     "name": "stderr",
     "output_type": "stream",
     "text": [
      "Training..\t: 100%|█| 654/654 [01:27<00:\n",
      "Validating..\t: 100%|█| 144/144 [00:05<0\n"
     ]
    },
    {
     "name": "stdout",
     "output_type": "stream",
     "text": [
      "Epoch 0: train_acc: 54.5% loss: 2.3505340,  val_loss: 1.8249251 val_acc: 68.0%\n",
      "Validation accuracy improved from 0.00 to 67.98. Saving model..\n"
     ]
    },
    {
     "name": "stderr",
     "output_type": "stream",
     "text": [
      "Training..\t: 100%|█| 654/654 [01:24<00:\n",
      "Validating..\t: 100%|█| 144/144 [00:04<0\n"
     ]
    },
    {
     "name": "stdout",
     "output_type": "stream",
     "text": [
      "Epoch 1: train_acc: 66.8% loss: 2.0245275,  val_loss: 1.7562437 val_acc: 67.6%\n"
     ]
    },
    {
     "name": "stderr",
     "output_type": "stream",
     "text": [
      "Training..\t: 100%|█| 654/654 [01:24<00:\n",
      "Validating..\t: 100%|█| 144/144 [00:04<0\n"
     ]
    },
    {
     "name": "stdout",
     "output_type": "stream",
     "text": [
      "Epoch 2: train_acc: 69.9% loss: 1.8612411,  val_loss: 1.5862159 val_acc: 71.8%\n",
      "Validation accuracy improved from 67.98 to 71.77. Saving model..\n"
     ]
    },
    {
     "name": "stderr",
     "output_type": "stream",
     "text": [
      "Training..\t: 100%|█| 654/654 [01:24<00:\n",
      "Validating..\t: 100%|█| 144/144 [00:04<0\n"
     ]
    },
    {
     "name": "stdout",
     "output_type": "stream",
     "text": [
      "Epoch 3: train_acc: 71.6% loss: 1.9976370,  val_loss: 1.6645259 val_acc: 74.1%\n",
      "Validation accuracy improved from 71.77 to 74.10. Saving model..\n"
     ]
    },
    {
     "name": "stderr",
     "output_type": "stream",
     "text": [
      "Training..\t: 100%|█| 654/654 [01:24<00:\n",
      "Validating..\t: 100%|█| 144/144 [00:04<0\n"
     ]
    },
    {
     "name": "stdout",
     "output_type": "stream",
     "text": [
      "Epoch 4: train_acc: 73.1% loss: 2.0362792,  val_loss: 1.6783377 val_acc: 74.1%\n"
     ]
    },
    {
     "name": "stderr",
     "output_type": "stream",
     "text": [
      "Training..\t: 100%|█| 654/654 [01:24<00:\n",
      "Validating..\t: 100%|█| 144/144 [00:04<0\n"
     ]
    },
    {
     "name": "stdout",
     "output_type": "stream",
     "text": [
      "Epoch 5: train_acc: 73.5% loss: 2.2972002,  val_loss: 1.6659627 val_acc: 72.0%\n"
     ]
    },
    {
     "name": "stderr",
     "output_type": "stream",
     "text": [
      "Training..\t: 100%|█| 654/654 [01:24<00:\n",
      "Validating..\t: 100%|█| 144/144 [00:04<0\n"
     ]
    },
    {
     "name": "stdout",
     "output_type": "stream",
     "text": [
      "Epoch 6: train_acc: 74.8% loss: 1.9485171,  val_loss: 1.5196570 val_acc: 76.5%\n",
      "Validation accuracy improved from 74.10 to 76.51. Saving model..\n"
     ]
    },
    {
     "name": "stderr",
     "output_type": "stream",
     "text": [
      "Training..\t: 100%|█| 654/654 [01:25<00:\n",
      "Validating..\t: 100%|█| 144/144 [00:04<0\n"
     ]
    },
    {
     "name": "stdout",
     "output_type": "stream",
     "text": [
      "Epoch 7: train_acc: 75.5% loss: 1.7060459,  val_loss: 1.5586739 val_acc: 76.1%\n"
     ]
    },
    {
     "name": "stderr",
     "output_type": "stream",
     "text": [
      "Training..\t: 100%|█| 654/654 [01:24<00:\n",
      "Validating..\t: 100%|█| 144/144 [00:04<0\n"
     ]
    },
    {
     "name": "stdout",
     "output_type": "stream",
     "text": [
      "Epoch 8: train_acc: 75.9% loss: 2.3800023,  val_loss: 1.6944118 val_acc: 73.7%\n"
     ]
    },
    {
     "name": "stderr",
     "output_type": "stream",
     "text": [
      "Training..\t: 100%|█| 654/654 [01:24<00:\n",
      "Validating..\t: 100%|█| 144/144 [00:04<0\n"
     ]
    },
    {
     "name": "stdout",
     "output_type": "stream",
     "text": [
      "Epoch 9: train_acc: 76.7% loss: 2.4172306,  val_loss: 1.5383925 val_acc: 78.6%\n",
      "Validation accuracy improved from 76.51 to 78.62. Saving model..\n"
     ]
    },
    {
     "name": "stderr",
     "output_type": "stream",
     "text": [
      "Training..\t: 100%|█| 654/654 [01:24<00:\n",
      "Validating..\t: 100%|█| 144/144 [00:04<0\n"
     ]
    },
    {
     "name": "stdout",
     "output_type": "stream",
     "text": [
      "Epoch 10: train_acc: 77.3% loss: 1.5760162,  val_loss: 1.6130569 val_acc: 78.3%\n"
     ]
    },
    {
     "name": "stderr",
     "output_type": "stream",
     "text": [
      "Training..\t: 100%|█| 654/654 [01:24<00:\n",
      "Validating..\t: 100%|█| 144/144 [00:04<0\n"
     ]
    },
    {
     "name": "stdout",
     "output_type": "stream",
     "text": [
      "Epoch 11: train_acc: 77.2% loss: 1.6554340,  val_loss: 1.4410977 val_acc: 76.6%\n"
     ]
    },
    {
     "name": "stderr",
     "output_type": "stream",
     "text": [
      "Training..\t: 100%|█| 654/654 [01:24<00:\n",
      "Validating..\t: 100%|█| 144/144 [00:04<0\n"
     ]
    },
    {
     "name": "stdout",
     "output_type": "stream",
     "text": [
      "Epoch 12: train_acc: 77.7% loss: 2.1754498,  val_loss: 1.5408003 val_acc: 77.1%\n"
     ]
    },
    {
     "name": "stderr",
     "output_type": "stream",
     "text": [
      "Training..\t: 100%|█| 654/654 [01:24<00:\n",
      "Validating..\t: 100%|█| 144/144 [00:04<0\n"
     ]
    },
    {
     "name": "stdout",
     "output_type": "stream",
     "text": [
      "Epoch 13: train_acc: 78.0% loss: 2.1609926,  val_loss: 1.5446463 val_acc: 74.1%\n"
     ]
    },
    {
     "name": "stderr",
     "output_type": "stream",
     "text": [
      "Training..\t: 100%|█| 654/654 [01:24<00:\n",
      "Validating..\t: 100%|█| 144/144 [00:04<0\n"
     ]
    },
    {
     "name": "stdout",
     "output_type": "stream",
     "text": [
      "Epoch 14: train_acc: 78.6% loss: 1.8243511,  val_loss: 1.6105556 val_acc: 75.2%\n"
     ]
    },
    {
     "name": "stderr",
     "output_type": "stream",
     "text": [
      "Training..\t: 100%|█| 654/654 [01:24<00:\n",
      "Validating..\t: 100%|█| 144/144 [00:04<0\n"
     ]
    },
    {
     "name": "stdout",
     "output_type": "stream",
     "text": [
      "Epoch 15: train_acc: 78.8% loss: 2.3078871,  val_loss: 1.5196830 val_acc: 77.4%\n"
     ]
    },
    {
     "name": "stderr",
     "output_type": "stream",
     "text": [
      "Training..\t: 100%|█| 654/654 [01:24<00:\n",
      "Validating..\t: 100%|█| 144/144 [00:04<0\n"
     ]
    },
    {
     "name": "stdout",
     "output_type": "stream",
     "text": [
      "Epoch 16: train_acc: 78.6% loss: 1.9143732,  val_loss: 1.4715989 val_acc: 79.5%\n",
      "Validation accuracy improved from 78.62 to 79.52. Saving model..\n"
     ]
    },
    {
     "name": "stderr",
     "output_type": "stream",
     "text": [
      "Training..\t: 100%|█| 654/654 [01:24<00:\n",
      "Validating..\t: 100%|█| 144/144 [00:04<0\n"
     ]
    },
    {
     "name": "stdout",
     "output_type": "stream",
     "text": [
      "Epoch 17: train_acc: 79.3% loss: 1.8623531,  val_loss: 1.5080647 val_acc: 79.3%\n"
     ]
    },
    {
     "name": "stderr",
     "output_type": "stream",
     "text": [
      "Training..\t: 100%|█| 654/654 [01:24<00:\n",
      "Validating..\t: 100%|█| 144/144 [00:04<0\n"
     ]
    },
    {
     "name": "stdout",
     "output_type": "stream",
     "text": [
      "Epoch 18: train_acc: 79.9% loss: 1.7156537,  val_loss: 1.4638188 val_acc: 76.1%\n"
     ]
    },
    {
     "name": "stderr",
     "output_type": "stream",
     "text": [
      "Training..\t: 100%|█| 654/654 [01:24<00:\n",
      "Validating..\t: 100%|█| 144/144 [00:04<0\n"
     ]
    },
    {
     "name": "stdout",
     "output_type": "stream",
     "text": [
      "Epoch 19: train_acc: 79.7% loss: 1.8625197,  val_loss: 1.5282050 val_acc: 77.6%\n"
     ]
    },
    {
     "name": "stderr",
     "output_type": "stream",
     "text": [
      "Training..\t: 100%|█| 654/654 [01:24<00:\n",
      "Validating..\t: 100%|█| 144/144 [00:04<0\n"
     ]
    },
    {
     "name": "stdout",
     "output_type": "stream",
     "text": [
      "Epoch 20: train_acc: 80.3% loss: 1.9468613,  val_loss: 1.4900575 val_acc: 77.7%\n"
     ]
    },
    {
     "name": "stderr",
     "output_type": "stream",
     "text": [
      "Training..\t: 100%|█| 654/654 [01:24<00:\n",
      "Validating..\t: 100%|█| 144/144 [00:04<0\n"
     ]
    },
    {
     "name": "stdout",
     "output_type": "stream",
     "text": [
      "Epoch 21: train_acc: 80.2% loss: 1.8699453,  val_loss: 1.5633353 val_acc: 78.0%\n"
     ]
    },
    {
     "name": "stderr",
     "output_type": "stream",
     "text": [
      "Training..\t: 100%|█| 654/654 [01:24<00:\n",
      "Validating..\t: 100%|█| 144/144 [00:04<0\n"
     ]
    },
    {
     "name": "stdout",
     "output_type": "stream",
     "text": [
      "Epoch 22: train_acc: 80.7% loss: 2.2455215,  val_loss: 1.5565331 val_acc: 78.5%\n"
     ]
    },
    {
     "name": "stderr",
     "output_type": "stream",
     "text": [
      "Training..\t: 100%|█| 654/654 [01:24<00:\n",
      "Validating..\t: 100%|█| 144/144 [00:04<0\n"
     ]
    },
    {
     "name": "stdout",
     "output_type": "stream",
     "text": [
      "Epoch 23: train_acc: 81.2% loss: 1.7186381,  val_loss: 1.5390894 val_acc: 76.3%\n"
     ]
    },
    {
     "name": "stderr",
     "output_type": "stream",
     "text": [
      "Training..\t: 100%|█| 654/654 [01:24<00:\n",
      "Validating..\t: 100%|█| 144/144 [00:04<0\n"
     ]
    },
    {
     "name": "stdout",
     "output_type": "stream",
     "text": [
      "Epoch 24: train_acc: 80.5% loss: 1.9196357,  val_loss: 1.5069605 val_acc: 78.5%\n"
     ]
    },
    {
     "name": "stderr",
     "output_type": "stream",
     "text": [
      "Training..\t: 100%|█| 654/654 [01:24<00:\n",
      "Validating..\t: 100%|█| 144/144 [00:04<0\n"
     ]
    },
    {
     "name": "stdout",
     "output_type": "stream",
     "text": [
      "Epoch 25: train_acc: 81.2% loss: 1.6974645,  val_loss: 1.6045251 val_acc: 79.1%\n"
     ]
    },
    {
     "name": "stderr",
     "output_type": "stream",
     "text": [
      "Training..\t: 100%|█| 654/654 [01:24<00:\n",
      "Validating..\t: 100%|█| 144/144 [00:04<0\n"
     ]
    },
    {
     "name": "stdout",
     "output_type": "stream",
     "text": [
      "Epoch 26: train_acc: 80.8% loss: 1.3824464,  val_loss: 1.5049355 val_acc: 79.4%\n"
     ]
    },
    {
     "name": "stderr",
     "output_type": "stream",
     "text": [
      "Training..\t: 100%|█| 654/654 [01:24<00:\n",
      "Validating..\t: 100%|█| 144/144 [00:04<0\n"
     ]
    },
    {
     "name": "stdout",
     "output_type": "stream",
     "text": [
      "Epoch 27: train_acc: 81.7% loss: 1.7965415,  val_loss: 1.4343193 val_acc: 78.4%\n"
     ]
    },
    {
     "name": "stderr",
     "output_type": "stream",
     "text": [
      "Training..\t: 100%|█| 654/654 [01:24<00:\n",
      "Validating..\t: 100%|█| 144/144 [00:04<0\n"
     ]
    },
    {
     "name": "stdout",
     "output_type": "stream",
     "text": [
      "Epoch 28: train_acc: 81.5% loss: 1.7103682,  val_loss: 1.5060803 val_acc: 77.7%\n"
     ]
    },
    {
     "name": "stderr",
     "output_type": "stream",
     "text": [
      "Training..\t: 100%|█| 654/654 [01:24<00:\n",
      "Validating..\t: 100%|█| 144/144 [00:04<0\n"
     ]
    },
    {
     "name": "stdout",
     "output_type": "stream",
     "text": [
      "Epoch 29: train_acc: 82.4% loss: 2.2250237,  val_loss: 1.4758079 val_acc: 80.9%\n",
      "Validation accuracy improved from 79.52 to 80.89. Saving model..\n"
     ]
    },
    {
     "name": "stderr",
     "output_type": "stream",
     "text": [
      "Training..\t: 100%|█| 654/654 [01:24<00:\n",
      "Validating..\t: 100%|█| 144/144 [00:04<0\n"
     ]
    },
    {
     "name": "stdout",
     "output_type": "stream",
     "text": [
      "Epoch 30: train_acc: 82.1% loss: 1.7277212,  val_loss: 1.4862105 val_acc: 78.9%\n"
     ]
    },
    {
     "name": "stderr",
     "output_type": "stream",
     "text": [
      "Training..\t: 100%|█| 654/654 [01:24<00:\n",
      "Validating..\t: 100%|█| 144/144 [00:04<0\n"
     ]
    },
    {
     "name": "stdout",
     "output_type": "stream",
     "text": [
      "Epoch 31: train_acc: 82.4% loss: 2.0416379,  val_loss: 1.4988238 val_acc: 77.6%\n"
     ]
    },
    {
     "name": "stderr",
     "output_type": "stream",
     "text": [
      "Training..\t: 100%|█| 654/654 [01:24<00:\n",
      "Validating..\t: 100%|█| 144/144 [00:04<0\n"
     ]
    },
    {
     "name": "stdout",
     "output_type": "stream",
     "text": [
      "Epoch 32: train_acc: 82.2% loss: 1.9242412,  val_loss: 1.4157478 val_acc: 78.5%\n"
     ]
    },
    {
     "name": "stderr",
     "output_type": "stream",
     "text": [
      "Training..\t: 100%|█| 654/654 [01:24<00:\n",
      "Validating..\t: 100%|█| 144/144 [00:04<0\n"
     ]
    },
    {
     "name": "stdout",
     "output_type": "stream",
     "text": [
      "Epoch 33: train_acc: 82.8% loss: 1.8426974,  val_loss: 1.6163259 val_acc: 78.8%\n"
     ]
    },
    {
     "name": "stderr",
     "output_type": "stream",
     "text": [
      "Training..\t: 100%|█| 654/654 [01:24<00:\n",
      "Validating..\t: 100%|█| 144/144 [00:04<0\n"
     ]
    },
    {
     "name": "stdout",
     "output_type": "stream",
     "text": [
      "Epoch 34: train_acc: 82.7% loss: 1.7414415,  val_loss: 1.4930991 val_acc: 79.3%\n"
     ]
    },
    {
     "name": "stderr",
     "output_type": "stream",
     "text": [
      "Training..\t: 100%|█| 654/654 [01:24<00:\n",
      "Validating..\t: 100%|█| 144/144 [00:04<0\n"
     ]
    },
    {
     "name": "stdout",
     "output_type": "stream",
     "text": [
      "Epoch 35: train_acc: 82.9% loss: 1.6924093,  val_loss: 1.4959879 val_acc: 76.5%\n"
     ]
    },
    {
     "name": "stderr",
     "output_type": "stream",
     "text": [
      "Training..\t: 100%|█| 654/654 [01:24<00:\n",
      "Validating..\t: 100%|█| 144/144 [00:04<0\n"
     ]
    },
    {
     "name": "stdout",
     "output_type": "stream",
     "text": [
      "Epoch 36: train_acc: 83.2% loss: 1.6757668,  val_loss: 1.5944138 val_acc: 74.6%\n"
     ]
    },
    {
     "name": "stderr",
     "output_type": "stream",
     "text": [
      "Training..\t: 100%|█| 654/654 [01:24<00:\n",
      "Validating..\t: 100%|█| 144/144 [00:04<0\n"
     ]
    },
    {
     "name": "stdout",
     "output_type": "stream",
     "text": [
      "Epoch 37: train_acc: 83.2% loss: 2.3573370,  val_loss: 1.5215001 val_acc: 78.2%\n"
     ]
    },
    {
     "name": "stderr",
     "output_type": "stream",
     "text": [
      "Training..\t: 100%|█| 654/654 [01:24<00:\n",
      "Validating..\t: 100%|█| 144/144 [00:04<0\n"
     ]
    },
    {
     "name": "stdout",
     "output_type": "stream",
     "text": [
      "Epoch 38: train_acc: 83.3% loss: 1.6225947,  val_loss: 1.5218445 val_acc: 77.8%\n"
     ]
    },
    {
     "name": "stderr",
     "output_type": "stream",
     "text": [
      "Training..\t: 100%|█| 654/654 [01:24<00:\n",
      "Validating..\t: 100%|█| 144/144 [00:04<0\n"
     ]
    },
    {
     "name": "stdout",
     "output_type": "stream",
     "text": [
      "Epoch 39: train_acc: 83.8% loss: 2.1464033,  val_loss: 1.4997153 val_acc: 78.7%\n"
     ]
    },
    {
     "name": "stderr",
     "output_type": "stream",
     "text": [
      "Training..\t: 100%|█| 654/654 [01:24<00:\n",
      "Validating..\t: 100%|█| 144/144 [00:04<0\n"
     ]
    },
    {
     "name": "stdout",
     "output_type": "stream",
     "text": [
      "Epoch 40: train_acc: 83.5% loss: 2.0401905,  val_loss: 1.5520221 val_acc: 71.0%\n"
     ]
    },
    {
     "name": "stderr",
     "output_type": "stream",
     "text": [
      "Training..\t: 100%|█| 654/654 [01:25<00:\n",
      "Validating..\t: 100%|█| 144/144 [00:04<0\n"
     ]
    },
    {
     "name": "stdout",
     "output_type": "stream",
     "text": [
      "Epoch 41: train_acc: 84.2% loss: 1.9867375,  val_loss: 1.4891396 val_acc: 78.5%\n"
     ]
    },
    {
     "name": "stderr",
     "output_type": "stream",
     "text": [
      "Training..\t: 100%|█| 654/654 [01:24<00:\n",
      "Validating..\t: 100%|█| 144/144 [00:04<0\n"
     ]
    },
    {
     "name": "stdout",
     "output_type": "stream",
     "text": [
      "Epoch 42: train_acc: 83.9% loss: 1.8696890,  val_loss: 1.4559007 val_acc: 78.9%\n"
     ]
    },
    {
     "name": "stderr",
     "output_type": "stream",
     "text": [
      "Training..\t: 100%|█| 654/654 [01:24<00:\n",
      "Validating..\t: 100%|█| 144/144 [00:04<0\n"
     ]
    },
    {
     "name": "stdout",
     "output_type": "stream",
     "text": [
      "Epoch 43: train_acc: 83.7% loss: 2.0684485,  val_loss: 1.4436541 val_acc: 80.2%\n"
     ]
    },
    {
     "name": "stderr",
     "output_type": "stream",
     "text": [
      "Training..\t: 100%|█| 654/654 [01:24<00:\n",
      "Validating..\t: 100%|█| 144/144 [00:04<0\n"
     ]
    },
    {
     "name": "stdout",
     "output_type": "stream",
     "text": [
      "Epoch 44: train_acc: 84.2% loss: 2.1177795,  val_loss: 1.4392738 val_acc: 79.6%\n"
     ]
    },
    {
     "name": "stderr",
     "output_type": "stream",
     "text": [
      "Training..\t: 100%|█| 654/654 [01:24<00:\n",
      "Validating..\t: 100%|█| 144/144 [00:04<0\n"
     ]
    },
    {
     "name": "stdout",
     "output_type": "stream",
     "text": [
      "Epoch 45: train_acc: 84.2% loss: 1.7651939,  val_loss: 1.4454833 val_acc: 78.3%\n"
     ]
    },
    {
     "name": "stderr",
     "output_type": "stream",
     "text": [
      "Training..\t: 100%|█| 654/654 [01:24<00:\n",
      "Validating..\t: 100%|█| 144/144 [00:04<0\n"
     ]
    },
    {
     "name": "stdout",
     "output_type": "stream",
     "text": [
      "Epoch 46: train_acc: 84.3% loss: 1.8399858,  val_loss: 1.4153309 val_acc: 78.9%\n"
     ]
    },
    {
     "name": "stderr",
     "output_type": "stream",
     "text": [
      "Training..\t: 100%|█| 654/654 [01:24<00:\n",
      "Validating..\t: 100%|█| 144/144 [00:04<0\n"
     ]
    },
    {
     "name": "stdout",
     "output_type": "stream",
     "text": [
      "Epoch 47: train_acc: 84.1% loss: 1.5253278,  val_loss: 1.5684760 val_acc: 78.9%\n"
     ]
    },
    {
     "name": "stderr",
     "output_type": "stream",
     "text": [
      "Training..\t: 100%|█| 654/654 [01:24<00:\n",
      "Validating..\t: 100%|█| 144/144 [00:04<0\n"
     ]
    },
    {
     "name": "stdout",
     "output_type": "stream",
     "text": [
      "Epoch 48: train_acc: 84.5% loss: 1.6144782,  val_loss: 1.4986708 val_acc: 77.2%\n"
     ]
    },
    {
     "name": "stderr",
     "output_type": "stream",
     "text": [
      "Training..\t: 100%|█| 654/654 [01:24<00:\n",
      "Validating..\t: 100%|█| 144/144 [00:04<0\n"
     ]
    },
    {
     "name": "stdout",
     "output_type": "stream",
     "text": [
      "Epoch 49: train_acc: 85.0% loss: 2.1002100,  val_loss: 1.5070182 val_acc: 80.3%\n"
     ]
    },
    {
     "name": "stderr",
     "output_type": "stream",
     "text": [
      "Training..\t: 100%|█| 654/654 [01:24<00:\n",
      "Validating..\t: 100%|█| 144/144 [00:04<0\n"
     ]
    },
    {
     "name": "stdout",
     "output_type": "stream",
     "text": [
      "Epoch 50: train_acc: 85.3% loss: 1.7980320,  val_loss: 1.4238939 val_acc: 80.4%\n"
     ]
    },
    {
     "name": "stderr",
     "output_type": "stream",
     "text": [
      "Training..\t: 100%|█| 654/654 [01:24<00:\n",
      "Validating..\t: 100%|█| 144/144 [00:04<0\n"
     ]
    },
    {
     "name": "stdout",
     "output_type": "stream",
     "text": [
      "Epoch 51: train_acc: 85.2% loss: 1.8972025,  val_loss: 1.4464180 val_acc: 80.3%\n"
     ]
    },
    {
     "name": "stderr",
     "output_type": "stream",
     "text": [
      "Training..\t: 100%|█| 654/654 [01:24<00:\n",
      "Validating..\t: 100%|█| 144/144 [00:04<0\n"
     ]
    },
    {
     "name": "stdout",
     "output_type": "stream",
     "text": [
      "Epoch 52: train_acc: 84.7% loss: 1.5890265,  val_loss: 1.5212412 val_acc: 78.9%\n"
     ]
    },
    {
     "name": "stderr",
     "output_type": "stream",
     "text": [
      "Training..\t: 100%|█| 654/654 [01:24<00:\n",
      "Validating..\t: 100%|█| 144/144 [00:04<0\n"
     ]
    },
    {
     "name": "stdout",
     "output_type": "stream",
     "text": [
      "Epoch 53: train_acc: 85.2% loss: 1.8499837,  val_loss: 1.4850988 val_acc: 81.0%\n",
      "Validation accuracy improved from 80.89 to 81.02. Saving model..\n"
     ]
    },
    {
     "name": "stderr",
     "output_type": "stream",
     "text": [
      "Training..\t: 100%|█| 654/654 [01:24<00:\n",
      "Validating..\t: 100%|█| 144/144 [00:04<0\n"
     ]
    },
    {
     "name": "stdout",
     "output_type": "stream",
     "text": [
      "Epoch 54: train_acc: 85.5% loss: 1.9334304,  val_loss: 1.4520047 val_acc: 79.4%\n"
     ]
    },
    {
     "name": "stderr",
     "output_type": "stream",
     "text": [
      "Training..\t: 100%|█| 654/654 [01:24<00:\n",
      "Validating..\t: 100%|█| 144/144 [00:04<0\n"
     ]
    },
    {
     "name": "stdout",
     "output_type": "stream",
     "text": [
      "Epoch 55: train_acc: 85.2% loss: 1.8184385,  val_loss: 1.4202133 val_acc: 78.6%\n"
     ]
    },
    {
     "name": "stderr",
     "output_type": "stream",
     "text": [
      "Training..\t: 100%|█| 654/654 [01:24<00:\n",
      "Validating..\t: 100%|█| 144/144 [00:04<0\n"
     ]
    },
    {
     "name": "stdout",
     "output_type": "stream",
     "text": [
      "Epoch 56: train_acc: 85.2% loss: 1.8170197,  val_loss: 1.5370076 val_acc: 79.0%\n"
     ]
    },
    {
     "name": "stderr",
     "output_type": "stream",
     "text": [
      "Training..\t: 100%|█| 654/654 [01:24<00:\n",
      "Validating..\t: 100%|█| 144/144 [00:04<0\n"
     ]
    },
    {
     "name": "stdout",
     "output_type": "stream",
     "text": [
      "Epoch 57: train_acc: 85.7% loss: 1.8552239,  val_loss: 1.4624469 val_acc: 80.7%\n"
     ]
    },
    {
     "name": "stderr",
     "output_type": "stream",
     "text": [
      "Training..\t: 100%|█| 654/654 [01:24<00:\n",
      "Validating..\t: 100%|█| 144/144 [00:04<0\n"
     ]
    },
    {
     "name": "stdout",
     "output_type": "stream",
     "text": [
      "Epoch 58: train_acc: 85.9% loss: 1.6873492,  val_loss: 1.4948158 val_acc: 77.7%\n"
     ]
    },
    {
     "name": "stderr",
     "output_type": "stream",
     "text": [
      "Training..\t: 100%|█| 654/654 [01:24<00:\n",
      "Validating..\t: 100%|█| 144/144 [00:04<0\n"
     ]
    },
    {
     "name": "stdout",
     "output_type": "stream",
     "text": [
      "Epoch 59: train_acc: 85.6% loss: 1.7892637,  val_loss: 1.5622693 val_acc: 75.2%\n"
     ]
    },
    {
     "name": "stderr",
     "output_type": "stream",
     "text": [
      "Training..\t: 100%|█| 654/654 [01:24<00:\n",
      "Validating..\t: 100%|█| 144/144 [00:04<0\n"
     ]
    },
    {
     "name": "stdout",
     "output_type": "stream",
     "text": [
      "Epoch 60: train_acc: 84.9% loss: 1.6977906,  val_loss: 1.5664477 val_acc: 79.1%\n"
     ]
    },
    {
     "name": "stderr",
     "output_type": "stream",
     "text": [
      "Training..\t: 100%|█| 654/654 [01:24<00:\n",
      "Validating..\t: 100%|█| 144/144 [00:04<0\n"
     ]
    },
    {
     "name": "stdout",
     "output_type": "stream",
     "text": [
      "Epoch 61: train_acc: 86.2% loss: 1.9759785,  val_loss: 1.4763371 val_acc: 80.0%\n"
     ]
    },
    {
     "name": "stderr",
     "output_type": "stream",
     "text": [
      "Training..\t: 100%|█| 654/654 [01:24<00:\n",
      "Validating..\t: 100%|█| 144/144 [00:04<0\n"
     ]
    },
    {
     "name": "stdout",
     "output_type": "stream",
     "text": [
      "Epoch 62: train_acc: 86.4% loss: 1.9575847,  val_loss: 1.4215771 val_acc: 79.6%\n"
     ]
    },
    {
     "name": "stderr",
     "output_type": "stream",
     "text": [
      "Training..\t: 100%|█| 654/654 [01:25<00:\n",
      "Validating..\t: 100%|█| 144/144 [00:04<0\n"
     ]
    },
    {
     "name": "stdout",
     "output_type": "stream",
     "text": [
      "Epoch 63: train_acc: 86.3% loss: 2.0552287,  val_loss: 1.4122803 val_acc: 78.4%\n"
     ]
    },
    {
     "name": "stderr",
     "output_type": "stream",
     "text": [
      "Training..\t: 100%|█| 654/654 [01:24<00:\n",
      "Validating..\t: 100%|█| 144/144 [00:04<0\n"
     ]
    },
    {
     "name": "stdout",
     "output_type": "stream",
     "text": [
      "Epoch 64: train_acc: 85.6% loss: 1.7408236,  val_loss: 1.4192497 val_acc: 80.8%\n"
     ]
    },
    {
     "name": "stderr",
     "output_type": "stream",
     "text": [
      "Training..\t: 100%|█| 654/654 [01:24<00:\n",
      "Validating..\t: 100%|█| 144/144 [00:04<0\n"
     ]
    },
    {
     "name": "stdout",
     "output_type": "stream",
     "text": [
      "Epoch 65: train_acc: 86.0% loss: 1.8791320,  val_loss: 1.5612509 val_acc: 77.1%\n"
     ]
    },
    {
     "name": "stderr",
     "output_type": "stream",
     "text": [
      "Training..\t: 100%|█| 654/654 [01:24<00:\n",
      "Validating..\t: 100%|█| 144/144 [00:04<0\n"
     ]
    },
    {
     "name": "stdout",
     "output_type": "stream",
     "text": [
      "Epoch 66: train_acc: 86.1% loss: 2.0771060,  val_loss: 1.4132231 val_acc: 80.8%\n"
     ]
    },
    {
     "name": "stderr",
     "output_type": "stream",
     "text": [
      "Training..\t: 100%|█| 654/654 [01:24<00:\n",
      "Validating..\t: 100%|█| 144/144 [00:04<0\n"
     ]
    },
    {
     "name": "stdout",
     "output_type": "stream",
     "text": [
      "Epoch 67: train_acc: 86.6% loss: 1.7267042,  val_loss: 1.4446788 val_acc: 79.6%\n"
     ]
    },
    {
     "name": "stderr",
     "output_type": "stream",
     "text": [
      "Training..\t: 100%|█| 654/654 [01:24<00:\n",
      "Validating..\t: 100%|█| 144/144 [00:04<0\n"
     ]
    },
    {
     "name": "stdout",
     "output_type": "stream",
     "text": [
      "Epoch 68: train_acc: 86.5% loss: 1.6189861,  val_loss: 1.4213817 val_acc: 79.5%\n"
     ]
    },
    {
     "name": "stderr",
     "output_type": "stream",
     "text": [
      "Training..\t: 100%|█| 654/654 [01:24<00:\n",
      "Validating..\t: 100%|█| 144/144 [00:04<0\n"
     ]
    },
    {
     "name": "stdout",
     "output_type": "stream",
     "text": [
      "Epoch 69: train_acc: 86.6% loss: 1.7769085,  val_loss: 1.5140646 val_acc: 76.1%\n"
     ]
    },
    {
     "name": "stderr",
     "output_type": "stream",
     "text": [
      "Training..\t: 100%|█| 654/654 [01:24<00:\n",
      "Validating..\t: 100%|█| 144/144 [00:04<0\n"
     ]
    },
    {
     "name": "stdout",
     "output_type": "stream",
     "text": [
      "Epoch 70: train_acc: 86.2% loss: 1.6418197,  val_loss: 1.5431091 val_acc: 77.6%\n"
     ]
    },
    {
     "name": "stderr",
     "output_type": "stream",
     "text": [
      "Training..\t: 100%|█| 654/654 [01:24<00:\n",
      "Validating..\t: 100%|█| 144/144 [00:04<0\n"
     ]
    },
    {
     "name": "stdout",
     "output_type": "stream",
     "text": [
      "Epoch 71: train_acc: 86.7% loss: 1.7188513,  val_loss: 1.4817555 val_acc: 78.3%\n"
     ]
    },
    {
     "name": "stderr",
     "output_type": "stream",
     "text": [
      "Training..\t: 100%|█| 654/654 [01:24<00:\n",
      "Validating..\t: 100%|█| 144/144 [00:04<0\n"
     ]
    },
    {
     "name": "stdout",
     "output_type": "stream",
     "text": [
      "Epoch 72: train_acc: 86.9% loss: 1.5105194,  val_loss: 1.4131289 val_acc: 80.5%\n"
     ]
    },
    {
     "name": "stderr",
     "output_type": "stream",
     "text": [
      "Training..\t: 100%|█| 654/654 [01:24<00:\n",
      "Validating..\t: 100%|█| 144/144 [00:04<0\n"
     ]
    },
    {
     "name": "stdout",
     "output_type": "stream",
     "text": [
      "Epoch 73: train_acc: 86.9% loss: 1.6897149,  val_loss: 1.4263259 val_acc: 79.0%\n"
     ]
    },
    {
     "name": "stderr",
     "output_type": "stream",
     "text": [
      "Training..\t: 100%|█| 654/654 [01:24<00:\n",
      "Validating..\t: 100%|█| 144/144 [00:04<0\n"
     ]
    },
    {
     "name": "stdout",
     "output_type": "stream",
     "text": [
      "Epoch 74: train_acc: 86.8% loss: 1.5811727,  val_loss: 1.4895364 val_acc: 79.7%\n"
     ]
    },
    {
     "name": "stderr",
     "output_type": "stream",
     "text": [
      "Training..\t: 100%|█| 654/654 [01:24<00:\n",
      "Validating..\t: 100%|█| 144/144 [00:04<0\n"
     ]
    },
    {
     "name": "stdout",
     "output_type": "stream",
     "text": [
      "Epoch 75: train_acc: 87.2% loss: 1.8635235,  val_loss: 1.5001917 val_acc: 79.7%\n"
     ]
    },
    {
     "name": "stderr",
     "output_type": "stream",
     "text": [
      "Training..\t: 100%|█| 654/654 [01:24<00:\n",
      "Validating..\t: 100%|█| 144/144 [00:04<0\n"
     ]
    },
    {
     "name": "stdout",
     "output_type": "stream",
     "text": [
      "Epoch 76: train_acc: 86.8% loss: 1.7811208,  val_loss: 1.5105959 val_acc: 80.5%\n"
     ]
    },
    {
     "name": "stderr",
     "output_type": "stream",
     "text": [
      "Training..\t: 100%|█| 654/654 [01:24<00:\n",
      "Validating..\t: 100%|█| 144/144 [00:04<0\n"
     ]
    },
    {
     "name": "stdout",
     "output_type": "stream",
     "text": [
      "Epoch 77: train_acc: 87.5% loss: 2.3104827,  val_loss: 1.4708489 val_acc: 75.7%\n"
     ]
    },
    {
     "name": "stderr",
     "output_type": "stream",
     "text": [
      "Training..\t: 100%|█| 654/654 [01:24<00:\n",
      "Validating..\t: 100%|█| 144/144 [00:04<0\n"
     ]
    },
    {
     "name": "stdout",
     "output_type": "stream",
     "text": [
      "Epoch 78: train_acc: 86.8% loss: 1.6445286,  val_loss: 1.4273859 val_acc: 78.6%\n"
     ]
    },
    {
     "name": "stderr",
     "output_type": "stream",
     "text": [
      "Training..\t: 100%|█| 654/654 [01:24<00:\n",
      "Validating..\t: 100%|█| 144/144 [00:04<0\n"
     ]
    },
    {
     "name": "stdout",
     "output_type": "stream",
     "text": [
      "Epoch 79: train_acc: 87.6% loss: 1.7143294,  val_loss: 1.4480006 val_acc: 78.1%\n"
     ]
    },
    {
     "name": "stderr",
     "output_type": "stream",
     "text": [
      "Training..\t: 100%|█| 654/654 [01:24<00:\n",
      "Validating..\t: 100%|█| 144/144 [00:04<0\n"
     ]
    },
    {
     "name": "stdout",
     "output_type": "stream",
     "text": [
      "Epoch 80: train_acc: 87.3% loss: 2.0392094,  val_loss: 1.4580336 val_acc: 79.1%\n"
     ]
    },
    {
     "name": "stderr",
     "output_type": "stream",
     "text": [
      "Training..\t: 100%|█| 654/654 [01:24<00:\n",
      "Validating..\t: 100%|█| 144/144 [00:04<0\n"
     ]
    },
    {
     "name": "stdout",
     "output_type": "stream",
     "text": [
      "Epoch 81: train_acc: 87.4% loss: 2.0894368,  val_loss: 1.5056274 val_acc: 78.8%\n"
     ]
    },
    {
     "name": "stderr",
     "output_type": "stream",
     "text": [
      "Training..\t: 100%|█| 654/654 [01:24<00:\n",
      "Validating..\t: 100%|█| 144/144 [00:04<0\n"
     ]
    },
    {
     "name": "stdout",
     "output_type": "stream",
     "text": [
      "Epoch 82: train_acc: 86.8% loss: 1.8650188,  val_loss: 1.5238583 val_acc: 79.1%\n"
     ]
    },
    {
     "name": "stderr",
     "output_type": "stream",
     "text": [
      "Training..\t: 100%|█| 654/654 [01:24<00:\n",
      "Validating..\t: 100%|█| 144/144 [00:04<0\n"
     ]
    },
    {
     "name": "stdout",
     "output_type": "stream",
     "text": [
      "Epoch 83: train_acc: 87.2% loss: 1.5362778,  val_loss: 1.4237807 val_acc: 79.8%\n"
     ]
    },
    {
     "name": "stderr",
     "output_type": "stream",
     "text": [
      "Training..\t: 100%|█| 654/654 [01:24<00:\n",
      "Validating..\t: 100%|█| 144/144 [00:04<0\n"
     ]
    },
    {
     "name": "stdout",
     "output_type": "stream",
     "text": [
      "Epoch 84: train_acc: 87.5% loss: 1.8525057,  val_loss: 1.4326415 val_acc: 79.6%\n"
     ]
    },
    {
     "name": "stderr",
     "output_type": "stream",
     "text": [
      "Training..\t: 100%|█| 654/654 [01:24<00:\n",
      "Validating..\t: 100%|█| 144/144 [00:04<0\n"
     ]
    },
    {
     "name": "stdout",
     "output_type": "stream",
     "text": [
      "Epoch 85: train_acc: 87.4% loss: 1.7535093,  val_loss: 1.7367029 val_acc: 77.9%\n"
     ]
    },
    {
     "name": "stderr",
     "output_type": "stream",
     "text": [
      "Training..\t: 100%|█| 654/654 [01:24<00:\n",
      "Validating..\t: 100%|█| 144/144 [00:04<0\n"
     ]
    },
    {
     "name": "stdout",
     "output_type": "stream",
     "text": [
      "Epoch 86: train_acc: 87.8% loss: 1.9446734,  val_loss: 1.5504141 val_acc: 78.0%\n"
     ]
    },
    {
     "name": "stderr",
     "output_type": "stream",
     "text": [
      "Training..\t: 100%|█| 654/654 [01:24<00:\n",
      "Validating..\t: 100%|█| 144/144 [00:04<0\n"
     ]
    },
    {
     "name": "stdout",
     "output_type": "stream",
     "text": [
      "Epoch 87: train_acc: 87.3% loss: 1.8009651,  val_loss: 1.4567702 val_acc: 80.9%\n"
     ]
    },
    {
     "name": "stderr",
     "output_type": "stream",
     "text": [
      "Training..\t: 100%|█| 654/654 [01:24<00:\n",
      "Validating..\t: 100%|█| 144/144 [00:04<0\n"
     ]
    },
    {
     "name": "stdout",
     "output_type": "stream",
     "text": [
      "Epoch 88: train_acc: 87.4% loss: 1.5815837,  val_loss: 1.3980933 val_acc: 79.2%\n"
     ]
    },
    {
     "name": "stderr",
     "output_type": "stream",
     "text": [
      "Training..\t: 100%|█| 654/654 [01:24<00:\n",
      "Validating..\t: 100%|█| 144/144 [00:04<0\n"
     ]
    },
    {
     "name": "stdout",
     "output_type": "stream",
     "text": [
      "Epoch 89: train_acc: 87.5% loss: 2.0869951,  val_loss: 1.5839783 val_acc: 78.7%\n"
     ]
    },
    {
     "name": "stderr",
     "output_type": "stream",
     "text": [
      "Training..\t: 100%|█| 654/654 [01:24<00:\n",
      "Validating..\t: 100%|█| 144/144 [00:04<0\n"
     ]
    },
    {
     "name": "stdout",
     "output_type": "stream",
     "text": [
      "Epoch 90: train_acc: 88.0% loss: 1.5776503,  val_loss: 1.3985188 val_acc: 81.2%\n",
      "Validation accuracy improved from 81.02 to 81.19. Saving model..\n"
     ]
    },
    {
     "name": "stderr",
     "output_type": "stream",
     "text": [
      "Training..\t: 100%|█| 654/654 [01:24<00:\n",
      "Validating..\t: 100%|█| 144/144 [00:04<0\n"
     ]
    },
    {
     "name": "stdout",
     "output_type": "stream",
     "text": [
      "Epoch 91: train_acc: 88.2% loss: 1.5159806,  val_loss: 1.4209783 val_acc: 80.8%\n"
     ]
    },
    {
     "name": "stderr",
     "output_type": "stream",
     "text": [
      "Training..\t: 100%|█| 654/654 [01:24<00:\n",
      "Validating..\t: 100%|█| 144/144 [00:04<0\n"
     ]
    },
    {
     "name": "stdout",
     "output_type": "stream",
     "text": [
      "Epoch 92: train_acc: 87.8% loss: 1.7148533,  val_loss: 1.4657689 val_acc: 78.8%\n"
     ]
    },
    {
     "name": "stderr",
     "output_type": "stream",
     "text": [
      "Training..\t: 100%|█| 654/654 [01:24<00:\n",
      "Validating..\t: 100%|█| 144/144 [00:04<0\n"
     ]
    },
    {
     "name": "stdout",
     "output_type": "stream",
     "text": [
      "Epoch 93: train_acc: 88.3% loss: 1.8279647,  val_loss: 1.6352654 val_acc: 73.7%\n"
     ]
    },
    {
     "name": "stderr",
     "output_type": "stream",
     "text": [
      "Training..\t: 100%|█| 654/654 [01:24<00:\n",
      "Validating..\t: 100%|█| 144/144 [00:04<0\n"
     ]
    },
    {
     "name": "stdout",
     "output_type": "stream",
     "text": [
      "Epoch 94: train_acc: 87.5% loss: 1.5687904,  val_loss: 1.6166623 val_acc: 77.4%\n"
     ]
    },
    {
     "name": "stderr",
     "output_type": "stream",
     "text": [
      "Training..\t: 100%|█| 654/654 [01:24<00:\n",
      "Validating..\t: 100%|█| 144/144 [00:04<0\n"
     ]
    },
    {
     "name": "stdout",
     "output_type": "stream",
     "text": [
      "Epoch 95: train_acc: 87.7% loss: 1.5274887,  val_loss: 1.4093966 val_acc: 76.4%\n"
     ]
    },
    {
     "name": "stderr",
     "output_type": "stream",
     "text": [
      "Training..\t: 100%|█| 654/654 [01:24<00:\n",
      "Validating..\t: 100%|█| 144/144 [00:04<0\n"
     ]
    },
    {
     "name": "stdout",
     "output_type": "stream",
     "text": [
      "Epoch 96: train_acc: 87.4% loss: 1.9043381,  val_loss: 1.4826624 val_acc: 78.7%\n"
     ]
    },
    {
     "name": "stderr",
     "output_type": "stream",
     "text": [
      "Training..\t: 100%|█| 654/654 [01:24<00:\n",
      "Validating..\t: 100%|█| 144/144 [00:04<0\n"
     ]
    },
    {
     "name": "stdout",
     "output_type": "stream",
     "text": [
      "Epoch 97: train_acc: 87.8% loss: 1.4630888,  val_loss: 1.4125357 val_acc: 80.6%\n"
     ]
    },
    {
     "name": "stderr",
     "output_type": "stream",
     "text": [
      "Training..\t: 100%|█| 654/654 [01:24<00:\n",
      "Validating..\t: 100%|█| 144/144 [00:04<0\n"
     ]
    },
    {
     "name": "stdout",
     "output_type": "stream",
     "text": [
      "Epoch 98: train_acc: 87.7% loss: 1.8757455,  val_loss: 1.4800054 val_acc: 74.5%\n"
     ]
    },
    {
     "name": "stderr",
     "output_type": "stream",
     "text": [
      "Training..\t: 100%|█| 654/654 [01:24<00:\n",
      "Validating..\t: 100%|█| 144/144 [00:04<0\n"
     ]
    },
    {
     "name": "stdout",
     "output_type": "stream",
     "text": [
      "Epoch 99: train_acc: 88.3% loss: 1.9759365,  val_loss: 1.5094430 val_acc: 76.6%\n"
     ]
    },
    {
     "name": "stderr",
     "output_type": "stream",
     "text": [
      "Training..\t: 100%|█| 654/654 [01:24<00:\n",
      "Validating..\t: 100%|█| 144/144 [00:04<0\n"
     ]
    },
    {
     "name": "stdout",
     "output_type": "stream",
     "text": [
      "Epoch 100: train_acc: 88.3% loss: 1.9826243,  val_loss: 1.5067017 val_acc: 77.2%\n"
     ]
    },
    {
     "name": "stderr",
     "output_type": "stream",
     "text": [
      "Training..\t: 100%|█| 654/654 [01:24<00:\n",
      "Validating..\t: 100%|█| 144/144 [00:04<0\n"
     ]
    },
    {
     "name": "stdout",
     "output_type": "stream",
     "text": [
      "Epoch 101: train_acc: 88.7% loss: 2.2322874,  val_loss: 1.5648293 val_acc: 79.2%\n"
     ]
    },
    {
     "name": "stderr",
     "output_type": "stream",
     "text": [
      "Training..\t: 100%|█| 654/654 [01:23<00:\n",
      "Validating..\t: 100%|█| 144/144 [00:04<0\n"
     ]
    },
    {
     "name": "stdout",
     "output_type": "stream",
     "text": [
      "Epoch 102: train_acc: 88.2% loss: 1.6848235,  val_loss: 1.4034016 val_acc: 79.6%\n"
     ]
    },
    {
     "name": "stderr",
     "output_type": "stream",
     "text": [
      "Training..\t: 100%|█| 654/654 [01:24<00:\n",
      "Validating..\t: 100%|█| 144/144 [00:04<0\n"
     ]
    },
    {
     "name": "stdout",
     "output_type": "stream",
     "text": [
      "Epoch 103: train_acc: 87.8% loss: 1.8372383,  val_loss: 1.4472930 val_acc: 79.5%\n"
     ]
    },
    {
     "name": "stderr",
     "output_type": "stream",
     "text": [
      "Training..\t: 100%|█| 654/654 [01:24<00:\n",
      "Validating..\t: 100%|█| 144/144 [00:04<0\n"
     ]
    },
    {
     "name": "stdout",
     "output_type": "stream",
     "text": [
      "Epoch 104: train_acc: 88.5% loss: 1.7141945,  val_loss: 1.4263676 val_acc: 78.1%\n"
     ]
    },
    {
     "name": "stderr",
     "output_type": "stream",
     "text": [
      "Training..\t: 100%|█| 654/654 [01:26<00:\n",
      "Validating..\t: 100%|█| 144/144 [00:04<0\n"
     ]
    },
    {
     "name": "stdout",
     "output_type": "stream",
     "text": [
      "Epoch 105: train_acc: 88.3% loss: 1.9276781,  val_loss: 1.4390266 val_acc: 76.8%\n"
     ]
    },
    {
     "name": "stderr",
     "output_type": "stream",
     "text": [
      "Training..\t: 100%|█| 654/654 [01:24<00:\n",
      "Validating..\t: 100%|█| 144/144 [00:04<0\n"
     ]
    },
    {
     "name": "stdout",
     "output_type": "stream",
     "text": [
      "Epoch 106: train_acc: 88.3% loss: 1.9880056,  val_loss: 1.5406440 val_acc: 76.2%\n"
     ]
    },
    {
     "name": "stderr",
     "output_type": "stream",
     "text": [
      "Training..\t: 100%|█| 654/654 [01:24<00:\n",
      "Validating..\t: 100%|█| 144/144 [00:04<0\n"
     ]
    },
    {
     "name": "stdout",
     "output_type": "stream",
     "text": [
      "Epoch 107: train_acc: 88.4% loss: 2.2225413,  val_loss: 1.6694775 val_acc: 77.3%\n"
     ]
    },
    {
     "name": "stderr",
     "output_type": "stream",
     "text": [
      "Training..\t: 100%|█| 654/654 [01:24<00:\n",
      "Validating..\t: 100%|█| 144/144 [00:04<0\n"
     ]
    },
    {
     "name": "stdout",
     "output_type": "stream",
     "text": [
      "Epoch 108: train_acc: 88.2% loss: 1.8185264,  val_loss: 1.4618354 val_acc: 76.3%\n"
     ]
    },
    {
     "name": "stderr",
     "output_type": "stream",
     "text": [
      "Training..\t: 100%|█| 654/654 [01:24<00:\n",
      "Validating..\t: 100%|█| 144/144 [00:04<0\n"
     ]
    },
    {
     "name": "stdout",
     "output_type": "stream",
     "text": [
      "Epoch 109: train_acc: 89.0% loss: 1.5460798,  val_loss: 1.5305846 val_acc: 80.4%\n"
     ]
    },
    {
     "name": "stderr",
     "output_type": "stream",
     "text": [
      "Training..\t: 100%|█| 654/654 [01:24<00:\n",
      "Validating..\t: 100%|█| 144/144 [00:04<0\n"
     ]
    },
    {
     "name": "stdout",
     "output_type": "stream",
     "text": [
      "Epoch 110: train_acc: 88.2% loss: 1.9326576,  val_loss: 1.4296820 val_acc: 79.6%\n"
     ]
    },
    {
     "name": "stderr",
     "output_type": "stream",
     "text": [
      "Training..\t: 100%|█| 654/654 [01:24<00:\n",
      "Validating..\t: 100%|█| 144/144 [00:04<0\n"
     ]
    },
    {
     "name": "stdout",
     "output_type": "stream",
     "text": [
      "Epoch 111: train_acc: 88.7% loss: 2.1278558,  val_loss: 1.3930193 val_acc: 81.2%\n",
      "Validation accuracy improved from 81.19 to 81.24. Saving model..\n"
     ]
    },
    {
     "name": "stderr",
     "output_type": "stream",
     "text": [
      "Training..\t: 100%|█| 654/654 [01:23<00:\n",
      "Validating..\t: 100%|█| 144/144 [00:04<0\n"
     ]
    },
    {
     "name": "stdout",
     "output_type": "stream",
     "text": [
      "Epoch 112: train_acc: 88.1% loss: 1.4398339,  val_loss: 1.4130688 val_acc: 81.2%\n"
     ]
    },
    {
     "name": "stderr",
     "output_type": "stream",
     "text": [
      "Training..\t: 100%|█| 654/654 [01:24<00:\n",
      "Validating..\t: 100%|█| 144/144 [00:04<0\n"
     ]
    },
    {
     "name": "stdout",
     "output_type": "stream",
     "text": [
      "Epoch 113: train_acc: 88.5% loss: 1.5264101,  val_loss: 1.4259514 val_acc: 78.3%\n"
     ]
    },
    {
     "name": "stderr",
     "output_type": "stream",
     "text": [
      "Training..\t: 100%|█| 654/654 [01:24<00:\n",
      "Validating..\t: 100%|█| 144/144 [00:04<0\n"
     ]
    },
    {
     "name": "stdout",
     "output_type": "stream",
     "text": [
      "Epoch 114: train_acc: 88.6% loss: 1.7498826,  val_loss: 1.4049830 val_acc: 78.0%\n"
     ]
    },
    {
     "name": "stderr",
     "output_type": "stream",
     "text": [
      "Training..\t: 100%|█| 654/654 [01:23<00:\n",
      "Validating..\t: 100%|█| 144/144 [00:04<0\n"
     ]
    },
    {
     "name": "stdout",
     "output_type": "stream",
     "text": [
      "Epoch 115: train_acc: 88.3% loss: 1.5327880,  val_loss: 1.4141933 val_acc: 77.6%\n"
     ]
    },
    {
     "name": "stderr",
     "output_type": "stream",
     "text": [
      "Training..\t: 100%|█| 654/654 [01:24<00:\n",
      "Validating..\t: 100%|█| 144/144 [00:04<0\n"
     ]
    },
    {
     "name": "stdout",
     "output_type": "stream",
     "text": [
      "Epoch 116: train_acc: 88.7% loss: 1.8574402,  val_loss: 1.4456528 val_acc: 79.1%\n"
     ]
    },
    {
     "name": "stderr",
     "output_type": "stream",
     "text": [
      "Training..\t: 100%|█| 654/654 [01:24<00:\n",
      "Validating..\t: 100%|█| 144/144 [00:04<0\n"
     ]
    },
    {
     "name": "stdout",
     "output_type": "stream",
     "text": [
      "Epoch 117: train_acc: 88.6% loss: 2.6525416,  val_loss: 1.4303198 val_acc: 80.9%\n"
     ]
    },
    {
     "name": "stderr",
     "output_type": "stream",
     "text": [
      "Training..\t: 100%|█| 654/654 [01:24<00:\n",
      "Validating..\t: 100%|█| 144/144 [00:04<0\n"
     ]
    },
    {
     "name": "stdout",
     "output_type": "stream",
     "text": [
      "Epoch 118: train_acc: 89.2% loss: 1.7756131,  val_loss: 1.4311004 val_acc: 79.5%\n"
     ]
    },
    {
     "name": "stderr",
     "output_type": "stream",
     "text": [
      "Training..\t: 100%|█| 654/654 [01:23<00:\n",
      "Validating..\t: 100%|█| 144/144 [00:04<0\n"
     ]
    },
    {
     "name": "stdout",
     "output_type": "stream",
     "text": [
      "Epoch 119: train_acc: 88.4% loss: 1.6592938,  val_loss: 1.4376097 val_acc: 78.2%\n"
     ]
    },
    {
     "name": "stderr",
     "output_type": "stream",
     "text": [
      "Training..\t: 100%|█| 654/654 [01:24<00:\n",
      "Validating..\t: 100%|█| 144/144 [00:04<0\n"
     ]
    },
    {
     "name": "stdout",
     "output_type": "stream",
     "text": [
      "Epoch 120: train_acc: 89.2% loss: 1.9159464,  val_loss: 1.5477355 val_acc: 76.8%\n"
     ]
    },
    {
     "name": "stderr",
     "output_type": "stream",
     "text": [
      "Training..\t: 100%|█| 654/654 [01:24<00:\n",
      "Validating..\t: 100%|█| 144/144 [00:04<0\n"
     ]
    },
    {
     "name": "stdout",
     "output_type": "stream",
     "text": [
      "Epoch 121: train_acc: 88.6% loss: 2.0535965,  val_loss: 1.5574589 val_acc: 76.9%\n"
     ]
    },
    {
     "name": "stderr",
     "output_type": "stream",
     "text": [
      "Training..\t: 100%|█| 654/654 [01:24<00:\n",
      "Validating..\t: 100%|█| 144/144 [00:04<0\n"
     ]
    },
    {
     "name": "stdout",
     "output_type": "stream",
     "text": [
      "Epoch 122: train_acc: 88.5% loss: 1.6080563,  val_loss: 1.6925921 val_acc: 76.6%\n"
     ]
    },
    {
     "name": "stderr",
     "output_type": "stream",
     "text": [
      "Training..\t: 100%|█| 654/654 [01:24<00:\n",
      "Validating..\t: 100%|█| 144/144 [00:04<0\n"
     ]
    },
    {
     "name": "stdout",
     "output_type": "stream",
     "text": [
      "Epoch 123: train_acc: 88.0% loss: 1.7106125,  val_loss: 1.4129311 val_acc: 80.6%\n"
     ]
    },
    {
     "name": "stderr",
     "output_type": "stream",
     "text": [
      "Training..\t: 100%|█| 654/654 [01:24<00:\n",
      "Validating..\t: 100%|█| 144/144 [00:04<0\n"
     ]
    },
    {
     "name": "stdout",
     "output_type": "stream",
     "text": [
      "Epoch 124: train_acc: 89.0% loss: 1.2565166,  val_loss: 1.4333256 val_acc: 77.1%\n"
     ]
    },
    {
     "name": "stderr",
     "output_type": "stream",
     "text": [
      "Training..\t: 100%|█| 654/654 [01:24<00:\n",
      "Validating..\t: 100%|█| 144/144 [00:04<0\n"
     ]
    },
    {
     "name": "stdout",
     "output_type": "stream",
     "text": [
      "Epoch 125: train_acc: 88.6% loss: 2.0654457,  val_loss: 1.5871320 val_acc: 76.2%\n"
     ]
    },
    {
     "name": "stderr",
     "output_type": "stream",
     "text": [
      "Training..\t: 100%|█| 654/654 [01:24<00:\n",
      "Validating..\t: 100%|█| 144/144 [00:04<0\n"
     ]
    },
    {
     "name": "stdout",
     "output_type": "stream",
     "text": [
      "Epoch 126: train_acc: 88.6% loss: 1.7447336,  val_loss: 1.4107797 val_acc: 79.6%\n"
     ]
    },
    {
     "name": "stderr",
     "output_type": "stream",
     "text": [
      "Training..\t: 100%|█| 654/654 [01:24<00:\n",
      "Validating..\t: 100%|█| 144/144 [00:04<0\n"
     ]
    },
    {
     "name": "stdout",
     "output_type": "stream",
     "text": [
      "Epoch 127: train_acc: 89.1% loss: 1.6463773,  val_loss: 1.4377229 val_acc: 79.5%\n"
     ]
    },
    {
     "name": "stderr",
     "output_type": "stream",
     "text": [
      "Training..\t: 100%|█| 654/654 [01:24<00:\n",
      "Validating..\t: 100%|█| 144/144 [00:04<0\n"
     ]
    },
    {
     "name": "stdout",
     "output_type": "stream",
     "text": [
      "Epoch 128: train_acc: 88.6% loss: 2.2172079,  val_loss: 1.4437958 val_acc: 79.6%\n"
     ]
    },
    {
     "name": "stderr",
     "output_type": "stream",
     "text": [
      "Training..\t: 100%|█| 654/654 [01:23<00:\n",
      "Validating..\t: 100%|█| 144/144 [00:04<0\n"
     ]
    },
    {
     "name": "stdout",
     "output_type": "stream",
     "text": [
      "Epoch 129: train_acc: 89.1% loss: 1.7392535,  val_loss: 1.4326713 val_acc: 78.9%\n"
     ]
    },
    {
     "name": "stderr",
     "output_type": "stream",
     "text": [
      "Training..\t: 100%|█| 654/654 [01:24<00:\n",
      "Validating..\t: 100%|█| 144/144 [00:04<0\n"
     ]
    },
    {
     "name": "stdout",
     "output_type": "stream",
     "text": [
      "Epoch 130: train_acc: 88.9% loss: 1.5991933,  val_loss: 1.4771683 val_acc: 79.7%\n"
     ]
    },
    {
     "name": "stderr",
     "output_type": "stream",
     "text": [
      "Training..\t: 100%|█| 654/654 [01:24<00:\n",
      "Validating..\t: 100%|█| 144/144 [00:04<0\n"
     ]
    },
    {
     "name": "stdout",
     "output_type": "stream",
     "text": [
      "Epoch 131: train_acc: 89.0% loss: 1.4816267,  val_loss: 1.6615506 val_acc: 79.1%\n"
     ]
    },
    {
     "name": "stderr",
     "output_type": "stream",
     "text": [
      "Training..\t: 100%|█| 654/654 [01:24<00:\n",
      "Validating..\t: 100%|█| 144/144 [00:04<0\n"
     ]
    },
    {
     "name": "stdout",
     "output_type": "stream",
     "text": [
      "Epoch 132: train_acc: 88.5% loss: 1.7367095,  val_loss: 1.5068376 val_acc: 79.9%\n"
     ]
    },
    {
     "name": "stderr",
     "output_type": "stream",
     "text": [
      "Training..\t: 100%|█| 654/654 [01:24<00:\n",
      "Validating..\t: 100%|█| 144/144 [00:04<0\n"
     ]
    },
    {
     "name": "stdout",
     "output_type": "stream",
     "text": [
      "Epoch 133: train_acc: 89.6% loss: 1.9326792,  val_loss: 1.5230370 val_acc: 75.3%\n"
     ]
    },
    {
     "name": "stderr",
     "output_type": "stream",
     "text": [
      "Training..\t: 100%|█| 654/654 [01:24<00:\n",
      "Validating..\t: 100%|█| 144/144 [00:04<0\n"
     ]
    },
    {
     "name": "stdout",
     "output_type": "stream",
     "text": [
      "Epoch 134: train_acc: 88.8% loss: 1.9078434,  val_loss: 1.4253923 val_acc: 78.7%\n"
     ]
    },
    {
     "name": "stderr",
     "output_type": "stream",
     "text": [
      "Training..\t: 100%|█| 654/654 [01:24<00:\n",
      "Validating..\t: 100%|█| 144/144 [00:04<0\n"
     ]
    },
    {
     "name": "stdout",
     "output_type": "stream",
     "text": [
      "Epoch 135: train_acc: 88.9% loss: 1.8049659,  val_loss: 1.6615537 val_acc: 77.4%\n"
     ]
    },
    {
     "name": "stderr",
     "output_type": "stream",
     "text": [
      "Training..\t: 100%|█| 654/654 [01:24<00:\n",
      "Validating..\t: 100%|█| 144/144 [00:04<0\n"
     ]
    },
    {
     "name": "stdout",
     "output_type": "stream",
     "text": [
      "Epoch 136: train_acc: 88.8% loss: 1.7125087,  val_loss: 1.4767771 val_acc: 78.3%\n"
     ]
    },
    {
     "name": "stderr",
     "output_type": "stream",
     "text": [
      "Training..\t: 100%|█| 654/654 [01:23<00:\n",
      "Validating..\t: 100%|█| 144/144 [00:04<0\n"
     ]
    },
    {
     "name": "stdout",
     "output_type": "stream",
     "text": [
      "Epoch 137: train_acc: 87.7% loss: 1.5399688,  val_loss: 1.5475682 val_acc: 76.1%\n"
     ]
    },
    {
     "name": "stderr",
     "output_type": "stream",
     "text": [
      "Training..\t: 100%|█| 654/654 [01:24<00:\n",
      "Validating..\t: 100%|█| 144/144 [00:04<0\n"
     ]
    },
    {
     "name": "stdout",
     "output_type": "stream",
     "text": [
      "Epoch 138: train_acc: 88.6% loss: 1.8768928,  val_loss: 1.5363002 val_acc: 79.9%\n"
     ]
    },
    {
     "name": "stderr",
     "output_type": "stream",
     "text": [
      "Training..\t: 100%|█| 654/654 [01:24<00:\n",
      "Validating..\t: 100%|█| 144/144 [00:04<0\n"
     ]
    },
    {
     "name": "stdout",
     "output_type": "stream",
     "text": [
      "Epoch 139: train_acc: 89.4% loss: 1.8048842,  val_loss: 1.4399164 val_acc: 78.2%\n"
     ]
    },
    {
     "name": "stderr",
     "output_type": "stream",
     "text": [
      "Training..\t: 100%|█| 654/654 [01:24<00:\n",
      "Validating..\t: 100%|█| 144/144 [00:04<0\n"
     ]
    },
    {
     "name": "stdout",
     "output_type": "stream",
     "text": [
      "Epoch 140: train_acc: 89.1% loss: 1.6947227,  val_loss: 1.4295342 val_acc: 79.6%\n"
     ]
    },
    {
     "name": "stderr",
     "output_type": "stream",
     "text": [
      "Training..\t: 100%|█| 654/654 [01:24<00:\n",
      "Validating..\t: 100%|█| 144/144 [00:04<0\n"
     ]
    },
    {
     "name": "stdout",
     "output_type": "stream",
     "text": [
      "Epoch 141: train_acc: 88.6% loss: 1.6086408,  val_loss: 1.4244452 val_acc: 79.3%\n"
     ]
    },
    {
     "name": "stderr",
     "output_type": "stream",
     "text": [
      "Training..\t: 100%|█| 654/654 [01:24<00:\n",
      "Validating..\t: 100%|█| 144/144 [00:04<0\n"
     ]
    },
    {
     "name": "stdout",
     "output_type": "stream",
     "text": [
      "Epoch 142: train_acc: 89.6% loss: 1.9662251,  val_loss: 1.4149625 val_acc: 78.8%\n"
     ]
    },
    {
     "name": "stderr",
     "output_type": "stream",
     "text": [
      "Training..\t: 100%|█| 654/654 [01:24<00:\n",
      "Validating..\t: 100%|█| 144/144 [00:04<0\n"
     ]
    },
    {
     "name": "stdout",
     "output_type": "stream",
     "text": [
      "Epoch 143: train_acc: 89.1% loss: 1.9570360,  val_loss: 1.4898204 val_acc: 80.0%\n"
     ]
    },
    {
     "name": "stderr",
     "output_type": "stream",
     "text": [
      "Training..\t: 100%|█| 654/654 [01:24<00:\n",
      "Validating..\t: 100%|█| 144/144 [00:04<0\n"
     ]
    },
    {
     "name": "stdout",
     "output_type": "stream",
     "text": [
      "Epoch 144: train_acc: 89.0% loss: 1.5953959,  val_loss: 1.5400447 val_acc: 76.9%\n"
     ]
    },
    {
     "name": "stderr",
     "output_type": "stream",
     "text": [
      "Training..\t: 100%|█| 654/654 [01:24<00:\n",
      "Validating..\t: 100%|█| 144/144 [00:04<0\n"
     ]
    },
    {
     "name": "stdout",
     "output_type": "stream",
     "text": [
      "Epoch 145: train_acc: 88.4% loss: 1.8768533,  val_loss: 1.6567824 val_acc: 78.7%\n"
     ]
    },
    {
     "name": "stderr",
     "output_type": "stream",
     "text": [
      "Training..\t: 100%|█| 654/654 [01:24<00:\n",
      "Validating..\t: 100%|█| 144/144 [00:04<0\n"
     ]
    },
    {
     "name": "stdout",
     "output_type": "stream",
     "text": [
      "Epoch 146: train_acc: 88.6% loss: 1.6602546,  val_loss: 1.5177617 val_acc: 78.0%\n"
     ]
    },
    {
     "name": "stderr",
     "output_type": "stream",
     "text": [
      "Training..\t: 100%|█| 654/654 [01:23<00:\n",
      "Validating..\t: 100%|█| 144/144 [00:04<0\n"
     ]
    },
    {
     "name": "stdout",
     "output_type": "stream",
     "text": [
      "Epoch 147: train_acc: 89.0% loss: 1.9198942,  val_loss: 1.7273879 val_acc: 79.3%\n"
     ]
    },
    {
     "name": "stderr",
     "output_type": "stream",
     "text": [
      "Training..\t: 100%|█| 654/654 [01:24<00:\n",
      "Validating..\t: 100%|█| 144/144 [00:04<0\n"
     ]
    },
    {
     "name": "stdout",
     "output_type": "stream",
     "text": [
      "Epoch 148: train_acc: 89.0% loss: 1.6916890,  val_loss: 1.5668781 val_acc: 75.2%\n"
     ]
    },
    {
     "name": "stderr",
     "output_type": "stream",
     "text": [
      "Training..\t: 100%|█| 654/654 [01:24<00:\n",
      "Validating..\t: 100%|█| 144/144 [00:04<0\n"
     ]
    },
    {
     "name": "stdout",
     "output_type": "stream",
     "text": [
      "Epoch 149: train_acc: 89.0% loss: 1.9670072,  val_loss: 1.5189807 val_acc: 75.8%\n"
     ]
    }
   ],
   "source": [
    "results = {\"loss\":[], \"val_loss\":[], \"train_accuracy\":[], \"valid_accuracy\":[]}\n",
    "best_valacc = 0\n",
    "# Model training\n",
    "for epoch in range(num_epochs):\n",
    "    # Going through the training set\n",
    "    correct_train = 0\n",
    "    model.train()\n",
    "    for x_batch,y_batch,imgname,platename,filename,plate_idx,location,date,year,xtra,width,height in tqdm(train_dataloader, desc='Training..\\t'):        \n",
    "        y_batch = torch.as_tensor(y_batch)\n",
    "        x_batch,y_batch = x_batch.float().cuda(), y_batch.cuda()\n",
    "        for param in model.parameters():\n",
    "            param.grad = None\n",
    "        pred = model(x_batch)\n",
    "\n",
    "        y_batch = y_batch.type(torch.LongTensor).cuda()\n",
    "        correct_train += (pred.argmax(axis=1) == y_batch).float().sum().item()\n",
    "        loss = criterion(pred, y_batch)\n",
    "        loss.backward()\n",
    "        optimizer.step()\n",
    "    train_accuracy = correct_train / len(train_dataset) * 100.\n",
    "    torch.cuda.empty_cache()\n",
    "\n",
    "    \n",
    "    # Going through the validation set\n",
    "    correct_valid = 0\n",
    "    model.eval()\n",
    "    with torch.no_grad():\n",
    "        for x_batch,y_batch,imgname,platename,filename,plate_idx,location,date,year,xtra,width,height in tqdm(valid_dataloader, desc='Validating..\\t'):\n",
    "            y_batch = torch.as_tensor(y_batch)\n",
    "            x_batch,y_batch = x_batch.float().cuda(), y_batch.cuda()\n",
    "            pred = model(x_batch)\n",
    "\n",
    "            y_batch = y_batch.type(torch.LongTensor).cuda()\n",
    "            correct_valid += (pred.argmax(axis=1) == y_batch).float().sum().item()\n",
    "            val_loss = criterion(pred, y_batch)\n",
    "    valid_accuracy = correct_valid / len(valid_dataset) * 100.\n",
    "\n",
    "    scheduler.step()\n",
    "\n",
    "\n",
    "    # Printing results\n",
    "    print(f\"Epoch {epoch}: train_acc: {train_accuracy:.1f}% loss: {loss:.7f},  val_loss: {val_loss:.7f} val_acc: {valid_accuracy:.1f}%\")\n",
    "        \n",
    "    is_best = valid_accuracy > best_valacc\n",
    "    if is_best:\n",
    "        print(f\"Validation accuracy improved from {best_valacc:.2f} to {valid_accuracy:.2f}. Saving model..\")\n",
    "    best_valacc = max(valid_accuracy, best_valacc)\n",
    "    save_checkpoint({\n",
    "        'epoch': epoch,\n",
    "        'state_dict': model.state_dict(),\n",
    "        'best_valacc': best_valacc,\n",
    "        'loss': results['loss'].append(loss.detach().cpu()),\n",
    "        'val_loss': results['val_loss'].append(val_loss.detach().cpu()),\n",
    "        'train_accuracy': results['train_accuracy'].append(train_accuracy),\n",
    "        'valid_accuracy': results['valid_accuracy'].append(valid_accuracy),\n",
    "        'optimizer' : optimizer.state_dict(),\n",
    "    }, is_best, f\"{modelname}_{setting}\")\n"
   ]
  },
  {
   "cell_type": "code",
   "execution_count": 16,
   "id": "2135fa64",
   "metadata": {},
   "outputs": [
    {
     "data": {
      "text/plain": [
       "torch.Size([3, 150, 150])"
      ]
     },
     "execution_count": 16,
     "metadata": {},
     "output_type": "execute_result"
    }
   ],
   "source": [
    "x_batch[0].shape"
   ]
  },
  {
   "cell_type": "code",
   "execution_count": 17,
   "id": "d5185a8b",
   "metadata": {},
   "outputs": [
    {
     "data": {
      "text/plain": [
       "<datasets.InsectImgDataset at 0x7f7505195700>"
      ]
     },
     "execution_count": 17,
     "metadata": {},
     "output_type": "execute_result"
    }
   ],
   "source": [
    "train_dataset"
   ]
  },
  {
   "cell_type": "code",
   "execution_count": null,
   "id": "e3f936e2-299a-41aa-bd59-8f382a57bb66",
   "metadata": {},
   "outputs": [],
   "source": []
  }
 ],
 "metadata": {
  "kernelspec": {
   "display_name": "Python 3.9.7 64-bit ('bugai': conda)",
   "language": "python",
   "name": "python397jvsc74a57bd02d839c87abe923a8f6c83e3c07da6b84166f74541505ea2206c85c393cfdbb04"
  },
  "language_info": {
   "codemirror_mode": {
    "name": "ipython",
    "version": 3
   },
   "file_extension": ".py",
   "mimetype": "text/x-python",
   "name": "python",
   "nbconvert_exporter": "python",
   "pygments_lexer": "ipython3",
   "version": "3.9.7"
  }
 },
 "nbformat": 4,
 "nbformat_minor": 5
}
