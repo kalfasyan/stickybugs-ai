{
 "cells": [
  {
   "cell_type": "code",
   "execution_count": 1,
   "id": "5ecdc4e7",
   "metadata": {},
   "outputs": [],
   "source": [
    "%reset -f\n",
    "%reload_ext autoreload\n",
    "%autoreload 2\n",
    "# %matplotlib inline\n",
    "%config Completer.use_jedi = False"
   ]
  },
  {
   "cell_type": "code",
   "execution_count": 2,
   "id": "91c3800e",
   "metadata": {},
   "outputs": [
    {
     "name": "stdout",
     "output_type": "stream",
     "text": [
      "Available workers: 16\n"
     ]
    }
   ],
   "source": [
    "from datasets import InsectImgDataset\n",
    "from utils import *\n",
    "import pandas as pd\n",
    "from pathlib import Path\n",
    "from tqdm import tqdm\n",
    "import matplotlib.pyplot as plt\n",
    "\n",
    "from torchvision import datasets\n",
    "import torchvision.transforms as T\n",
    "import torch.optim as optim\n",
    "import torch\n",
    "from torch.utils.data import DataLoader, Dataset\n",
    "import torch.nn as nn\n",
    "\n",
    "from category_encoders import OrdinalEncoder\n",
    "from sklearn.model_selection import train_test_split\n",
    "from sklearn.preprocessing import LabelEncoder\n",
    "from sklearn.metrics import confusion_matrix, accuracy_score, balanced_accuracy_score\n",
    "from sklearn.utils import class_weight\n",
    "\n",
    "setting = 'photobox'\n",
    "if setting == 'photobox':\n",
    "    ext = '.png'\n",
    "elif setting == 'fuji':\n",
    "    ext = '.jpg'\n",
    "    \n",
    "modelname = \"densenet121\""
   ]
  },
  {
   "cell_type": "markdown",
   "id": "71459b84",
   "metadata": {},
   "source": [
    "# Creating train,val,test sets"
   ]
  },
  {
   "cell_type": "markdown",
   "id": "c854cb3e",
   "metadata": {},
   "source": [
    "## Removing outliers"
   ]
  },
  {
   "cell_type": "code",
   "execution_count": 3,
   "id": "d9db1aaf",
   "metadata": {},
   "outputs": [
    {
     "data": {
      "text/plain": [
       "8     5556\n",
       "9     5285\n",
       "7     4571\n",
       "4     2532\n",
       "3     2386\n",
       "0     2332\n",
       "6     1547\n",
       "5     1082\n",
       "10    1016\n",
       "2      795\n",
       "1      682\n",
       "11     573\n",
       "Name: label, dtype: int64"
      ]
     },
     "execution_count": 3,
     "metadata": {},
     "output_type": "execute_result"
    }
   ],
   "source": [
    "df = pd.read_parquet(f\"{SAVE_DIR}/df_preparation_{setting}.parquet\")\n",
    "# df = pd.merge(df,df_pre, on=['filename','platename','imgname','date','year','plate_idx','location','xtra'])\n",
    "# df = df[df.knn_outlier==0]\n",
    "# df = df[df.nb_contours>0]\n",
    "# print(df.label.unique())\n",
    "\n",
    "oe = OrdinalEncoder(cols=['label'],mapping=[{'col':'label', 'mapping':{'bl':0,'wswl':1,'sp':2,'t':3,'sw':4,'k':5,'m':6,'c':7,'v':8,'wmv':9,'wrl':10,'other':11}}])\n",
    "df['txt_label'] = df['label']\n",
    "df['label'] = oe.fit_transform(df.label)\n",
    "df.label.value_counts()"
   ]
  },
  {
   "cell_type": "code",
   "execution_count": 4,
   "id": "f746cd74",
   "metadata": {},
   "outputs": [
    {
     "data": {
      "image/png": "[encoded data removed]",
      "text/plain": [
       "<Figure size 1440x360 with 3 Axes>"
      ]
     },
     "metadata": {
      "needs_background": "light"
     },
     "output_type": "display_data"
    }
   ],
   "source": [
    "test_plates = train_test_split(df.platename.unique(), random_state=2022, test_size=0.2, shuffle=True)[1].tolist()\n",
    "testseries = pd.Series(test_plates)\n",
    "inds = testseries.apply(lambda x: 'wortel' in x)\n",
    "inds = testseries[inds].sample(11).index.values\n",
    "wortel_plates = testseries[inds].tolist()\n",
    "test_plates = testseries[testseries.apply(lambda x: x.split('_')[1] != 'wortel')].tolist() + wortel_plates\n",
    "\n",
    "df_trainval = df[~df.platename.isin(test_plates)]\n",
    "df_test = df[df.platename.isin(test_plates)]\n",
    "\n",
    "topclasses = df['label'].value_counts().head(12).index.tolist()\n",
    "\n",
    "df = df[df['label'].isin(topclasses)]\n",
    "df_trainval = df_trainval[df_trainval['label'].isin(topclasses)]\n",
    "df_test = df_test[df_test['label'].isin(topclasses)]\n",
    "\n",
    "class_weights = class_weight.compute_class_weight('balanced', \n",
    "                                                  classes=np.unique(df['label'].tolist()), \n",
    "                                                  y=df['label'].tolist())\n",
    "\n",
    "class_weights = {np.unique(df['label'])[i]:class_weights[i] for i in range(len(class_weights))}\n",
    "df['weights'] = df['label'].map(class_weights)\n",
    "\n",
    "df_train, df_val = train_test_split(df_trainval, test_size=0.18, random_state=42, shuffle=True)\n",
    "\n",
    "\n",
    "plt.figure(figsize=(20,5))\n",
    "plt.subplot(1,3,1);df_train.txt_label.value_counts().plot(kind='barh');plt.title(f'train, {df_train.shape[0]}')\n",
    "plt.subplot(1,3,2);df_val.txt_label.value_counts().plot(kind='barh');plt.title(f'val, {df_val.shape[0]}')\n",
    "plt.subplot(1,3,3);df_test.txt_label.value_counts().plot(kind='barh');plt.title(f'test, {df_test.shape[0]}');"
   ]
  },
  {
   "cell_type": "code",
   "execution_count": 5,
   "id": "f4fdd28e",
   "metadata": {},
   "outputs": [],
   "source": [
    "assert len(set(df_train.filename.tolist()).intersection(df_test.filename.tolist())) == 0\n",
    "assert len(set(df_train.filename.tolist()).intersection(df_val.filename.tolist())) == 0"
   ]
  },
  {
   "cell_type": "code",
   "execution_count": 6,
   "id": "af1bb016-ae27-456f-9cf1-294532cc7152",
   "metadata": {},
   "outputs": [],
   "source": [
    "df_train.to_parquet(f\"{SAVE_DIR}/df_train_{setting}.parquet\")\n",
    "df_val.to_parquet(f\"{SAVE_DIR}/df_val_{setting}.parquet\")\n",
    "df_test.to_parquet(f\"{SAVE_DIR}/df_test_{setting}.parquet\")"
   ]
  },
  {
   "cell_type": "code",
   "execution_count": 7,
   "id": "b3c7b1e5-a740-4530-ae5f-24299737f2b7",
   "metadata": {},
   "outputs": [
    {
     "data": {
      "text/plain": [
       "8     3776\n",
       "9     3466\n",
       "7     3254\n",
       "4     1665\n",
       "3     1581\n",
       "0     1558\n",
       "6     1079\n",
       "5      725\n",
       "10     720\n",
       "2      535\n",
       "1      433\n",
       "11     375\n",
       "Name: label, dtype: int64"
      ]
     },
     "execution_count": 7,
     "metadata": {},
     "output_type": "execute_result"
    }
   ],
   "source": [
    "df_train.label.value_counts()"
   ]
  },
  {
   "cell_type": "markdown",
   "id": "0f3166c6",
   "metadata": {
    "tags": []
   },
   "source": [
    "# Creating Pytorch Datasets and Dataloaders"
   ]
  },
  {
   "cell_type": "code",
   "execution_count": 8,
   "id": "b61c23ad",
   "metadata": {},
   "outputs": [],
   "source": [
    "transforms_list_train = [\n",
    "#     A.SmallestMaxSize(max_size=150),\n",
    "    T.ToPILImage(),\n",
    "    T.Resize(size=(150,150)),\n",
    "    T.RandomVerticalFlip(p=0.5),\n",
    "    T.RandomHorizontalFlip(p=0.5),\n",
    "    T.RandomAutocontrast(p=0.5),\n",
    "    T.RandomAdjustSharpness(sharpness_factor=1.5, p=0.5),\n",
    "    T.RandomRotation(degrees=(-15,15)),\n",
    "    T.RandomPosterize(bits=7, p=0.1),\n",
    "    # T.RandomEqualize(p=0.5),\n",
    "    T.ToTensor(),\n",
    "]\n",
    "\n",
    "transforms_list_test = [\n",
    "    T.ToPILImage(),\n",
    "    T.Resize(size=(150,150)),    \n",
    "    T.ToTensor(),\n",
    "]\n",
    "\n",
    "train_dataset = InsectImgDataset(df=df_train.reset_index(drop=True), transform=T.Compose(transforms_list_train))\n",
    "valid_dataset = InsectImgDataset(df=df_val.reset_index(drop=True), transform=T.Compose(transforms_list_test))\n",
    "test_dataset = InsectImgDataset(df=df_test.reset_index(drop=True), transform=T.Compose(transforms_list_test))\n",
    "\n",
    "batch_size = 32\n",
    "batch_size_val = 32\n",
    "\n",
    "train_dataloader = DataLoader(train_dataset, batch_size=batch_size, shuffle=True, num_workers=4, pin_memory=True, worker_init_fn=worker_init_fn)\n",
    "valid_dataloader = DataLoader(valid_dataset, batch_size=batch_size_val, shuffle=False, num_workers=4, pin_memory=True, worker_init_fn=worker_init_fn)\n",
    "test_dataloader = DataLoader(test_dataset, batch_size=batch_size_val, shuffle=False, num_workers=4, pin_memory=True, worker_init_fn=worker_init_fn)\n",
    "\n",
    "# plt.imshow(train_dataset[0][0]); plt.title(f\"Example train image, class:{train_dataset[0][1]}\");"
   ]
  },
  {
   "cell_type": "code",
   "execution_count": 9,
   "id": "180a5c16-eedc-48fa-96d1-50a78cbd807c",
   "metadata": {},
   "outputs": [],
   "source": [
    "tensor_image = train_dataset[150][0]\n",
    "# print(tensor_image)\n",
    "# plt.imshow(  tensor_image.permute(1, 2, 0)  )\n",
    "# print(tensor_image.permute(1, 2, 0).shape)"
   ]
  },
  {
   "cell_type": "markdown",
   "id": "890f75ae",
   "metadata": {},
   "source": [
    "#### Defining the model and training parameters"
   ]
  },
  {
   "cell_type": "code",
   "execution_count": 10,
   "id": "234389bd",
   "metadata": {},
   "outputs": [],
   "source": [
    "torch.backends.cudnn.benchmark = True"
   ]
  },
  {
   "cell_type": "code",
   "execution_count": 11,
   "id": "33de9ef2-5532-4e88-80fd-9e1730958f47",
   "metadata": {
    "scrolled": true,
    "tags": []
   },
   "outputs": [],
   "source": [
    "model = model_selector(modelname, pretrained=True)\n",
    "\n",
    "if modelname.startswith(\"dense\"):\n",
    "    num_ftrs = model.classifier.in_features\n",
    "    model.classifier = nn.Sequential(\n",
    "                            nn.Linear(num_ftrs,512),\n",
    "                            nn.ReLU(),\n",
    "                            nn.Dropout(0.3),\n",
    "                            nn.Linear(512, len(topclasses)))\n",
    "if modelname.startswith(\"resn\"):\n",
    "    num_ftrs = model.fc.in_features\n",
    "    model.fc = nn.Linear(num_ftrs,len(topclasses))\n",
    "if modelname.startswith(\"efficient\"):\n",
    "    num_ftrs = model.classifier[1].in_features\n",
    "    model.classifier[1] = nn.Linear(num_ftrs,len(topclasses))\n",
    "if modelname.startswith(\"vgg\"):\n",
    "    num_ftrs = model.classifier[-1].in_features\n",
    "    model.classifier[-1] = nn.Linear(num_ftrs, len(topclasses))\n",
    "if modelname.startswith(\"mobile\"):\n",
    "    num_ftrs = model.classifier[-1].in_features\n",
    "    model.classifier[-1] = nn.Linear(num_ftrs, len(topclasses))"
   ]
  },
  {
   "cell_type": "code",
   "execution_count": 12,
   "id": "c75127b5-49c6-42cc-b5e8-98d23f40c485",
   "metadata": {
    "scrolled": true,
    "tags": []
   },
   "outputs": [
    {
     "name": "stdout",
     "output_type": "stream",
     "text": [
      "Train on gpu: True\n"
     ]
    }
   ],
   "source": [
    "# Choosing whether to train on a gpu\n",
    "train_on_gpu = torch.cuda.is_available()\n",
    "print(f'Train on gpu: {train_on_gpu}')# Number of gpus\n",
    "model = model.to('cuda', dtype=torch.float)\n",
    "\n",
    "num_epochs = 150\n",
    "\n",
    "class_sample_count = np.unique(df_train.label, return_counts=True)[1]\n",
    "weight = 1. / class_sample_count  \n",
    "criterion = nn.CrossEntropyLoss(label_smoothing=.15, weight=torch.Tensor(weight).cuda())"
   ]
  },
  {
   "cell_type": "code",
   "execution_count": 13,
   "id": "276ad0e6",
   "metadata": {},
   "outputs": [],
   "source": [
    "optimizer = optim.AdamW(model.parameters(), lr=.003, weight_decay=0.01)#optim.Adam(model.parameters(), lr=.001)\n",
    "scheduler = torch.optim.lr_scheduler.CyclicLR(optimizer, base_lr=0.0003, max_lr=0.03, cycle_momentum=False, mode=\"triangular2\")"
   ]
  },
  {
   "cell_type": "code",
   "execution_count": 14,
   "id": "62e6d957",
   "metadata": {},
   "outputs": [],
   "source": [
    "#optimizer = optim.Adam(model.parameters(), lr=0.001, eps=1e-3, amsgrad=True)\n",
    "#scheduler = torch.optim.lr_scheduler.CyclicLR(optimizer, base_lr=0.0001, max_lr=0.01, cycle_momentum=False, mode=\"triangular2\")"
   ]
  },
  {
   "cell_type": "markdown",
   "id": "65cc53eb",
   "metadata": {},
   "source": [
    "# Training"
   ]
  },
  {
   "cell_type": "code",
   "execution_count": null,
   "id": "7ace6f25",
   "metadata": {
    "tags": []
   },
   "outputs": [
    {
     "name": "stderr",
     "output_type": "stream",
     "text": [
      "Training..\t: 100%|█| 599/599 [01:33<00:\n",
      "Validating..\t: 100%|█| 132/132 [00:05<0\n"
     ]
    },
    {
     "name": "stdout",
     "output_type": "stream",
     "text": [
      "Epoch 0: train_acc: 54.3% loss: 2.4670353,  val_loss: 2.4352551 val_acc: 65.8%\n",
      "Validation accuracy improved from 0.00 to 65.78. Saving model..\n"
     ]
    },
    {
     "name": "stderr",
     "output_type": "stream",
     "text": [
      "Training..\t: 100%|█| 599/599 [01:20<00:\n",
      "Validating..\t: 100%|█| 132/132 [00:04<0\n"
     ]
    },
    {
     "name": "stdout",
     "output_type": "stream",
     "text": [
      "Epoch 1: train_acc: 66.9% loss: 1.5612895,  val_loss: 2.3157458 val_acc: 71.5%\n",
      "Validation accuracy improved from 65.78 to 71.46. Saving model..\n"
     ]
    },
    {
     "name": "stderr",
     "output_type": "stream",
     "text": [
      "Training..\t: 100%|█| 599/599 [01:20<00:\n",
      "Validating..\t: 100%|█| 132/132 [00:04<0\n"
     ]
    },
    {
     "name": "stdout",
     "output_type": "stream",
     "text": [
      "Epoch 2: train_acc: 70.2% loss: 1.8248601,  val_loss: 2.3254249 val_acc: 71.6%\n",
      "Validation accuracy improved from 71.46 to 71.63. Saving model..\n"
     ]
    },
    {
     "name": "stderr",
     "output_type": "stream",
     "text": [
      "Training..\t: 100%|█| 599/599 [01:20<00:\n",
      "Validating..\t: 100%|█| 132/132 [00:04<0\n"
     ]
    },
    {
     "name": "stdout",
     "output_type": "stream",
     "text": [
      "Epoch 3: train_acc: 72.4% loss: 1.6432574,  val_loss: 2.3904078 val_acc: 69.5%\n"
     ]
    },
    {
     "name": "stderr",
     "output_type": "stream",
     "text": [
      "Training..\t: 100%|█| 599/599 [01:20<00:\n",
      "Validating..\t: 100%|█| 132/132 [00:04<0\n"
     ]
    },
    {
     "name": "stdout",
     "output_type": "stream",
     "text": [
      "Epoch 4: train_acc: 73.7% loss: 1.3933077,  val_loss: 2.4338040 val_acc: 72.0%\n",
      "Validation accuracy improved from 71.63 to 72.01. Saving model..\n"
     ]
    },
    {
     "name": "stderr",
     "output_type": "stream",
     "text": [
      "Training..\t: 100%|█| 599/599 [01:20<00:\n",
      "Validating..\t: 100%|█| 132/132 [00:04<0\n"
     ]
    },
    {
     "name": "stdout",
     "output_type": "stream",
     "text": [
      "Epoch 5: train_acc: 75.1% loss: 1.6739149,  val_loss: 1.9977612 val_acc: 74.5%\n",
      "Validation accuracy improved from 72.01 to 74.50. Saving model..\n"
     ]
    },
    {
     "name": "stderr",
     "output_type": "stream",
     "text": [
      "Training..\t: 100%|█| 599/599 [01:20<00:\n",
      "Validating..\t: 100%|█| 132/132 [00:04<0\n"
     ]
    },
    {
     "name": "stdout",
     "output_type": "stream",
     "text": [
      "Epoch 6: train_acc: 75.5% loss: 1.4886177,  val_loss: 1.6787994 val_acc: 75.5%\n",
      "Validation accuracy improved from 74.50 to 75.48. Saving model..\n"
     ]
    },
    {
     "name": "stderr",
     "output_type": "stream",
     "text": [
      "Training..\t: 100%|█| 599/599 [01:20<00:\n",
      "Validating..\t: 100%|█| 132/132 [00:04<0\n"
     ]
    },
    {
     "name": "stdout",
     "output_type": "stream",
     "text": [
      "Epoch 7: train_acc: 76.4% loss: 1.5750871,  val_loss: 2.3484585 val_acc: 68.4%\n"
     ]
    },
    {
     "name": "stderr",
     "output_type": "stream",
     "text": [
      "Training..\t: 100%|█| 599/599 [01:20<00:\n",
      "Validating..\t: 100%|█| 132/132 [00:04<0\n"
     ]
    },
    {
     "name": "stdout",
     "output_type": "stream",
     "text": [
      "Epoch 8: train_acc: 76.4% loss: 1.5412450,  val_loss: 2.4051538 val_acc: 74.3%\n"
     ]
    },
    {
     "name": "stderr",
     "output_type": "stream",
     "text": [
      "Training..\t: 100%|█| 599/599 [01:20<00:\n",
      "Validating..\t: 100%|█| 132/132 [00:04<0\n"
     ]
    },
    {
     "name": "stdout",
     "output_type": "stream",
     "text": [
      "Epoch 9: train_acc: 77.5% loss: 1.2868366,  val_loss: 1.8626437 val_acc: 76.2%\n",
      "Validation accuracy improved from 75.48 to 76.24. Saving model..\n"
     ]
    },
    {
     "name": "stderr",
     "output_type": "stream",
     "text": [
      "Training..\t: 100%|█| 599/599 [01:20<00:\n",
      "Validating..\t: 100%|█| 132/132 [00:04<0\n"
     ]
    },
    {
     "name": "stdout",
     "output_type": "stream",
     "text": [
      "Epoch 10: train_acc: 77.8% loss: 1.9402486,  val_loss: 2.2223568 val_acc: 72.5%\n"
     ]
    },
    {
     "name": "stderr",
     "output_type": "stream",
     "text": [
      "Training..\t: 100%|█| 599/599 [01:20<00:\n",
      "Validating..\t: 100%|█| 132/132 [00:04<0\n"
     ]
    },
    {
     "name": "stdout",
     "output_type": "stream",
     "text": [
      "Epoch 11: train_acc: 77.5% loss: 1.4247080,  val_loss: 2.1923354 val_acc: 77.5%\n",
      "Validation accuracy improved from 76.24 to 77.47. Saving model..\n"
     ]
    },
    {
     "name": "stderr",
     "output_type": "stream",
     "text": [
      "Training..\t: 100%|█| 599/599 [01:20<00:\n",
      "Validating..\t: 100%|█| 132/132 [00:04<0\n"
     ]
    },
    {
     "name": "stdout",
     "output_type": "stream",
     "text": [
      "Epoch 12: train_acc: 78.5% loss: 1.4024825,  val_loss: 2.4394984 val_acc: 76.6%\n"
     ]
    },
    {
     "name": "stderr",
     "output_type": "stream",
     "text": [
      "Training..\t: 100%|█| 599/599 [01:20<00:\n",
      "Validating..\t: 100%|█| 132/132 [00:04<0\n"
     ]
    },
    {
     "name": "stdout",
     "output_type": "stream",
     "text": [
      "Epoch 13: train_acc: 78.2% loss: 1.7868069,  val_loss: 2.8766458 val_acc: 78.2%\n",
      "Validation accuracy improved from 77.47 to 78.23. Saving model..\n"
     ]
    },
    {
     "name": "stderr",
     "output_type": "stream",
     "text": [
      "Training..\t: 100%|█| 599/599 [01:20<00:\n",
      "Validating..\t: 100%|█| 132/132 [00:04<0\n"
     ]
    },
    {
     "name": "stdout",
     "output_type": "stream",
     "text": [
      "Epoch 14: train_acc: 79.1% loss: 1.5064489,  val_loss: 2.4612722 val_acc: 74.2%\n"
     ]
    },
    {
     "name": "stderr",
     "output_type": "stream",
     "text": [
      "Training..\t: 100%|█| 599/599 [01:20<00:\n",
      "Validating..\t: 100%|█| 132/132 [00:04<0\n"
     ]
    },
    {
     "name": "stdout",
     "output_type": "stream",
     "text": [
      "Epoch 15: train_acc: 78.6% loss: 1.4899819,  val_loss: 2.0677450 val_acc: 75.2%\n"
     ]
    },
    {
     "name": "stderr",
     "output_type": "stream",
     "text": [
      "Training..\t: 100%|█| 599/599 [01:20<00:\n",
      "Validating..\t: 100%|█| 132/132 [00:04<0\n"
     ]
    },
    {
     "name": "stdout",
     "output_type": "stream",
     "text": [
      "Epoch 16: train_acc: 79.3% loss: 1.4086256,  val_loss: 2.1844676 val_acc: 78.9%\n",
      "Validation accuracy improved from 78.23 to 78.94. Saving model..\n"
     ]
    },
    {
     "name": "stderr",
     "output_type": "stream",
     "text": [
      "Training..\t: 100%|█| 599/599 [01:20<00:\n",
      "Validating..\t: 100%|█| 132/132 [00:04<0\n"
     ]
    },
    {
     "name": "stdout",
     "output_type": "stream",
     "text": [
      "Epoch 17: train_acc: 79.6% loss: 1.6762719,  val_loss: 2.2523179 val_acc: 76.1%\n"
     ]
    },
    {
     "name": "stderr",
     "output_type": "stream",
     "text": [
      "Training..\t: 100%|█| 599/599 [01:20<00:\n",
      "Validating..\t: 100%|█| 132/132 [00:04<0\n"
     ]
    },
    {
     "name": "stdout",
     "output_type": "stream",
     "text": [
      "Epoch 18: train_acc: 80.1% loss: 1.9024367,  val_loss: 2.2999103 val_acc: 79.4%\n",
      "Validation accuracy improved from 78.94 to 79.42. Saving model..\n"
     ]
    },
    {
     "name": "stderr",
     "output_type": "stream",
     "text": [
      "Training..\t: 100%|█| 599/599 [01:20<00:\n",
      "Validating..\t: 100%|█| 132/132 [00:06<0\n"
     ]
    },
    {
     "name": "stdout",
     "output_type": "stream",
     "text": [
      "Epoch 19: train_acc: 80.3% loss: 2.0113425,  val_loss: 2.4551570 val_acc: 78.7%\n"
     ]
    },
    {
     "name": "stderr",
     "output_type": "stream",
     "text": [
      "Training..\t: 100%|█| 599/599 [01:20<00:\n",
      "Validating..\t: 100%|█| 132/132 [00:04<0\n"
     ]
    },
    {
     "name": "stdout",
     "output_type": "stream",
     "text": [
      "Epoch 20: train_acc: 80.8% loss: 1.4119196,  val_loss: 2.3673782 val_acc: 79.0%\n"
     ]
    },
    {
     "name": "stderr",
     "output_type": "stream",
     "text": [
      "Training..\t: 100%|█| 599/599 [01:20<00:\n",
      "Validating..\t: 100%|█| 132/132 [00:04<0\n"
     ]
    },
    {
     "name": "stdout",
     "output_type": "stream",
     "text": [
      "Epoch 21: train_acc: 80.2% loss: 1.7477851,  val_loss: 2.1127954 val_acc: 79.9%\n",
      "Validation accuracy improved from 79.42 to 79.94. Saving model..\n"
     ]
    },
    {
     "name": "stderr",
     "output_type": "stream",
     "text": [
      "Training..\t: 100%|█| 599/599 [01:20<00:\n",
      "Validating..\t: 100%|█| 132/132 [00:04<0\n"
     ]
    },
    {
     "name": "stdout",
     "output_type": "stream",
     "text": [
      "Epoch 22: train_acc: 80.7% loss: 1.0553067,  val_loss: 2.3308818 val_acc: 73.4%\n"
     ]
    },
    {
     "name": "stderr",
     "output_type": "stream",
     "text": [
      "Training..\t: 100%|█| 599/599 [01:20<00:\n",
      "Validating..\t: 100%|█| 132/132 [00:04<0\n"
     ]
    },
    {
     "name": "stdout",
     "output_type": "stream",
     "text": [
      "Epoch 23: train_acc: 81.0% loss: 1.5421374,  val_loss: 2.1547580 val_acc: 69.0%\n"
     ]
    },
    {
     "name": "stderr",
     "output_type": "stream",
     "text": [
      "Training..\t: 100%|█| 599/599 [01:20<00:\n",
      "Validating..\t: 100%|█| 132/132 [00:04<0\n"
     ]
    },
    {
     "name": "stdout",
     "output_type": "stream",
     "text": [
      "Epoch 24: train_acc: 81.2% loss: 1.4281609,  val_loss: 2.4444442 val_acc: 78.9%\n"
     ]
    },
    {
     "name": "stderr",
     "output_type": "stream",
     "text": [
      "Training..\t: 100%|█| 599/599 [01:20<00:\n",
      "Validating..\t: 100%|█| 132/132 [00:04<0\n"
     ]
    },
    {
     "name": "stdout",
     "output_type": "stream",
     "text": [
      "Epoch 25: train_acc: 81.1% loss: 1.5363019,  val_loss: 2.2200623 val_acc: 78.6%\n"
     ]
    },
    {
     "name": "stderr",
     "output_type": "stream",
     "text": [
      "Training..\t: 100%|█| 599/599 [01:20<00:\n",
      "Validating..\t: 100%|█| 132/132 [00:04<0\n"
     ]
    },
    {
     "name": "stdout",
     "output_type": "stream",
     "text": [
      "Epoch 26: train_acc: 81.6% loss: 1.3909967,  val_loss: 2.4199574 val_acc: 79.3%\n"
     ]
    },
    {
     "name": "stderr",
     "output_type": "stream",
     "text": [
      "Training..\t: 100%|█| 599/599 [01:20<00:\n",
      "Validating..\t: 100%|█| 132/132 [00:04<0\n"
     ]
    },
    {
     "name": "stdout",
     "output_type": "stream",
     "text": [
      "Epoch 27: train_acc: 81.1% loss: 1.2945648,  val_loss: 2.1282959 val_acc: 76.8%\n"
     ]
    },
    {
     "name": "stderr",
     "output_type": "stream",
     "text": [
      "Training..\t: 100%|█| 599/599 [01:20<00:\n",
      "Validating..\t: 100%|█| 132/132 [00:04<0\n"
     ]
    },
    {
     "name": "stdout",
     "output_type": "stream",
     "text": [
      "Epoch 28: train_acc: 81.8% loss: 1.5741607,  val_loss: 2.4425120 val_acc: 78.6%\n"
     ]
    },
    {
     "name": "stderr",
     "output_type": "stream",
     "text": [
      "Training..\t: 100%|█| 599/599 [01:20<00:\n",
      "Validating..\t: 100%|█| 132/132 [00:04<0\n"
     ]
    },
    {
     "name": "stdout",
     "output_type": "stream",
     "text": [
      "Epoch 29: train_acc: 81.8% loss: 1.2693653,  val_loss: 2.2973661 val_acc: 78.4%\n"
     ]
    },
    {
     "name": "stderr",
     "output_type": "stream",
     "text": [
      "Training..\t: 100%|█| 599/599 [01:20<00:\n",
      "Validating..\t: 100%|█| 132/132 [00:04<0\n"
     ]
    },
    {
     "name": "stdout",
     "output_type": "stream",
     "text": [
      "Epoch 30: train_acc: 82.3% loss: 1.1876445,  val_loss: 2.0466552 val_acc: 78.1%\n"
     ]
    },
    {
     "name": "stderr",
     "output_type": "stream",
     "text": [
      "Training..\t: 100%|█| 599/599 [01:20<00:\n",
      "Validating..\t: 100%|█| 132/132 [00:04<0\n"
     ]
    },
    {
     "name": "stdout",
     "output_type": "stream",
     "text": [
      "Epoch 31: train_acc: 82.8% loss: 1.5256045,  val_loss: 2.1272738 val_acc: 78.1%\n"
     ]
    },
    {
     "name": "stderr",
     "output_type": "stream",
     "text": [
      "Training..\t: 100%|█| 599/599 [01:20<00:\n",
      "Validating..\t: 100%|█| 132/132 [00:04<0\n"
     ]
    },
    {
     "name": "stdout",
     "output_type": "stream",
     "text": [
      "Epoch 32: train_acc: 82.3% loss: 1.6401227,  val_loss: 2.1669052 val_acc: 79.3%\n"
     ]
    },
    {
     "name": "stderr",
     "output_type": "stream",
     "text": [
      "Training..\t: 100%|█| 599/599 [01:20<00:\n",
      "Validating..\t: 100%|█| 132/132 [00:04<0\n"
     ]
    },
    {
     "name": "stdout",
     "output_type": "stream",
     "text": [
      "Epoch 33: train_acc: 82.0% loss: 1.6834036,  val_loss: 2.1171131 val_acc: 79.9%\n"
     ]
    },
    {
     "name": "stderr",
     "output_type": "stream",
     "text": [
      "Training..\t: 100%|█| 599/599 [01:20<00:\n",
      "Validating..\t: 100%|█| 132/132 [00:04<0\n"
     ]
    },
    {
     "name": "stdout",
     "output_type": "stream",
     "text": [
      "Epoch 34: train_acc: 82.7% loss: 1.8492219,  val_loss: 2.1124330 val_acc: 79.4%\n"
     ]
    },
    {
     "name": "stderr",
     "output_type": "stream",
     "text": [
      "Training..\t: 100%|█| 599/599 [01:20<00:\n",
      "Validating..\t: 100%|█| 132/132 [00:04<0\n"
     ]
    },
    {
     "name": "stdout",
     "output_type": "stream",
     "text": [
      "Epoch 35: train_acc: 83.4% loss: 1.6194532,  val_loss: 2.2844763 val_acc: 77.1%\n"
     ]
    },
    {
     "name": "stderr",
     "output_type": "stream",
     "text": [
      "Training..\t: 100%|█| 599/599 [01:20<00:\n",
      "Validating..\t: 100%|█| 132/132 [00:04<0\n"
     ]
    },
    {
     "name": "stdout",
     "output_type": "stream",
     "text": [
      "Epoch 36: train_acc: 82.8% loss: 1.1703136,  val_loss: 2.0123310 val_acc: 67.4%\n"
     ]
    },
    {
     "name": "stderr",
     "output_type": "stream",
     "text": [
      "Training..\t: 100%|█| 599/599 [01:20<00:\n",
      "Validating..\t: 100%|█| 132/132 [00:04<0\n"
     ]
    },
    {
     "name": "stdout",
     "output_type": "stream",
     "text": [
      "Epoch 37: train_acc: 82.9% loss: 1.2767519,  val_loss: 2.2624164 val_acc: 79.3%\n"
     ]
    },
    {
     "name": "stderr",
     "output_type": "stream",
     "text": [
      "Training..\t: 100%|█| 599/599 [01:20<00:\n",
      "Validating..\t: 100%|█| 132/132 [00:04<0\n"
     ]
    },
    {
     "name": "stdout",
     "output_type": "stream",
     "text": [
      "Epoch 38: train_acc: 83.5% loss: 1.2791638,  val_loss: 2.2267475 val_acc: 78.4%\n"
     ]
    },
    {
     "name": "stderr",
     "output_type": "stream",
     "text": [
      "Training..\t: 100%|█| 599/599 [01:20<00:\n",
      "Validating..\t: 100%|█| 132/132 [00:04<0\n"
     ]
    },
    {
     "name": "stdout",
     "output_type": "stream",
     "text": [
      "Epoch 39: train_acc: 83.4% loss: 1.4892905,  val_loss: 2.2792115 val_acc: 77.2%\n"
     ]
    },
    {
     "name": "stderr",
     "output_type": "stream",
     "text": [
      "Training..\t: 100%|█| 599/599 [01:20<00:\n",
      "Validating..\t: 100%|█| 132/132 [00:04<0\n"
     ]
    },
    {
     "name": "stdout",
     "output_type": "stream",
     "text": [
      "Epoch 40: train_acc: 82.8% loss: 1.7807686,  val_loss: 2.0622034 val_acc: 79.7%\n"
     ]
    },
    {
     "name": "stderr",
     "output_type": "stream",
     "text": [
      "Training..\t: 100%|█| 599/599 [01:20<00:\n",
      "Validating..\t: 100%|█| 132/132 [00:04<0\n"
     ]
    },
    {
     "name": "stdout",
     "output_type": "stream",
     "text": [
      "Epoch 41: train_acc: 83.4% loss: 1.3372464,  val_loss: 2.2408190 val_acc: 70.6%\n"
     ]
    },
    {
     "name": "stderr",
     "output_type": "stream",
     "text": [
      "Training..\t: 100%|█| 599/599 [01:20<00:\n",
      "Validating..\t: 100%|█| 132/132 [00:04<0\n"
     ]
    },
    {
     "name": "stdout",
     "output_type": "stream",
     "text": [
      "Epoch 42: train_acc: 84.3% loss: 1.3567251,  val_loss: 2.1308968 val_acc: 77.9%\n"
     ]
    },
    {
     "name": "stderr",
     "output_type": "stream",
     "text": [
      "Training..\t: 100%|█| 599/599 [01:20<00:\n",
      "Validating..\t: 100%|█| 132/132 [00:04<0\n"
     ]
    },
    {
     "name": "stdout",
     "output_type": "stream",
     "text": [
      "Epoch 43: train_acc: 84.1% loss: 1.5557072,  val_loss: 2.2522523 val_acc: 78.6%\n"
     ]
    },
    {
     "name": "stderr",
     "output_type": "stream",
     "text": [
      "Training..\t: 100%|█| 599/599 [01:20<00:\n",
      "Validating..\t: 100%|█| 132/132 [00:04<0\n"
     ]
    },
    {
     "name": "stdout",
     "output_type": "stream",
     "text": [
      "Epoch 44: train_acc: 83.6% loss: 1.3953518,  val_loss: 2.1710713 val_acc: 76.0%\n"
     ]
    },
    {
     "name": "stderr",
     "output_type": "stream",
     "text": [
      "Training..\t: 100%|█| 599/599 [01:20<00:\n",
      "Validating..\t: 100%|█| 132/132 [00:04<0\n"
     ]
    },
    {
     "name": "stdout",
     "output_type": "stream",
     "text": [
      "Epoch 45: train_acc: 84.0% loss: 1.0702257,  val_loss: 2.4582882 val_acc: 78.6%\n"
     ]
    },
    {
     "name": "stderr",
     "output_type": "stream",
     "text": [
      "Training..\t: 100%|█| 599/599 [01:20<00:\n",
      "Validating..\t: 100%|█| 132/132 [00:04<0\n"
     ]
    },
    {
     "name": "stdout",
     "output_type": "stream",
     "text": [
      "Epoch 46: train_acc: 84.5% loss: 1.4503120,  val_loss: 2.1620665 val_acc: 79.0%\n"
     ]
    },
    {
     "name": "stderr",
     "output_type": "stream",
     "text": [
      "Training..\t: 100%|█| 599/599 [01:20<00:\n",
      "Validating..\t: 100%|█| 132/132 [00:04<0\n"
     ]
    },
    {
     "name": "stdout",
     "output_type": "stream",
     "text": [
      "Epoch 47: train_acc: 84.3% loss: 1.9102366,  val_loss: 2.1452804 val_acc: 81.8%\n",
      "Validation accuracy improved from 79.94 to 81.84. Saving model..\n"
     ]
    },
    {
     "name": "stderr",
     "output_type": "stream",
     "text": [
      "Training..\t: 100%|█| 599/599 [01:19<00:\n",
      "Validating..\t: 100%|█| 132/132 [00:04<0\n"
     ]
    },
    {
     "name": "stdout",
     "output_type": "stream",
     "text": [
      "Epoch 48: train_acc: 84.3% loss: 1.4294086,  val_loss: 2.6727953 val_acc: 76.7%\n"
     ]
    },
    {
     "name": "stderr",
     "output_type": "stream",
     "text": [
      "Training..\t: 100%|█| 599/599 [01:20<00:\n",
      "Validating..\t: 100%|█| 132/132 [00:04<0\n"
     ]
    },
    {
     "name": "stdout",
     "output_type": "stream",
     "text": [
      "Epoch 49: train_acc: 84.4% loss: 1.5609522,  val_loss: 2.3568261 val_acc: 77.2%\n"
     ]
    },
    {
     "name": "stderr",
     "output_type": "stream",
     "text": [
      "Training..\t: 100%|█| 599/599 [01:20<00:\n",
      "Validating..\t: 100%|█| 132/132 [00:04<0\n"
     ]
    },
    {
     "name": "stdout",
     "output_type": "stream",
     "text": [
      "Epoch 50: train_acc: 84.2% loss: 1.4377315,  val_loss: 2.0943749 val_acc: 79.3%\n"
     ]
    },
    {
     "name": "stderr",
     "output_type": "stream",
     "text": [
      "Training..\t: 100%|█| 599/599 [01:19<00:\n",
      "Validating..\t: 100%|█| 132/132 [00:04<0\n"
     ]
    },
    {
     "name": "stdout",
     "output_type": "stream",
     "text": [
      "Epoch 51: train_acc: 85.3% loss: 1.5200433,  val_loss: 2.3840456 val_acc: 77.8%\n"
     ]
    },
    {
     "name": "stderr",
     "output_type": "stream",
     "text": [
      "Training..\t: 100%|█| 599/599 [01:20<00:\n",
      "Validating..\t: 100%|█| 132/132 [00:04<0\n"
     ]
    },
    {
     "name": "stdout",
     "output_type": "stream",
     "text": [
      "Epoch 52: train_acc: 85.4% loss: 1.3128558,  val_loss: 2.4572585 val_acc: 76.0%\n"
     ]
    },
    {
     "name": "stderr",
     "output_type": "stream",
     "text": [
      "Training..\t: 100%|█| 599/599 [01:19<00:\n",
      "Validating..\t: 100%|█| 132/132 [00:04<0\n"
     ]
    },
    {
     "name": "stdout",
     "output_type": "stream",
     "text": [
      "Epoch 53: train_acc: 84.8% loss: 1.4825182,  val_loss: 2.5199652 val_acc: 72.1%\n"
     ]
    },
    {
     "name": "stderr",
     "output_type": "stream",
     "text": [
      "Training..\t: 100%|█| 599/599 [01:19<00:\n",
      "Validating..\t: 100%|█| 132/132 [00:04<0\n"
     ]
    },
    {
     "name": "stdout",
     "output_type": "stream",
     "text": [
      "Epoch 54: train_acc: 85.0% loss: 1.1967986,  val_loss: 2.2947283 val_acc: 74.3%\n"
     ]
    },
    {
     "name": "stderr",
     "output_type": "stream",
     "text": [
      "Training..\t: 100%|█| 599/599 [01:19<00:\n",
      "Validating..\t: 100%|█| 132/132 [00:04<0\n"
     ]
    },
    {
     "name": "stdout",
     "output_type": "stream",
     "text": [
      "Epoch 55: train_acc: 85.3% loss: 1.3137126,  val_loss: 2.0851495 val_acc: 78.1%\n"
     ]
    },
    {
     "name": "stderr",
     "output_type": "stream",
     "text": [
      "Training..\t: 100%|█| 599/599 [01:19<00:\n",
      "Validating..\t: 100%|█| 132/132 [00:04<0\n"
     ]
    },
    {
     "name": "stdout",
     "output_type": "stream",
     "text": [
      "Epoch 56: train_acc: 85.3% loss: 1.1783874,  val_loss: 2.2637906 val_acc: 78.6%\n"
     ]
    },
    {
     "name": "stderr",
     "output_type": "stream",
     "text": [
      "Training..\t: 100%|█| 599/599 [01:19<00:\n",
      "Validating..\t: 100%|█| 132/132 [00:04<0\n"
     ]
    },
    {
     "name": "stdout",
     "output_type": "stream",
     "text": [
      "Epoch 57: train_acc: 85.5% loss: 1.3036629,  val_loss: 2.4172683 val_acc: 76.3%\n"
     ]
    },
    {
     "name": "stderr",
     "output_type": "stream",
     "text": [
      "Training..\t: 100%|█| 599/599 [01:19<00:\n",
      "Validating..\t: 100%|█| 132/132 [00:04<0\n"
     ]
    },
    {
     "name": "stdout",
     "output_type": "stream",
     "text": [
      "Epoch 58: train_acc: 85.5% loss: 1.2331626,  val_loss: 2.5086966 val_acc: 81.0%\n"
     ]
    },
    {
     "name": "stderr",
     "output_type": "stream",
     "text": [
      "Training..\t: 100%|█| 599/599 [01:19<00:\n",
      "Validating..\t: 100%|█| 132/132 [00:04<0\n"
     ]
    },
    {
     "name": "stdout",
     "output_type": "stream",
     "text": [
      "Epoch 59: train_acc: 85.6% loss: 1.6193457,  val_loss: 2.2422876 val_acc: 80.4%\n"
     ]
    },
    {
     "name": "stderr",
     "output_type": "stream",
     "text": [
      "Training..\t: 100%|█| 599/599 [01:19<00:\n",
      "Validating..\t: 100%|█| 132/132 [00:04<0\n"
     ]
    },
    {
     "name": "stdout",
     "output_type": "stream",
     "text": [
      "Epoch 60: train_acc: 86.1% loss: 1.3258440,  val_loss: 2.3628392 val_acc: 77.1%\n"
     ]
    },
    {
     "name": "stderr",
     "output_type": "stream",
     "text": [
      "Training..\t: 100%|█| 599/599 [01:20<00:\n",
      "Validating..\t: 100%|█| 132/132 [00:04<0\n"
     ]
    },
    {
     "name": "stdout",
     "output_type": "stream",
     "text": [
      "Epoch 61: train_acc: 85.5% loss: 1.0404156,  val_loss: 2.2188587 val_acc: 79.9%\n"
     ]
    },
    {
     "name": "stderr",
     "output_type": "stream",
     "text": [
      "Training..\t: 100%|█| 599/599 [01:19<00:\n",
      "Validating..\t: 100%|█| 132/132 [00:04<0\n"
     ]
    },
    {
     "name": "stdout",
     "output_type": "stream",
     "text": [
      "Epoch 62: train_acc: 86.3% loss: 1.1991652,  val_loss: 2.3285215 val_acc: 74.5%\n"
     ]
    },
    {
     "name": "stderr",
     "output_type": "stream",
     "text": [
      "Training..\t: 100%|█| 599/599 [01:19<00:\n",
      "Validating..\t: 100%|█| 132/132 [00:04<0\n"
     ]
    },
    {
     "name": "stdout",
     "output_type": "stream",
     "text": [
      "Epoch 63: train_acc: 85.5% loss: 1.5032041,  val_loss: 2.3764856 val_acc: 80.2%\n"
     ]
    },
    {
     "name": "stderr",
     "output_type": "stream",
     "text": [
      "Training..\t: 100%|█| 599/599 [01:19<00:\n",
      "Validating..\t: 100%|█| 132/132 [00:04<0\n"
     ]
    },
    {
     "name": "stdout",
     "output_type": "stream",
     "text": [
      "Epoch 64: train_acc: 85.9% loss: 1.0834506,  val_loss: 2.5096972 val_acc: 80.5%\n"
     ]
    },
    {
     "name": "stderr",
     "output_type": "stream",
     "text": [
      "Training..\t: 100%|█| 599/599 [01:19<00:\n",
      "Validating..\t: 100%|█| 132/132 [00:04<0\n"
     ]
    },
    {
     "name": "stdout",
     "output_type": "stream",
     "text": [
      "Epoch 65: train_acc: 86.3% loss: 1.3806450,  val_loss: 2.4304473 val_acc: 69.9%\n"
     ]
    },
    {
     "name": "stderr",
     "output_type": "stream",
     "text": [
      "Training..\t: 100%|█| 599/599 [01:20<00:\n",
      "Validating..\t: 100%|█| 132/132 [00:04<0\n"
     ]
    },
    {
     "name": "stdout",
     "output_type": "stream",
     "text": [
      "Epoch 66: train_acc: 86.5% loss: 1.6390002,  val_loss: 2.3142085 val_acc: 76.9%\n"
     ]
    },
    {
     "name": "stderr",
     "output_type": "stream",
     "text": [
      "Training..\t: 100%|█| 599/599 [01:19<00:\n",
      "Validating..\t: 100%|█| 132/132 [00:04<0\n"
     ]
    },
    {
     "name": "stdout",
     "output_type": "stream",
     "text": [
      "Epoch 67: train_acc: 86.0% loss: 1.4059424,  val_loss: 2.0912509 val_acc: 79.0%\n"
     ]
    },
    {
     "name": "stderr",
     "output_type": "stream",
     "text": [
      "Training..\t: 100%|█| 599/599 [01:19<00:\n",
      "Validating..\t: 100%|█| 132/132 [00:04<0\n"
     ]
    },
    {
     "name": "stdout",
     "output_type": "stream",
     "text": [
      "Epoch 68: train_acc: 85.7% loss: 1.0552150,  val_loss: 2.4843369 val_acc: 79.9%\n"
     ]
    },
    {
     "name": "stderr",
     "output_type": "stream",
     "text": [
      "Training..\t: 100%|█| 599/599 [01:19<00:\n",
      "Validating..\t: 100%|█| 132/132 [00:04<0\n"
     ]
    },
    {
     "name": "stdout",
     "output_type": "stream",
     "text": [
      "Epoch 69: train_acc: 86.7% loss: 1.4818560,  val_loss: 2.3714194 val_acc: 79.9%\n"
     ]
    },
    {
     "name": "stderr",
     "output_type": "stream",
     "text": [
      "Training..\t: 100%|█| 599/599 [01:19<00:\n",
      "Validating..\t: 100%|█| 132/132 [00:04<0\n"
     ]
    },
    {
     "name": "stdout",
     "output_type": "stream",
     "text": [
      "Epoch 70: train_acc: 86.7% loss: 0.9229661,  val_loss: 2.2160680 val_acc: 80.5%\n"
     ]
    },
    {
     "name": "stderr",
     "output_type": "stream",
     "text": [
      "Training..\t: 100%|█| 599/599 [01:19<00:\n",
      "Validating..\t: 100%|█| 132/132 [00:04<0\n"
     ]
    },
    {
     "name": "stdout",
     "output_type": "stream",
     "text": [
      "Epoch 71: train_acc: 86.6% loss: 1.7912600,  val_loss: 2.3396850 val_acc: 77.3%\n"
     ]
    },
    {
     "name": "stderr",
     "output_type": "stream",
     "text": [
      "Training..\t: 100%|█| 599/599 [01:19<00:\n",
      "Validating..\t: 100%|█| 132/132 [00:04<0\n"
     ]
    },
    {
     "name": "stdout",
     "output_type": "stream",
     "text": [
      "Epoch 72: train_acc: 86.4% loss: 1.3854504,  val_loss: 2.6284025 val_acc: 80.3%\n"
     ]
    },
    {
     "name": "stderr",
     "output_type": "stream",
     "text": [
      "Training..\t: 100%|█| 599/599 [01:19<00:\n",
      "Validating..\t: 100%|█| 132/132 [00:04<0\n"
     ]
    },
    {
     "name": "stdout",
     "output_type": "stream",
     "text": [
      "Epoch 73: train_acc: 87.0% loss: 1.3386583,  val_loss: 2.2243338 val_acc: 77.8%\n"
     ]
    },
    {
     "name": "stderr",
     "output_type": "stream",
     "text": [
      "Training..\t: 100%|█| 599/599 [01:19<00:\n",
      "Validating..\t: 100%|█| 132/132 [00:04<0\n"
     ]
    },
    {
     "name": "stdout",
     "output_type": "stream",
     "text": [
      "Epoch 74: train_acc: 86.8% loss: 1.2558603,  val_loss: 1.9830875 val_acc: 81.4%\n"
     ]
    },
    {
     "name": "stderr",
     "output_type": "stream",
     "text": [
      "Training..\t: 100%|█| 599/599 [01:19<00:\n",
      "Validating..\t: 100%|█| 132/132 [00:04<0\n"
     ]
    },
    {
     "name": "stdout",
     "output_type": "stream",
     "text": [
      "Epoch 75: train_acc: 87.1% loss: 1.7909400,  val_loss: 2.2130303 val_acc: 78.8%\n"
     ]
    },
    {
     "name": "stderr",
     "output_type": "stream",
     "text": [
      "Training..\t: 100%|█| 599/599 [01:19<00:\n",
      "Validating..\t: 100%|█| 132/132 [00:04<0\n"
     ]
    },
    {
     "name": "stdout",
     "output_type": "stream",
     "text": [
      "Epoch 76: train_acc: 86.7% loss: 1.1489722,  val_loss: 2.2186241 val_acc: 76.9%\n"
     ]
    },
    {
     "name": "stderr",
     "output_type": "stream",
     "text": [
      "Training..\t: 100%|█| 599/599 [01:19<00:\n",
      "Validating..\t: 100%|█| 132/132 [00:04<0\n"
     ]
    },
    {
     "name": "stdout",
     "output_type": "stream",
     "text": [
      "Epoch 77: train_acc: 86.9% loss: 1.2917233,  val_loss: 2.2712307 val_acc: 79.5%\n"
     ]
    },
    {
     "name": "stderr",
     "output_type": "stream",
     "text": [
      "Training..\t: 100%|█| 599/599 [01:19<00:\n",
      "Validating..\t: 100%|█| 132/132 [00:04<0\n"
     ]
    },
    {
     "name": "stdout",
     "output_type": "stream",
     "text": [
      "Epoch 78: train_acc: 86.6% loss: 1.2361439,  val_loss: 2.0402160 val_acc: 78.7%\n"
     ]
    },
    {
     "name": "stderr",
     "output_type": "stream",
     "text": [
      "Training..\t: 100%|█| 599/599 [01:19<00:\n",
      "Validating..\t: 100%|█| 132/132 [00:04<0\n"
     ]
    },
    {
     "name": "stdout",
     "output_type": "stream",
     "text": [
      "Epoch 79: train_acc: 87.7% loss: 1.2943685,  val_loss: 2.3800385 val_acc: 79.0%\n"
     ]
    },
    {
     "name": "stderr",
     "output_type": "stream",
     "text": [
      "Training..\t: 100%|█| 599/599 [01:19<00:\n",
      "Validating..\t: 100%|█| 132/132 [00:04<0\n"
     ]
    },
    {
     "name": "stdout",
     "output_type": "stream",
     "text": [
      "Epoch 80: train_acc: 87.1% loss: 1.3580145,  val_loss: 2.2917893 val_acc: 79.4%\n"
     ]
    },
    {
     "name": "stderr",
     "output_type": "stream",
     "text": [
      "Training..\t: 100%|█| 599/599 [01:19<00:\n",
      "Validating..\t: 100%|█| 132/132 [00:04<0\n"
     ]
    },
    {
     "name": "stdout",
     "output_type": "stream",
     "text": [
      "Epoch 81: train_acc: 86.9% loss: 1.3664140,  val_loss: 2.3131819 val_acc: 79.4%\n"
     ]
    },
    {
     "name": "stderr",
     "output_type": "stream",
     "text": [
      "Training..\t: 100%|█| 599/599 [01:19<00:\n",
      "Validating..\t: 100%|█| 132/132 [00:04<0\n"
     ]
    },
    {
     "name": "stdout",
     "output_type": "stream",
     "text": [
      "Epoch 82: train_acc: 86.6% loss: 1.4381049,  val_loss: 2.0618687 val_acc: 81.5%\n"
     ]
    },
    {
     "name": "stderr",
     "output_type": "stream",
     "text": [
      "Training..\t: 100%|█| 599/599 [01:19<00:\n",
      "Validating..\t: 100%|█| 132/132 [00:04<0\n"
     ]
    },
    {
     "name": "stdout",
     "output_type": "stream",
     "text": [
      "Epoch 83: train_acc: 87.6% loss: 1.6098567,  val_loss: 2.1425974 val_acc: 81.5%\n"
     ]
    },
    {
     "name": "stderr",
     "output_type": "stream",
     "text": [
      "Training..\t: 100%|█| 599/599 [01:19<00:\n",
      "Validating..\t: 100%|█| 132/132 [00:04<0\n"
     ]
    },
    {
     "name": "stdout",
     "output_type": "stream",
     "text": [
      "Epoch 84: train_acc: 87.1% loss: 1.3862150,  val_loss: 2.5746810 val_acc: 80.8%\n"
     ]
    },
    {
     "name": "stderr",
     "output_type": "stream",
     "text": [
      "Training..\t: 100%|█| 599/599 [01:20<00:\n",
      "Validating..\t: 100%|█| 132/132 [00:04<0\n"
     ]
    },
    {
     "name": "stdout",
     "output_type": "stream",
     "text": [
      "Epoch 85: train_acc: 87.5% loss: 1.2470887,  val_loss: 2.2952356 val_acc: 78.3%\n"
     ]
    },
    {
     "name": "stderr",
     "output_type": "stream",
     "text": [
      "Training..\t: 100%|█| 599/599 [01:20<00:\n",
      "Validating..\t: 100%|█| 132/132 [00:04<0\n"
     ]
    },
    {
     "name": "stdout",
     "output_type": "stream",
     "text": [
      "Epoch 86: train_acc: 87.6% loss: 1.5881326,  val_loss: 2.5888913 val_acc: 76.4%\n"
     ]
    },
    {
     "name": "stderr",
     "output_type": "stream",
     "text": [
      "Training..\t: 100%|█| 599/599 [01:20<00:\n",
      "Validating..\t: 100%|█| 132/132 [00:04<0\n"
     ]
    },
    {
     "name": "stdout",
     "output_type": "stream",
     "text": [
      "Epoch 87: train_acc: 87.2% loss: 1.3117845,  val_loss: 2.3994501 val_acc: 78.9%\n"
     ]
    },
    {
     "name": "stderr",
     "output_type": "stream",
     "text": [
      "Training..\t: 100%|█| 599/599 [01:19<00:\n",
      "Validating..\t: 100%|█| 132/132 [00:04<0\n"
     ]
    },
    {
     "name": "stdout",
     "output_type": "stream",
     "text": [
      "Epoch 88: train_acc: 87.4% loss: 1.4325302,  val_loss: 2.2567589 val_acc: 78.6%\n"
     ]
    },
    {
     "name": "stderr",
     "output_type": "stream",
     "text": [
      "Training..\t: 100%|█| 599/599 [01:20<00:\n",
      "Validating..\t: 100%|█| 132/132 [00:04<0\n"
     ]
    },
    {
     "name": "stdout",
     "output_type": "stream",
     "text": [
      "Epoch 89: train_acc: 87.4% loss: 1.2990222,  val_loss: 2.2919393 val_acc: 79.6%\n"
     ]
    },
    {
     "name": "stderr",
     "output_type": "stream",
     "text": [
      "Training..\t: 100%|█| 599/599 [01:19<00:\n",
      "Validating..\t: 100%|█| 132/132 [00:04<0\n"
     ]
    },
    {
     "name": "stdout",
     "output_type": "stream",
     "text": [
      "Epoch 90: train_acc: 87.6% loss: 1.4601079,  val_loss: 2.0344362 val_acc: 75.1%\n"
     ]
    },
    {
     "name": "stderr",
     "output_type": "stream",
     "text": [
      "Training..\t: 100%|█| 599/599 [01:19<00:\n",
      "Validating..\t: 100%|█| 132/132 [00:04<0\n"
     ]
    },
    {
     "name": "stdout",
     "output_type": "stream",
     "text": [
      "Epoch 91: train_acc: 87.4% loss: 1.5653534,  val_loss: 2.2637205 val_acc: 76.4%\n"
     ]
    },
    {
     "name": "stderr",
     "output_type": "stream",
     "text": [
      "Training..\t: 100%|█| 599/599 [01:19<00:\n",
      "Validating..\t: 100%|█| 132/132 [00:04<0\n"
     ]
    },
    {
     "name": "stdout",
     "output_type": "stream",
     "text": [
      "Epoch 92: train_acc: 87.6% loss: 1.4749408,  val_loss: 2.4238083 val_acc: 79.5%\n"
     ]
    },
    {
     "name": "stderr",
     "output_type": "stream",
     "text": [
      "Training..\t: 100%|█| 599/599 [01:19<00:\n",
      "Validating..\t: 100%|█| 132/132 [00:04<0\n"
     ]
    },
    {
     "name": "stdout",
     "output_type": "stream",
     "text": [
      "Epoch 93: train_acc: 87.9% loss: 1.2872075,  val_loss: 2.1690686 val_acc: 76.0%\n"
     ]
    },
    {
     "name": "stderr",
     "output_type": "stream",
     "text": [
      "Training..\t: 100%|█| 599/599 [01:19<00:\n",
      "Validating..\t: 100%|█| 132/132 [00:04<0\n"
     ]
    },
    {
     "name": "stdout",
     "output_type": "stream",
     "text": [
      "Epoch 94: train_acc: 88.0% loss: 1.4149505,  val_loss: 2.2197273 val_acc: 81.5%\n"
     ]
    },
    {
     "name": "stderr",
     "output_type": "stream",
     "text": [
      "Training..\t: 100%|█| 599/599 [01:19<00:\n",
      "Validating..\t: 100%|█| 132/132 [00:04<0\n"
     ]
    },
    {
     "name": "stdout",
     "output_type": "stream",
     "text": [
      "Epoch 95: train_acc: 86.5% loss: 2.0795803,  val_loss: 2.5896037 val_acc: 76.1%\n"
     ]
    },
    {
     "name": "stderr",
     "output_type": "stream",
     "text": [
      "Training..\t: 100%|█| 599/599 [01:19<00:\n",
      "Validating..\t: 100%|█| 132/132 [00:04<0\n"
     ]
    },
    {
     "name": "stdout",
     "output_type": "stream",
     "text": [
      "Epoch 96: train_acc: 87.7% loss: 1.5629253,  val_loss: 2.4898062 val_acc: 75.4%\n"
     ]
    },
    {
     "name": "stderr",
     "output_type": "stream",
     "text": [
      "Training..\t: 100%|█| 599/599 [01:19<00:\n",
      "Validating..\t: 100%|█| 132/132 [00:04<0\n"
     ]
    },
    {
     "name": "stdout",
     "output_type": "stream",
     "text": [
      "Epoch 97: train_acc: 88.0% loss: 1.2174811,  val_loss: 2.2524211 val_acc: 78.9%\n"
     ]
    },
    {
     "name": "stderr",
     "output_type": "stream",
     "text": [
      "Training..\t: 100%|█| 599/599 [01:19<00:\n",
      "Validating..\t: 100%|█| 132/132 [00:04<0\n"
     ]
    },
    {
     "name": "stdout",
     "output_type": "stream",
     "text": [
      "Epoch 98: train_acc: 88.5% loss: 1.1533009,  val_loss: 2.2013829 val_acc: 79.4%\n"
     ]
    },
    {
     "name": "stderr",
     "output_type": "stream",
     "text": [
      "Training..\t: 100%|█| 599/599 [01:19<00:\n",
      "Validating..\t: 100%|█| 132/132 [00:04<0\n"
     ]
    },
    {
     "name": "stdout",
     "output_type": "stream",
     "text": [
      "Epoch 99: train_acc: 88.2% loss: 1.1644342,  val_loss: 2.3167651 val_acc: 77.6%\n"
     ]
    },
    {
     "name": "stderr",
     "output_type": "stream",
     "text": [
      "Training..\t: 100%|█| 599/599 [01:19<00:\n",
      "Validating..\t: 100%|█| 132/132 [00:04<0\n"
     ]
    },
    {
     "name": "stdout",
     "output_type": "stream",
     "text": [
      "Epoch 100: train_acc: 88.0% loss: 1.5548573,  val_loss: 2.0789745 val_acc: 81.0%\n"
     ]
    },
    {
     "name": "stderr",
     "output_type": "stream",
     "text": [
      "Training..\t: 100%|█| 599/599 [01:19<00:\n",
      "Validating..\t: 100%|█| 132/132 [00:04<0\n"
     ]
    },
    {
     "name": "stdout",
     "output_type": "stream",
     "text": [
      "Epoch 101: train_acc: 88.5% loss: 1.6071128,  val_loss: 2.6882062 val_acc: 80.8%\n"
     ]
    },
    {
     "name": "stderr",
     "output_type": "stream",
     "text": [
      "Training..\t: 100%|█| 599/599 [01:19<00:\n",
      "Validating..\t: 100%|█| 132/132 [00:04<0\n"
     ]
    },
    {
     "name": "stdout",
     "output_type": "stream",
     "text": [
      "Epoch 102: train_acc: 87.5% loss: 1.4517212,  val_loss: 2.2365193 val_acc: 81.5%\n"
     ]
    },
    {
     "name": "stderr",
     "output_type": "stream",
     "text": [
      "Training..\t: 100%|█| 599/599 [01:20<00:\n",
      "Validating..\t: 100%|█| 132/132 [00:04<0\n"
     ]
    },
    {
     "name": "stdout",
     "output_type": "stream",
     "text": [
      "Epoch 103: train_acc: 88.3% loss: 1.1709218,  val_loss: 2.2999518 val_acc: 78.0%\n"
     ]
    },
    {
     "name": "stderr",
     "output_type": "stream",
     "text": [
      "Training..\t: 100%|█| 599/599 [01:19<00:\n",
      "Validating..\t: 100%|█| 132/132 [00:04<0\n"
     ]
    },
    {
     "name": "stdout",
     "output_type": "stream",
     "text": [
      "Epoch 104: train_acc: 88.0% loss: 1.4348365,  val_loss: 2.2181833 val_acc: 79.4%\n"
     ]
    },
    {
     "name": "stderr",
     "output_type": "stream",
     "text": [
      "Training..\t: 100%|█| 599/599 [01:19<00:\n",
      "Validating..\t: 100%|█| 132/132 [00:04<0\n"
     ]
    },
    {
     "name": "stdout",
     "output_type": "stream",
     "text": [
      "Epoch 105: train_acc: 88.6% loss: 1.5823216,  val_loss: 2.2761245 val_acc: 78.7%\n"
     ]
    },
    {
     "name": "stderr",
     "output_type": "stream",
     "text": [
      "Training..\t: 100%|█| 599/599 [01:20<00:\n",
      "Validating..\t: 100%|█| 132/132 [00:04<0\n"
     ]
    },
    {
     "name": "stdout",
     "output_type": "stream",
     "text": [
      "Epoch 106: train_acc: 87.2% loss: 1.2845430,  val_loss: 2.1482785 val_acc: 78.5%\n"
     ]
    },
    {
     "name": "stderr",
     "output_type": "stream",
     "text": [
      "Training..\t: 100%|█| 599/599 [01:19<00:\n",
      "Validating..\t: 100%|█| 132/132 [00:04<0\n"
     ]
    },
    {
     "name": "stdout",
     "output_type": "stream",
     "text": [
      "Epoch 107: train_acc: 88.6% loss: 1.6993129,  val_loss: 2.3076918 val_acc: 78.2%\n"
     ]
    },
    {
     "name": "stderr",
     "output_type": "stream",
     "text": [
      "Training..\t: 100%|█| 599/599 [01:20<00:\n",
      "Validating..\t: 100%|█| 132/132 [00:05<0\n"
     ]
    },
    {
     "name": "stdout",
     "output_type": "stream",
     "text": [
      "Epoch 108: train_acc: 88.5% loss: 1.1936299,  val_loss: 2.4963398 val_acc: 79.8%\n"
     ]
    },
    {
     "name": "stderr",
     "output_type": "stream",
     "text": [
      "Training..\t: 100%|█| 599/599 [01:21<00:\n",
      "Validating..\t: 100%|█| 132/132 [00:05<0\n"
     ]
    },
    {
     "name": "stdout",
     "output_type": "stream",
     "text": [
      "Epoch 109: train_acc: 89.0% loss: 1.6109855,  val_loss: 2.7290330 val_acc: 78.9%\n"
     ]
    },
    {
     "name": "stderr",
     "output_type": "stream",
     "text": [
      "Training..\t: 100%|█| 599/599 [01:21<00:\n",
      "Validating..\t: 100%|█| 132/132 [00:04<0\n"
     ]
    },
    {
     "name": "stdout",
     "output_type": "stream",
     "text": [
      "Epoch 110: train_acc: 88.3% loss: 1.0715100,  val_loss: 2.1822560 val_acc: 77.9%\n"
     ]
    },
    {
     "name": "stderr",
     "output_type": "stream",
     "text": [
      "Training..\t: 100%|█| 599/599 [11:25<00:\n",
      "Validating..\t: 100%|█| 132/132 [01:04<0\n"
     ]
    },
    {
     "name": "stdout",
     "output_type": "stream",
     "text": [
      "Epoch 111: train_acc: 88.6% loss: 1.0566778,  val_loss: 2.4988098 val_acc: 77.2%\n"
     ]
    },
    {
     "name": "stderr",
     "output_type": "stream",
     "text": [
      "Training..\t: 100%|█| 599/599 [02:36<00:\n",
      "Validating..\t: 100%|█| 132/132 [00:05<0\n"
     ]
    },
    {
     "name": "stdout",
     "output_type": "stream",
     "text": [
      "Epoch 112: train_acc: 88.7% loss: 1.4412661,  val_loss: 2.0568917 val_acc: 76.9%\n"
     ]
    },
    {
     "name": "stderr",
     "output_type": "stream",
     "text": [
      "Training..\t: 100%|█| 599/599 [01:27<00:\n",
      "Validating..\t: 100%|█| 132/132 [00:05<0\n"
     ]
    },
    {
     "name": "stdout",
     "output_type": "stream",
     "text": [
      "Epoch 113: train_acc: 88.9% loss: 1.0148495,  val_loss: 2.2926202 val_acc: 77.5%\n"
     ]
    },
    {
     "name": "stderr",
     "output_type": "stream",
     "text": [
      "Training..\t: 100%|█| 599/599 [01:22<00:\n",
      "Validating..\t: 100%|█| 132/132 [00:05<0\n"
     ]
    },
    {
     "name": "stdout",
     "output_type": "stream",
     "text": [
      "Epoch 114: train_acc: 88.9% loss: 1.4449780,  val_loss: 2.1662302 val_acc: 77.1%\n"
     ]
    },
    {
     "name": "stderr",
     "output_type": "stream",
     "text": [
      "Training..\t:  88%|▉| 530/599 [01:11<00:"
     ]
    }
   ],
   "source": [
    "results = {\"loss\":[], \"val_loss\":[], \"train_accuracy\":[], \"valid_accuracy\":[]}\n",
    "best_valacc = 0\n",
    "# Model training\n",
    "for epoch in range(num_epochs):\n",
    "    # Going through the training set\n",
    "    correct_train = 0\n",
    "    model.train()\n",
    "    for x_batch,y_batch,imgname,platename,filename,plate_idx,location,date,year,xtra,width,height in tqdm(train_dataloader, desc='Training..\\t'):        \n",
    "        y_batch = torch.as_tensor(y_batch)\n",
    "        x_batch,y_batch = x_batch.float().cuda(), y_batch.cuda()\n",
    "        for param in model.parameters():\n",
    "            param.grad = None\n",
    "        pred = model(x_batch)\n",
    "\n",
    "        y_batch = y_batch.type(torch.LongTensor).cuda()\n",
    "        correct_train += (pred.argmax(axis=1) == y_batch).float().sum().item()\n",
    "        loss = criterion(pred, y_batch)\n",
    "        loss.backward()\n",
    "        optimizer.step()\n",
    "    train_accuracy = correct_train / len(train_dataset) * 100.\n",
    "    torch.cuda.empty_cache()\n",
    "\n",
    "    \n",
    "    # Going through the validation set\n",
    "    correct_valid = 0\n",
    "    model.eval()\n",
    "    with torch.no_grad():\n",
    "        for x_batch,y_batch,imgname,platename,filename,plate_idx,location,date,year,xtra,width,height in tqdm(valid_dataloader, desc='Validating..\\t'):\n",
    "            y_batch = torch.as_tensor(y_batch)\n",
    "            x_batch,y_batch = x_batch.float().cuda(), y_batch.cuda()\n",
    "            pred = model(x_batch)\n",
    "\n",
    "            y_batch = y_batch.type(torch.LongTensor).cuda()\n",
    "            correct_valid += (pred.argmax(axis=1) == y_batch).float().sum().item()\n",
    "            val_loss = criterion(pred, y_batch)\n",
    "    valid_accuracy = correct_valid / len(valid_dataset) * 100.\n",
    "\n",
    "    scheduler.step()\n",
    "\n",
    "\n",
    "    # Printing results\n",
    "    print(f\"Epoch {epoch}: train_acc: {train_accuracy:.1f}% loss: {loss:.7f},  val_loss: {val_loss:.7f} val_acc: {valid_accuracy:.1f}%\")\n",
    "        \n",
    "    is_best = valid_accuracy > best_valacc\n",
    "    if is_best:\n",
    "        print(f\"Validation accuracy improved from {best_valacc:.2f} to {valid_accuracy:.2f}. Saving model..\")\n",
    "    best_valacc = max(valid_accuracy, best_valacc)\n",
    "    save_checkpoint({\n",
    "        'epoch': epoch,\n",
    "        'state_dict': model.state_dict(),\n",
    "        'best_valacc': best_valacc,\n",
    "        'loss': results['loss'].append(loss.detach().cpu()),\n",
    "        'val_loss': results['val_loss'].append(val_loss.detach().cpu()),\n",
    "        'train_accuracy': results['train_accuracy'].append(train_accuracy),\n",
    "        'valid_accuracy': results['valid_accuracy'].append(valid_accuracy),\n",
    "        'optimizer' : optimizer.state_dict(),\n",
    "    }, is_best, f\"{modelname}_{setting}\")\n"
   ]
  },
  {
   "cell_type": "code",
   "execution_count": 16,
   "id": "2135fa64",
   "metadata": {},
   "outputs": [
    {
     "data": {
      "text/plain": [
       "torch.Size([3, 150, 150])"
      ]
     },
     "execution_count": 16,
     "metadata": {},
     "output_type": "execute_result"
    }
   ],
   "source": [
    "x_batch[0].shape"
   ]
  },
  {
   "cell_type": "code",
   "execution_count": 17,
   "id": "d5185a8b",
   "metadata": {},
   "outputs": [
    {
     "data": {
      "text/plain": [
       "<datasets.InsectImgDataset at 0x7efc38150040>"
      ]
     },
     "execution_count": 17,
     "metadata": {},
     "output_type": "execute_result"
    }
   ],
   "source": [
    "train_dataset"
   ]
  },
  {
   "cell_type": "code",
   "execution_count": null,
   "id": "e3f936e2-299a-41aa-bd59-8f382a57bb66",
   "metadata": {},
   "outputs": [],
   "source": []
  }
 ],
 "metadata": {
  "kernelspec": {
   "display_name": "Python 3 (ipykernel)",
   "language": "python",
   "name": "python3"
  },
  "language_info": {
   "codemirror_mode": {
    "name": "ipython",
    "version": 3
   },
   "file_extension": ".py",
   "mimetype": "text/x-python",
   "name": "python",
   "nbconvert_exporter": "python",
   "pygments_lexer": "ipython3",
   "version": "3.9.7"
  }
 },
 "nbformat": 4,
 "nbformat_minor": 5
}
