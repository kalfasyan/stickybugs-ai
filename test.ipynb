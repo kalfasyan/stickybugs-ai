{
 "cells": [
  {
   "cell_type": "code",
   "execution_count": 1,
   "metadata": {},
   "outputs": [],
   "source": [
    "%reset -f\n",
    "%reload_ext autoreload\n",
    "%autoreload 2\n",
    "%matplotlib inline\n",
    "%config Completer.use_jedi = False"
   ]
  },
  {
   "cell_type": "code",
   "execution_count": 2,
   "metadata": {},
   "outputs": [
    {
     "name": "stdout",
     "output_type": "stream",
     "text": [
      "Available workers: 8\n"
     ]
    }
   ],
   "source": [
    "from datasets import DataFrameSet\n",
    "from utils import *\n",
    "import pandas as pd\n",
    "from pathlib import Path"
   ]
  },
  {
   "cell_type": "code",
   "execution_count": 3,
   "metadata": {},
   "outputs": [],
   "source": [
    "df = pd.DataFrame(get_files(DATA_DIR), columns=['filename'])"
   ]
  },
  {
   "cell_type": "code",
   "execution_count": 4,
   "metadata": {},
   "outputs": [],
   "source": [
    "dfs = DataFrameSet(df)"
   ]
  },
  {
   "cell_type": "code",
   "execution_count": 5,
   "metadata": {},
   "outputs": [
    {
     "data": {
      "text/html": [
       "<div>\n",
       "<style scoped>\n",
       "    .dataframe tbody tr th:only-of-type {\n",
       "        vertical-align: middle;\n",
       "    }\n",
       "\n",
       "    .dataframe tbody tr th {\n",
       "        vertical-align: top;\n",
       "    }\n",
       "\n",
       "    .dataframe thead th {\n",
       "        text-align: right;\n",
       "    }\n",
       "</style>\n",
       "<table border=\"1\" class=\"dataframe\">\n",
       "  <thead>\n",
       "    <tr style=\"text-align: right;\">\n",
       "      <th></th>\n",
       "      <th>filename</th>\n",
       "    </tr>\n",
       "  </thead>\n",
       "  <tbody>\n",
       "    <tr>\n",
       "      <th>0</th>\n",
       "      <td>/media/kalfasyan/HGST_4TB/Datasets/pbox_vs_fuj...</td>\n",
       "    </tr>\n",
       "    <tr>\n",
       "      <th>1</th>\n",
       "      <td>/media/kalfasyan/HGST_4TB/Datasets/pbox_vs_fuj...</td>\n",
       "    </tr>\n",
       "    <tr>\n",
       "      <th>2</th>\n",
       "      <td>/media/kalfasyan/HGST_4TB/Datasets/pbox_vs_fuj...</td>\n",
       "    </tr>\n",
       "    <tr>\n",
       "      <th>3</th>\n",
       "      <td>/media/kalfasyan/HGST_4TB/Datasets/pbox_vs_fuj...</td>\n",
       "    </tr>\n",
       "    <tr>\n",
       "      <th>4</th>\n",
       "      <td>/media/kalfasyan/HGST_4TB/Datasets/pbox_vs_fuj...</td>\n",
       "    </tr>\n",
       "    <tr>\n",
       "      <th>...</th>\n",
       "      <td>...</td>\n",
       "    </tr>\n",
       "    <tr>\n",
       "      <th>67836</th>\n",
       "      <td>/media/kalfasyan/HGST_4TB/Datasets/pbox_vs_fuj...</td>\n",
       "    </tr>\n",
       "    <tr>\n",
       "      <th>67837</th>\n",
       "      <td>/media/kalfasyan/HGST_4TB/Datasets/pbox_vs_fuj...</td>\n",
       "    </tr>\n",
       "    <tr>\n",
       "      <th>67838</th>\n",
       "      <td>/media/kalfasyan/HGST_4TB/Datasets/pbox_vs_fuj...</td>\n",
       "    </tr>\n",
       "    <tr>\n",
       "      <th>67839</th>\n",
       "      <td>/media/kalfasyan/HGST_4TB/Datasets/pbox_vs_fuj...</td>\n",
       "    </tr>\n",
       "    <tr>\n",
       "      <th>67840</th>\n",
       "      <td>/media/kalfasyan/HGST_4TB/Datasets/pbox_vs_fuj...</td>\n",
       "    </tr>\n",
       "  </tbody>\n",
       "</table>\n",
       "<p>67841 rows × 1 columns</p>\n",
       "</div>"
      ],
      "text/plain": [
       "                                                filename\n",
       "0      /media/kalfasyan/HGST_4TB/Datasets/pbox_vs_fuj...\n",
       "1      /media/kalfasyan/HGST_4TB/Datasets/pbox_vs_fuj...\n",
       "2      /media/kalfasyan/HGST_4TB/Datasets/pbox_vs_fuj...\n",
       "3      /media/kalfasyan/HGST_4TB/Datasets/pbox_vs_fuj...\n",
       "4      /media/kalfasyan/HGST_4TB/Datasets/pbox_vs_fuj...\n",
       "...                                                  ...\n",
       "67836  /media/kalfasyan/HGST_4TB/Datasets/pbox_vs_fuj...\n",
       "67837  /media/kalfasyan/HGST_4TB/Datasets/pbox_vs_fuj...\n",
       "67838  /media/kalfasyan/HGST_4TB/Datasets/pbox_vs_fuj...\n",
       "67839  /media/kalfasyan/HGST_4TB/Datasets/pbox_vs_fuj...\n",
       "67840  /media/kalfasyan/HGST_4TB/Datasets/pbox_vs_fuj...\n",
       "\n",
       "[67841 rows x 1 columns]"
      ]
     },
     "execution_count": 5,
     "metadata": {},
     "output_type": "execute_result"
    }
   ],
   "source": [
    "dfs.df"
   ]
  },
  {
   "cell_type": "code",
   "execution_count": 6,
   "metadata": {},
   "outputs": [
    {
     "data": {
      "text/plain": [
       "PosixPath('/media/kalfasyan/HGST_4TB/Datasets/pbox_vs_fuji/fuji/bl/2020_Herent_w28_3-30_F10_51 mm_ISO160_1-15 s_IncandescentWB_111.jpg')"
      ]
     },
     "execution_count": 6,
     "metadata": {},
     "output_type": "execute_result"
    }
   ],
   "source": [
    "dfs.df.filename.iloc[0]"
   ]
  },
  {
   "cell_type": "code",
   "execution_count": 30,
   "metadata": {},
   "outputs": [
    {
     "data": {
      "text/plain": [
       "('/media/kalfasyan/HGST_4TB/Datasets/pbox_vs_fuji/fuji/bl/2020_Herent_w28_3-30_F10_51 mm_ISO160_1-15 s_IncandescentWB_111.jpg',\n",
       " 'bl',\n",
       " '2020_Herent_w28_3-30_F10_51 mm_ISO160_1-15 s_IncandescentWB_111',\n",
       " '2020',\n",
       " 'Herent',\n",
       " 'w28',\n",
       " '3-30',\n",
       " '111')"
      ]
     },
     "execution_count": 30,
     "metadata": {},
     "output_type": "execute_result"
    }
   ],
   "source": [
    "extract_filename_info(str(dfs.df.filename.iloc[0]))"
   ]
  },
  {
   "cell_type": "code",
   "execution_count": 31,
   "metadata": {},
   "outputs": [
    {
     "data": {
      "text/html": [
       "<div>\n",
       "<style scoped>\n",
       "    .dataframe tbody tr th:only-of-type {\n",
       "        vertical-align: middle;\n",
       "    }\n",
       "\n",
       "    .dataframe tbody tr th {\n",
       "        vertical-align: top;\n",
       "    }\n",
       "\n",
       "    .dataframe thead th {\n",
       "        text-align: right;\n",
       "    }\n",
       "</style>\n",
       "<table border=\"1\" class=\"dataframe\">\n",
       "  <thead>\n",
       "    <tr style=\"text-align: right;\">\n",
       "      <th></th>\n",
       "      <th>filename</th>\n",
       "      <th>label</th>\n",
       "      <th>name</th>\n",
       "      <th>year</th>\n",
       "      <th>location</th>\n",
       "      <th>date</th>\n",
       "      <th>xtra</th>\n",
       "      <th>idx</th>\n",
       "    </tr>\n",
       "  </thead>\n",
       "  <tbody>\n",
       "    <tr>\n",
       "      <th>0</th>\n",
       "      <td>/media/kalfasyan/HGST_4TB/Datasets/pbox_vs_fuj...</td>\n",
       "      <td>bl</td>\n",
       "      <td>2020_Herent_w28_3-30_F10_51 mm_ISO160_1-15 s_I...</td>\n",
       "      <td>2020</td>\n",
       "      <td>Herent</td>\n",
       "      <td>w28</td>\n",
       "      <td>3-30</td>\n",
       "      <td>111</td>\n",
       "    </tr>\n",
       "    <tr>\n",
       "      <th>1</th>\n",
       "      <td>/media/kalfasyan/HGST_4TB/Datasets/pbox_vs_fuj...</td>\n",
       "      <td>bl</td>\n",
       "      <td>2021_UNDISTORTED_Landen_w24_B_F10_51 mmmm_ISO1...</td>\n",
       "      <td>2021</td>\n",
       "      <td>UNDISTORTED_Landen</td>\n",
       "      <td>w24</td>\n",
       "      <td>B</td>\n",
       "      <td>376</td>\n",
       "    </tr>\n",
       "    <tr>\n",
       "      <th>2</th>\n",
       "      <td>/media/kalfasyan/HGST_4TB/Datasets/pbox_vs_fuj...</td>\n",
       "      <td>bl</td>\n",
       "      <td>2021_UNDISTORTED_Landen_w24_B_F10_51 mmmm_ISO1...</td>\n",
       "      <td>2021</td>\n",
       "      <td>UNDISTORTED_Landen</td>\n",
       "      <td>w24</td>\n",
       "      <td>B</td>\n",
       "      <td>381</td>\n",
       "    </tr>\n",
       "    <tr>\n",
       "      <th>3</th>\n",
       "      <td>/media/kalfasyan/HGST_4TB/Datasets/pbox_vs_fuj...</td>\n",
       "      <td>bl</td>\n",
       "      <td>2021_UNDISTORTED_Landen_w24_B_F10_51 mmmm_ISO1...</td>\n",
       "      <td>2021</td>\n",
       "      <td>UNDISTORTED_Landen</td>\n",
       "      <td>w24</td>\n",
       "      <td>B</td>\n",
       "      <td>386</td>\n",
       "    </tr>\n",
       "    <tr>\n",
       "      <th>4</th>\n",
       "      <td>/media/kalfasyan/HGST_4TB/Datasets/pbox_vs_fuj...</td>\n",
       "      <td>bl</td>\n",
       "      <td>2021_UNDISTORTED_Landen_w24_B_F10_51 mmmm_ISO1...</td>\n",
       "      <td>2021</td>\n",
       "      <td>UNDISTORTED_Landen</td>\n",
       "      <td>w24</td>\n",
       "      <td>B</td>\n",
       "      <td>387</td>\n",
       "    </tr>\n",
       "    <tr>\n",
       "      <th>...</th>\n",
       "      <td>...</td>\n",
       "      <td>...</td>\n",
       "      <td>...</td>\n",
       "      <td>...</td>\n",
       "      <td>...</td>\n",
       "      <td>...</td>\n",
       "      <td>...</td>\n",
       "      <td>...</td>\n",
       "    </tr>\n",
       "    <tr>\n",
       "      <th>67836</th>\n",
       "      <td>/media/kalfasyan/HGST_4TB/Datasets/pbox_vs_fuj...</td>\n",
       "      <td>wswl</td>\n",
       "      <td>2019_kampen_w31_3daysold_C_25_F10_51 mm_ISO160...</td>\n",
       "      <td>2019</td>\n",
       "      <td>kampen</td>\n",
       "      <td>w31</td>\n",
       "      <td>3daysold</td>\n",
       "      <td>67</td>\n",
       "    </tr>\n",
       "    <tr>\n",
       "      <th>67837</th>\n",
       "      <td>/media/kalfasyan/HGST_4TB/Datasets/pbox_vs_fuj...</td>\n",
       "      <td>wswl</td>\n",
       "      <td>2019_kampen_w35_A_F10_51 mm_ISO160_1-15 s_91</td>\n",
       "      <td>2019</td>\n",
       "      <td>kampen</td>\n",
       "      <td>w35</td>\n",
       "      <td>A</td>\n",
       "      <td>91</td>\n",
       "    </tr>\n",
       "    <tr>\n",
       "      <th>67838</th>\n",
       "      <td>/media/kalfasyan/HGST_4TB/Datasets/pbox_vs_fuj...</td>\n",
       "      <td>wswl</td>\n",
       "      <td>2019_kampen_w36_B_F10_51 mm_ISO160_1-15 s_7</td>\n",
       "      <td>2019</td>\n",
       "      <td>kampen</td>\n",
       "      <td>w36</td>\n",
       "      <td>B</td>\n",
       "      <td>7</td>\n",
       "    </tr>\n",
       "    <tr>\n",
       "      <th>67839</th>\n",
       "      <td>/media/kalfasyan/HGST_4TB/Datasets/pbox_vs_fuj...</td>\n",
       "      <td>wswl</td>\n",
       "      <td>2019_kampen_w39_A_F10_51 mm_ISO160_1-15 s_180</td>\n",
       "      <td>2019</td>\n",
       "      <td>kampen</td>\n",
       "      <td>w39</td>\n",
       "      <td>A</td>\n",
       "      <td>180</td>\n",
       "    </tr>\n",
       "    <tr>\n",
       "      <th>67840</th>\n",
       "      <td>/media/kalfasyan/HGST_4TB/Datasets/pbox_vs_fuj...</td>\n",
       "      <td>wswl</td>\n",
       "      <td>2019_kampen_w39_B_F10_51 mm_ISO160_1-15 s_37</td>\n",
       "      <td>2019</td>\n",
       "      <td>kampen</td>\n",
       "      <td>w39</td>\n",
       "      <td>B</td>\n",
       "      <td>37</td>\n",
       "    </tr>\n",
       "  </tbody>\n",
       "</table>\n",
       "<p>67841 rows × 8 columns</p>\n",
       "</div>"
      ],
      "text/plain": [
       "                                                filename label  \\\n",
       "0      /media/kalfasyan/HGST_4TB/Datasets/pbox_vs_fuj...    bl   \n",
       "1      /media/kalfasyan/HGST_4TB/Datasets/pbox_vs_fuj...    bl   \n",
       "2      /media/kalfasyan/HGST_4TB/Datasets/pbox_vs_fuj...    bl   \n",
       "3      /media/kalfasyan/HGST_4TB/Datasets/pbox_vs_fuj...    bl   \n",
       "4      /media/kalfasyan/HGST_4TB/Datasets/pbox_vs_fuj...    bl   \n",
       "...                                                  ...   ...   \n",
       "67836  /media/kalfasyan/HGST_4TB/Datasets/pbox_vs_fuj...  wswl   \n",
       "67837  /media/kalfasyan/HGST_4TB/Datasets/pbox_vs_fuj...  wswl   \n",
       "67838  /media/kalfasyan/HGST_4TB/Datasets/pbox_vs_fuj...  wswl   \n",
       "67839  /media/kalfasyan/HGST_4TB/Datasets/pbox_vs_fuj...  wswl   \n",
       "67840  /media/kalfasyan/HGST_4TB/Datasets/pbox_vs_fuj...  wswl   \n",
       "\n",
       "                                                    name  year  \\\n",
       "0      2020_Herent_w28_3-30_F10_51 mm_ISO160_1-15 s_I...  2020   \n",
       "1      2021_UNDISTORTED_Landen_w24_B_F10_51 mmmm_ISO1...  2021   \n",
       "2      2021_UNDISTORTED_Landen_w24_B_F10_51 mmmm_ISO1...  2021   \n",
       "3      2021_UNDISTORTED_Landen_w24_B_F10_51 mmmm_ISO1...  2021   \n",
       "4      2021_UNDISTORTED_Landen_w24_B_F10_51 mmmm_ISO1...  2021   \n",
       "...                                                  ...   ...   \n",
       "67836  2019_kampen_w31_3daysold_C_25_F10_51 mm_ISO160...  2019   \n",
       "67837       2019_kampen_w35_A_F10_51 mm_ISO160_1-15 s_91  2019   \n",
       "67838        2019_kampen_w36_B_F10_51 mm_ISO160_1-15 s_7  2019   \n",
       "67839      2019_kampen_w39_A_F10_51 mm_ISO160_1-15 s_180  2019   \n",
       "67840       2019_kampen_w39_B_F10_51 mm_ISO160_1-15 s_37  2019   \n",
       "\n",
       "                 location date      xtra  idx  \n",
       "0                  Herent  w28      3-30  111  \n",
       "1      UNDISTORTED_Landen  w24         B  376  \n",
       "2      UNDISTORTED_Landen  w24         B  381  \n",
       "3      UNDISTORTED_Landen  w24         B  386  \n",
       "4      UNDISTORTED_Landen  w24         B  387  \n",
       "...                   ...  ...       ...  ...  \n",
       "67836              kampen  w31  3daysold   67  \n",
       "67837              kampen  w35         A   91  \n",
       "67838              kampen  w36         B    7  \n",
       "67839              kampen  w39         A  180  \n",
       "67840              kampen  w39         B   37  \n",
       "\n",
       "[67841 rows x 8 columns]"
      ]
     },
     "execution_count": 31,
     "metadata": {},
     "output_type": "execute_result"
    }
   ],
   "source": [
    "ser = dfs.df.filename.apply(lambda x: extract_filename_info(str(x)))\n",
    "tmp = pd.DataFrame.from_records(ser, columns=['filename', 'label','name','year','location','date','xtra','idx'])\n",
    "tmp"
   ]
  },
  {
   "cell_type": "code",
   "execution_count": 32,
   "metadata": {},
   "outputs": [
    {
     "data": {
      "text/plain": [
       "Herent                   13336\n",
       "her                      12105\n",
       "herent                    8141\n",
       "kampen                    6706\n",
       "beauv                     6237\n",
       "brainelal                 4784\n",
       "HER                       4259\n",
       "beauvech                  3251\n",
       "BEAUV                     1601\n",
       "brainlal                  1521\n",
       "Racour                    1050\n",
       "wortel                    1004\n",
       "KAMPEN                     908\n",
       "BRAINELAL                  884\n",
       "merchtem                   616\n",
       "beavech                    370\n",
       "UNDISTORTED_Mollem         221\n",
       "UNDISTORTED_mollem         158\n",
       "UNDISTORTED_Brainelal      146\n",
       "UNDISTORTED_landen         133\n",
       "racour                     109\n",
       "UNDISTORTED_braine          93\n",
       "UNDISTORTED_Landen          90\n",
       "UNDISTORTED_brainelal       50\n",
       "HerentVAL2                  30\n",
       "HerentCONTROLE              23\n",
       "HerentVAL1                  12\n",
       "HerentVAL3                   3\n",
       "Name: location, dtype: int64"
      ]
     },
     "execution_count": 32,
     "metadata": {},
     "output_type": "execute_result"
    }
   ],
   "source": [
    "tmp.location.value_counts()"
   ]
  },
  {
   "cell_type": "code",
   "execution_count": null,
   "metadata": {},
   "outputs": [],
   "source": []
  },
  {
   "cell_type": "code",
   "execution_count": null,
   "metadata": {},
   "outputs": [],
   "source": []
  }
 ],
 "metadata": {
  "interpreter": {
   "hash": "2d839c87abe923a8f6c83e3c07da6b84166f74541505ea2206c85c393cfdbb04"
  },
  "kernelspec": {
   "display_name": "Python 3 (ipykernel)",
   "language": "python",
   "name": "python3"
  },
  "language_info": {
   "codemirror_mode": {
    "name": "ipython",
    "version": 3
   },
   "file_extension": ".py",
   "mimetype": "text/x-python",
   "name": "python",
   "nbconvert_exporter": "python",
   "pygments_lexer": "ipython3",
   "version": "3.9.7"
  }
 },
 "nbformat": 4,
 "nbformat_minor": 4
}
