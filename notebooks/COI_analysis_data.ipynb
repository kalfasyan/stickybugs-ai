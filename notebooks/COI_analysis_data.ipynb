{
 "cells": [
  {
   "cell_type": "markdown",
   "metadata": {},
   "source": [
    "## Estimating model performance on the delia data which was used for COI analysis.\n",
    "\n",
    "The 01_Resultaat... excel file can be found on the project's sharepoint.  \n",
    "The pskw1 data are retrieved from the AWS S3 bucket (using the insects-api function backup_s3_folder(user='pskw1', s3_folder='pskw1', local_dir='/whatever')).  \n",
    "The model is the one trained on all action lab data, and is stored in the exports folder (which is made using this repo's settings.py).  "
   ]
  },
  {
   "cell_type": "code",
   "execution_count": 1,
   "metadata": {},
   "outputs": [],
   "source": [
    "%reset -f\n",
    "%load_ext autoreload\n",
    "%autoreload 2\n",
    "%matplotlib inline"
   ]
  },
  {
   "cell_type": "code",
   "execution_count": 2,
   "metadata": {},
   "outputs": [],
   "source": [
    "# Let's add the parent directory to the path so we can import the module\n",
    "import os\n",
    "import sys\n",
    "\n",
    "parent_dir = os.path.abspath(os.path.join(os.getcwd(), os.pardir))\n",
    "sys.path.append(parent_dir)\n",
    "\n",
    "import pandas as pd\n",
    "import numpy as np\n",
    "import matplotlib.pyplot as plt\n",
    "import seaborn as sns\n",
    "\n",
    "from pathlib import Path\n",
    "from utils import *\n",
    "# !pip install openpyxl"
   ]
  },
  {
   "cell_type": "markdown",
   "metadata": {},
   "source": [
    "#### Defining a helper function to save all extracted tiles in a folder"
   ]
  },
  {
   "cell_type": "code",
   "execution_count": 3,
   "metadata": {},
   "outputs": [],
   "source": [
    "def process_group(group, path_export_tiles, tiles_labelled=None):\n",
    "    \"\"\"\n",
    "    This function processes a group of rows from the delia data, and exports the tiles to a folder.\n",
    "    \n",
    "    Args:\n",
    "    - group: pd.DataFrame\n",
    "        A group of rows from the delia data.\n",
    "    - path_export_tiles: str\n",
    "        The path to the folder where the tiles should be exported.\n",
    "    - tiles_labelled: list\n",
    "        A list of strings, where each string is the plate_code and insect_idx of a tile that should be exported.\n",
    "    \"\"\"\n",
    "    Path(path_export_tiles).mkdir(parents=True, exist_ok=True)\n",
    "    assert 'filepath' in group.columns, \"No filepath found in dataframe columns.\"\n",
    "\n",
    "    path_img = group.filepath.value_counts().index[0].as_posix()\n",
    "    assert Path(path_img).is_file(), f\"File not found: {path_img}\"\n",
    "    assert isinstance(path_export_tiles, str), f\"path_export_tiles should be a string, but is {type(path_export_tiles)}.\"\n",
    "    assert isinstance(path_img, str), f\"path_img should be a string, but is {type(path_img)}.\"\n",
    "    plate_img = cv2.imread(path_img)\n",
    "\n",
    "    if plate_img is None:\n",
    "        print(f\"Error: Could not load image: {path_img}\")\n",
    "        return\n",
    "\n",
    "    H, W, _ = plate_img.shape\n",
    "\n",
    "    for _, row in group.iterrows():\n",
    "        if f\"{row.plate_code}-{row.insect_idx}\" not in tiles_labelled:\n",
    "            # We're only interested in the tiles that are in the tiles_labelled list\n",
    "            continue\n",
    "        left = int((row.yolo_x-row.yolo_width/2.)*W)\n",
    "        right = int((row.yolo_x+row.yolo_width/2.)*W)\n",
    "        top = int((row.yolo_y-row.yolo_height/2.)*H)\n",
    "        bot = int((row.yolo_y+row.yolo_height/2.)*H)\n",
    "\n",
    "        if left < 0:\n",
    "            left = 0\n",
    "        if right > W-1:\n",
    "            right = W-1\n",
    "        if top < 0:\n",
    "            top = 0\n",
    "        if bot > H-1:\n",
    "            bot = H-1\n",
    "\n",
    "        tile = plate_img[top:bot, left:right]\n",
    "\n",
    "        savepath = f\"{path_export_tiles}/\"\n",
    "        Path(savepath).mkdir(parents=True, exist_ok=True)\n",
    "\n",
    "        tile_path = os.path.join(savepath, f\"{row.plate_code}-{row.insect_idx}.png\")\n",
    "        if not os.path.isfile(tile_path): cv2.imwrite(tile_path, tile)"
   ]
  },
  {
   "cell_type": "markdown",
   "metadata": {},
   "source": [
    "### Read the COI analysis results, the data downloaded from the AWS S3 bucket and export the tiles"
   ]
  },
  {
   "cell_type": "code",
   "execution_count": 4,
   "metadata": {},
   "outputs": [],
   "source": [
    "# Reading the excel file with the original data\n",
    "df_og = pd.read_excel(\"01_Resultaat reeks1_2_3_WD.xlsx\", sheet_name=\"Stalen_20240209\", engine='openpyxl')\n",
    "# Keeping only the relevant columns\n",
    "df_og = df_og[['Jaar','Perceel','Staalnamemoment','Plaatnummer','Vliegnummer','Staalcode','commentaar finaal','species','% Identity in blastn search']]\n",
    "# Let's drop the rows with NaN species\n",
    "df_og = df_og.dropna(subset=['species'])\n",
    "# Let's drop the rows with \n",
    "\n",
    "# List of csv files and images from the S3 bucket\n",
    "s3_data_labels = list(Path('/home/kalfasyan/data/pskw1_dl').rglob('*.csv'))\n",
    "s3_data_images = list(Path('/home/kalfasyan/data/pskw1_dl').rglob('*_rsz.png'))\n",
    "# Sorting the lists to match the same order of images and labels\n",
    "s3_data_images.sort()\n",
    "s3_data_labels.sort()\n",
    "# Creating a dataframe with all the information gathered from the csv files\n",
    "all_df_labels = []\n",
    "for i, (labelfile, imgfile) in enumerate(zip(s3_data_labels, s3_data_images)):\n",
    "    df = pd.read_csv(labelfile)\n",
    "    assert imgfile.stem.split('_')[0] == labelfile.stem.split('_')[1], f\"{imgfile.stem} != {labelfile.stem}\"\n",
    "    df['plate_code'] = imgfile.stem.split('_')[0] # This is the plate code e.g. 23B11\n",
    "    df['filepath'] = imgfile # This is the path to the image that contains the insect\n",
    "    df['insect_idx'] = df.index # This is the index of the insect in the plate\n",
    "    all_df_labels.append(df)\n",
    "df_labels = pd.concat(all_df_labels)\n",
    "df_labels.reset_index(drop=True, inplace=True) \n",
    "\n",
    "# Clear this directory '/home/kalfasyan/data/pskw1_dl/tiles'\n",
    "for file in Path('/home/kalfasyan/data/pskw1_dl/tiles').rglob('*'):\n",
    "    Path(file).unlink()\n",
    "\n",
    "# Saving the insect image tiles to the directory '/home/kalfasyan/data/pskw1_dl/tiles'\n",
    "for i, sub in df_labels.groupby('plate_code'):\n",
    "    process_group(sub, '/home/kalfasyan/data/pskw1_dl/tiles', tiles_labelled=set(df_og.Staalcode.tolist()))"
   ]
  },
  {
   "cell_type": "markdown",
   "metadata": {},
   "source": [
    "### Loading the model (v.Feb2024) and feeding all the data to it"
   ]
  },
  {
   "cell_type": "code",
   "execution_count": 5,
   "metadata": {},
   "outputs": [],
   "source": [
    "# Loading the model\n",
    "import torch\n",
    "import timm\n",
    "\n",
    "# Fetching the architecture from the timm library\n",
    "timm_modelname = \"mobilenetv3_large_100.miil_in21k_ft_in1k\"\n",
    "# Loading the weights from the trained model\n",
    "my_modelname = \"mobilenetv3_large_100.miil_in21k_ft_in1k_multi4_PTmulti12_best.pth.tar\"\n",
    "modelpath = Path(\"/home/kalfasyan/data/INSECTS/All_sticky_plate_images/created_data/exports/\") / my_modelname\n",
    "model = timm.create_model(timm_modelname, num_classes=12)\n",
    "model.load_state_dict(torch.load(modelpath, map_location=torch.device('cpu'))['state_dict'])\n",
    "# Moving to CPU for inference\n",
    "model = model.to('cpu')\n",
    "# Eval mode to disable layers like dropout/batchnorm\n",
    "model.eval();"
   ]
  },
  {
   "cell_type": "code",
   "execution_count": 6,
   "metadata": {},
   "outputs": [
    {
     "data": {
      "application/vnd.jupyter.widget-view+json": {
       "model_id": "7980c1e2d73a486ba2533cd420d13d6a",
       "version_major": 2,
       "version_minor": 0
      },
      "text/plain": [
       "Making predictions:   0%|          | 0/732 [00:00<?, ?it/s]"
      ]
     },
     "metadata": {},
     "output_type": "display_data"
    }
   ],
   "source": [
    "from tqdm.notebook import tqdm\n",
    "from torch.utils.data import DataLoader, Dataset\n",
    "from torchvision import transforms\n",
    "\n",
    "# Let's define the transformations\n",
    "transform = transforms.Compose([\n",
    "    transforms.Resize((150,150)),\n",
    "    transforms.ToTensor(),\n",
    "])\n",
    "\n",
    "class InsectTilesCOI(Dataset):\n",
    "    def __init__(self, img_directory, transform=None):\n",
    "        self.img_directory = img_directory\n",
    "        self.transform = transform\n",
    "        self.img_paths = [x for x in Path(img_directory).rglob('*.png')]\n",
    "        self.img_paths = sorted(self.img_paths)\n",
    "        self.img_labels = [x.stem.split('_')[0] for x in self.img_paths]\n",
    "    \n",
    "    def __len__(self):\n",
    "        return len(self.img_paths)\n",
    "    \n",
    "    def __getitem__(self, idx):\n",
    "        img = cv2.imread(self.img_paths[idx].as_posix())\n",
    "        img = cv2.cvtColor(img, cv2.COLOR_BGR2RGB)\n",
    "        img = Image.fromarray(img)\n",
    "        if self.transform:\n",
    "            img = self.transform(img)\n",
    "        return img, self.img_labels[idx]\n",
    "\n",
    "ds = InsectTilesCOI('/home/kalfasyan/data/pskw1_dl/tiles', transform=transform)\n",
    "dl = DataLoader(ds, batch_size=1, shuffle=False, num_workers=4)\n",
    "\n",
    "# Let's iterate over the dataloader and make predictions\n",
    "all_preds = []\n",
    "all_labels = []\n",
    "for img, label in tqdm(dl, total=len(ds), desc=\"Making predictions\"):\n",
    "    img = img.to('cpu')\n",
    "    with torch.no_grad():\n",
    "        pred = model(img)\n",
    "    all_preds.append(pred)\n",
    "    all_labels.append(label[0])"
   ]
  },
  {
   "cell_type": "markdown",
   "metadata": {},
   "source": [
    "### What does the model predict?"
   ]
  },
  {
   "cell_type": "code",
   "execution_count": 7,
   "metadata": {},
   "outputs": [
    {
     "data": {
      "text/html": [
       "<div>\n",
       "<style scoped>\n",
       "    .dataframe tbody tr th:only-of-type {\n",
       "        vertical-align: middle;\n",
       "    }\n",
       "\n",
       "    .dataframe tbody tr th {\n",
       "        vertical-align: top;\n",
       "    }\n",
       "\n",
       "    .dataframe thead th {\n",
       "        text-align: right;\n",
       "    }\n",
       "</style>\n",
       "<table border=\"1\" class=\"dataframe\">\n",
       "  <thead>\n",
       "    <tr style=\"text-align: right;\">\n",
       "      <th></th>\n",
       "      <th>pred</th>\n",
       "      <th>label</th>\n",
       "    </tr>\n",
       "  </thead>\n",
       "  <tbody>\n",
       "    <tr>\n",
       "      <th>0</th>\n",
       "      <td>v</td>\n",
       "      <td>23A11-308</td>\n",
       "    </tr>\n",
       "    <tr>\n",
       "      <th>1</th>\n",
       "      <td>kv</td>\n",
       "      <td>23A12-23</td>\n",
       "    </tr>\n",
       "    <tr>\n",
       "      <th>2</th>\n",
       "      <td>kv</td>\n",
       "      <td>23A12-91</td>\n",
       "    </tr>\n",
       "    <tr>\n",
       "      <th>3</th>\n",
       "      <td>kv</td>\n",
       "      <td>23A13-134</td>\n",
       "    </tr>\n",
       "    <tr>\n",
       "      <th>4</th>\n",
       "      <td>kv</td>\n",
       "      <td>23A13-212</td>\n",
       "    </tr>\n",
       "    <tr>\n",
       "      <th>...</th>\n",
       "      <td>...</td>\n",
       "      <td>...</td>\n",
       "    </tr>\n",
       "    <tr>\n",
       "      <th>727</th>\n",
       "      <td>kv</td>\n",
       "      <td>23J53-71</td>\n",
       "    </tr>\n",
       "    <tr>\n",
       "      <th>728</th>\n",
       "      <td>kv</td>\n",
       "      <td>23J53-77</td>\n",
       "    </tr>\n",
       "    <tr>\n",
       "      <th>729</th>\n",
       "      <td>kv</td>\n",
       "      <td>23J53-80</td>\n",
       "    </tr>\n",
       "    <tr>\n",
       "      <th>730</th>\n",
       "      <td>kv</td>\n",
       "      <td>23J53-81</td>\n",
       "    </tr>\n",
       "    <tr>\n",
       "      <th>731</th>\n",
       "      <td>kv</td>\n",
       "      <td>23J53-94</td>\n",
       "    </tr>\n",
       "  </tbody>\n",
       "</table>\n",
       "<p>732 rows × 2 columns</p>\n",
       "</div>"
      ],
      "text/plain": [
       "    pred      label\n",
       "0      v  23A11-308\n",
       "1     kv   23A12-23\n",
       "2     kv   23A12-91\n",
       "3     kv  23A13-134\n",
       "4     kv  23A13-212\n",
       "..   ...        ...\n",
       "727   kv   23J53-71\n",
       "728   kv   23J53-77\n",
       "729   kv   23J53-80\n",
       "730   kv   23J53-81\n",
       "731   kv   23J53-94\n",
       "\n",
       "[732 rows x 2 columns]"
      ]
     },
     "execution_count": 7,
     "metadata": {},
     "output_type": "execute_result"
    }
   ],
   "source": [
    "# The classification map used to train the model (v.Feb2024)\n",
    "INSECT_CLASSIFICATION_MAP = {\n",
    "    'bl': 0, \n",
    "    'sp': 1, \n",
    "    't': 2, \n",
    "    'sw': 3, \n",
    "    'k': 4, \n",
    "    'm': 5, \n",
    "    'c': 6, \n",
    "    'v': 7, \n",
    "    'kv': 8, \n",
    "    'wmv': 9, \n",
    "    'wrl': 10, \n",
    "    'not_insect': 11\n",
    "    }\n",
    "INV_INSECT_CLASSIFICATION_MAP = {v: k for k, v in INSECT_CLASSIFICATION_MAP.items()}\n",
    "\n",
    "# Let's make a dataframe with the predictions and the labels\n",
    "# We will only keep the argmax of the predictions (e.g. the class with the highest probability)\n",
    "df_preds = pd.DataFrame(np.argmax(torch.cat(all_preds).numpy(), axis=1), columns=['pred'])\n",
    "df_preds['label'] = all_labels\n",
    "df_preds['pred'] = df_preds['pred'].map(INV_INSECT_CLASSIFICATION_MAP)\n",
    "df_preds"
   ]
  },
  {
   "cell_type": "code",
   "execution_count": 8,
   "metadata": {},
   "outputs": [
    {
     "data": {
      "image/png": "[encoded data removed]",
      "text/plain": [
       "<Figure size 640x480 with 1 Axes>"
      ]
     },
     "metadata": {},
     "output_type": "display_data"
    }
   ],
   "source": [
    "df_og.species.value_counts().plot(kind='bar');\n",
    "plt.title(\"Species distribution in the original data\");"
   ]
  },
  {
   "cell_type": "code",
   "execution_count": 9,
   "metadata": {},
   "outputs": [
    {
     "data": {
      "text/html": [
       "<div>\n",
       "<style scoped>\n",
       "    .dataframe tbody tr th:only-of-type {\n",
       "        vertical-align: middle;\n",
       "    }\n",
       "\n",
       "    .dataframe tbody tr th {\n",
       "        vertical-align: top;\n",
       "    }\n",
       "\n",
       "    .dataframe thead th {\n",
       "        text-align: right;\n",
       "    }\n",
       "</style>\n",
       "<table border=\"1\" class=\"dataframe\">\n",
       "  <thead>\n",
       "    <tr style=\"text-align: right;\">\n",
       "      <th></th>\n",
       "      <th>Jaar</th>\n",
       "      <th>Perceel</th>\n",
       "      <th>Staalnamemoment</th>\n",
       "      <th>Plaatnummer</th>\n",
       "      <th>Vliegnummer</th>\n",
       "      <th>Staalcode</th>\n",
       "      <th>commentaar finaal</th>\n",
       "      <th>species</th>\n",
       "      <th>% Identity in blastn search</th>\n",
       "      <th>pred</th>\n",
       "      <th>label</th>\n",
       "      <th>correct</th>\n",
       "    </tr>\n",
       "  </thead>\n",
       "  <tbody>\n",
       "    <tr>\n",
       "      <th>0</th>\n",
       "      <td>23</td>\n",
       "      <td>A</td>\n",
       "      <td>1</td>\n",
       "      <td>1</td>\n",
       "      <td>308</td>\n",
       "      <td>23A11-308</td>\n",
       "      <td>NaN</td>\n",
       "      <td>v</td>\n",
       "      <td>0.9950</td>\n",
       "      <td>v</td>\n",
       "      <td>23A11-308</td>\n",
       "      <td>1</td>\n",
       "    </tr>\n",
       "    <tr>\n",
       "      <th>1</th>\n",
       "      <td>23</td>\n",
       "      <td>A</td>\n",
       "      <td>1</td>\n",
       "      <td>2</td>\n",
       "      <td>23</td>\n",
       "      <td>23A12-23</td>\n",
       "      <td>NaN</td>\n",
       "      <td>kv</td>\n",
       "      <td>0.9734</td>\n",
       "      <td>kv</td>\n",
       "      <td>23A12-23</td>\n",
       "      <td>1</td>\n",
       "    </tr>\n",
       "    <tr>\n",
       "      <th>2</th>\n",
       "      <td>23</td>\n",
       "      <td>A</td>\n",
       "      <td>1</td>\n",
       "      <td>2</td>\n",
       "      <td>91</td>\n",
       "      <td>23A12-91</td>\n",
       "      <td>NaN</td>\n",
       "      <td>v</td>\n",
       "      <td>0.9827</td>\n",
       "      <td>kv</td>\n",
       "      <td>23A12-91</td>\n",
       "      <td>0</td>\n",
       "    </tr>\n",
       "    <tr>\n",
       "      <th>3</th>\n",
       "      <td>23</td>\n",
       "      <td>A</td>\n",
       "      <td>1</td>\n",
       "      <td>3</td>\n",
       "      <td>134</td>\n",
       "      <td>23A13-134</td>\n",
       "      <td>NaN</td>\n",
       "      <td>v</td>\n",
       "      <td>0.9982</td>\n",
       "      <td>kv</td>\n",
       "      <td>23A13-134</td>\n",
       "      <td>0</td>\n",
       "    </tr>\n",
       "    <tr>\n",
       "      <th>4</th>\n",
       "      <td>23</td>\n",
       "      <td>A</td>\n",
       "      <td>1</td>\n",
       "      <td>3</td>\n",
       "      <td>212</td>\n",
       "      <td>23A13-212</td>\n",
       "      <td>NaN</td>\n",
       "      <td>kv</td>\n",
       "      <td>0.9969</td>\n",
       "      <td>kv</td>\n",
       "      <td>23A13-212</td>\n",
       "      <td>1</td>\n",
       "    </tr>\n",
       "    <tr>\n",
       "      <th>...</th>\n",
       "      <td>...</td>\n",
       "      <td>...</td>\n",
       "      <td>...</td>\n",
       "      <td>...</td>\n",
       "      <td>...</td>\n",
       "      <td>...</td>\n",
       "      <td>...</td>\n",
       "      <td>...</td>\n",
       "      <td>...</td>\n",
       "      <td>...</td>\n",
       "      <td>...</td>\n",
       "      <td>...</td>\n",
       "    </tr>\n",
       "    <tr>\n",
       "      <th>734</th>\n",
       "      <td>23</td>\n",
       "      <td>I</td>\n",
       "      <td>5</td>\n",
       "      <td>2</td>\n",
       "      <td>37</td>\n",
       "      <td>23I52-37</td>\n",
       "      <td>NaN</td>\n",
       "      <td>kv</td>\n",
       "      <td>1.0000</td>\n",
       "      <td>v</td>\n",
       "      <td>23I52-37</td>\n",
       "      <td>0</td>\n",
       "    </tr>\n",
       "    <tr>\n",
       "      <th>735</th>\n",
       "      <td>23</td>\n",
       "      <td>I</td>\n",
       "      <td>5</td>\n",
       "      <td>2</td>\n",
       "      <td>42</td>\n",
       "      <td>23I52-42</td>\n",
       "      <td>NaN</td>\n",
       "      <td>kv</td>\n",
       "      <td>0.9950</td>\n",
       "      <td>v</td>\n",
       "      <td>23I52-42</td>\n",
       "      <td>0</td>\n",
       "    </tr>\n",
       "    <tr>\n",
       "      <th>736</th>\n",
       "      <td>23</td>\n",
       "      <td>I</td>\n",
       "      <td>5</td>\n",
       "      <td>2</td>\n",
       "      <td>48</td>\n",
       "      <td>23I52-48</td>\n",
       "      <td>NaN</td>\n",
       "      <td>kv</td>\n",
       "      <td>1.0000</td>\n",
       "      <td>v</td>\n",
       "      <td>23I52-48</td>\n",
       "      <td>0</td>\n",
       "    </tr>\n",
       "    <tr>\n",
       "      <th>737</th>\n",
       "      <td>23</td>\n",
       "      <td>I</td>\n",
       "      <td>5</td>\n",
       "      <td>2</td>\n",
       "      <td>62</td>\n",
       "      <td>23I52-62</td>\n",
       "      <td>NaN</td>\n",
       "      <td>kv</td>\n",
       "      <td>0.9730</td>\n",
       "      <td>v</td>\n",
       "      <td>23I52-62</td>\n",
       "      <td>0</td>\n",
       "    </tr>\n",
       "    <tr>\n",
       "      <th>738</th>\n",
       "      <td>23</td>\n",
       "      <td>I</td>\n",
       "      <td>5</td>\n",
       "      <td>2</td>\n",
       "      <td>63</td>\n",
       "      <td>23I52-63</td>\n",
       "      <td>NaN</td>\n",
       "      <td>kv</td>\n",
       "      <td>1.0000</td>\n",
       "      <td>kv</td>\n",
       "      <td>23I52-63</td>\n",
       "      <td>1</td>\n",
       "    </tr>\n",
       "  </tbody>\n",
       "</table>\n",
       "<p>739 rows × 12 columns</p>\n",
       "</div>"
      ],
      "text/plain": [
       "     Jaar Perceel  Staalnamemoment  Plaatnummer  Vliegnummer  Staalcode  \\\n",
       "0      23       A                1            1          308  23A11-308   \n",
       "1      23       A                1            2           23   23A12-23   \n",
       "2      23       A                1            2           91   23A12-91   \n",
       "3      23       A                1            3          134  23A13-134   \n",
       "4      23       A                1            3          212  23A13-212   \n",
       "..    ...     ...              ...          ...          ...        ...   \n",
       "734    23       I                5            2           37   23I52-37   \n",
       "735    23       I                5            2           42   23I52-42   \n",
       "736    23       I                5            2           48   23I52-48   \n",
       "737    23       I                5            2           62   23I52-62   \n",
       "738    23       I                5            2           63   23I52-63   \n",
       "\n",
       "    commentaar finaal species  % Identity in blastn search pred      label  \\\n",
       "0                 NaN       v                       0.9950    v  23A11-308   \n",
       "1                 NaN      kv                       0.9734   kv   23A12-23   \n",
       "2                 NaN       v                       0.9827   kv   23A12-91   \n",
       "3                 NaN       v                       0.9982   kv  23A13-134   \n",
       "4                 NaN      kv                       0.9969   kv  23A13-212   \n",
       "..                ...     ...                          ...  ...        ...   \n",
       "734               NaN      kv                       1.0000    v   23I52-37   \n",
       "735               NaN      kv                       0.9950    v   23I52-42   \n",
       "736               NaN      kv                       1.0000    v   23I52-48   \n",
       "737               NaN      kv                       0.9730    v   23I52-62   \n",
       "738               NaN      kv                       1.0000   kv   23I52-63   \n",
       "\n",
       "     correct  \n",
       "0          1  \n",
       "1          1  \n",
       "2          0  \n",
       "3          0  \n",
       "4          1  \n",
       "..       ...  \n",
       "734        0  \n",
       "735        0  \n",
       "736        0  \n",
       "737        0  \n",
       "738        1  \n",
       "\n",
       "[739 rows x 12 columns]"
      ]
     },
     "execution_count": 9,
     "metadata": {},
     "output_type": "execute_result"
    }
   ],
   "source": [
    "# In the df_og dataframe, the species should be mapped to the following dict\n",
    "SPECIES_MAP = {\n",
    "    'Delia platura': 'v',\n",
    "    'Delia radicum': 'kv',\n",
    "    'Delia florilega': 'v',\n",
    "    'Delia antiqua': 'v',\n",
    "    'Scaptomyza flava': 'v',\n",
    "    'Coenosia tigrina': 'v',\n",
    "    'Botanophila fugax': 'v',\n",
    "    'Lispe pygmaea': 'v',\n",
    "    'Senotainia conica': 'v',\n",
    "    'Azelia zetterstedtii': 'v',\n",
    "    'Anthomyiinae sp.': 'v',\n",
    "    'Musca autumnalis': 'v',\n",
    "}\n",
    "# All other classes will be labelled as 'other'\n",
    "df_og['species'] = df_og['species'].map(SPECIES_MAP).fillna('other')\n",
    "\n",
    "# Let's merge the df_preds with df_og on the Staalcode and the label\n",
    "df_og['Staalcode'] = df_og['Staalcode'].astype(str)\n",
    "df_preds['label'] = df_preds['label'].astype(str)\n",
    "\n",
    "df_merged = df_og.merge(df_preds, left_on='Staalcode', right_on='label', how='left')\n",
    "df_merged['correct'] = df_merged['species'] == df_merged['pred']\n",
    "df_merged['correct'] = df_merged['correct'].astype(int)\n",
    "df_merged"
   ]
  },
  {
   "cell_type": "code",
   "execution_count": 10,
   "metadata": {},
   "outputs": [
    {
     "name": "stdout",
     "output_type": "stream",
     "text": [
      "Shape before dropping rows without a prediction: (739, 12)\n",
      "Shape after dropping rows without a prediction: (732, 12)\n"
     ]
    }
   ],
   "source": [
    "# Let's drop df_merged rows that don't have a pred\n",
    "print(f\"Shape before dropping rows without a prediction: {df_merged.shape}\")\n",
    "df_merged = df_merged.dropna(subset=['pred'])\n",
    "print(f\"Shape after dropping rows without a prediction: {df_merged.shape}\")"
   ]
  },
  {
   "cell_type": "code",
   "execution_count": 11,
   "metadata": {},
   "outputs": [
    {
     "data": {
      "text/plain": [
       "species\n",
       "kv    0.834912\n",
       "v     0.165088\n",
       "Name: proportion, dtype: float64"
      ]
     },
     "execution_count": 11,
     "metadata": {},
     "output_type": "execute_result"
    }
   ],
   "source": [
    "df_og.species.value_counts(normalize=True)"
   ]
  },
  {
   "cell_type": "code",
   "execution_count": 12,
   "metadata": {},
   "outputs": [
    {
     "data": {
      "text/plain": [
       "pred\n",
       "kv            564\n",
       "v             163\n",
       "not_insect      3\n",
       "wrl             1\n",
       "m               1\n",
       "Name: count, dtype: int64"
      ]
     },
     "execution_count": 12,
     "metadata": {},
     "output_type": "execute_result"
    }
   ],
   "source": [
    "df_merged.pred.value_counts(normalize=False)"
   ]
  },
  {
   "cell_type": "code",
   "execution_count": 13,
   "metadata": {},
   "outputs": [
    {
     "data": {
      "text/plain": [
       "correct\n",
       "1    0.773224\n",
       "0    0.226776\n",
       "Name: proportion, dtype: float64"
      ]
     },
     "execution_count": 13,
     "metadata": {},
     "output_type": "execute_result"
    }
   ],
   "source": [
    "df_merged.correct.value_counts(normalize=True)"
   ]
  },
  {
   "cell_type": "code",
   "execution_count": 14,
   "metadata": {},
   "outputs": [
    {
     "data": {
      "image/png": "[encoded data removed]",
      "text/plain": [
       "<Figure size 640x480 with 1 Axes>"
      ]
     },
     "metadata": {},
     "output_type": "display_data"
    }
   ],
   "source": [
    "df_merged.species.value_counts().plot(kind='bar');\n",
    "plt.title(\"Species distribution in the predictions\");"
   ]
  },
  {
   "cell_type": "code",
   "execution_count": 15,
   "metadata": {},
   "outputs": [
    {
     "name": "stderr",
     "output_type": "stream",
     "text": [
      "/tmp/ipykernel_10291/3886976066.py:2: SettingWithCopyWarning: \n",
      "A value is trying to be set on a copy of a slice from a DataFrame.\n",
      "Try using .loc[row_indexer,col_indexer] = value instead\n",
      "\n",
      "See the caveats in the documentation: https://pandas.pydata.org/pandas-docs/stable/user_guide/indexing.html#returning-a-view-versus-a-copy\n",
      "  df_merged['species'] = df_merged['species'].map(INSECT_CLASSIFICATION_MAP).astype(int)\n",
      "/tmp/ipykernel_10291/3886976066.py:3: SettingWithCopyWarning: \n",
      "A value is trying to be set on a copy of a slice from a DataFrame.\n",
      "Try using .loc[row_indexer,col_indexer] = value instead\n",
      "\n",
      "See the caveats in the documentation: https://pandas.pydata.org/pandas-docs/stable/user_guide/indexing.html#returning-a-view-versus-a-copy\n",
      "  df_merged['pred'] = df_merged['pred'].map(INSECT_CLASSIFICATION_MAP).astype(int)\n"
     ]
    }
   ],
   "source": [
    "# Let's map the species and the predictions columns to the INSECT_CLASSIFICATION_MAP\n",
    "df_merged['species'] = df_merged['species'].map(INSECT_CLASSIFICATION_MAP).astype(int)\n",
    "df_merged['pred'] = df_merged['pred'].map(INSECT_CLASSIFICATION_MAP).astype(int)"
   ]
  },
  {
   "cell_type": "code",
   "execution_count": 16,
   "metadata": {},
   "outputs": [
    {
     "data": {
      "text/html": [
       "<div>\n",
       "<style scoped>\n",
       "    .dataframe tbody tr th:only-of-type {\n",
       "        vertical-align: middle;\n",
       "    }\n",
       "\n",
       "    .dataframe tbody tr th {\n",
       "        vertical-align: top;\n",
       "    }\n",
       "\n",
       "    .dataframe thead th {\n",
       "        text-align: right;\n",
       "    }\n",
       "</style>\n",
       "<table border=\"1\" class=\"dataframe\">\n",
       "  <thead>\n",
       "    <tr style=\"text-align: right;\">\n",
       "      <th></th>\n",
       "      <th>Jaar</th>\n",
       "      <th>Perceel</th>\n",
       "      <th>Staalnamemoment</th>\n",
       "      <th>Plaatnummer</th>\n",
       "      <th>Vliegnummer</th>\n",
       "      <th>Staalcode</th>\n",
       "      <th>commentaar finaal</th>\n",
       "      <th>species</th>\n",
       "      <th>% Identity in blastn search</th>\n",
       "      <th>pred</th>\n",
       "      <th>label</th>\n",
       "      <th>correct</th>\n",
       "    </tr>\n",
       "  </thead>\n",
       "  <tbody>\n",
       "  </tbody>\n",
       "</table>\n",
       "</div>"
      ],
      "text/plain": [
       "Empty DataFrame\n",
       "Columns: [Jaar, Perceel, Staalnamemoment, Plaatnummer, Vliegnummer, Staalcode, commentaar finaal, species, % Identity in blastn search, pred, label, correct]\n",
       "Index: []"
      ]
     },
     "execution_count": 16,
     "metadata": {},
     "output_type": "execute_result"
    }
   ],
   "source": [
    "df_merged[df_merged.pred.isna()]"
   ]
  },
  {
   "cell_type": "code",
   "execution_count": 19,
   "metadata": {},
   "outputs": [
    {
     "data": {
      "text/plain": [
       "species\n",
       "7    0.504202\n",
       "8    0.825449\n",
       "Name: correct, dtype: float64"
      ]
     },
     "execution_count": 19,
     "metadata": {},
     "output_type": "execute_result"
    }
   ],
   "source": [
    "# Let's calclate the accuracy for each species\n",
    "species_accuracy = df_merged.groupby('species').correct.mean()\n",
    "species_accuracy"
   ]
  },
  {
   "cell_type": "code",
   "execution_count": 20,
   "metadata": {},
   "outputs": [
    {
     "data": {
      "text/html": [
       "<div>\n",
       "<style scoped>\n",
       "    .dataframe tbody tr th:only-of-type {\n",
       "        vertical-align: middle;\n",
       "    }\n",
       "\n",
       "    .dataframe tbody tr th {\n",
       "        vertical-align: top;\n",
       "    }\n",
       "\n",
       "    .dataframe thead th {\n",
       "        text-align: right;\n",
       "    }\n",
       "</style>\n",
       "<table border=\"1\" class=\"dataframe\">\n",
       "  <thead>\n",
       "    <tr style=\"text-align: right;\">\n",
       "      <th>correct</th>\n",
       "      <th>0</th>\n",
       "      <th>1</th>\n",
       "    </tr>\n",
       "    <tr>\n",
       "      <th>species</th>\n",
       "      <th></th>\n",
       "      <th></th>\n",
       "    </tr>\n",
       "  </thead>\n",
       "  <tbody>\n",
       "    <tr>\n",
       "      <th>7</th>\n",
       "      <td>59</td>\n",
       "      <td>60</td>\n",
       "    </tr>\n",
       "    <tr>\n",
       "      <th>8</th>\n",
       "      <td>107</td>\n",
       "      <td>506</td>\n",
       "    </tr>\n",
       "  </tbody>\n",
       "</table>\n",
       "</div>"
      ],
      "text/plain": [
       "correct    0    1\n",
       "species          \n",
       "7         59   60\n",
       "8        107  506"
      ]
     },
     "execution_count": 20,
     "metadata": {},
     "output_type": "execute_result"
    }
   ],
   "source": [
    "# Let's see the counts of each species that were correctly classified\n",
    "species_counts = df_merged.groupby('species').correct.value_counts().unstack().fillna(0)\n",
    "species_counts\n"
   ]
  },
  {
   "cell_type": "code",
   "execution_count": null,
   "metadata": {},
   "outputs": [],
   "source": []
  }
 ],
 "metadata": {
  "kernelspec": {
   "display_name": "Python 3 (ipykernel)",
   "language": "python",
   "name": "python3"
  },
  "language_info": {
   "codemirror_mode": {
    "name": "ipython",
    "version": 3
   },
   "file_extension": ".py",
   "mimetype": "text/x-python",
   "name": "python",
   "nbconvert_exporter": "python",
   "pygments_lexer": "ipython3",
   "version": "3.11.6"
  }
 },
 "nbformat": 4,
 "nbformat_minor": 4
}
