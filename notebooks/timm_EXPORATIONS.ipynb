{
 "cells": [
  {
   "cell_type": "code",
   "execution_count": null,
   "metadata": {},
   "outputs": [],
   "source": [
    "# !pip install lxml html5lib"
   ]
  },
  {
   "cell_type": "code",
   "execution_count": null,
   "metadata": {},
   "outputs": [],
   "source": [
    "# Read this csv from online using pandas\n",
    "# https://github.com/huggingface/pytorch-image-models/blob/main/results/results-imagenet.csv\n",
    "import pandas as pd\n",
    "\n",
    "df = pd.read_csv('https://raw.githubusercontent.com/huggingface/pytorch-image-models/main/results/results-imagenet.csv')\n",
    "# The commas should be used as thousands separators\n",
    "df['param_count'] = df['param_count'].str.replace(',', '').astype(float)\n",
    "df['top1'] = df['top1'].astype(float)\n",
    "df['top1_err'] = df['top1_err'].astype(float)\n",
    "df['top5'] = df['top5'].astype(float)"
   ]
  },
  {
   "cell_type": "code",
   "execution_count": null,
   "metadata": {},
   "outputs": [],
   "source": [
    "# Get the models with higher than 86% top-1 accuracy and less than 60M parameters\n",
    "df[(df['top1'] > 66) & (df['param_count'] < 15) & (df['model'].str.contains('efficientnet'))].sort_values(by=['top1'], ascending=False)"
   ]
  }
 ],
 "metadata": {
  "kernelspec": {
   "display_name": "bugai",
   "language": "python",
   "name": "python3"
  },
  "language_info": {
   "codemirror_mode": {
    "name": "ipython",
    "version": 3
   },
   "file_extension": ".py",
   "mimetype": "text/x-python",
   "name": "python",
   "nbconvert_exporter": "python",
   "pygments_lexer": "ipython3",
   "version": "3.11.6"
  }
 },
 "nbformat": 4,
 "nbformat_minor": 2
}
