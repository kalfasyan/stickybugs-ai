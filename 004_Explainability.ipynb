{
 "cells": [
  {
   "cell_type": "code",
   "execution_count": 1,
   "id": "755f6f56-624e-4a07-9d63-6bbda1086975",
   "metadata": {},
   "outputs": [],
   "source": [
    "%reset -f\n",
    "%reload_ext autoreload\n",
    "%autoreload 2\n",
    "# %matplotlib inline\n",
    "%config Completer.use_jedi = False"
   ]
  },
  {
   "cell_type": "code",
   "execution_count": 2,
   "id": "4b6c0220-6762-4f0d-a29b-9dddf05fce2b",
   "metadata": {},
   "outputs": [
    {
     "name": "stdout",
     "output_type": "stream",
     "text": [
      "Available workers: 16\n"
     ]
    }
   ],
   "source": [
    "from datasets import InsectImgDataset\n",
    "from utils import *\n",
    "import pandas as pd\n",
    "from pathlib import Path\n",
    "from tqdm import tqdm\n",
    "import matplotlib.pyplot as plt\n",
    "import albumentations as A\n",
    "\n",
    "from torchvision import datasets, transforms\n",
    "import torch.optim as optim\n",
    "import torch\n",
    "from torch.utils.data import DataLoader, Dataset\n",
    "import torch.nn as nn\n",
    "\n",
    "from sklearn.model_selection import train_test_split\n",
    "from sklearn.preprocessing import LabelEncoder\n",
    "from sklearn.metrics import confusion_matrix, accuracy_score, balanced_accuracy_score\n",
    "from sklearn.utils import class_weight\n",
    "import seaborn as sns\n",
    "sns.set(font_scale=1.2)\n",
    "\n",
    "setting = 'photobox'\n",
    "if setting == 'photobox':\n",
    "    ext = '.png'\n",
    "elif setting == 'fuji':\n",
    "    ext = '.jpg'"
   ]
  },
  {
   "cell_type": "code",
   "execution_count": 3,
   "id": "aa3cc90d-2b00-4218-9abf-3c8b87561261",
   "metadata": {},
   "outputs": [],
   "source": [
    "dfs = InsectImgDataset(ext=ext, setting=setting, directory=DATA_DIR)\n",
    "# dfs.extract_df_info()\n",
    "# df = dfs.df"
   ]
  },
  {
   "cell_type": "markdown",
   "id": "55b6d718-bbd3-47e8-856c-edf79c2503b3",
   "metadata": {},
   "source": [
    "# Creating train,val,test sets"
   ]
  },
  {
   "cell_type": "markdown",
   "id": "6932df95-bc04-4f37-870d-f4ba816189eb",
   "metadata": {},
   "source": [
    "## Removing outliers"
   ]
  },
  {
   "cell_type": "code",
   "execution_count": 4,
   "id": "5ff6e8f1-2969-405c-b6ac-f01042a9a902",
   "metadata": {},
   "outputs": [],
   "source": [
    "# df_pre = pd.read_parquet(f\"{SAVE_DIR}/df_preparation_{setting}.parquet\")\n",
    "# df = pd.merge(df,df_pre, on=['filename','label','platename','imgname','date','year','plate_idx','location','xtra'])\n",
    "# df = df[df.knn_outlier==0]\n",
    "# df = df[df.nb_contours>0]"
   ]
  },
  {
   "cell_type": "code",
   "execution_count": 5,
   "id": "f519ea27-baa4-472f-bc75-6339cc5a45fd",
   "metadata": {},
   "outputs": [],
   "source": [
    "df_train = pd.read_parquet(f\"{SAVE_DIR}/df_train_{setting}.parquet\")\n",
    "df_val = pd.read_parquet(f\"{SAVE_DIR}/df_val_{setting}.parquet\")\n",
    "df_test = pd.read_parquet(f\"{SAVE_DIR}/df_test_{setting}.parquet\")\n",
    "\n",
    "topclasses = df_train['txt_label'].unique().tolist()\n",
    "\n",
    "# plt.figure(figsize=(20,5))\n",
    "# plt.subplot(1,3,1);df_train.txt_label.value_counts().plot(kind='barh');plt.title(f'train, {df_train.shape[0]}')\n",
    "# plt.subplot(1,3,2);df_val.txt_label.value_counts().plot(kind='barh');plt.title(f'val, {df_val.shape[0]}')\n",
    "# plt.subplot(1,3,3);df_test.txt_label.value_counts().plot(kind='barh');plt.title(f'test, {df_test.shape[0]}');"
   ]
  },
  {
   "cell_type": "code",
   "execution_count": 6,
   "id": "6a5abde9-e2bc-4370-9648-95490d3ef4d6",
   "metadata": {},
   "outputs": [],
   "source": [
    "# assert len(set(df_train.filename.tolist()).intersection(df_test.filename.tolist())) == 0\n",
    "# assert len(set(df_train.filename.tolist()).intersection(df_val.filename.tolist())) == 0\n",
    "\n",
    "# # df_train.label.value_counts()"
   ]
  },
  {
   "cell_type": "markdown",
   "id": "48fa2580-09ed-4b27-845b-1ea999b2083c",
   "metadata": {
    "tags": []
   },
   "source": [
    "# Creating Pytorch Datasets and Dataloaders"
   ]
  },
  {
   "cell_type": "code",
   "execution_count": 7,
   "id": "a057aa14-f825-4314-a3f3-d0ad8c3f141e",
   "metadata": {},
   "outputs": [],
   "source": [
    "transforms_list_train = [\n",
    "#     A.SmallestMaxSize(max_size=150),\n",
    "#     A.Resize(height=150,width=150,p=1),\n",
    "    A.Normalize(mean=[0.485, 0.456, 0.406],\n",
    "                                 std=[0.229, 0.224, 0.225], p=1, always_apply=True),\n",
    "    A.ShiftScaleRotate(shift_limit=0.01,rotate_limit=45, scale_limit=0, p=.5),\n",
    "    A.Rotate(limit=90, p=0.5),\n",
    "    A.HorizontalFlip(p=0.5),\n",
    "    A.VerticalFlip(p=0.5),\n",
    "    # A.RandomGamma(p=0.5),\n",
    "     A.RandomBrightnessContrast(p=0.2),\n",
    "     A.GaussianBlur(blur_limit=(3,3), p=0.1)\n",
    "]\n",
    "\n",
    "transforms_list_test = [\n",
    "    # A.Normalize(mean=[0.485, 0.456, 0.406],\n",
    "    #             std=[0.229, 0.224, 0.225], \n",
    "    #             p=1, \n",
    "    #             always_apply=True)\n",
    "]\n",
    "\n",
    "train_dataset = InsectImgDataset(df=df_train.reset_index(drop=True), transform=A.Compose(transforms_list_train))\n",
    "valid_dataset = InsectImgDataset(df=df_val.reset_index(drop=True), transform=A.Compose(transforms_list_test))\n",
    "test_dataset = InsectImgDataset(df=df_test.reset_index(drop=True), transform=A.Compose(transforms_list_test))\n",
    "\n",
    "batch_size = 128\n",
    "batch_size_val = 128\n",
    "\n",
    "train_dataloader = DataLoader(train_dataset, batch_size=batch_size, shuffle=True, num_workers=4, pin_memory=True, worker_init_fn=worker_init_fn)\n",
    "valid_dataloader = DataLoader(valid_dataset, batch_size=batch_size_val, shuffle=False, num_workers=4, pin_memory=True, worker_init_fn=worker_init_fn)\n",
    "test_dataloader = DataLoader(test_dataset, batch_size=batch_size_val, shuffle=False, num_workers=4, pin_memory=True, worker_init_fn=worker_init_fn)\n",
    "\n",
    "# plt.imshow(train_dataset[0][0]); plt.title(f\"Example train image, class:{train_dataset[0][1]}\");"
   ]
  },
  {
   "cell_type": "markdown",
   "id": "d0eb4185-2165-4489-ba12-ce2a91f2ad9d",
   "metadata": {},
   "source": [
    "# Defining the model and training parameters"
   ]
  },
  {
   "cell_type": "code",
   "execution_count": 8,
   "id": "0e0f7aab-c933-4d1f-87fe-8bd87c0316c0",
   "metadata": {},
   "outputs": [],
   "source": [
    "torch.backends.cudnn.benchmark = True"
   ]
  },
  {
   "cell_type": "code",
   "execution_count": 9,
   "id": "057e8840-9fde-4505-915e-4c05eb50de94",
   "metadata": {},
   "outputs": [
    {
     "name": "stdout",
     "output_type": "stream",
     "text": [
      "Train on gpu: True\n"
     ]
    }
   ],
   "source": [
    "modelname = \"vgg16\"\n",
    "model = model_selector(modelname, pretrained=True)\n",
    "\n",
    "if modelname.startswith(\"dense\"):\n",
    "    num_ftrs = model.classifier.in_features\n",
    "    model.classifier = nn.Linear(num_ftrs,len(topclasses))\n",
    "if modelname.startswith(\"resn\"):\n",
    "    num_ftrs = model.fc.in_features\n",
    "    model.fc = nn.Linear(num_ftrs,len(topclasses))\n",
    "if modelname.startswith(\"efficient\"):\n",
    "    num_ftrs = model.classifier[1].in_features\n",
    "    model.classifier[1] = nn.Linear(num_ftrs,len(topclasses))\n",
    "if modelname.startswith(\"vgg\"):\n",
    "    num_ftrs = model.classifier[-1].in_features\n",
    "    model.classifier[-1] = nn.Linear(num_ftrs, len(topclasses))\n",
    "    \n",
    "# Choosing whether to train on a gpu\n",
    "train_on_gpu = torch.cuda.is_available()\n",
    "print(f'Train on gpu: {train_on_gpu}')# Number of gpus\n",
    "model = model.to('cuda', dtype=torch.float)\n",
    "\n",
    "num_epochs = 40\n",
    "\n",
    "class_sample_count = np.unique(df_train.label, return_counts=True)[1]\n",
    "weight = 1. / class_sample_count  \n",
    "criterion = nn.CrossEntropyLoss(weight=torch.Tensor(weight).cuda(), label_smoothing=.15)"
   ]
  },
  {
   "cell_type": "code",
   "execution_count": 10,
   "id": "bd3fb220-8a12-45f6-85c1-a92bbdb88b13",
   "metadata": {},
   "outputs": [],
   "source": [
    "optimizer = optim.Adam(model.parameters(), lr=.001)\n",
    "\n",
    "model, optimizer = load_checkpoint(f'{SAVE_DIR}/{modelname}_{setting}_best.pth.tar', model, optimizer)\n",
    "model = model.to('cpu', dtype=torch.float)"
   ]
  },
  {
   "cell_type": "code",
   "execution_count": 11,
   "id": "f8a50448-a334-4a22-8c70-5de0fd974eaa",
   "metadata": {},
   "outputs": [],
   "source": [
    "labelticks = list({'bl':0,'wswl':1,'sp':2,'t':3,'sw':4,'k':5,'m':6,'c':7,'v':8,'wmv':9,'wrl':10}.keys())"
   ]
  },
  {
   "cell_type": "code",
   "execution_count": 32,
   "id": "1b4facbb-e0d8-459a-9d72-1bd1154349c3",
   "metadata": {},
   "outputs": [],
   "source": [
    "labeldict = {'bl':0,'wswl':1,'sp':2,'t':3,'sw':4,'k':5,'m':6,'c':7,'v':8,'wmv':9,'wrl':10}\n",
    "class_names = {str(v): [k,k] for k, v in labeldict.items()}"
   ]
  },
  {
   "cell_type": "code",
   "execution_count": 34,
   "id": "930fb20c-3a12-439a-91c0-54c14bd66f2f",
   "metadata": {},
   "outputs": [
    {
     "data": {
      "text/plain": [
       "{'0': ['bl', 'bl'],\n",
       " '1': ['wswl', 'wswl'],\n",
       " '2': ['sp', 'sp'],\n",
       " '3': ['t', 't'],\n",
       " '4': ['sw', 'sw'],\n",
       " '5': ['k', 'k'],\n",
       " '6': ['m', 'm'],\n",
       " '7': ['c', 'c'],\n",
       " '8': ['v', 'v'],\n",
       " '9': ['wmv', 'wmv'],\n",
       " '10': ['wrl', 'wrl']}"
      ]
     },
     "execution_count": 34,
     "metadata": {},
     "output_type": "execute_result"
    }
   ],
   "source": [
    "class_names"
   ]
  },
  {
   "cell_type": "code",
   "execution_count": 35,
   "id": "91372c43-0649-4257-b5f5-22c85ae8b671",
   "metadata": {},
   "outputs": [],
   "source": [
    "mean=[0.485, 0.456, 0.406]\n",
    "std=[0.229, 0.224, 0.225]\n",
    "\n",
    "def normalize(image):\n",
    "    if image.max() > 1:\n",
    "        image /= 255\n",
    "    image = (image - mean) / std\n",
    "    # in addition, roll the axis so that they suit pytorch\n",
    "    return torch.tensor(image.swapaxes(-1, 1).swapaxes(2, 3)).float()"
   ]
  },
  {
   "cell_type": "code",
   "execution_count": 67,
   "id": "38a689f8-b3d2-4bbe-98fc-f84a6f77dbce",
   "metadata": {},
   "outputs": [
    {
     "data": {
      "text/plain": [
       "tensor([[[[176, 174, 173,  ..., 176, 176, 175],\n",
       "          [174, 173, 173,  ..., 176, 175, 174],\n",
       "          [173, 173, 173,  ..., 175, 175, 174],\n",
       "          ...,\n",
       "          [180, 178, 176,  ..., 174, 171, 169],\n",
       "          [180, 179, 176,  ..., 173, 171, 170],\n",
       "          [179, 179, 178,  ..., 174, 173, 171]],\n",
       "\n",
       "         [[173, 171, 170,  ..., 171, 171, 170],\n",
       "          [171, 170, 170,  ..., 171, 170, 169],\n",
       "          [170, 170, 170,  ..., 170, 170, 169],\n",
       "          ...,\n",
       "          [175, 173, 171,  ..., 167, 164, 162],\n",
       "          [174, 173, 171,  ..., 166, 164, 163],\n",
       "          [173, 173, 172,  ..., 167, 166, 164]],\n",
       "\n",
       "         [[182, 180, 179,  ..., 178, 178, 177],\n",
       "          [180, 179, 179,  ..., 178, 177, 176],\n",
       "          [179, 179, 179,  ..., 177, 177, 176],\n",
       "          ...,\n",
       "          [182, 180, 178,  ..., 174, 171, 169],\n",
       "          [183, 182, 180,  ..., 173, 171, 170],\n",
       "          [183, 183, 182,  ..., 174, 173, 171]]],\n",
       "\n",
       "\n",
       "        [[[215, 215, 215,  ..., 217, 218, 217],\n",
       "          [214, 214, 214,  ..., 216, 217, 216],\n",
       "          [213, 213, 214,  ..., 216, 215, 215],\n",
       "          ...,\n",
       "          [216, 217, 219,  ..., 216, 215, 215],\n",
       "          [217, 219, 221,  ..., 215, 215, 215],\n",
       "          [217, 218, 218,  ..., 214, 213, 214]],\n",
       "\n",
       "         [[209, 208, 206,  ..., 207, 207, 206],\n",
       "          [208, 206, 205,  ..., 205, 206, 205],\n",
       "          [205, 204, 205,  ..., 205, 204, 204],\n",
       "          ...,\n",
       "          [207, 208, 210,  ..., 207, 206, 206],\n",
       "          [208, 210, 212,  ..., 206, 206, 206],\n",
       "          [208, 210, 209,  ..., 205, 204, 205]],\n",
       "\n",
       "         [[211, 210, 209,  ..., 210, 211, 210],\n",
       "          [210, 209, 208,  ..., 209, 210, 209],\n",
       "          [208, 207, 208,  ..., 209, 208, 208],\n",
       "          ...,\n",
       "          [208, 209, 211,  ..., 208, 207, 209],\n",
       "          [209, 211, 213,  ..., 207, 207, 209],\n",
       "          [209, 211, 210,  ..., 206, 205, 208]]],\n",
       "\n",
       "\n",
       "        [[[198, 199, 199,  ..., 195, 197, 196],\n",
       "          [199, 201, 201,  ..., 195, 195, 194],\n",
       "          [200, 202, 201,  ..., 197, 196, 195],\n",
       "          ...,\n",
       "          [198, 200, 191,  ..., 194, 194, 195],\n",
       "          [196, 197, 199,  ..., 193, 193, 195],\n",
       "          [192, 193, 194,  ..., 191, 191, 192]],\n",
       "\n",
       "         [[197, 198, 198,  ..., 193, 195, 194],\n",
       "          [198, 200, 200,  ..., 193, 193, 192],\n",
       "          [199, 201, 200,  ..., 195, 194, 193],\n",
       "          ...,\n",
       "          [190, 191, 182,  ..., 192, 192, 193],\n",
       "          [191, 192, 193,  ..., 191, 191, 193],\n",
       "          [190, 191, 192,  ..., 189, 189, 190]],\n",
       "\n",
       "         [[205, 206, 206,  ..., 198, 200, 199],\n",
       "          [206, 208, 208,  ..., 198, 198, 197],\n",
       "          [207, 209, 208,  ..., 200, 199, 198],\n",
       "          ...,\n",
       "          [195, 196, 187,  ..., 195, 195, 196],\n",
       "          [197, 198, 199,  ..., 195, 194, 196],\n",
       "          [195, 196, 197,  ..., 194, 192, 193]]],\n",
       "\n",
       "\n",
       "        ...,\n",
       "\n",
       "\n",
       "        [[[199, 200, 200,  ..., 198, 198, 198],\n",
       "          [199, 200, 200,  ..., 199, 199, 199],\n",
       "          [198, 199, 200,  ..., 200, 200, 200],\n",
       "          ...,\n",
       "          [201, 201, 201,  ..., 200, 200, 200],\n",
       "          [201, 200, 200,  ..., 198, 198, 202],\n",
       "          [201, 201, 201,  ..., 196, 197, 200]],\n",
       "\n",
       "         [[189, 190, 190,  ..., 188, 188, 188],\n",
       "          [189, 190, 190,  ..., 189, 189, 189],\n",
       "          [188, 189, 190,  ..., 190, 190, 190],\n",
       "          ...,\n",
       "          [191, 191, 190,  ..., 189, 189, 189],\n",
       "          [190, 189, 189,  ..., 187, 187, 191],\n",
       "          [189, 189, 189,  ..., 185, 186, 189]],\n",
       "\n",
       "         [[190, 191, 191,  ..., 189, 189, 189],\n",
       "          [190, 191, 191,  ..., 190, 190, 190],\n",
       "          [189, 190, 191,  ..., 191, 191, 191],\n",
       "          ...,\n",
       "          [192, 192, 191,  ..., 187, 187, 187],\n",
       "          [191, 191, 189,  ..., 185, 185, 189],\n",
       "          [191, 191, 190,  ..., 183, 184, 187]]],\n",
       "\n",
       "\n",
       "        [[[219, 216, 213,  ..., 214, 217, 220],\n",
       "          [218, 213, 213,  ..., 216, 216, 217],\n",
       "          [220, 216, 215,  ..., 217, 217, 218],\n",
       "          ...,\n",
       "          [215, 217, 218,  ..., 216, 217, 216],\n",
       "          [216, 217, 217,  ..., 216, 219, 219],\n",
       "          [219, 217, 216,  ..., 218, 222, 223]],\n",
       "\n",
       "         [[207, 204, 201,  ..., 203, 205, 207],\n",
       "          [206, 201, 201,  ..., 205, 205, 206],\n",
       "          [208, 204, 203,  ..., 206, 206, 208],\n",
       "          ...,\n",
       "          [204, 205, 206,  ..., 205, 205, 205],\n",
       "          [206, 205, 205,  ..., 205, 208, 208],\n",
       "          [208, 205, 204,  ..., 207, 211, 212]],\n",
       "\n",
       "         [[209, 206, 203,  ..., 200, 201, 204],\n",
       "          [208, 203, 203,  ..., 203, 203, 204],\n",
       "          [209, 205, 204,  ..., 204, 204, 206],\n",
       "          ...,\n",
       "          [205, 205, 206,  ..., 201, 201, 201],\n",
       "          [206, 205, 205,  ..., 201, 204, 204],\n",
       "          [209, 205, 204,  ..., 203, 207, 208]]],\n",
       "\n",
       "\n",
       "        [[[195, 195, 196,  ..., 172, 171, 168],\n",
       "          [196, 196, 197,  ..., 179, 174, 168],\n",
       "          [195, 196, 197,  ..., 175, 172, 158],\n",
       "          ...,\n",
       "          [192, 193, 193,  ..., 193, 194, 195],\n",
       "          [193, 194, 194,  ..., 194, 195, 195],\n",
       "          [193, 193, 194,  ..., 195, 193, 192]],\n",
       "\n",
       "         [[193, 193, 194,  ..., 165, 163, 161],\n",
       "          [194, 194, 195,  ..., 172, 168, 162],\n",
       "          [193, 194, 195,  ..., 168, 166, 153],\n",
       "          ...,\n",
       "          [190, 191, 191,  ..., 191, 192, 193],\n",
       "          [191, 192, 192,  ..., 192, 193, 193],\n",
       "          [191, 191, 192,  ..., 193, 191, 190]],\n",
       "\n",
       "         [[195, 196, 197,  ..., 136, 127, 115],\n",
       "          [197, 197, 198,  ..., 144, 134, 118],\n",
       "          [196, 198, 199,  ..., 141, 133, 111],\n",
       "          ...,\n",
       "          [195, 196, 196,  ..., 196, 197, 199],\n",
       "          [196, 197, 197,  ..., 197, 197, 197],\n",
       "          [196, 196, 197,  ..., 198, 195, 194]]]], dtype=torch.uint8)"
      ]
     },
     "execution_count": 67,
     "metadata": {},
     "output_type": "execute_result"
    }
   ],
   "source": [
    "import shap\n",
    "\n",
    "batch = next(iter(test_dataloader))\n",
    "batch[0]"
   ]
  },
  {
   "cell_type": "code",
   "execution_count": 56,
   "id": "ff34ec3c-a1ed-4ac9-96ed-3a6989d1fa2d",
   "metadata": {},
   "outputs": [
    {
     "ename": "AttributeError",
     "evalue": "'list' object has no attribute 'permute'",
     "output_type": "error",
     "traceback": [
      "\u001b[0;31m---------------------------------------------------------------------------\u001b[0m",
      "\u001b[0;31mAttributeError\u001b[0m                            Traceback (most recent call last)",
      "\u001b[0;32m/tmp/ipykernel_2366942/2340955599.py\u001b[0m in \u001b[0;36m<module>\u001b[0;34m\u001b[0m\n\u001b[1;32m      1\u001b[0m \u001b[0mbatch\u001b[0m \u001b[0;34m=\u001b[0m \u001b[0mnext\u001b[0m\u001b[0;34m(\u001b[0m\u001b[0miter\u001b[0m\u001b[0;34m(\u001b[0m\u001b[0mtest_dataloader\u001b[0m\u001b[0;34m)\u001b[0m\u001b[0;34m)\u001b[0m\u001b[0;34m\u001b[0m\u001b[0;34m\u001b[0m\u001b[0m\n\u001b[0;32m----> 2\u001b[0;31m \u001b[0mX\u001b[0m \u001b[0;34m=\u001b[0m \u001b[0mbatch\u001b[0m\u001b[0;34m[\u001b[0m\u001b[0;36m5\u001b[0m\u001b[0;34m]\u001b[0m\u001b[0;34m.\u001b[0m\u001b[0mpermute\u001b[0m\u001b[0;34m(\u001b[0m\u001b[0;36m0\u001b[0m\u001b[0;34m,\u001b[0m\u001b[0;36m2\u001b[0m\u001b[0;34m,\u001b[0m\u001b[0;36m3\u001b[0m\u001b[0;34m,\u001b[0m\u001b[0;36m1\u001b[0m\u001b[0;34m)\u001b[0m\u001b[0;34m.\u001b[0m\u001b[0mnumpy\u001b[0m\u001b[0;34m(\u001b[0m\u001b[0;34m)\u001b[0m\u001b[0;34m.\u001b[0m\u001b[0mastype\u001b[0m\u001b[0;34m(\u001b[0m\u001b[0;34m'float'\u001b[0m\u001b[0;34m)\u001b[0m\u001b[0;34m\u001b[0m\u001b[0;34m\u001b[0m\u001b[0m\n\u001b[0m\u001b[1;32m      3\u001b[0m \u001b[0mX\u001b[0m \u001b[0;34m/=\u001b[0m \u001b[0;36m255\u001b[0m\u001b[0;34m\u001b[0m\u001b[0;34m\u001b[0m\u001b[0m\n\u001b[1;32m      4\u001b[0m \u001b[0;34m\u001b[0m\u001b[0m\n\u001b[1;32m      5\u001b[0m \u001b[0mX\u001b[0m\u001b[0;34m.\u001b[0m\u001b[0mshape\u001b[0m\u001b[0;34m\u001b[0m\u001b[0;34m\u001b[0m\u001b[0m\n",
      "\u001b[0;31mAttributeError\u001b[0m: 'list' object has no attribute 'permute'"
     ]
    }
   ],
   "source": [
    "batch = next(iter(test_dataloader))\n",
    "X = batch[5].permute(0,2,3,1).numpy().astype('float')\n",
    "X /= 255\n",
    "\n",
    "X.shape"
   ]
  },
  {
   "cell_type": "code",
   "execution_count": null,
   "id": "87560b56-09ff-4e51-b074-bd269d6c4193",
   "metadata": {},
   "outputs": [],
   "source": [
    "to_explain = X[[1,50]]"
   ]
  },
  {
   "cell_type": "code",
   "execution_count": null,
   "id": "416126ae-af3b-4ac7-b69b-19506f7a41ea",
   "metadata": {},
   "outputs": [],
   "source": [
    "e = shap.GradientExplainer((model, model.features[7]), normalize(X))\n",
    "shap_values,indexes = e.shap_values(normalize(to_explain), ranked_outputs=11, nsamples=100)"
   ]
  },
  {
   "cell_type": "code",
   "execution_count": null,
   "id": "51750566-b747-458b-9def-b22dd1dc0ddd",
   "metadata": {},
   "outputs": [],
   "source": [
    "# get the names for the classes\n",
    "index_names = np.vectorize(lambda x: class_names[str(x)][1])(indexes)"
   ]
  },
  {
   "cell_type": "code",
   "execution_count": null,
   "id": "83afc339-dfef-45e1-849a-d3ce1b88c8e1",
   "metadata": {},
   "outputs": [],
   "source": []
  },
  {
   "cell_type": "code",
   "execution_count": null,
   "id": "dc171168-1c25-493e-a8a5-38f12c4fa822",
   "metadata": {},
   "outputs": [],
   "source": [
    "# plot the explanations\n",
    "shap_values = [np.swapaxes(np.swapaxes(s, 2, 3), 1, -1) for s in shap_values]\n",
    "\n",
    "shap.image_plot(shap_values, to_explain, index_names)"
   ]
  },
  {
   "cell_type": "code",
   "execution_count": null,
   "id": "3166bc8c-b302-4770-95c1-e05376e3d9d9",
   "metadata": {},
   "outputs": [],
   "source": []
  },
  {
   "cell_type": "code",
   "execution_count": null,
   "id": "9beb71fc-af38-499d-8b0d-bee443136d68",
   "metadata": {},
   "outputs": [],
   "source": []
  },
  {
   "cell_type": "code",
   "execution_count": null,
   "id": "dbb3f0c8-a342-44bf-aaff-30c13534af94",
   "metadata": {},
   "outputs": [],
   "source": []
  }
 ],
 "metadata": {
  "kernelspec": {
   "display_name": "Python 3.9.7 64-bit ('bugai': conda)",
   "language": "python",
   "name": "python397jvsc74a57bd02d839c87abe923a8f6c83e3c07da6b84166f74541505ea2206c85c393cfdbb04"
  },
  "language_info": {
   "codemirror_mode": {
    "name": "ipython",
    "version": 3
   },
   "file_extension": ".py",
   "mimetype": "text/x-python",
   "name": "python",
   "nbconvert_exporter": "python",
   "pygments_lexer": "ipython3",
   "version": "3.9.7"
  }
 },
 "nbformat": 4,
 "nbformat_minor": 5
}
